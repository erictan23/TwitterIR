{
 "cells": [
  {
   "cell_type": "code",
   "execution_count": 1,
   "metadata": {},
   "outputs": [],
   "source": [
    "import numpy as np \n",
    "import seaborn as sns\n",
    "import matplotlib.pyplot as plt\n",
    "import pandas as pd\n",
    "from sklearn.model_selection import train_test_split\n",
    "from sklearn.tree import DecisionTreeClassifier\n",
    "from sklearn.metrics import accuracy_score\n",
    "from sklearn import tree\n",
    "from sklearn import ensemble\n",
    "from sklearn.metrics import f1_score\n",
    "from sklearn.metrics import recall_score\n",
    "from sklearn.metrics import precision_score\n",
    "import re\n",
    "import nltk\n",
    "from wordcloud import WordCloud\n"
   ]
  },
  {
   "cell_type": "code",
   "execution_count": 2,
   "metadata": {},
   "outputs": [],
   "source": [
    "df_tweet = pd.read_csv(\"Tweet.csv\")"
   ]
  },
  {
   "cell_type": "code",
   "execution_count": 3,
   "metadata": {},
   "outputs": [
    {
     "name": "stdout",
     "output_type": "stream",
     "text": [
      "<class 'pandas.core.frame.DataFrame'>\n",
      "RangeIndex: 3717964 entries, 0 to 3717963\n",
      "Data columns (total 7 columns):\n",
      " #   Column       Dtype \n",
      "---  ------       ----- \n",
      " 0   tweet_id     int64 \n",
      " 1   writer       object\n",
      " 2   post_date    int64 \n",
      " 3   body         object\n",
      " 4   comment_num  int64 \n",
      " 5   retweet_num  int64 \n",
      " 6   like_num     int64 \n",
      "dtypes: int64(5), object(2)\n",
      "memory usage: 198.6+ MB\n"
     ]
    }
   ],
   "source": [
    "df_tweet.info()"
   ]
  },
  {
   "cell_type": "code",
   "execution_count": 4,
   "metadata": {},
   "outputs": [
    {
     "data": {
      "text/html": [
       "<div>\n",
       "<style scoped>\n",
       "    .dataframe tbody tr th:only-of-type {\n",
       "        vertical-align: middle;\n",
       "    }\n",
       "\n",
       "    .dataframe tbody tr th {\n",
       "        vertical-align: top;\n",
       "    }\n",
       "\n",
       "    .dataframe thead th {\n",
       "        text-align: right;\n",
       "    }\n",
       "</style>\n",
       "<table border=\"1\" class=\"dataframe\">\n",
       "  <thead>\n",
       "    <tr style=\"text-align: right;\">\n",
       "      <th></th>\n",
       "      <th>tweet_id</th>\n",
       "      <th>writer</th>\n",
       "      <th>post_date</th>\n",
       "      <th>body</th>\n",
       "      <th>comment_num</th>\n",
       "      <th>retweet_num</th>\n",
       "      <th>like_num</th>\n",
       "    </tr>\n",
       "  </thead>\n",
       "  <tbody>\n",
       "    <tr>\n",
       "      <th>0</th>\n",
       "      <td>550441509175443456</td>\n",
       "      <td>VisualStockRSRC</td>\n",
       "      <td>1420070457</td>\n",
       "      <td>lx21 made $10,008  on $AAPL -Check it out! htt...</td>\n",
       "      <td>0</td>\n",
       "      <td>0</td>\n",
       "      <td>1</td>\n",
       "    </tr>\n",
       "    <tr>\n",
       "      <th>1</th>\n",
       "      <td>550441672312512512</td>\n",
       "      <td>KeralaGuy77</td>\n",
       "      <td>1420070496</td>\n",
       "      <td>Insanity of today weirdo massive selling. $aap...</td>\n",
       "      <td>0</td>\n",
       "      <td>0</td>\n",
       "      <td>0</td>\n",
       "    </tr>\n",
       "    <tr>\n",
       "      <th>2</th>\n",
       "      <td>550441732014223360</td>\n",
       "      <td>DozenStocks</td>\n",
       "      <td>1420070510</td>\n",
       "      <td>S&amp;P100 #Stocks Performance $HD $LOW $SBUX $TGT...</td>\n",
       "      <td>0</td>\n",
       "      <td>0</td>\n",
       "      <td>0</td>\n",
       "    </tr>\n",
       "    <tr>\n",
       "      <th>3</th>\n",
       "      <td>550442977802207232</td>\n",
       "      <td>ShowDreamCar</td>\n",
       "      <td>1420070807</td>\n",
       "      <td>$GM $TSLA: Volkswagen Pushes 2014 Record Recal...</td>\n",
       "      <td>0</td>\n",
       "      <td>0</td>\n",
       "      <td>1</td>\n",
       "    </tr>\n",
       "    <tr>\n",
       "      <th>4</th>\n",
       "      <td>550443807834402816</td>\n",
       "      <td>i_Know_First</td>\n",
       "      <td>1420071005</td>\n",
       "      <td>Swing Trading: Up To 8.91% Return In 14 Days h...</td>\n",
       "      <td>0</td>\n",
       "      <td>0</td>\n",
       "      <td>1</td>\n",
       "    </tr>\n",
       "  </tbody>\n",
       "</table>\n",
       "</div>"
      ],
      "text/plain": [
       "             tweet_id           writer   post_date  \\\n",
       "0  550441509175443456  VisualStockRSRC  1420070457   \n",
       "1  550441672312512512      KeralaGuy77  1420070496   \n",
       "2  550441732014223360      DozenStocks  1420070510   \n",
       "3  550442977802207232     ShowDreamCar  1420070807   \n",
       "4  550443807834402816     i_Know_First  1420071005   \n",
       "\n",
       "                                                body  comment_num  \\\n",
       "0  lx21 made $10,008  on $AAPL -Check it out! htt...            0   \n",
       "1  Insanity of today weirdo massive selling. $aap...            0   \n",
       "2  S&P100 #Stocks Performance $HD $LOW $SBUX $TGT...            0   \n",
       "3  $GM $TSLA: Volkswagen Pushes 2014 Record Recal...            0   \n",
       "4  Swing Trading: Up To 8.91% Return In 14 Days h...            0   \n",
       "\n",
       "   retweet_num  like_num  \n",
       "0            0         1  \n",
       "1            0         0  \n",
       "2            0         0  \n",
       "3            0         1  \n",
       "4            0         1  "
      ]
     },
     "execution_count": 4,
     "metadata": {},
     "output_type": "execute_result"
    }
   ],
   "source": [
    "df_tweet.head()"
   ]
  },
  {
   "cell_type": "code",
   "execution_count": 5,
   "metadata": {},
   "outputs": [],
   "source": [
    "df_company_tweet = pd.read_csv(\"Company_Tweet.csv\")"
   ]
  },
  {
   "cell_type": "code",
   "execution_count": 6,
   "metadata": {},
   "outputs": [
    {
     "name": "stdout",
     "output_type": "stream",
     "text": [
      "<class 'pandas.core.frame.DataFrame'>\n",
      "RangeIndex: 4336445 entries, 0 to 4336444\n",
      "Data columns (total 2 columns):\n",
      " #   Column         Dtype \n",
      "---  ------         ----- \n",
      " 0   tweet_id       int64 \n",
      " 1   ticker_symbol  object\n",
      "dtypes: int64(1), object(1)\n",
      "memory usage: 66.2+ MB\n"
     ]
    }
   ],
   "source": [
    "df_company_tweet.info()"
   ]
  },
  {
   "cell_type": "code",
   "execution_count": 7,
   "metadata": {},
   "outputs": [
    {
     "data": {
      "text/html": [
       "<div>\n",
       "<style scoped>\n",
       "    .dataframe tbody tr th:only-of-type {\n",
       "        vertical-align: middle;\n",
       "    }\n",
       "\n",
       "    .dataframe tbody tr th {\n",
       "        vertical-align: top;\n",
       "    }\n",
       "\n",
       "    .dataframe thead th {\n",
       "        text-align: right;\n",
       "    }\n",
       "</style>\n",
       "<table border=\"1\" class=\"dataframe\">\n",
       "  <thead>\n",
       "    <tr style=\"text-align: right;\">\n",
       "      <th></th>\n",
       "      <th>tweet_id</th>\n",
       "      <th>ticker_symbol</th>\n",
       "    </tr>\n",
       "  </thead>\n",
       "  <tbody>\n",
       "    <tr>\n",
       "      <th>0</th>\n",
       "      <td>550803612197457920</td>\n",
       "      <td>AAPL</td>\n",
       "    </tr>\n",
       "    <tr>\n",
       "      <th>1</th>\n",
       "      <td>550803610825928706</td>\n",
       "      <td>AAPL</td>\n",
       "    </tr>\n",
       "    <tr>\n",
       "      <th>2</th>\n",
       "      <td>550803225113157632</td>\n",
       "      <td>AAPL</td>\n",
       "    </tr>\n",
       "    <tr>\n",
       "      <th>3</th>\n",
       "      <td>550802957370159104</td>\n",
       "      <td>AAPL</td>\n",
       "    </tr>\n",
       "    <tr>\n",
       "      <th>4</th>\n",
       "      <td>550802855129382912</td>\n",
       "      <td>AAPL</td>\n",
       "    </tr>\n",
       "  </tbody>\n",
       "</table>\n",
       "</div>"
      ],
      "text/plain": [
       "             tweet_id ticker_symbol\n",
       "0  550803612197457920          AAPL\n",
       "1  550803610825928706          AAPL\n",
       "2  550803225113157632          AAPL\n",
       "3  550802957370159104          AAPL\n",
       "4  550802855129382912          AAPL"
      ]
     },
     "execution_count": 7,
     "metadata": {},
     "output_type": "execute_result"
    }
   ],
   "source": [
    "df_company_tweet.head()"
   ]
  },
  {
   "cell_type": "code",
   "execution_count": 8,
   "metadata": {},
   "outputs": [],
   "source": [
    "tweets = pd.merge(df_company_tweet,df_tweet,on= \"tweet_id\", how = \"inner\")"
   ]
  },
  {
   "cell_type": "code",
   "execution_count": 9,
   "metadata": {},
   "outputs": [
    {
     "data": {
      "text/html": [
       "<div>\n",
       "<style scoped>\n",
       "    .dataframe tbody tr th:only-of-type {\n",
       "        vertical-align: middle;\n",
       "    }\n",
       "\n",
       "    .dataframe tbody tr th {\n",
       "        vertical-align: top;\n",
       "    }\n",
       "\n",
       "    .dataframe thead th {\n",
       "        text-align: right;\n",
       "    }\n",
       "</style>\n",
       "<table border=\"1\" class=\"dataframe\">\n",
       "  <thead>\n",
       "    <tr style=\"text-align: right;\">\n",
       "      <th></th>\n",
       "      <th>tweet_id</th>\n",
       "      <th>ticker_symbol</th>\n",
       "      <th>writer</th>\n",
       "      <th>post_date</th>\n",
       "      <th>body</th>\n",
       "      <th>comment_num</th>\n",
       "      <th>retweet_num</th>\n",
       "      <th>like_num</th>\n",
       "    </tr>\n",
       "  </thead>\n",
       "  <tbody>\n",
       "    <tr>\n",
       "      <th>0</th>\n",
       "      <td>550803612197457920</td>\n",
       "      <td>AAPL</td>\n",
       "      <td>SentiQuant</td>\n",
       "      <td>1420156789</td>\n",
       "      <td>#TOPTICKERTWEETS $AAPL $IMRS $BABA $EBAY $AMZN...</td>\n",
       "      <td>0</td>\n",
       "      <td>0</td>\n",
       "      <td>1</td>\n",
       "    </tr>\n",
       "    <tr>\n",
       "      <th>1</th>\n",
       "      <td>550803612197457920</td>\n",
       "      <td>AMZN</td>\n",
       "      <td>SentiQuant</td>\n",
       "      <td>1420156789</td>\n",
       "      <td>#TOPTICKERTWEETS $AAPL $IMRS $BABA $EBAY $AMZN...</td>\n",
       "      <td>0</td>\n",
       "      <td>0</td>\n",
       "      <td>1</td>\n",
       "    </tr>\n",
       "    <tr>\n",
       "      <th>2</th>\n",
       "      <td>550803610825928706</td>\n",
       "      <td>AAPL</td>\n",
       "      <td>SentiQuant</td>\n",
       "      <td>1420156788</td>\n",
       "      <td>#SENTISHIFTUP $K $FB $GOOGL $GS $GOLD $T $AAPL...</td>\n",
       "      <td>0</td>\n",
       "      <td>0</td>\n",
       "      <td>1</td>\n",
       "    </tr>\n",
       "    <tr>\n",
       "      <th>3</th>\n",
       "      <td>550803610825928706</td>\n",
       "      <td>GOOGL</td>\n",
       "      <td>SentiQuant</td>\n",
       "      <td>1420156788</td>\n",
       "      <td>#SENTISHIFTUP $K $FB $GOOGL $GS $GOLD $T $AAPL...</td>\n",
       "      <td>0</td>\n",
       "      <td>0</td>\n",
       "      <td>1</td>\n",
       "    </tr>\n",
       "    <tr>\n",
       "      <th>4</th>\n",
       "      <td>550803610825928706</td>\n",
       "      <td>AMZN</td>\n",
       "      <td>SentiQuant</td>\n",
       "      <td>1420156788</td>\n",
       "      <td>#SENTISHIFTUP $K $FB $GOOGL $GS $GOLD $T $AAPL...</td>\n",
       "      <td>0</td>\n",
       "      <td>0</td>\n",
       "      <td>1</td>\n",
       "    </tr>\n",
       "  </tbody>\n",
       "</table>\n",
       "</div>"
      ],
      "text/plain": [
       "             tweet_id ticker_symbol      writer   post_date  \\\n",
       "0  550803612197457920          AAPL  SentiQuant  1420156789   \n",
       "1  550803612197457920          AMZN  SentiQuant  1420156789   \n",
       "2  550803610825928706          AAPL  SentiQuant  1420156788   \n",
       "3  550803610825928706         GOOGL  SentiQuant  1420156788   \n",
       "4  550803610825928706          AMZN  SentiQuant  1420156788   \n",
       "\n",
       "                                                body  comment_num  \\\n",
       "0  #TOPTICKERTWEETS $AAPL $IMRS $BABA $EBAY $AMZN...            0   \n",
       "1  #TOPTICKERTWEETS $AAPL $IMRS $BABA $EBAY $AMZN...            0   \n",
       "2  #SENTISHIFTUP $K $FB $GOOGL $GS $GOLD $T $AAPL...            0   \n",
       "3  #SENTISHIFTUP $K $FB $GOOGL $GS $GOLD $T $AAPL...            0   \n",
       "4  #SENTISHIFTUP $K $FB $GOOGL $GS $GOLD $T $AAPL...            0   \n",
       "\n",
       "   retweet_num  like_num  \n",
       "0            0         1  \n",
       "1            0         1  \n",
       "2            0         1  \n",
       "3            0         1  \n",
       "4            0         1  "
      ]
     },
     "execution_count": 9,
     "metadata": {},
     "output_type": "execute_result"
    }
   ],
   "source": [
    "tweets.head()"
   ]
  },
  {
   "cell_type": "code",
   "execution_count": 10,
   "metadata": {},
   "outputs": [],
   "source": [
    "def datasetInfo(dataset):\n",
    "    print(f\" Dataset Information and type \\n {dataset.info()}\")\n",
    "    print(\"--------------------------------------------------------\\n\\n Data Types: \")\n",
    "    print(dataset.dtypes)\n",
    "    print(\"--------------------------------------------------------\\n\\n Rows and Columns: \")\n",
    "    print(dataset.shape)\n",
    "    print(\"--------------------------------------------------------\\n\\n Column Names: \")\n",
    "    print(dataset.columns)\n",
    "    print(\"--------------------------------------------------------\\n\\n Null Values: \")\n",
    "    print(dataset.apply(lambda x: sum(x.isnull()) / len(dataset)))\n",
    "    print(\"--------------------------------------------------------\\n\\n Unique Values: \")\n",
    "    print(dataset.nunique())\n",
    "    print(\"--------------------------------------------------------\\n\\n Describe: \")\n",
    "    print(dataset.describe())"
   ]
  },
  {
   "cell_type": "code",
   "execution_count": 11,
   "metadata": {},
   "outputs": [
    {
     "name": "stdout",
     "output_type": "stream",
     "text": [
      "<class 'pandas.core.frame.DataFrame'>\n",
      "Int64Index: 4336445 entries, 0 to 4336444\n",
      "Data columns (total 8 columns):\n",
      " #   Column         Dtype \n",
      "---  ------         ----- \n",
      " 0   tweet_id       int64 \n",
      " 1   ticker_symbol  object\n",
      " 2   writer         object\n",
      " 3   post_date      int64 \n",
      " 4   body           object\n",
      " 5   comment_num    int64 \n",
      " 6   retweet_num    int64 \n",
      " 7   like_num       int64 \n",
      "dtypes: int64(5), object(3)\n",
      "memory usage: 297.8+ MB\n",
      " Dataset Information and type \n",
      " None\n",
      "--------------------------------------------------------\n",
      "\n",
      " Data Types: \n",
      "tweet_id          int64\n",
      "ticker_symbol    object\n",
      "writer           object\n",
      "post_date         int64\n",
      "body             object\n",
      "comment_num       int64\n",
      "retweet_num       int64\n",
      "like_num          int64\n",
      "dtype: object\n",
      "--------------------------------------------------------\n",
      "\n",
      " Rows and Columns: \n",
      "(4336445, 8)\n",
      "--------------------------------------------------------\n",
      "\n",
      " Column Names: \n",
      "Index(['tweet_id', 'ticker_symbol', 'writer', 'post_date', 'body',\n",
      "       'comment_num', 'retweet_num', 'like_num'],\n",
      "      dtype='object')\n",
      "--------------------------------------------------------\n",
      "\n",
      " Null Values: \n",
      "tweet_id         0.000000\n",
      "ticker_symbol    0.000000\n",
      "writer           0.012895\n",
      "post_date        0.000000\n",
      "body             0.000000\n",
      "comment_num      0.000000\n",
      "retweet_num      0.000000\n",
      "like_num         0.000000\n",
      "dtype: float64\n",
      "--------------------------------------------------------\n",
      "\n",
      " Unique Values: \n",
      "tweet_id         3717964\n",
      "ticker_symbol          6\n",
      "writer            140131\n",
      "post_date        3421363\n",
      "body             3326194\n",
      "comment_num          191\n",
      "retweet_num          509\n",
      "like_num             783\n",
      "dtype: int64\n",
      "--------------------------------------------------------\n",
      "\n",
      " Describe: \n",
      "           tweet_id     post_date   comment_num   retweet_num      like_num\n",
      "count  4.336445e+06  4.336445e+06  4.336445e+06  4.336445e+06  4.336445e+06\n",
      "mean   8.834282e+17  1.499461e+09  2.923863e-01  6.347647e-01  2.103625e+00\n",
      "std    1.927735e+17  4.596080e+07  1.885788e+00  6.986371e+00  1.371744e+01\n",
      "min    5.504415e+17  1.420070e+09  0.000000e+00  0.000000e+00  0.000000e+00\n",
      "25%    7.185450e+17  1.460149e+09  0.000000e+00  0.000000e+00  0.000000e+00\n",
      "50%    8.825934e+17  1.499262e+09  0.000000e+00  0.000000e+00  0.000000e+00\n",
      "75%    1.054776e+18  1.540313e+09  0.000000e+00  0.000000e+00  1.000000e+00\n",
      "max    1.212160e+18  1.577837e+09  6.310000e+02  9.990000e+02  9.990000e+02\n"
     ]
    }
   ],
   "source": [
    "datasetInfo(tweets)"
   ]
  },
  {
   "attachments": {},
   "cell_type": "markdown",
   "metadata": {},
   "source": [
    "After Merging Remove the dataframes that do not have ticker_symbols"
   ]
  },
  {
   "cell_type": "code",
   "execution_count": 12,
   "metadata": {},
   "outputs": [],
   "source": [
    "tweets.dropna(inplace = True)"
   ]
  },
  {
   "attachments": {},
   "cell_type": "markdown",
   "metadata": {},
   "source": [
    "Convert our post_date time in seconds to date_time"
   ]
  },
  {
   "cell_type": "code",
   "execution_count": 13,
   "metadata": {},
   "outputs": [
    {
     "data": {
      "text/html": [
       "<div>\n",
       "<style scoped>\n",
       "    .dataframe tbody tr th:only-of-type {\n",
       "        vertical-align: middle;\n",
       "    }\n",
       "\n",
       "    .dataframe tbody tr th {\n",
       "        vertical-align: top;\n",
       "    }\n",
       "\n",
       "    .dataframe thead th {\n",
       "        text-align: right;\n",
       "    }\n",
       "</style>\n",
       "<table border=\"1\" class=\"dataframe\">\n",
       "  <thead>\n",
       "    <tr style=\"text-align: right;\">\n",
       "      <th></th>\n",
       "      <th>tweet_id</th>\n",
       "      <th>ticker_symbol</th>\n",
       "      <th>writer</th>\n",
       "      <th>post_date</th>\n",
       "      <th>body</th>\n",
       "      <th>comment_num</th>\n",
       "      <th>retweet_num</th>\n",
       "      <th>like_num</th>\n",
       "    </tr>\n",
       "  </thead>\n",
       "  <tbody>\n",
       "    <tr>\n",
       "      <th>0</th>\n",
       "      <td>550803612197457920</td>\n",
       "      <td>AAPL</td>\n",
       "      <td>SentiQuant</td>\n",
       "      <td>2015-01-01</td>\n",
       "      <td>#TOPTICKERTWEETS $AAPL $IMRS $BABA $EBAY $AMZN...</td>\n",
       "      <td>0</td>\n",
       "      <td>0</td>\n",
       "      <td>1</td>\n",
       "    </tr>\n",
       "    <tr>\n",
       "      <th>1</th>\n",
       "      <td>550803612197457920</td>\n",
       "      <td>AMZN</td>\n",
       "      <td>SentiQuant</td>\n",
       "      <td>2015-01-01</td>\n",
       "      <td>#TOPTICKERTWEETS $AAPL $IMRS $BABA $EBAY $AMZN...</td>\n",
       "      <td>0</td>\n",
       "      <td>0</td>\n",
       "      <td>1</td>\n",
       "    </tr>\n",
       "    <tr>\n",
       "      <th>2</th>\n",
       "      <td>550803610825928706</td>\n",
       "      <td>AAPL</td>\n",
       "      <td>SentiQuant</td>\n",
       "      <td>2015-01-01</td>\n",
       "      <td>#SENTISHIFTUP $K $FB $GOOGL $GS $GOLD $T $AAPL...</td>\n",
       "      <td>0</td>\n",
       "      <td>0</td>\n",
       "      <td>1</td>\n",
       "    </tr>\n",
       "    <tr>\n",
       "      <th>3</th>\n",
       "      <td>550803610825928706</td>\n",
       "      <td>GOOGL</td>\n",
       "      <td>SentiQuant</td>\n",
       "      <td>2015-01-01</td>\n",
       "      <td>#SENTISHIFTUP $K $FB $GOOGL $GS $GOLD $T $AAPL...</td>\n",
       "      <td>0</td>\n",
       "      <td>0</td>\n",
       "      <td>1</td>\n",
       "    </tr>\n",
       "    <tr>\n",
       "      <th>4</th>\n",
       "      <td>550803610825928706</td>\n",
       "      <td>AMZN</td>\n",
       "      <td>SentiQuant</td>\n",
       "      <td>2015-01-01</td>\n",
       "      <td>#SENTISHIFTUP $K $FB $GOOGL $GS $GOLD $T $AAPL...</td>\n",
       "      <td>0</td>\n",
       "      <td>0</td>\n",
       "      <td>1</td>\n",
       "    </tr>\n",
       "  </tbody>\n",
       "</table>\n",
       "</div>"
      ],
      "text/plain": [
       "             tweet_id ticker_symbol      writer  post_date  \\\n",
       "0  550803612197457920          AAPL  SentiQuant 2015-01-01   \n",
       "1  550803612197457920          AMZN  SentiQuant 2015-01-01   \n",
       "2  550803610825928706          AAPL  SentiQuant 2015-01-01   \n",
       "3  550803610825928706         GOOGL  SentiQuant 2015-01-01   \n",
       "4  550803610825928706          AMZN  SentiQuant 2015-01-01   \n",
       "\n",
       "                                                body  comment_num  \\\n",
       "0  #TOPTICKERTWEETS $AAPL $IMRS $BABA $EBAY $AMZN...            0   \n",
       "1  #TOPTICKERTWEETS $AAPL $IMRS $BABA $EBAY $AMZN...            0   \n",
       "2  #SENTISHIFTUP $K $FB $GOOGL $GS $GOLD $T $AAPL...            0   \n",
       "3  #SENTISHIFTUP $K $FB $GOOGL $GS $GOLD $T $AAPL...            0   \n",
       "4  #SENTISHIFTUP $K $FB $GOOGL $GS $GOLD $T $AAPL...            0   \n",
       "\n",
       "   retweet_num  like_num  \n",
       "0            0         1  \n",
       "1            0         1  \n",
       "2            0         1  \n",
       "3            0         1  \n",
       "4            0         1  "
      ]
     },
     "execution_count": 13,
     "metadata": {},
     "output_type": "execute_result"
    }
   ],
   "source": [
    "tweets['post_date'] = pd.to_datetime(tweets[\"post_date\"],utc = False , unit = 's',).dt.normalize()\n",
    "tweets.head()"
   ]
  },
  {
   "attachments": {},
   "cell_type": "markdown",
   "metadata": {},
   "source": [
    "We need our a training set and a testing set for the prediction of Neutral or Opinionated Tweets"
   ]
  },
  {
   "cell_type": "code",
   "execution_count": 14,
   "metadata": {},
   "outputs": [
    {
     "data": {
      "text/html": [
       "<div>\n",
       "<style scoped>\n",
       "    .dataframe tbody tr th:only-of-type {\n",
       "        vertical-align: middle;\n",
       "    }\n",
       "\n",
       "    .dataframe tbody tr th {\n",
       "        vertical-align: top;\n",
       "    }\n",
       "\n",
       "    .dataframe thead th {\n",
       "        text-align: right;\n",
       "    }\n",
       "</style>\n",
       "<table border=\"1\" class=\"dataframe\">\n",
       "  <thead>\n",
       "    <tr style=\"text-align: right;\">\n",
       "      <th></th>\n",
       "      <th>tweet_id</th>\n",
       "      <th>ticker_symbol</th>\n",
       "      <th>writer</th>\n",
       "      <th>post_date</th>\n",
       "      <th>body</th>\n",
       "      <th>comment_num</th>\n",
       "      <th>retweet_num</th>\n",
       "      <th>like_num</th>\n",
       "    </tr>\n",
       "  </thead>\n",
       "  <tbody>\n",
       "    <tr>\n",
       "      <th>3786974</th>\n",
       "      <td>1014983757252780033</td>\n",
       "      <td>TSLA</td>\n",
       "      <td>lopezlinette</td>\n",
       "      <td>2018-07-05</td>\n",
       "      <td>I’d just like to point out that right now, rig...</td>\n",
       "      <td>631</td>\n",
       "      <td>369</td>\n",
       "      <td>0</td>\n",
       "    </tr>\n",
       "    <tr>\n",
       "      <th>4112626</th>\n",
       "      <td>1118989675257978880</td>\n",
       "      <td>TSLA</td>\n",
       "      <td>GerberKawasaki</td>\n",
       "      <td>2019-04-18</td>\n",
       "      <td>If a Tesla saves you $200 a month on gas, you ...</td>\n",
       "      <td>567</td>\n",
       "      <td>0</td>\n",
       "      <td>0</td>\n",
       "    </tr>\n",
       "    <tr>\n",
       "      <th>4306536</th>\n",
       "      <td>1199424478536753155</td>\n",
       "      <td>TSLA</td>\n",
       "      <td>AlexSibila</td>\n",
       "      <td>2019-11-26</td>\n",
       "      <td>~Tesla feature request thread~Feel free to rep...</td>\n",
       "      <td>563</td>\n",
       "      <td>48</td>\n",
       "      <td>662</td>\n",
       "    </tr>\n",
       "    <tr>\n",
       "      <th>2823018</th>\n",
       "      <td>885933344487342082</td>\n",
       "      <td>AMZN</td>\n",
       "      <td>internet_dust</td>\n",
       "      <td>2017-07-14</td>\n",
       "      <td>\"I sell books.\" versus \"I sell whatever the fu...</td>\n",
       "      <td>496</td>\n",
       "      <td>0</td>\n",
       "      <td>0</td>\n",
       "    </tr>\n",
       "    <tr>\n",
       "      <th>4182686</th>\n",
       "      <td>1138975188127834112</td>\n",
       "      <td>TSLA</td>\n",
       "      <td>TeslaNY</td>\n",
       "      <td>2019-06-13</td>\n",
       "      <td>“I think it's basically financially insane to ...</td>\n",
       "      <td>442</td>\n",
       "      <td>0</td>\n",
       "      <td>0</td>\n",
       "    </tr>\n",
       "    <tr>\n",
       "      <th>...</th>\n",
       "      <td>...</td>\n",
       "      <td>...</td>\n",
       "      <td>...</td>\n",
       "      <td>...</td>\n",
       "      <td>...</td>\n",
       "      <td>...</td>\n",
       "      <td>...</td>\n",
       "      <td>...</td>\n",
       "    </tr>\n",
       "    <tr>\n",
       "      <th>1488123</th>\n",
       "      <td>1060565704389378055</td>\n",
       "      <td>AAPL</td>\n",
       "      <td>ScottSegen</td>\n",
       "      <td>2018-11-08</td>\n",
       "      <td>Mark Zuckerberg turns down UK parliament reque...</td>\n",
       "      <td>0</td>\n",
       "      <td>0</td>\n",
       "      <td>1</td>\n",
       "    </tr>\n",
       "    <tr>\n",
       "      <th>1488124</th>\n",
       "      <td>1060565704389378055</td>\n",
       "      <td>GOOGL</td>\n",
       "      <td>ScottSegen</td>\n",
       "      <td>2018-11-08</td>\n",
       "      <td>Mark Zuckerberg turns down UK parliament reque...</td>\n",
       "      <td>0</td>\n",
       "      <td>0</td>\n",
       "      <td>1</td>\n",
       "    </tr>\n",
       "    <tr>\n",
       "      <th>1488125</th>\n",
       "      <td>1060566279818366977</td>\n",
       "      <td>AAPL</td>\n",
       "      <td>jordanladz</td>\n",
       "      <td>2018-11-08</td>\n",
       "      <td>Get audible updates with this new application....</td>\n",
       "      <td>0</td>\n",
       "      <td>0</td>\n",
       "      <td>0</td>\n",
       "    </tr>\n",
       "    <tr>\n",
       "      <th>1488126</th>\n",
       "      <td>1060566346763849735</td>\n",
       "      <td>AAPL</td>\n",
       "      <td>CompoundFreedom</td>\n",
       "      <td>2018-11-08</td>\n",
       "      <td>Apple Opens First Store in Thailand Saturday h...</td>\n",
       "      <td>0</td>\n",
       "      <td>0</td>\n",
       "      <td>0</td>\n",
       "    </tr>\n",
       "    <tr>\n",
       "      <th>4336444</th>\n",
       "      <td>1212160015332728833</td>\n",
       "      <td>TSLA</td>\n",
       "      <td>Commuternyc</td>\n",
       "      <td>2019-12-31</td>\n",
       "      <td>Patiently Waiting for the no twitter sitter tw...</td>\n",
       "      <td>0</td>\n",
       "      <td>0</td>\n",
       "      <td>5</td>\n",
       "    </tr>\n",
       "  </tbody>\n",
       "</table>\n",
       "<p>4280526 rows × 8 columns</p>\n",
       "</div>"
      ],
      "text/plain": [
       "                    tweet_id ticker_symbol           writer  post_date  \\\n",
       "3786974  1014983757252780033          TSLA     lopezlinette 2018-07-05   \n",
       "4112626  1118989675257978880          TSLA   GerberKawasaki 2019-04-18   \n",
       "4306536  1199424478536753155          TSLA       AlexSibila 2019-11-26   \n",
       "2823018   885933344487342082          AMZN    internet_dust 2017-07-14   \n",
       "4182686  1138975188127834112          TSLA          TeslaNY 2019-06-13   \n",
       "...                      ...           ...              ...        ...   \n",
       "1488123  1060565704389378055          AAPL       ScottSegen 2018-11-08   \n",
       "1488124  1060565704389378055         GOOGL       ScottSegen 2018-11-08   \n",
       "1488125  1060566279818366977          AAPL       jordanladz 2018-11-08   \n",
       "1488126  1060566346763849735          AAPL  CompoundFreedom 2018-11-08   \n",
       "4336444  1212160015332728833          TSLA      Commuternyc 2019-12-31   \n",
       "\n",
       "                                                      body  comment_num  \\\n",
       "3786974  I’d just like to point out that right now, rig...          631   \n",
       "4112626  If a Tesla saves you $200 a month on gas, you ...          567   \n",
       "4306536  ~Tesla feature request thread~Feel free to rep...          563   \n",
       "2823018  \"I sell books.\" versus \"I sell whatever the fu...          496   \n",
       "4182686  “I think it's basically financially insane to ...          442   \n",
       "...                                                    ...          ...   \n",
       "1488123  Mark Zuckerberg turns down UK parliament reque...            0   \n",
       "1488124  Mark Zuckerberg turns down UK parliament reque...            0   \n",
       "1488125  Get audible updates with this new application....            0   \n",
       "1488126  Apple Opens First Store in Thailand Saturday h...            0   \n",
       "4336444  Patiently Waiting for the no twitter sitter tw...            0   \n",
       "\n",
       "         retweet_num  like_num  \n",
       "3786974          369         0  \n",
       "4112626            0         0  \n",
       "4306536           48       662  \n",
       "2823018            0         0  \n",
       "4182686            0         0  \n",
       "...              ...       ...  \n",
       "1488123            0         1  \n",
       "1488124            0         1  \n",
       "1488125            0         0  \n",
       "1488126            0         0  \n",
       "4336444            0         5  \n",
       "\n",
       "[4280526 rows x 8 columns]"
      ]
     },
     "execution_count": 14,
     "metadata": {},
     "output_type": "execute_result"
    }
   ],
   "source": [
    "tweets.sort_values(by = \"comment_num\" , ascending  = False, inplace = True)\n",
    "tweets\n"
   ]
  },
  {
   "attachments": {},
   "cell_type": "markdown",
   "metadata": {},
   "source": [
    "## First Find the sum of all the activities in the tweet post"
   ]
  },
  {
   "cell_type": "code",
   "execution_count": 15,
   "metadata": {},
   "outputs": [
    {
     "data": {
      "text/html": [
       "<div>\n",
       "<style scoped>\n",
       "    .dataframe tbody tr th:only-of-type {\n",
       "        vertical-align: middle;\n",
       "    }\n",
       "\n",
       "    .dataframe tbody tr th {\n",
       "        vertical-align: top;\n",
       "    }\n",
       "\n",
       "    .dataframe thead th {\n",
       "        text-align: right;\n",
       "    }\n",
       "</style>\n",
       "<table border=\"1\" class=\"dataframe\">\n",
       "  <thead>\n",
       "    <tr style=\"text-align: right;\">\n",
       "      <th></th>\n",
       "      <th>tweet_id</th>\n",
       "      <th>ticker_symbol</th>\n",
       "      <th>writer</th>\n",
       "      <th>post_date</th>\n",
       "      <th>body</th>\n",
       "      <th>comment_num</th>\n",
       "      <th>retweet_num</th>\n",
       "      <th>like_num</th>\n",
       "      <th>tweet_activity</th>\n",
       "    </tr>\n",
       "  </thead>\n",
       "  <tbody>\n",
       "    <tr>\n",
       "      <th>3786974</th>\n",
       "      <td>1014983757252780033</td>\n",
       "      <td>TSLA</td>\n",
       "      <td>lopezlinette</td>\n",
       "      <td>2018-07-05</td>\n",
       "      <td>I’d just like to point out that right now, rig...</td>\n",
       "      <td>631</td>\n",
       "      <td>369</td>\n",
       "      <td>0</td>\n",
       "      <td>1000</td>\n",
       "    </tr>\n",
       "    <tr>\n",
       "      <th>4112626</th>\n",
       "      <td>1118989675257978880</td>\n",
       "      <td>TSLA</td>\n",
       "      <td>GerberKawasaki</td>\n",
       "      <td>2019-04-18</td>\n",
       "      <td>If a Tesla saves you $200 a month on gas, you ...</td>\n",
       "      <td>567</td>\n",
       "      <td>0</td>\n",
       "      <td>0</td>\n",
       "      <td>567</td>\n",
       "    </tr>\n",
       "    <tr>\n",
       "      <th>4306536</th>\n",
       "      <td>1199424478536753155</td>\n",
       "      <td>TSLA</td>\n",
       "      <td>AlexSibila</td>\n",
       "      <td>2019-11-26</td>\n",
       "      <td>~Tesla feature request thread~Feel free to rep...</td>\n",
       "      <td>563</td>\n",
       "      <td>48</td>\n",
       "      <td>662</td>\n",
       "      <td>1273</td>\n",
       "    </tr>\n",
       "    <tr>\n",
       "      <th>2823018</th>\n",
       "      <td>885933344487342082</td>\n",
       "      <td>AMZN</td>\n",
       "      <td>internet_dust</td>\n",
       "      <td>2017-07-14</td>\n",
       "      <td>\"I sell books.\" versus \"I sell whatever the fu...</td>\n",
       "      <td>496</td>\n",
       "      <td>0</td>\n",
       "      <td>0</td>\n",
       "      <td>496</td>\n",
       "    </tr>\n",
       "    <tr>\n",
       "      <th>4182686</th>\n",
       "      <td>1138975188127834112</td>\n",
       "      <td>TSLA</td>\n",
       "      <td>TeslaNY</td>\n",
       "      <td>2019-06-13</td>\n",
       "      <td>“I think it's basically financially insane to ...</td>\n",
       "      <td>442</td>\n",
       "      <td>0</td>\n",
       "      <td>0</td>\n",
       "      <td>442</td>\n",
       "    </tr>\n",
       "    <tr>\n",
       "      <th>...</th>\n",
       "      <td>...</td>\n",
       "      <td>...</td>\n",
       "      <td>...</td>\n",
       "      <td>...</td>\n",
       "      <td>...</td>\n",
       "      <td>...</td>\n",
       "      <td>...</td>\n",
       "      <td>...</td>\n",
       "      <td>...</td>\n",
       "    </tr>\n",
       "    <tr>\n",
       "      <th>1488123</th>\n",
       "      <td>1060565704389378055</td>\n",
       "      <td>AAPL</td>\n",
       "      <td>ScottSegen</td>\n",
       "      <td>2018-11-08</td>\n",
       "      <td>Mark Zuckerberg turns down UK parliament reque...</td>\n",
       "      <td>0</td>\n",
       "      <td>0</td>\n",
       "      <td>1</td>\n",
       "      <td>1</td>\n",
       "    </tr>\n",
       "    <tr>\n",
       "      <th>1488124</th>\n",
       "      <td>1060565704389378055</td>\n",
       "      <td>GOOGL</td>\n",
       "      <td>ScottSegen</td>\n",
       "      <td>2018-11-08</td>\n",
       "      <td>Mark Zuckerberg turns down UK parliament reque...</td>\n",
       "      <td>0</td>\n",
       "      <td>0</td>\n",
       "      <td>1</td>\n",
       "      <td>1</td>\n",
       "    </tr>\n",
       "    <tr>\n",
       "      <th>1488125</th>\n",
       "      <td>1060566279818366977</td>\n",
       "      <td>AAPL</td>\n",
       "      <td>jordanladz</td>\n",
       "      <td>2018-11-08</td>\n",
       "      <td>Get audible updates with this new application....</td>\n",
       "      <td>0</td>\n",
       "      <td>0</td>\n",
       "      <td>0</td>\n",
       "      <td>0</td>\n",
       "    </tr>\n",
       "    <tr>\n",
       "      <th>1488126</th>\n",
       "      <td>1060566346763849735</td>\n",
       "      <td>AAPL</td>\n",
       "      <td>CompoundFreedom</td>\n",
       "      <td>2018-11-08</td>\n",
       "      <td>Apple Opens First Store in Thailand Saturday h...</td>\n",
       "      <td>0</td>\n",
       "      <td>0</td>\n",
       "      <td>0</td>\n",
       "      <td>0</td>\n",
       "    </tr>\n",
       "    <tr>\n",
       "      <th>4336444</th>\n",
       "      <td>1212160015332728833</td>\n",
       "      <td>TSLA</td>\n",
       "      <td>Commuternyc</td>\n",
       "      <td>2019-12-31</td>\n",
       "      <td>Patiently Waiting for the no twitter sitter tw...</td>\n",
       "      <td>0</td>\n",
       "      <td>0</td>\n",
       "      <td>5</td>\n",
       "      <td>5</td>\n",
       "    </tr>\n",
       "  </tbody>\n",
       "</table>\n",
       "<p>4280526 rows × 9 columns</p>\n",
       "</div>"
      ],
      "text/plain": [
       "                    tweet_id ticker_symbol           writer  post_date  \\\n",
       "3786974  1014983757252780033          TSLA     lopezlinette 2018-07-05   \n",
       "4112626  1118989675257978880          TSLA   GerberKawasaki 2019-04-18   \n",
       "4306536  1199424478536753155          TSLA       AlexSibila 2019-11-26   \n",
       "2823018   885933344487342082          AMZN    internet_dust 2017-07-14   \n",
       "4182686  1138975188127834112          TSLA          TeslaNY 2019-06-13   \n",
       "...                      ...           ...              ...        ...   \n",
       "1488123  1060565704389378055          AAPL       ScottSegen 2018-11-08   \n",
       "1488124  1060565704389378055         GOOGL       ScottSegen 2018-11-08   \n",
       "1488125  1060566279818366977          AAPL       jordanladz 2018-11-08   \n",
       "1488126  1060566346763849735          AAPL  CompoundFreedom 2018-11-08   \n",
       "4336444  1212160015332728833          TSLA      Commuternyc 2019-12-31   \n",
       "\n",
       "                                                      body  comment_num  \\\n",
       "3786974  I’d just like to point out that right now, rig...          631   \n",
       "4112626  If a Tesla saves you $200 a month on gas, you ...          567   \n",
       "4306536  ~Tesla feature request thread~Feel free to rep...          563   \n",
       "2823018  \"I sell books.\" versus \"I sell whatever the fu...          496   \n",
       "4182686  “I think it's basically financially insane to ...          442   \n",
       "...                                                    ...          ...   \n",
       "1488123  Mark Zuckerberg turns down UK parliament reque...            0   \n",
       "1488124  Mark Zuckerberg turns down UK parliament reque...            0   \n",
       "1488125  Get audible updates with this new application....            0   \n",
       "1488126  Apple Opens First Store in Thailand Saturday h...            0   \n",
       "4336444  Patiently Waiting for the no twitter sitter tw...            0   \n",
       "\n",
       "         retweet_num  like_num  tweet_activity  \n",
       "3786974          369         0            1000  \n",
       "4112626            0         0             567  \n",
       "4306536           48       662            1273  \n",
       "2823018            0         0             496  \n",
       "4182686            0         0             442  \n",
       "...              ...       ...             ...  \n",
       "1488123            0         1               1  \n",
       "1488124            0         1               1  \n",
       "1488125            0         0               0  \n",
       "1488126            0         0               0  \n",
       "4336444            0         5               5  \n",
       "\n",
       "[4280526 rows x 9 columns]"
      ]
     },
     "execution_count": 15,
     "metadata": {},
     "output_type": "execute_result"
    }
   ],
   "source": [
    "tweets[\"tweet_activity\"] = tweets[\"comment_num\"] + tweets[\"like_num\"] + tweets[\"retweet_num\"]\n",
    "tweets"
   ]
  },
  {
   "attachments": {},
   "cell_type": "markdown",
   "metadata": {},
   "source": [
    "## Filter Tweets that are >= 50 activities"
   ]
  },
  {
   "cell_type": "code",
   "execution_count": 16,
   "metadata": {},
   "outputs": [],
   "source": [
    "filterTweets = tweets.loc[tweets[\"tweet_activity\"] > 50]"
   ]
  },
  {
   "cell_type": "code",
   "execution_count": 17,
   "metadata": {},
   "outputs": [
    {
     "data": {
      "text/html": [
       "<div>\n",
       "<style scoped>\n",
       "    .dataframe tbody tr th:only-of-type {\n",
       "        vertical-align: middle;\n",
       "    }\n",
       "\n",
       "    .dataframe tbody tr th {\n",
       "        vertical-align: top;\n",
       "    }\n",
       "\n",
       "    .dataframe thead th {\n",
       "        text-align: right;\n",
       "    }\n",
       "</style>\n",
       "<table border=\"1\" class=\"dataframe\">\n",
       "  <thead>\n",
       "    <tr style=\"text-align: right;\">\n",
       "      <th></th>\n",
       "      <th>tweet_id</th>\n",
       "      <th>ticker_symbol</th>\n",
       "      <th>writer</th>\n",
       "      <th>post_date</th>\n",
       "      <th>body</th>\n",
       "      <th>comment_num</th>\n",
       "      <th>retweet_num</th>\n",
       "      <th>like_num</th>\n",
       "      <th>tweet_activity</th>\n",
       "    </tr>\n",
       "  </thead>\n",
       "  <tbody>\n",
       "    <tr>\n",
       "      <th>3786974</th>\n",
       "      <td>1014983757252780033</td>\n",
       "      <td>TSLA</td>\n",
       "      <td>lopezlinette</td>\n",
       "      <td>2018-07-05</td>\n",
       "      <td>I’d just like to point out that right now, rig...</td>\n",
       "      <td>631</td>\n",
       "      <td>369</td>\n",
       "      <td>0</td>\n",
       "      <td>1000</td>\n",
       "    </tr>\n",
       "    <tr>\n",
       "      <th>4112626</th>\n",
       "      <td>1118989675257978880</td>\n",
       "      <td>TSLA</td>\n",
       "      <td>GerberKawasaki</td>\n",
       "      <td>2019-04-18</td>\n",
       "      <td>If a Tesla saves you $200 a month on gas, you ...</td>\n",
       "      <td>567</td>\n",
       "      <td>0</td>\n",
       "      <td>0</td>\n",
       "      <td>567</td>\n",
       "    </tr>\n",
       "    <tr>\n",
       "      <th>4306536</th>\n",
       "      <td>1199424478536753155</td>\n",
       "      <td>TSLA</td>\n",
       "      <td>AlexSibila</td>\n",
       "      <td>2019-11-26</td>\n",
       "      <td>~Tesla feature request thread~Feel free to rep...</td>\n",
       "      <td>563</td>\n",
       "      <td>48</td>\n",
       "      <td>662</td>\n",
       "      <td>1273</td>\n",
       "    </tr>\n",
       "    <tr>\n",
       "      <th>2823018</th>\n",
       "      <td>885933344487342082</td>\n",
       "      <td>AMZN</td>\n",
       "      <td>internet_dust</td>\n",
       "      <td>2017-07-14</td>\n",
       "      <td>\"I sell books.\" versus \"I sell whatever the fu...</td>\n",
       "      <td>496</td>\n",
       "      <td>0</td>\n",
       "      <td>0</td>\n",
       "      <td>496</td>\n",
       "    </tr>\n",
       "    <tr>\n",
       "      <th>4182686</th>\n",
       "      <td>1138975188127834112</td>\n",
       "      <td>TSLA</td>\n",
       "      <td>TeslaNY</td>\n",
       "      <td>2019-06-13</td>\n",
       "      <td>“I think it's basically financially insane to ...</td>\n",
       "      <td>442</td>\n",
       "      <td>0</td>\n",
       "      <td>0</td>\n",
       "      <td>442</td>\n",
       "    </tr>\n",
       "  </tbody>\n",
       "</table>\n",
       "</div>"
      ],
      "text/plain": [
       "                    tweet_id ticker_symbol          writer  post_date  \\\n",
       "3786974  1014983757252780033          TSLA    lopezlinette 2018-07-05   \n",
       "4112626  1118989675257978880          TSLA  GerberKawasaki 2019-04-18   \n",
       "4306536  1199424478536753155          TSLA      AlexSibila 2019-11-26   \n",
       "2823018   885933344487342082          AMZN   internet_dust 2017-07-14   \n",
       "4182686  1138975188127834112          TSLA         TeslaNY 2019-06-13   \n",
       "\n",
       "                                                      body  comment_num  \\\n",
       "3786974  I’d just like to point out that right now, rig...          631   \n",
       "4112626  If a Tesla saves you $200 a month on gas, you ...          567   \n",
       "4306536  ~Tesla feature request thread~Feel free to rep...          563   \n",
       "2823018  \"I sell books.\" versus \"I sell whatever the fu...          496   \n",
       "4182686  “I think it's basically financially insane to ...          442   \n",
       "\n",
       "         retweet_num  like_num  tweet_activity  \n",
       "3786974          369         0            1000  \n",
       "4112626            0         0             567  \n",
       "4306536           48       662            1273  \n",
       "2823018            0         0             496  \n",
       "4182686            0         0             442  "
      ]
     },
     "execution_count": 17,
     "metadata": {},
     "output_type": "execute_result"
    }
   ],
   "source": [
    "filterTweets.head()"
   ]
  },
  {
   "cell_type": "code",
   "execution_count": 18,
   "metadata": {},
   "outputs": [
    {
     "name": "stdout",
     "output_type": "stream",
     "text": [
      "<class 'pandas.core.frame.DataFrame'>\n",
      "Int64Index: 41625 entries, 3786974 to 1488017\n",
      "Data columns (total 9 columns):\n",
      " #   Column          Non-Null Count  Dtype         \n",
      "---  ------          --------------  -----         \n",
      " 0   tweet_id        41625 non-null  int64         \n",
      " 1   ticker_symbol   41625 non-null  object        \n",
      " 2   writer          41625 non-null  object        \n",
      " 3   post_date       41625 non-null  datetime64[ns]\n",
      " 4   body            41625 non-null  object        \n",
      " 5   comment_num     41625 non-null  int64         \n",
      " 6   retweet_num     41625 non-null  int64         \n",
      " 7   like_num        41625 non-null  int64         \n",
      " 8   tweet_activity  41625 non-null  int64         \n",
      "dtypes: datetime64[ns](1), int64(5), object(3)\n",
      "memory usage: 3.2+ MB\n",
      " Dataset Information and type \n",
      " None\n",
      "--------------------------------------------------------\n",
      "\n",
      " Data Types: \n",
      "tweet_id                   int64\n",
      "ticker_symbol             object\n",
      "writer                    object\n",
      "post_date         datetime64[ns]\n",
      "body                      object\n",
      "comment_num                int64\n",
      "retweet_num                int64\n",
      "like_num                   int64\n",
      "tweet_activity             int64\n",
      "dtype: object\n",
      "--------------------------------------------------------\n",
      "\n",
      " Rows and Columns: \n",
      "(41625, 9)\n",
      "--------------------------------------------------------\n",
      "\n",
      " Column Names: \n",
      "Index(['tweet_id', 'ticker_symbol', 'writer', 'post_date', 'body',\n",
      "       'comment_num', 'retweet_num', 'like_num', 'tweet_activity'],\n",
      "      dtype='object')\n",
      "--------------------------------------------------------\n",
      "\n",
      " Null Values: \n",
      "tweet_id          0.0\n",
      "ticker_symbol     0.0\n",
      "writer            0.0\n",
      "post_date         0.0\n",
      "body              0.0\n",
      "comment_num       0.0\n",
      "retweet_num       0.0\n",
      "like_num          0.0\n",
      "tweet_activity    0.0\n",
      "dtype: float64\n",
      "--------------------------------------------------------\n",
      "\n",
      " Unique Values: \n",
      "tweet_id          38420\n",
      "ticker_symbol         6\n",
      "writer             2797\n",
      "post_date          1746\n",
      "body              38085\n",
      "comment_num         191\n",
      "retweet_num         509\n",
      "like_num            783\n",
      "tweet_activity      967\n",
      "dtype: int64\n",
      "--------------------------------------------------------\n",
      "\n",
      " Describe: \n",
      "           tweet_id   comment_num   retweet_num      like_num  tweet_activity\n",
      "count  4.162500e+04  41625.000000  41625.000000  41625.000000    41625.000000\n",
      "mean   1.049881e+18      9.375808     29.118775     94.410907      132.905489\n",
      "std    1.361704e+17     15.281991     63.833735     98.093655      134.698745\n",
      "min    5.504536e+17      0.000000      0.000000      0.000000       51.000000\n",
      "25%    1.016411e+18      3.000000      7.000000     46.000000       64.000000\n",
      "50%    1.081987e+18      6.000000     14.000000     64.000000       88.000000\n",
      "75%    1.138579e+18     11.000000     29.000000    102.000000      142.000000\n",
      "max    1.212129e+18    631.000000    999.000000    999.000000     1703.000000\n"
     ]
    }
   ],
   "source": [
    "datasetInfo(filterTweets)"
   ]
  },
  {
   "attachments": {},
   "cell_type": "markdown",
   "metadata": {},
   "source": [
    "### Data Cleaning and Tokenization of text body"
   ]
  },
  {
   "cell_type": "code",
   "execution_count": 19,
   "metadata": {},
   "outputs": [],
   "source": [
    "from nltk.corpus import stopwords\n",
    "\n",
    "def removeStopWords(df):\n",
    "    finalList = []\n",
    "    stop_words = set(stopwords.words('english'))\n",
    "    for word in df:\n",
    "        if word not in stop_words:\n",
    "            finalList.append(word)\n",
    "    df = finalList\n",
    "    return df"
   ]
  },
  {
   "cell_type": "code",
   "execution_count": 20,
   "metadata": {},
   "outputs": [],
   "source": [
    "from nltk.stem.porter import *\n",
    "\n",
    "def stem_text(text):\n",
    "    \n",
    "    stemmer = PorterStemmer()\n",
    "    stemmed_words = [stemmer.stem(word) for word in text ]\n",
    "    \n",
    "    \n",
    "    return stemmed_words"
   ]
  },
  {
   "cell_type": "code",
   "execution_count": 21,
   "metadata": {},
   "outputs": [],
   "source": [
    "import pandas as pd\n",
    "import re\n",
    "\n",
    "\n",
    "\n",
    "def clean_dataframe_text(df, column):\n",
    "    \n",
    "    \n",
    "    # Remove any non-alphanumeric characters and replace them with spaces\n",
    "    df[column] = df[column].apply(lambda x: re.sub(r\"(\\w+)'d\", lambda m: 'would' if m.group(1) in ['he', 'she', 'it', 'that'] else 'had', x))\n",
    "    \n",
    "    # Replace 's with 'is' or 'has'\n",
    "    df[column] = df[column].apply(lambda x: re.sub(r\"(\\w+)'s\", lambda m: 'is' if m.group(1) in ['he', 'she', 'it'] else 'has', x))\n",
    "    \n",
    "    # Remove any non-alphanumeric characters and replace them with spaces\n",
    "    df[column] = df[column].apply(lambda x: re.sub(r'[^\\w\\s]', '', x))\n",
    "    \n",
    "    # Replace any consecutive whitespace characters with a single space\n",
    "    df[column] = df[column].apply(lambda x: re.sub(r'\\s+', ' ', x))\n",
    "    \n",
    "    df[column] = df[column].apply(lambda x: re.sub(r'[^\\w\\s]', ' ', x))\n",
    "    \n",
    "    # Replace any consecutive whitespace characters with a single space\n",
    "    df[column] = df[column].apply(lambda x: re.sub(r'\\s+', ' ', x))\n",
    "    \n",
    "    df[column] = df[column].apply(lambda x: re.sub(r'\\d+', '', x))\n",
    "    \n",
    "    # Convert the string in lower\n",
    "    df[column] = df[column].str.lower()\n",
    "    \n",
    "    # Tokenised the words\n",
    "    df[column]  = df[column].apply(lambda x : nltk.word_tokenize(x))\n",
    "\n",
    "    # Remove stopwords from the NLTK stopword list\n",
    "    df[column] = df[column].apply(lambda x : removeStopWords(x))\n",
    "    \n",
    "    # Porter Stemmer\n",
    "    df[column] = df[column].apply(lambda x : stem_text(x))\n",
    "    \n",
    "    #concatenate the tokenised list into string\n",
    "    df[column] = df[column].apply(lambda x: ' '.join(x))\n",
    "    \n",
    "      \n",
    "    return df"
   ]
  },
  {
   "cell_type": "code",
   "execution_count": 22,
   "metadata": {},
   "outputs": [
    {
     "name": "stderr",
     "output_type": "stream",
     "text": [
      "C:\\Users\\eric2\\AppData\\Local\\Temp\\ipykernel_17940\\1351365136.py:10: SettingWithCopyWarning: \n",
      "A value is trying to be set on a copy of a slice from a DataFrame.\n",
      "Try using .loc[row_indexer,col_indexer] = value instead\n",
      "\n",
      "See the caveats in the documentation: https://pandas.pydata.org/pandas-docs/stable/user_guide/indexing.html#returning-a-view-versus-a-copy\n",
      "  df[column] = df[column].apply(lambda x: re.sub(r\"(\\w+)'d\", lambda m: 'would' if m.group(1) in ['he', 'she', 'it', 'that'] else 'had', x))\n",
      "C:\\Users\\eric2\\AppData\\Local\\Temp\\ipykernel_17940\\1351365136.py:13: SettingWithCopyWarning: \n",
      "A value is trying to be set on a copy of a slice from a DataFrame.\n",
      "Try using .loc[row_indexer,col_indexer] = value instead\n",
      "\n",
      "See the caveats in the documentation: https://pandas.pydata.org/pandas-docs/stable/user_guide/indexing.html#returning-a-view-versus-a-copy\n",
      "  df[column] = df[column].apply(lambda x: re.sub(r\"(\\w+)'s\", lambda m: 'is' if m.group(1) in ['he', 'she', 'it'] else 'has', x))\n",
      "C:\\Users\\eric2\\AppData\\Local\\Temp\\ipykernel_17940\\1351365136.py:16: SettingWithCopyWarning: \n",
      "A value is trying to be set on a copy of a slice from a DataFrame.\n",
      "Try using .loc[row_indexer,col_indexer] = value instead\n",
      "\n",
      "See the caveats in the documentation: https://pandas.pydata.org/pandas-docs/stable/user_guide/indexing.html#returning-a-view-versus-a-copy\n",
      "  df[column] = df[column].apply(lambda x: re.sub(r'[^\\w\\s]', '', x))\n",
      "C:\\Users\\eric2\\AppData\\Local\\Temp\\ipykernel_17940\\1351365136.py:19: SettingWithCopyWarning: \n",
      "A value is trying to be set on a copy of a slice from a DataFrame.\n",
      "Try using .loc[row_indexer,col_indexer] = value instead\n",
      "\n",
      "See the caveats in the documentation: https://pandas.pydata.org/pandas-docs/stable/user_guide/indexing.html#returning-a-view-versus-a-copy\n",
      "  df[column] = df[column].apply(lambda x: re.sub(r'\\s+', ' ', x))\n",
      "C:\\Users\\eric2\\AppData\\Local\\Temp\\ipykernel_17940\\1351365136.py:21: SettingWithCopyWarning: \n",
      "A value is trying to be set on a copy of a slice from a DataFrame.\n",
      "Try using .loc[row_indexer,col_indexer] = value instead\n",
      "\n",
      "See the caveats in the documentation: https://pandas.pydata.org/pandas-docs/stable/user_guide/indexing.html#returning-a-view-versus-a-copy\n",
      "  df[column] = df[column].apply(lambda x: re.sub(r'[^\\w\\s]', ' ', x))\n",
      "C:\\Users\\eric2\\AppData\\Local\\Temp\\ipykernel_17940\\1351365136.py:24: SettingWithCopyWarning: \n",
      "A value is trying to be set on a copy of a slice from a DataFrame.\n",
      "Try using .loc[row_indexer,col_indexer] = value instead\n",
      "\n",
      "See the caveats in the documentation: https://pandas.pydata.org/pandas-docs/stable/user_guide/indexing.html#returning-a-view-versus-a-copy\n",
      "  df[column] = df[column].apply(lambda x: re.sub(r'\\s+', ' ', x))\n",
      "C:\\Users\\eric2\\AppData\\Local\\Temp\\ipykernel_17940\\1351365136.py:26: SettingWithCopyWarning: \n",
      "A value is trying to be set on a copy of a slice from a DataFrame.\n",
      "Try using .loc[row_indexer,col_indexer] = value instead\n",
      "\n",
      "See the caveats in the documentation: https://pandas.pydata.org/pandas-docs/stable/user_guide/indexing.html#returning-a-view-versus-a-copy\n",
      "  df[column] = df[column].apply(lambda x: re.sub(r'\\d+', '', x))\n",
      "C:\\Users\\eric2\\AppData\\Local\\Temp\\ipykernel_17940\\1351365136.py:29: SettingWithCopyWarning: \n",
      "A value is trying to be set on a copy of a slice from a DataFrame.\n",
      "Try using .loc[row_indexer,col_indexer] = value instead\n",
      "\n",
      "See the caveats in the documentation: https://pandas.pydata.org/pandas-docs/stable/user_guide/indexing.html#returning-a-view-versus-a-copy\n",
      "  df[column] = df[column].str.lower()\n",
      "C:\\Users\\eric2\\AppData\\Local\\Temp\\ipykernel_17940\\1351365136.py:32: SettingWithCopyWarning: \n",
      "A value is trying to be set on a copy of a slice from a DataFrame.\n",
      "Try using .loc[row_indexer,col_indexer] = value instead\n",
      "\n",
      "See the caveats in the documentation: https://pandas.pydata.org/pandas-docs/stable/user_guide/indexing.html#returning-a-view-versus-a-copy\n",
      "  df[column]  = df[column].apply(lambda x : nltk.word_tokenize(x))\n",
      "C:\\Users\\eric2\\AppData\\Local\\Temp\\ipykernel_17940\\1351365136.py:35: SettingWithCopyWarning: \n",
      "A value is trying to be set on a copy of a slice from a DataFrame.\n",
      "Try using .loc[row_indexer,col_indexer] = value instead\n",
      "\n",
      "See the caveats in the documentation: https://pandas.pydata.org/pandas-docs/stable/user_guide/indexing.html#returning-a-view-versus-a-copy\n",
      "  df[column] = df[column].apply(lambda x : removeStopWords(x))\n",
      "C:\\Users\\eric2\\AppData\\Local\\Temp\\ipykernel_17940\\1351365136.py:38: SettingWithCopyWarning: \n",
      "A value is trying to be set on a copy of a slice from a DataFrame.\n",
      "Try using .loc[row_indexer,col_indexer] = value instead\n",
      "\n",
      "See the caveats in the documentation: https://pandas.pydata.org/pandas-docs/stable/user_guide/indexing.html#returning-a-view-versus-a-copy\n",
      "  df[column] = df[column].apply(lambda x : stem_text(x))\n",
      "C:\\Users\\eric2\\AppData\\Local\\Temp\\ipykernel_17940\\1351365136.py:41: SettingWithCopyWarning: \n",
      "A value is trying to be set on a copy of a slice from a DataFrame.\n",
      "Try using .loc[row_indexer,col_indexer] = value instead\n",
      "\n",
      "See the caveats in the documentation: https://pandas.pydata.org/pandas-docs/stable/user_guide/indexing.html#returning-a-view-versus-a-copy\n",
      "  df[column] = df[column].apply(lambda x: ' '.join(x))\n"
     ]
    },
    {
     "data": {
      "text/html": [
       "<div>\n",
       "<style scoped>\n",
       "    .dataframe tbody tr th:only-of-type {\n",
       "        vertical-align: middle;\n",
       "    }\n",
       "\n",
       "    .dataframe tbody tr th {\n",
       "        vertical-align: top;\n",
       "    }\n",
       "\n",
       "    .dataframe thead th {\n",
       "        text-align: right;\n",
       "    }\n",
       "</style>\n",
       "<table border=\"1\" class=\"dataframe\">\n",
       "  <thead>\n",
       "    <tr style=\"text-align: right;\">\n",
       "      <th></th>\n",
       "      <th>tweet_id</th>\n",
       "      <th>ticker_symbol</th>\n",
       "      <th>writer</th>\n",
       "      <th>post_date</th>\n",
       "      <th>body</th>\n",
       "      <th>comment_num</th>\n",
       "      <th>retweet_num</th>\n",
       "      <th>like_num</th>\n",
       "      <th>tweet_activity</th>\n",
       "    </tr>\n",
       "  </thead>\n",
       "  <tbody>\n",
       "    <tr>\n",
       "      <th>3786974</th>\n",
       "      <td>1014983757252780033</td>\n",
       "      <td>TSLA</td>\n",
       "      <td>lopezlinette</td>\n",
       "      <td>2018-07-05</td>\n",
       "      <td>id like point right right moment elonmusk go f...</td>\n",
       "      <td>631</td>\n",
       "      <td>369</td>\n",
       "      <td>0</td>\n",
       "      <td>1000</td>\n",
       "    </tr>\n",
       "    <tr>\n",
       "      <th>4112626</th>\n",
       "      <td>1118989675257978880</td>\n",
       "      <td>TSLA</td>\n",
       "      <td>GerberKawasaki</td>\n",
       "      <td>2019-04-18</td>\n",
       "      <td>tesla save month ga ten year take save put bal...</td>\n",
       "      <td>567</td>\n",
       "      <td>0</td>\n",
       "      <td>0</td>\n",
       "      <td>567</td>\n",
       "    </tr>\n",
       "    <tr>\n",
       "      <th>4306536</th>\n",
       "      <td>1199424478536753155</td>\n",
       "      <td>TSLA</td>\n",
       "      <td>AlexSibila</td>\n",
       "      <td>2019-11-26</td>\n",
       "      <td>tesla featur request threadfeel free repli ill...</td>\n",
       "      <td>563</td>\n",
       "      <td>48</td>\n",
       "      <td>662</td>\n",
       "      <td>1273</td>\n",
       "    </tr>\n",
       "    <tr>\n",
       "      <th>2823018</th>\n",
       "      <td>885933344487342082</td>\n",
       "      <td>AMZN</td>\n",
       "      <td>internet_dust</td>\n",
       "      <td>2017-07-14</td>\n",
       "      <td>sell book versu sell whatev fuck want amzn</td>\n",
       "      <td>496</td>\n",
       "      <td>0</td>\n",
       "      <td>0</td>\n",
       "      <td>496</td>\n",
       "    </tr>\n",
       "    <tr>\n",
       "      <th>4182686</th>\n",
       "      <td>1138975188127834112</td>\n",
       "      <td>TSLA</td>\n",
       "      <td>TeslaNY</td>\n",
       "      <td>2019-06-13</td>\n",
       "      <td>think basic financi insan buy anyth except ele...</td>\n",
       "      <td>442</td>\n",
       "      <td>0</td>\n",
       "      <td>0</td>\n",
       "      <td>442</td>\n",
       "    </tr>\n",
       "    <tr>\n",
       "      <th>...</th>\n",
       "      <td>...</td>\n",
       "      <td>...</td>\n",
       "      <td>...</td>\n",
       "      <td>...</td>\n",
       "      <td>...</td>\n",
       "      <td>...</td>\n",
       "      <td>...</td>\n",
       "      <td>...</td>\n",
       "      <td>...</td>\n",
       "    </tr>\n",
       "    <tr>\n",
       "      <th>1498488</th>\n",
       "      <td>1063566557677146112</td>\n",
       "      <td>AAPL</td>\n",
       "      <td>financialbuzz</td>\n",
       "      <td>2018-11-16</td>\n",
       "      <td>watch us report live floor nyse week weekli wr...</td>\n",
       "      <td>0</td>\n",
       "      <td>126</td>\n",
       "      <td>80</td>\n",
       "      <td>206</td>\n",
       "    </tr>\n",
       "    <tr>\n",
       "      <th>1498489</th>\n",
       "      <td>1063566683720175616</td>\n",
       "      <td>AAPL</td>\n",
       "      <td>financialbuzz</td>\n",
       "      <td>2018-11-16</td>\n",
       "      <td>watch us report live floor nyse week weekli wr...</td>\n",
       "      <td>0</td>\n",
       "      <td>86</td>\n",
       "      <td>62</td>\n",
       "      <td>148</td>\n",
       "    </tr>\n",
       "    <tr>\n",
       "      <th>1498490</th>\n",
       "      <td>1063566957956349952</td>\n",
       "      <td>AAPL</td>\n",
       "      <td>financialbuzz</td>\n",
       "      <td>2018-11-16</td>\n",
       "      <td>watch us report live floor nyse week weekli wr...</td>\n",
       "      <td>0</td>\n",
       "      <td>117</td>\n",
       "      <td>41</td>\n",
       "      <td>158</td>\n",
       "    </tr>\n",
       "    <tr>\n",
       "      <th>1482004</th>\n",
       "      <td>1058502476406632448</td>\n",
       "      <td>AAPL</td>\n",
       "      <td>financialbuzz</td>\n",
       "      <td>2018-11-02</td>\n",
       "      <td>watch us report live floor nyse week weekli wr...</td>\n",
       "      <td>0</td>\n",
       "      <td>155</td>\n",
       "      <td>0</td>\n",
       "      <td>155</td>\n",
       "    </tr>\n",
       "    <tr>\n",
       "      <th>1488017</th>\n",
       "      <td>1060549081418948609</td>\n",
       "      <td>AAPL</td>\n",
       "      <td>appleinsider</td>\n",
       "      <td>2018-11-08</td>\n",
       "      <td>servic grow billion per year say analyst aapl ...</td>\n",
       "      <td>0</td>\n",
       "      <td>10</td>\n",
       "      <td>45</td>\n",
       "      <td>55</td>\n",
       "    </tr>\n",
       "  </tbody>\n",
       "</table>\n",
       "<p>41625 rows × 9 columns</p>\n",
       "</div>"
      ],
      "text/plain": [
       "                    tweet_id ticker_symbol          writer  post_date  \\\n",
       "3786974  1014983757252780033          TSLA    lopezlinette 2018-07-05   \n",
       "4112626  1118989675257978880          TSLA  GerberKawasaki 2019-04-18   \n",
       "4306536  1199424478536753155          TSLA      AlexSibila 2019-11-26   \n",
       "2823018   885933344487342082          AMZN   internet_dust 2017-07-14   \n",
       "4182686  1138975188127834112          TSLA         TeslaNY 2019-06-13   \n",
       "...                      ...           ...             ...        ...   \n",
       "1498488  1063566557677146112          AAPL   financialbuzz 2018-11-16   \n",
       "1498489  1063566683720175616          AAPL   financialbuzz 2018-11-16   \n",
       "1498490  1063566957956349952          AAPL   financialbuzz 2018-11-16   \n",
       "1482004  1058502476406632448          AAPL   financialbuzz 2018-11-02   \n",
       "1488017  1060549081418948609          AAPL    appleinsider 2018-11-08   \n",
       "\n",
       "                                                      body  comment_num  \\\n",
       "3786974  id like point right right moment elonmusk go f...          631   \n",
       "4112626  tesla save month ga ten year take save put bal...          567   \n",
       "4306536  tesla featur request threadfeel free repli ill...          563   \n",
       "2823018         sell book versu sell whatev fuck want amzn          496   \n",
       "4182686  think basic financi insan buy anyth except ele...          442   \n",
       "...                                                    ...          ...   \n",
       "1498488  watch us report live floor nyse week weekli wr...            0   \n",
       "1498489  watch us report live floor nyse week weekli wr...            0   \n",
       "1498490  watch us report live floor nyse week weekli wr...            0   \n",
       "1482004  watch us report live floor nyse week weekli wr...            0   \n",
       "1488017  servic grow billion per year say analyst aapl ...            0   \n",
       "\n",
       "         retweet_num  like_num  tweet_activity  \n",
       "3786974          369         0            1000  \n",
       "4112626            0         0             567  \n",
       "4306536           48       662            1273  \n",
       "2823018            0         0             496  \n",
       "4182686            0         0             442  \n",
       "...              ...       ...             ...  \n",
       "1498488          126        80             206  \n",
       "1498489           86        62             148  \n",
       "1498490          117        41             158  \n",
       "1482004          155         0             155  \n",
       "1488017           10        45              55  \n",
       "\n",
       "[41625 rows x 9 columns]"
      ]
     },
     "execution_count": 22,
     "metadata": {},
     "output_type": "execute_result"
    }
   ],
   "source": [
    "clean_dataframe_text(filterTweets,\"body\")"
   ]
  },
  {
   "cell_type": "code",
   "execution_count": 23,
   "metadata": {},
   "outputs": [
    {
     "data": {
      "text/html": [
       "<div>\n",
       "<style scoped>\n",
       "    .dataframe tbody tr th:only-of-type {\n",
       "        vertical-align: middle;\n",
       "    }\n",
       "\n",
       "    .dataframe tbody tr th {\n",
       "        vertical-align: top;\n",
       "    }\n",
       "\n",
       "    .dataframe thead th {\n",
       "        text-align: right;\n",
       "    }\n",
       "</style>\n",
       "<table border=\"1\" class=\"dataframe\">\n",
       "  <thead>\n",
       "    <tr style=\"text-align: right;\">\n",
       "      <th></th>\n",
       "      <th>tweet_id</th>\n",
       "      <th>ticker_symbol</th>\n",
       "      <th>writer</th>\n",
       "      <th>post_date</th>\n",
       "      <th>body</th>\n",
       "      <th>comment_num</th>\n",
       "      <th>retweet_num</th>\n",
       "      <th>like_num</th>\n",
       "      <th>tweet_activity</th>\n",
       "    </tr>\n",
       "  </thead>\n",
       "  <tbody>\n",
       "    <tr>\n",
       "      <th>3786974</th>\n",
       "      <td>1014983757252780033</td>\n",
       "      <td>TSLA</td>\n",
       "      <td>lopezlinette</td>\n",
       "      <td>2018-07-05</td>\n",
       "      <td>id like point right right moment elonmusk go f...</td>\n",
       "      <td>631</td>\n",
       "      <td>369</td>\n",
       "      <td>0</td>\n",
       "      <td>1000</td>\n",
       "    </tr>\n",
       "    <tr>\n",
       "      <th>4112626</th>\n",
       "      <td>1118989675257978880</td>\n",
       "      <td>TSLA</td>\n",
       "      <td>GerberKawasaki</td>\n",
       "      <td>2019-04-18</td>\n",
       "      <td>tesla save month ga ten year take save put bal...</td>\n",
       "      <td>567</td>\n",
       "      <td>0</td>\n",
       "      <td>0</td>\n",
       "      <td>567</td>\n",
       "    </tr>\n",
       "    <tr>\n",
       "      <th>4306536</th>\n",
       "      <td>1199424478536753155</td>\n",
       "      <td>TSLA</td>\n",
       "      <td>AlexSibila</td>\n",
       "      <td>2019-11-26</td>\n",
       "      <td>tesla featur request threadfeel free repli ill...</td>\n",
       "      <td>563</td>\n",
       "      <td>48</td>\n",
       "      <td>662</td>\n",
       "      <td>1273</td>\n",
       "    </tr>\n",
       "    <tr>\n",
       "      <th>2823018</th>\n",
       "      <td>885933344487342082</td>\n",
       "      <td>AMZN</td>\n",
       "      <td>internet_dust</td>\n",
       "      <td>2017-07-14</td>\n",
       "      <td>sell book versu sell whatev fuck want amzn</td>\n",
       "      <td>496</td>\n",
       "      <td>0</td>\n",
       "      <td>0</td>\n",
       "      <td>496</td>\n",
       "    </tr>\n",
       "    <tr>\n",
       "      <th>4182686</th>\n",
       "      <td>1138975188127834112</td>\n",
       "      <td>TSLA</td>\n",
       "      <td>TeslaNY</td>\n",
       "      <td>2019-06-13</td>\n",
       "      <td>think basic financi insan buy anyth except ele...</td>\n",
       "      <td>442</td>\n",
       "      <td>0</td>\n",
       "      <td>0</td>\n",
       "      <td>442</td>\n",
       "    </tr>\n",
       "    <tr>\n",
       "      <th>...</th>\n",
       "      <td>...</td>\n",
       "      <td>...</td>\n",
       "      <td>...</td>\n",
       "      <td>...</td>\n",
       "      <td>...</td>\n",
       "      <td>...</td>\n",
       "      <td>...</td>\n",
       "      <td>...</td>\n",
       "      <td>...</td>\n",
       "    </tr>\n",
       "    <tr>\n",
       "      <th>1498488</th>\n",
       "      <td>1063566557677146112</td>\n",
       "      <td>AAPL</td>\n",
       "      <td>financialbuzz</td>\n",
       "      <td>2018-11-16</td>\n",
       "      <td>watch us report live floor nyse week weekli wr...</td>\n",
       "      <td>0</td>\n",
       "      <td>126</td>\n",
       "      <td>80</td>\n",
       "      <td>206</td>\n",
       "    </tr>\n",
       "    <tr>\n",
       "      <th>1498489</th>\n",
       "      <td>1063566683720175616</td>\n",
       "      <td>AAPL</td>\n",
       "      <td>financialbuzz</td>\n",
       "      <td>2018-11-16</td>\n",
       "      <td>watch us report live floor nyse week weekli wr...</td>\n",
       "      <td>0</td>\n",
       "      <td>86</td>\n",
       "      <td>62</td>\n",
       "      <td>148</td>\n",
       "    </tr>\n",
       "    <tr>\n",
       "      <th>1498490</th>\n",
       "      <td>1063566957956349952</td>\n",
       "      <td>AAPL</td>\n",
       "      <td>financialbuzz</td>\n",
       "      <td>2018-11-16</td>\n",
       "      <td>watch us report live floor nyse week weekli wr...</td>\n",
       "      <td>0</td>\n",
       "      <td>117</td>\n",
       "      <td>41</td>\n",
       "      <td>158</td>\n",
       "    </tr>\n",
       "    <tr>\n",
       "      <th>1482004</th>\n",
       "      <td>1058502476406632448</td>\n",
       "      <td>AAPL</td>\n",
       "      <td>financialbuzz</td>\n",
       "      <td>2018-11-02</td>\n",
       "      <td>watch us report live floor nyse week weekli wr...</td>\n",
       "      <td>0</td>\n",
       "      <td>155</td>\n",
       "      <td>0</td>\n",
       "      <td>155</td>\n",
       "    </tr>\n",
       "    <tr>\n",
       "      <th>1488017</th>\n",
       "      <td>1060549081418948609</td>\n",
       "      <td>AAPL</td>\n",
       "      <td>appleinsider</td>\n",
       "      <td>2018-11-08</td>\n",
       "      <td>servic grow billion per year say analyst aapl ...</td>\n",
       "      <td>0</td>\n",
       "      <td>10</td>\n",
       "      <td>45</td>\n",
       "      <td>55</td>\n",
       "    </tr>\n",
       "  </tbody>\n",
       "</table>\n",
       "<p>41625 rows × 9 columns</p>\n",
       "</div>"
      ],
      "text/plain": [
       "                    tweet_id ticker_symbol          writer  post_date  \\\n",
       "3786974  1014983757252780033          TSLA    lopezlinette 2018-07-05   \n",
       "4112626  1118989675257978880          TSLA  GerberKawasaki 2019-04-18   \n",
       "4306536  1199424478536753155          TSLA      AlexSibila 2019-11-26   \n",
       "2823018   885933344487342082          AMZN   internet_dust 2017-07-14   \n",
       "4182686  1138975188127834112          TSLA         TeslaNY 2019-06-13   \n",
       "...                      ...           ...             ...        ...   \n",
       "1498488  1063566557677146112          AAPL   financialbuzz 2018-11-16   \n",
       "1498489  1063566683720175616          AAPL   financialbuzz 2018-11-16   \n",
       "1498490  1063566957956349952          AAPL   financialbuzz 2018-11-16   \n",
       "1482004  1058502476406632448          AAPL   financialbuzz 2018-11-02   \n",
       "1488017  1060549081418948609          AAPL    appleinsider 2018-11-08   \n",
       "\n",
       "                                                      body  comment_num  \\\n",
       "3786974  id like point right right moment elonmusk go f...          631   \n",
       "4112626  tesla save month ga ten year take save put bal...          567   \n",
       "4306536  tesla featur request threadfeel free repli ill...          563   \n",
       "2823018         sell book versu sell whatev fuck want amzn          496   \n",
       "4182686  think basic financi insan buy anyth except ele...          442   \n",
       "...                                                    ...          ...   \n",
       "1498488  watch us report live floor nyse week weekli wr...            0   \n",
       "1498489  watch us report live floor nyse week weekli wr...            0   \n",
       "1498490  watch us report live floor nyse week weekli wr...            0   \n",
       "1482004  watch us report live floor nyse week weekli wr...            0   \n",
       "1488017  servic grow billion per year say analyst aapl ...            0   \n",
       "\n",
       "         retweet_num  like_num  tweet_activity  \n",
       "3786974          369         0            1000  \n",
       "4112626            0         0             567  \n",
       "4306536           48       662            1273  \n",
       "2823018            0         0             496  \n",
       "4182686            0         0             442  \n",
       "...              ...       ...             ...  \n",
       "1498488          126        80             206  \n",
       "1498489           86        62             148  \n",
       "1498490          117        41             158  \n",
       "1482004          155         0             155  \n",
       "1488017           10        45              55  \n",
       "\n",
       "[41625 rows x 9 columns]"
      ]
     },
     "execution_count": 23,
     "metadata": {},
     "output_type": "execute_result"
    }
   ],
   "source": [
    "filterTweets"
   ]
  },
  {
   "cell_type": "code",
   "execution_count": 24,
   "metadata": {},
   "outputs": [],
   "source": [
    "# filterTweets[\"body\"].apply(lambda x : clean_tweet(x))\n",
    "# filterTweets[\"body\"].apply(lambda x : x.translate(str.maketrans('', '' , string.punctuation)))\n",
    "# filterTweets[\"body\"]\n",
    "# filterTweets[\"body\"].apply(lambda x : nltk.word_tokenize(x))"
   ]
  },
  {
   "cell_type": "code",
   "execution_count": 25,
   "metadata": {},
   "outputs": [
    {
     "data": {
      "text/plain": [
       "3786974    id like point right right moment elonmusk go f...\n",
       "4112626    tesla save month ga ten year take save put bal...\n",
       "4306536    tesla featur request threadfeel free repli ill...\n",
       "2823018           sell book versu sell whatev fuck want amzn\n",
       "4182686    think basic financi insan buy anyth except ele...\n",
       "Name: body, dtype: object"
      ]
     },
     "execution_count": 25,
     "metadata": {},
     "output_type": "execute_result"
    }
   ],
   "source": [
    "filterTweets[\"body\"].head()"
   ]
  },
  {
   "attachments": {},
   "cell_type": "markdown",
   "metadata": {},
   "source": [
    "### Tweet EDA"
   ]
  },
  {
   "cell_type": "code",
   "execution_count": 26,
   "metadata": {},
   "outputs": [
    {
     "data": {
      "text/plain": [
       "count           41625\n",
       "unique           2797\n",
       "top       TESLAcharts\n",
       "freq             2212\n",
       "Name: writer, dtype: object"
      ]
     },
     "execution_count": 26,
     "metadata": {},
     "output_type": "execute_result"
    }
   ],
   "source": [
    "filterTweets[\"writer\"].describe()\n"
   ]
  },
  {
   "attachments": {},
   "cell_type": "markdown",
   "metadata": {},
   "source": [
    "### Writer Data Exploration"
   ]
  },
  {
   "cell_type": "code",
   "execution_count": 27,
   "metadata": {},
   "outputs": [
    {
     "data": {
      "image/png": "[encoded data removed]",
      "text/plain": [
       "<Figure size 640x480 with 1 Axes>"
      ]
     },
     "metadata": {},
     "output_type": "display_data"
    }
   ],
   "source": [
    "\n",
    "counts = filterTweets[\"writer\"].value_counts()\n",
    "countsFilter = counts[counts > 400]\n",
    "countsFilter.plot(kind=\"bar\")\n",
    "\n",
    "plt.title(\"Top User Tweet Activities\")\n",
    "plt.ylabel(\"Number of Total Tweets\")\n",
    "plt.xlabel(\"Writer's Name\")\n",
    "plt.show()"
   ]
  },
  {
   "attachments": {},
   "cell_type": "markdown",
   "metadata": {},
   "source": [
    "Graph above shows the top writers that are active and have >100 posts"
   ]
  },
  {
   "cell_type": "code",
   "execution_count": 28,
   "metadata": {},
   "outputs": [
    {
     "data": {
      "text/plain": [
       "<AxesSubplot: ylabel='ticker_symbol'>"
      ]
     },
     "execution_count": 28,
     "metadata": {},
     "output_type": "execute_result"
    },
    {
     "data": {
      "image/png": "[encoded data removed]",
      "text/plain": [
       "<Figure size 640x480 with 1 Axes>"
      ]
     },
     "metadata": {},
     "output_type": "display_data"
    }
   ],
   "source": [
    "\n",
    "counts = filterTweets[\"ticker_symbol\"].value_counts()\n",
    "counts.plot(kind=\"pie\")"
   ]
  },
  {
   "cell_type": "markdown",
   "metadata": {},
   "source": [
    "Notice that there are more TSLA tweets in the dataset."
   ]
  },
  {
   "attachments": {},
   "cell_type": "markdown",
   "metadata": {},
   "source": [
    "### Active Tweets dates"
   ]
  },
  {
   "cell_type": "code",
   "execution_count": 29,
   "metadata": {},
   "outputs": [
    {
     "data": {
      "image/png": "[encoded data removed]",
      "text/plain": [
       "<Figure size 640x480 with 1 Axes>"
      ]
     },
     "metadata": {},
     "output_type": "display_data"
    }
   ],
   "source": [
    "count = filterTweets[\"post_date\"].value_counts()\n",
    "count\n",
    "filterCounts = count[count > 120]\n",
    "filterCounts.plot(kind = \"bar\")\n",
    "plt.title(\"Most number of Tweets in a Day\")\n",
    "plt.ylabel(\"Number of Tweets\")\n",
    "plt.xlabel(\"Date\")\n",
    "plt.show()"
   ]
  },
  {
   "cell_type": "markdown",
   "metadata": {},
   "source": [
    "Above bar graphs shows the highest tweets in the respective days"
   ]
  },
  {
   "attachments": {},
   "cell_type": "markdown",
   "metadata": {},
   "source": [
    "### Word Cloud of Tweets"
   ]
  },
  {
   "cell_type": "code",
   "execution_count": 30,
   "metadata": {},
   "outputs": [
    {
     "data": {
      "image/png": "[encoded data removed]",
      "text/plain": [
       "<Figure size 800x800 with 1 Axes>"
      ]
     },
     "metadata": {},
     "output_type": "display_data"
    }
   ],
   "source": [
    "text = \" \".join(filterTweets[\"body\"])\n",
    "wordcloud = WordCloud(width = 800, height = 800, background_color='white', max_words = 200)\n",
    "wordcloud.generate(text)\n",
    "\n",
    "plt.figure(figsize=(8, 8))\n",
    "plt.imshow(wordcloud)\n",
    "plt.axis(\"off\")\n",
    "plt.show()"
   ]
  },
  {
   "attachments": {},
   "cell_type": "markdown",
   "metadata": {},
   "source": [
    "From the word cloud we can tell that TSLA/TESLA and AAPL are common tweets in Twitter"
   ]
  },
  {
   "attachments": {},
   "cell_type": "markdown",
   "metadata": {},
   "source": [
    "# Polarity Detection"
   ]
  },
  {
   "attachments": {},
   "cell_type": "markdown",
   "metadata": {},
   "source": [
    "### Import Sentiment Analyser from NLTK"
   ]
  },
  {
   "cell_type": "code",
   "execution_count": 31,
   "metadata": {},
   "outputs": [],
   "source": [
    "from nltk.sentiment import SentimentIntensityAnalyzer"
   ]
  },
  {
   "cell_type": "code",
   "execution_count": 32,
   "metadata": {},
   "outputs": [],
   "source": [
    "analyser = SentimentIntensityAnalyzer()"
   ]
  },
  {
   "cell_type": "code",
   "execution_count": 33,
   "metadata": {},
   "outputs": [],
   "source": [
    "def getSentiment(body):\n",
    "    analyser = SentimentIntensityAnalyzer()\n",
    "    \n",
    "    assert body is not None\n",
    "    sentimentAnalysis = analyser.polarity_scores(body)\n",
    "    score = sentimentAnalysis['compound']\n",
    "    \n",
    "    if (score >= 0.05):\n",
    "        return \"Positive\"\n",
    "    elif (score < 0.05 and score > -0.05):\n",
    "        return \"Neutral\"\n",
    "    elif (score <= -0.05):\n",
    "        return \"Negative\"\n",
    "    \n",
    "    print(score)\n",
    "    "
   ]
  },
  {
   "cell_type": "code",
   "execution_count": 34,
   "metadata": {},
   "outputs": [
    {
     "name": "stderr",
     "output_type": "stream",
     "text": [
      "C:\\Users\\eric2\\AppData\\Local\\Temp\\ipykernel_17940\\1991431580.py:1: SettingWithCopyWarning: \n",
      "A value is trying to be set on a copy of a slice from a DataFrame.\n",
      "Try using .loc[row_indexer,col_indexer] = value instead\n",
      "\n",
      "See the caveats in the documentation: https://pandas.pydata.org/pandas-docs/stable/user_guide/indexing.html#returning-a-view-versus-a-copy\n",
      "  filterTweets['sentiment'] = filterTweets['body'].apply(lambda x : getSentiment(x))\n"
     ]
    },
    {
     "data": {
      "text/html": [
       "<div>\n",
       "<style scoped>\n",
       "    .dataframe tbody tr th:only-of-type {\n",
       "        vertical-align: middle;\n",
       "    }\n",
       "\n",
       "    .dataframe tbody tr th {\n",
       "        vertical-align: top;\n",
       "    }\n",
       "\n",
       "    .dataframe thead th {\n",
       "        text-align: right;\n",
       "    }\n",
       "</style>\n",
       "<table border=\"1\" class=\"dataframe\">\n",
       "  <thead>\n",
       "    <tr style=\"text-align: right;\">\n",
       "      <th></th>\n",
       "      <th>tweet_id</th>\n",
       "      <th>ticker_symbol</th>\n",
       "      <th>writer</th>\n",
       "      <th>post_date</th>\n",
       "      <th>body</th>\n",
       "      <th>comment_num</th>\n",
       "      <th>retweet_num</th>\n",
       "      <th>like_num</th>\n",
       "      <th>tweet_activity</th>\n",
       "      <th>sentiment</th>\n",
       "    </tr>\n",
       "  </thead>\n",
       "  <tbody>\n",
       "    <tr>\n",
       "      <th>3786974</th>\n",
       "      <td>1014983757252780033</td>\n",
       "      <td>TSLA</td>\n",
       "      <td>lopezlinette</td>\n",
       "      <td>2018-07-05</td>\n",
       "      <td>id like point right right moment elonmusk go f...</td>\n",
       "      <td>631</td>\n",
       "      <td>369</td>\n",
       "      <td>0</td>\n",
       "      <td>1000</td>\n",
       "      <td>Positive</td>\n",
       "    </tr>\n",
       "    <tr>\n",
       "      <th>4112626</th>\n",
       "      <td>1118989675257978880</td>\n",
       "      <td>TSLA</td>\n",
       "      <td>GerberKawasaki</td>\n",
       "      <td>2019-04-18</td>\n",
       "      <td>tesla save month ga ten year take save put bal...</td>\n",
       "      <td>567</td>\n",
       "      <td>0</td>\n",
       "      <td>0</td>\n",
       "      <td>567</td>\n",
       "      <td>Positive</td>\n",
       "    </tr>\n",
       "    <tr>\n",
       "      <th>4306536</th>\n",
       "      <td>1199424478536753155</td>\n",
       "      <td>TSLA</td>\n",
       "      <td>AlexSibila</td>\n",
       "      <td>2019-11-26</td>\n",
       "      <td>tesla featur request threadfeel free repli ill...</td>\n",
       "      <td>563</td>\n",
       "      <td>48</td>\n",
       "      <td>662</td>\n",
       "      <td>1273</td>\n",
       "      <td>Positive</td>\n",
       "    </tr>\n",
       "    <tr>\n",
       "      <th>2823018</th>\n",
       "      <td>885933344487342082</td>\n",
       "      <td>AMZN</td>\n",
       "      <td>internet_dust</td>\n",
       "      <td>2017-07-14</td>\n",
       "      <td>sell book versu sell whatev fuck want amzn</td>\n",
       "      <td>496</td>\n",
       "      <td>0</td>\n",
       "      <td>0</td>\n",
       "      <td>496</td>\n",
       "      <td>Negative</td>\n",
       "    </tr>\n",
       "    <tr>\n",
       "      <th>4182686</th>\n",
       "      <td>1138975188127834112</td>\n",
       "      <td>TSLA</td>\n",
       "      <td>TeslaNY</td>\n",
       "      <td>2019-06-13</td>\n",
       "      <td>think basic financi insan buy anyth except ele...</td>\n",
       "      <td>442</td>\n",
       "      <td>0</td>\n",
       "      <td>0</td>\n",
       "      <td>442</td>\n",
       "      <td>Positive</td>\n",
       "    </tr>\n",
       "    <tr>\n",
       "      <th>...</th>\n",
       "      <td>...</td>\n",
       "      <td>...</td>\n",
       "      <td>...</td>\n",
       "      <td>...</td>\n",
       "      <td>...</td>\n",
       "      <td>...</td>\n",
       "      <td>...</td>\n",
       "      <td>...</td>\n",
       "      <td>...</td>\n",
       "      <td>...</td>\n",
       "    </tr>\n",
       "    <tr>\n",
       "      <th>1498488</th>\n",
       "      <td>1063566557677146112</td>\n",
       "      <td>AAPL</td>\n",
       "      <td>financialbuzz</td>\n",
       "      <td>2018-11-16</td>\n",
       "      <td>watch us report live floor nyse week weekli wr...</td>\n",
       "      <td>0</td>\n",
       "      <td>126</td>\n",
       "      <td>80</td>\n",
       "      <td>206</td>\n",
       "      <td>Neutral</td>\n",
       "    </tr>\n",
       "    <tr>\n",
       "      <th>1498489</th>\n",
       "      <td>1063566683720175616</td>\n",
       "      <td>AAPL</td>\n",
       "      <td>financialbuzz</td>\n",
       "      <td>2018-11-16</td>\n",
       "      <td>watch us report live floor nyse week weekli wr...</td>\n",
       "      <td>0</td>\n",
       "      <td>86</td>\n",
       "      <td>62</td>\n",
       "      <td>148</td>\n",
       "      <td>Neutral</td>\n",
       "    </tr>\n",
       "    <tr>\n",
       "      <th>1498490</th>\n",
       "      <td>1063566957956349952</td>\n",
       "      <td>AAPL</td>\n",
       "      <td>financialbuzz</td>\n",
       "      <td>2018-11-16</td>\n",
       "      <td>watch us report live floor nyse week weekli wr...</td>\n",
       "      <td>0</td>\n",
       "      <td>117</td>\n",
       "      <td>41</td>\n",
       "      <td>158</td>\n",
       "      <td>Neutral</td>\n",
       "    </tr>\n",
       "    <tr>\n",
       "      <th>1482004</th>\n",
       "      <td>1058502476406632448</td>\n",
       "      <td>AAPL</td>\n",
       "      <td>financialbuzz</td>\n",
       "      <td>2018-11-02</td>\n",
       "      <td>watch us report live floor nyse week weekli wr...</td>\n",
       "      <td>0</td>\n",
       "      <td>155</td>\n",
       "      <td>0</td>\n",
       "      <td>155</td>\n",
       "      <td>Positive</td>\n",
       "    </tr>\n",
       "    <tr>\n",
       "      <th>1488017</th>\n",
       "      <td>1060549081418948609</td>\n",
       "      <td>AAPL</td>\n",
       "      <td>appleinsider</td>\n",
       "      <td>2018-11-08</td>\n",
       "      <td>servic grow billion per year say analyst aapl ...</td>\n",
       "      <td>0</td>\n",
       "      <td>10</td>\n",
       "      <td>45</td>\n",
       "      <td>55</td>\n",
       "      <td>Neutral</td>\n",
       "    </tr>\n",
       "  </tbody>\n",
       "</table>\n",
       "<p>41625 rows × 10 columns</p>\n",
       "</div>"
      ],
      "text/plain": [
       "                    tweet_id ticker_symbol          writer  post_date  \\\n",
       "3786974  1014983757252780033          TSLA    lopezlinette 2018-07-05   \n",
       "4112626  1118989675257978880          TSLA  GerberKawasaki 2019-04-18   \n",
       "4306536  1199424478536753155          TSLA      AlexSibila 2019-11-26   \n",
       "2823018   885933344487342082          AMZN   internet_dust 2017-07-14   \n",
       "4182686  1138975188127834112          TSLA         TeslaNY 2019-06-13   \n",
       "...                      ...           ...             ...        ...   \n",
       "1498488  1063566557677146112          AAPL   financialbuzz 2018-11-16   \n",
       "1498489  1063566683720175616          AAPL   financialbuzz 2018-11-16   \n",
       "1498490  1063566957956349952          AAPL   financialbuzz 2018-11-16   \n",
       "1482004  1058502476406632448          AAPL   financialbuzz 2018-11-02   \n",
       "1488017  1060549081418948609          AAPL    appleinsider 2018-11-08   \n",
       "\n",
       "                                                      body  comment_num  \\\n",
       "3786974  id like point right right moment elonmusk go f...          631   \n",
       "4112626  tesla save month ga ten year take save put bal...          567   \n",
       "4306536  tesla featur request threadfeel free repli ill...          563   \n",
       "2823018         sell book versu sell whatev fuck want amzn          496   \n",
       "4182686  think basic financi insan buy anyth except ele...          442   \n",
       "...                                                    ...          ...   \n",
       "1498488  watch us report live floor nyse week weekli wr...            0   \n",
       "1498489  watch us report live floor nyse week weekli wr...            0   \n",
       "1498490  watch us report live floor nyse week weekli wr...            0   \n",
       "1482004  watch us report live floor nyse week weekli wr...            0   \n",
       "1488017  servic grow billion per year say analyst aapl ...            0   \n",
       "\n",
       "         retweet_num  like_num  tweet_activity sentiment  \n",
       "3786974          369         0            1000  Positive  \n",
       "4112626            0         0             567  Positive  \n",
       "4306536           48       662            1273  Positive  \n",
       "2823018            0         0             496  Negative  \n",
       "4182686            0         0             442  Positive  \n",
       "...              ...       ...             ...       ...  \n",
       "1498488          126        80             206   Neutral  \n",
       "1498489           86        62             148   Neutral  \n",
       "1498490          117        41             158   Neutral  \n",
       "1482004          155         0             155  Positive  \n",
       "1488017           10        45              55   Neutral  \n",
       "\n",
       "[41625 rows x 10 columns]"
      ]
     },
     "execution_count": 34,
     "metadata": {},
     "output_type": "execute_result"
    }
   ],
   "source": [
    "filterTweets['sentiment'] = filterTweets['body'].apply(lambda x : getSentiment(x))\n",
    "\n",
    "filterTweets\n"
   ]
  },
  {
   "attachments": {},
   "cell_type": "markdown",
   "metadata": {},
   "source": [
    "### Testing out TextBlob Sentimental Analysis"
   ]
  },
  {
   "cell_type": "code",
   "execution_count": 35,
   "metadata": {},
   "outputs": [],
   "source": [
    "from textblob import TextBlob"
   ]
  },
  {
   "cell_type": "code",
   "execution_count": 36,
   "metadata": {},
   "outputs": [],
   "source": [
    "# Function to use TextBlob (Sentimental Analysis [Objectivity & Polarity])\n",
    "\n",
    "def add_sentiment_scores_blob(df, text_column, polarity_threshold = 0.0 , subjectivity_threshold = 0.5):\n",
    "    # Compute polarity and subjectivity scores for each row in the specified text column\n",
    "    scores = df[text_column].apply(lambda x: TextBlob(x).sentiment)\n",
    "    \n",
    "    # Add two new columns to the DataFrame for the polarity and subjectivity scores\n",
    "    df['blob_polarity'] = scores.apply(lambda x: x.polarity)\n",
    "    df['blob_subjectivity'] = scores.apply(lambda x: x.subjectivity)\n",
    "    \n",
    "    # Convert polarity score to class (positive, neutral, or negative) based on the specified threshold\n",
    "    df['blob_polarity'] = df['blob_polarity'].apply(lambda x: 'Positive' if x > polarity_threshold else 'Negative' if x < -polarity_threshold else 'Neutral')\n",
    "    \n",
    "    # Convert subjectivity score to class (subjective or objective) based on the specified threshold\n",
    "    df['blob_subjectivity'] = df['blob_subjectivity'].apply(lambda x: 'Subjective' if x > subjectivity_threshold else 'Objective')\n",
    "    \n",
    "    return df\n",
    "    \n",
    "    "
   ]
  },
  {
   "cell_type": "code",
   "execution_count": 37,
   "metadata": {},
   "outputs": [
    {
     "name": "stderr",
     "output_type": "stream",
     "text": [
      "C:\\Users\\eric2\\AppData\\Local\\Temp\\ipykernel_17940\\2951990553.py:8: SettingWithCopyWarning: \n",
      "A value is trying to be set on a copy of a slice from a DataFrame.\n",
      "Try using .loc[row_indexer,col_indexer] = value instead\n",
      "\n",
      "See the caveats in the documentation: https://pandas.pydata.org/pandas-docs/stable/user_guide/indexing.html#returning-a-view-versus-a-copy\n",
      "  df['blob_polarity'] = scores.apply(lambda x: x.polarity)\n",
      "C:\\Users\\eric2\\AppData\\Local\\Temp\\ipykernel_17940\\2951990553.py:9: SettingWithCopyWarning: \n",
      "A value is trying to be set on a copy of a slice from a DataFrame.\n",
      "Try using .loc[row_indexer,col_indexer] = value instead\n",
      "\n",
      "See the caveats in the documentation: https://pandas.pydata.org/pandas-docs/stable/user_guide/indexing.html#returning-a-view-versus-a-copy\n",
      "  df['blob_subjectivity'] = scores.apply(lambda x: x.subjectivity)\n",
      "C:\\Users\\eric2\\AppData\\Local\\Temp\\ipykernel_17940\\2951990553.py:12: SettingWithCopyWarning: \n",
      "A value is trying to be set on a copy of a slice from a DataFrame.\n",
      "Try using .loc[row_indexer,col_indexer] = value instead\n",
      "\n",
      "See the caveats in the documentation: https://pandas.pydata.org/pandas-docs/stable/user_guide/indexing.html#returning-a-view-versus-a-copy\n",
      "  df['blob_polarity'] = df['blob_polarity'].apply(lambda x: 'Positive' if x > polarity_threshold else 'Negative' if x < -polarity_threshold else 'Neutral')\n",
      "C:\\Users\\eric2\\AppData\\Local\\Temp\\ipykernel_17940\\2951990553.py:15: SettingWithCopyWarning: \n",
      "A value is trying to be set on a copy of a slice from a DataFrame.\n",
      "Try using .loc[row_indexer,col_indexer] = value instead\n",
      "\n",
      "See the caveats in the documentation: https://pandas.pydata.org/pandas-docs/stable/user_guide/indexing.html#returning-a-view-versus-a-copy\n",
      "  df['blob_subjectivity'] = df['blob_subjectivity'].apply(lambda x: 'Subjective' if x > subjectivity_threshold else 'Objective')\n"
     ]
    },
    {
     "data": {
      "text/html": [
       "<div>\n",
       "<style scoped>\n",
       "    .dataframe tbody tr th:only-of-type {\n",
       "        vertical-align: middle;\n",
       "    }\n",
       "\n",
       "    .dataframe tbody tr th {\n",
       "        vertical-align: top;\n",
       "    }\n",
       "\n",
       "    .dataframe thead th {\n",
       "        text-align: right;\n",
       "    }\n",
       "</style>\n",
       "<table border=\"1\" class=\"dataframe\">\n",
       "  <thead>\n",
       "    <tr style=\"text-align: right;\">\n",
       "      <th></th>\n",
       "      <th>tweet_id</th>\n",
       "      <th>ticker_symbol</th>\n",
       "      <th>writer</th>\n",
       "      <th>post_date</th>\n",
       "      <th>body</th>\n",
       "      <th>comment_num</th>\n",
       "      <th>retweet_num</th>\n",
       "      <th>like_num</th>\n",
       "      <th>tweet_activity</th>\n",
       "      <th>sentiment</th>\n",
       "      <th>blob_polarity</th>\n",
       "      <th>blob_subjectivity</th>\n",
       "    </tr>\n",
       "  </thead>\n",
       "  <tbody>\n",
       "    <tr>\n",
       "      <th>3786974</th>\n",
       "      <td>1014983757252780033</td>\n",
       "      <td>TSLA</td>\n",
       "      <td>lopezlinette</td>\n",
       "      <td>2018-07-05</td>\n",
       "      <td>id like point right right moment elonmusk go f...</td>\n",
       "      <td>631</td>\n",
       "      <td>369</td>\n",
       "      <td>0</td>\n",
       "      <td>1000</td>\n",
       "      <td>Positive</td>\n",
       "      <td>Positive</td>\n",
       "      <td>Subjective</td>\n",
       "    </tr>\n",
       "    <tr>\n",
       "      <th>4112626</th>\n",
       "      <td>1118989675257978880</td>\n",
       "      <td>TSLA</td>\n",
       "      <td>GerberKawasaki</td>\n",
       "      <td>2019-04-18</td>\n",
       "      <td>tesla save month ga ten year take save put bal...</td>\n",
       "      <td>567</td>\n",
       "      <td>0</td>\n",
       "      <td>0</td>\n",
       "      <td>567</td>\n",
       "      <td>Positive</td>\n",
       "      <td>Positive</td>\n",
       "      <td>Objective</td>\n",
       "    </tr>\n",
       "    <tr>\n",
       "      <th>4306536</th>\n",
       "      <td>1199424478536753155</td>\n",
       "      <td>TSLA</td>\n",
       "      <td>AlexSibila</td>\n",
       "      <td>2019-11-26</td>\n",
       "      <td>tesla featur request threadfeel free repli ill...</td>\n",
       "      <td>563</td>\n",
       "      <td>48</td>\n",
       "      <td>662</td>\n",
       "      <td>1273</td>\n",
       "      <td>Positive</td>\n",
       "      <td>Negative</td>\n",
       "      <td>Subjective</td>\n",
       "    </tr>\n",
       "    <tr>\n",
       "      <th>2823018</th>\n",
       "      <td>885933344487342082</td>\n",
       "      <td>AMZN</td>\n",
       "      <td>internet_dust</td>\n",
       "      <td>2017-07-14</td>\n",
       "      <td>sell book versu sell whatev fuck want amzn</td>\n",
       "      <td>496</td>\n",
       "      <td>0</td>\n",
       "      <td>0</td>\n",
       "      <td>496</td>\n",
       "      <td>Negative</td>\n",
       "      <td>Negative</td>\n",
       "      <td>Subjective</td>\n",
       "    </tr>\n",
       "    <tr>\n",
       "      <th>4182686</th>\n",
       "      <td>1138975188127834112</td>\n",
       "      <td>TSLA</td>\n",
       "      <td>TeslaNY</td>\n",
       "      <td>2019-06-13</td>\n",
       "      <td>think basic financi insan buy anyth except ele...</td>\n",
       "      <td>442</td>\n",
       "      <td>0</td>\n",
       "      <td>0</td>\n",
       "      <td>442</td>\n",
       "      <td>Positive</td>\n",
       "      <td>Negative</td>\n",
       "      <td>Objective</td>\n",
       "    </tr>\n",
       "    <tr>\n",
       "      <th>...</th>\n",
       "      <td>...</td>\n",
       "      <td>...</td>\n",
       "      <td>...</td>\n",
       "      <td>...</td>\n",
       "      <td>...</td>\n",
       "      <td>...</td>\n",
       "      <td>...</td>\n",
       "      <td>...</td>\n",
       "      <td>...</td>\n",
       "      <td>...</td>\n",
       "      <td>...</td>\n",
       "      <td>...</td>\n",
       "    </tr>\n",
       "    <tr>\n",
       "      <th>1498488</th>\n",
       "      <td>1063566557677146112</td>\n",
       "      <td>AAPL</td>\n",
       "      <td>financialbuzz</td>\n",
       "      <td>2018-11-16</td>\n",
       "      <td>watch us report live floor nyse week weekli wr...</td>\n",
       "      <td>0</td>\n",
       "      <td>126</td>\n",
       "      <td>80</td>\n",
       "      <td>206</td>\n",
       "      <td>Neutral</td>\n",
       "      <td>Positive</td>\n",
       "      <td>Objective</td>\n",
       "    </tr>\n",
       "    <tr>\n",
       "      <th>1498489</th>\n",
       "      <td>1063566683720175616</td>\n",
       "      <td>AAPL</td>\n",
       "      <td>financialbuzz</td>\n",
       "      <td>2018-11-16</td>\n",
       "      <td>watch us report live floor nyse week weekli wr...</td>\n",
       "      <td>0</td>\n",
       "      <td>86</td>\n",
       "      <td>62</td>\n",
       "      <td>148</td>\n",
       "      <td>Neutral</td>\n",
       "      <td>Positive</td>\n",
       "      <td>Objective</td>\n",
       "    </tr>\n",
       "    <tr>\n",
       "      <th>1498490</th>\n",
       "      <td>1063566957956349952</td>\n",
       "      <td>AAPL</td>\n",
       "      <td>financialbuzz</td>\n",
       "      <td>2018-11-16</td>\n",
       "      <td>watch us report live floor nyse week weekli wr...</td>\n",
       "      <td>0</td>\n",
       "      <td>117</td>\n",
       "      <td>41</td>\n",
       "      <td>158</td>\n",
       "      <td>Neutral</td>\n",
       "      <td>Positive</td>\n",
       "      <td>Objective</td>\n",
       "    </tr>\n",
       "    <tr>\n",
       "      <th>1482004</th>\n",
       "      <td>1058502476406632448</td>\n",
       "      <td>AAPL</td>\n",
       "      <td>financialbuzz</td>\n",
       "      <td>2018-11-02</td>\n",
       "      <td>watch us report live floor nyse week weekli wr...</td>\n",
       "      <td>0</td>\n",
       "      <td>155</td>\n",
       "      <td>0</td>\n",
       "      <td>155</td>\n",
       "      <td>Positive</td>\n",
       "      <td>Positive</td>\n",
       "      <td>Objective</td>\n",
       "    </tr>\n",
       "    <tr>\n",
       "      <th>1488017</th>\n",
       "      <td>1060549081418948609</td>\n",
       "      <td>AAPL</td>\n",
       "      <td>appleinsider</td>\n",
       "      <td>2018-11-08</td>\n",
       "      <td>servic grow billion per year say analyst aapl ...</td>\n",
       "      <td>0</td>\n",
       "      <td>10</td>\n",
       "      <td>45</td>\n",
       "      <td>55</td>\n",
       "      <td>Neutral</td>\n",
       "      <td>Neutral</td>\n",
       "      <td>Objective</td>\n",
       "    </tr>\n",
       "  </tbody>\n",
       "</table>\n",
       "<p>41625 rows × 12 columns</p>\n",
       "</div>"
      ],
      "text/plain": [
       "                    tweet_id ticker_symbol          writer  post_date  \\\n",
       "3786974  1014983757252780033          TSLA    lopezlinette 2018-07-05   \n",
       "4112626  1118989675257978880          TSLA  GerberKawasaki 2019-04-18   \n",
       "4306536  1199424478536753155          TSLA      AlexSibila 2019-11-26   \n",
       "2823018   885933344487342082          AMZN   internet_dust 2017-07-14   \n",
       "4182686  1138975188127834112          TSLA         TeslaNY 2019-06-13   \n",
       "...                      ...           ...             ...        ...   \n",
       "1498488  1063566557677146112          AAPL   financialbuzz 2018-11-16   \n",
       "1498489  1063566683720175616          AAPL   financialbuzz 2018-11-16   \n",
       "1498490  1063566957956349952          AAPL   financialbuzz 2018-11-16   \n",
       "1482004  1058502476406632448          AAPL   financialbuzz 2018-11-02   \n",
       "1488017  1060549081418948609          AAPL    appleinsider 2018-11-08   \n",
       "\n",
       "                                                      body  comment_num  \\\n",
       "3786974  id like point right right moment elonmusk go f...          631   \n",
       "4112626  tesla save month ga ten year take save put bal...          567   \n",
       "4306536  tesla featur request threadfeel free repli ill...          563   \n",
       "2823018         sell book versu sell whatev fuck want amzn          496   \n",
       "4182686  think basic financi insan buy anyth except ele...          442   \n",
       "...                                                    ...          ...   \n",
       "1498488  watch us report live floor nyse week weekli wr...            0   \n",
       "1498489  watch us report live floor nyse week weekli wr...            0   \n",
       "1498490  watch us report live floor nyse week weekli wr...            0   \n",
       "1482004  watch us report live floor nyse week weekli wr...            0   \n",
       "1488017  servic grow billion per year say analyst aapl ...            0   \n",
       "\n",
       "         retweet_num  like_num  tweet_activity sentiment blob_polarity  \\\n",
       "3786974          369         0            1000  Positive      Positive   \n",
       "4112626            0         0             567  Positive      Positive   \n",
       "4306536           48       662            1273  Positive      Negative   \n",
       "2823018            0         0             496  Negative      Negative   \n",
       "4182686            0         0             442  Positive      Negative   \n",
       "...              ...       ...             ...       ...           ...   \n",
       "1498488          126        80             206   Neutral      Positive   \n",
       "1498489           86        62             148   Neutral      Positive   \n",
       "1498490          117        41             158   Neutral      Positive   \n",
       "1482004          155         0             155  Positive      Positive   \n",
       "1488017           10        45              55   Neutral       Neutral   \n",
       "\n",
       "        blob_subjectivity  \n",
       "3786974        Subjective  \n",
       "4112626         Objective  \n",
       "4306536        Subjective  \n",
       "2823018        Subjective  \n",
       "4182686         Objective  \n",
       "...                   ...  \n",
       "1498488         Objective  \n",
       "1498489         Objective  \n",
       "1498490         Objective  \n",
       "1482004         Objective  \n",
       "1488017         Objective  \n",
       "\n",
       "[41625 rows x 12 columns]"
      ]
     },
     "execution_count": 37,
     "metadata": {},
     "output_type": "execute_result"
    }
   ],
   "source": [
    "add_sentiment_scores_blob(filterTweets,\"body\", 0.0, 0.5)"
   ]
  },
  {
   "attachments": {},
   "cell_type": "markdown",
   "metadata": {},
   "source": [
    "### Convert Positive, Negative and Neutral to numeral labels"
   ]
  },
  {
   "cell_type": "code",
   "execution_count": 38,
   "metadata": {},
   "outputs": [],
   "source": [
    "sentiment_map = {\"Positive\": 1, \"Negative\": 0, \"Neutral\": 2}"
   ]
  },
  {
   "cell_type": "code",
   "execution_count": 39,
   "metadata": {},
   "outputs": [
    {
     "name": "stderr",
     "output_type": "stream",
     "text": [
      "C:\\Users\\eric2\\AppData\\Local\\Temp\\ipykernel_17940\\3903232632.py:1: SettingWithCopyWarning: \n",
      "A value is trying to be set on a copy of a slice from a DataFrame\n",
      "\n",
      "See the caveats in the documentation: https://pandas.pydata.org/pandas-docs/stable/user_guide/indexing.html#returning-a-view-versus-a-copy\n",
      "  filterTweets[\"sentiment\"].replace(sentiment_map, inplace = True)\n",
      "C:\\Users\\eric2\\AppData\\Local\\Temp\\ipykernel_17940\\3903232632.py:2: SettingWithCopyWarning: \n",
      "A value is trying to be set on a copy of a slice from a DataFrame\n",
      "\n",
      "See the caveats in the documentation: https://pandas.pydata.org/pandas-docs/stable/user_guide/indexing.html#returning-a-view-versus-a-copy\n",
      "  filterTweets[\"blob_polarity\"].replace(sentiment_map, inplace = True)\n"
     ]
    }
   ],
   "source": [
    "filterTweets[\"sentiment\"].replace(sentiment_map, inplace = True)\n",
    "filterTweets[\"blob_polarity\"].replace(sentiment_map, inplace = True)"
   ]
  },
  {
   "attachments": {},
   "cell_type": "markdown",
   "metadata": {},
   "source": [
    "### Splitting up data for Prediction using ensemble machine learning models For NLTK.Sentiment Analysis"
   ]
  },
  {
   "cell_type": "code",
   "execution_count": 40,
   "metadata": {},
   "outputs": [],
   "source": [
    "X = filterTweets[\"body\"] #[\"ticker_symbol\",\"writer\" , \"body\"]\n",
    "y = filterTweets[\"sentiment\"]\n",
    "X_train, X_test, y_train, y_test = train_test_split(\n",
    "    X, y, test_size=0.25, random_state=0)"
   ]
  },
  {
   "cell_type": "code",
   "execution_count": 41,
   "metadata": {},
   "outputs": [
    {
     "name": "stdout",
     "output_type": "stream",
     "text": [
      "<class 'pandas.core.series.Series'>\n",
      "Int64Index: 31218 entries, 4261783 to 1436407\n",
      "Series name: body\n",
      "Non-Null Count  Dtype \n",
      "--------------  ----- \n",
      "31218 non-null  object\n",
      "dtypes: object(1)\n",
      "memory usage: 487.8+ KB\n"
     ]
    },
    {
     "data": {
      "text/plain": [
       "4261783    patheticthat tesla attempt deliv car condition...\n",
       "4111496    sourc tsla pare lose amid report tesla unoffic...\n",
       "1573703    big earn week amzn aapl amd fb msft baba tsla ...\n",
       "3954714    thread chart puzzl ih markit registr data tsla...\n",
       "1581966    watch us report live floor nyse week weekli wr...\n",
       "Name: body, dtype: object"
      ]
     },
     "execution_count": 41,
     "metadata": {},
     "output_type": "execute_result"
    }
   ],
   "source": [
    "X_train.info()\n",
    "X_train.head()"
   ]
  },
  {
   "cell_type": "code",
   "execution_count": 42,
   "metadata": {},
   "outputs": [
    {
     "name": "stdout",
     "output_type": "stream",
     "text": [
      "<class 'pandas.core.series.Series'>\n",
      "Int64Index: 10407 entries, 4076760 to 3742364\n",
      "Series name: body\n",
      "Non-Null Count  Dtype \n",
      "--------------  ----- \n",
      "10407 non-null  object\n",
      "dtypes: object(1)\n",
      "memory usage: 162.6+ KB\n"
     ]
    },
    {
     "data": {
      "text/plain": [
       "4076760    great writeup potenti recoveri bondhold bankru...\n",
       "4226495    tsla competit kill dealer ipac inventori pile ...\n",
       "4321661    rais hand agre let tsla beta test danger softw...\n",
       "2494776    good interview brilliant p_ferragu like intc a...\n",
       "4056663                              realli classi move tsla\n",
       "Name: body, dtype: object"
      ]
     },
     "execution_count": 42,
     "metadata": {},
     "output_type": "execute_result"
    }
   ],
   "source": [
    "X_test.info()\n",
    "X_test.head()"
   ]
  },
  {
   "cell_type": "code",
   "execution_count": 43,
   "metadata": {},
   "outputs": [
    {
     "name": "stdout",
     "output_type": "stream",
     "text": [
      "<class 'pandas.core.series.Series'>\n",
      "Int64Index: 31218 entries, 4261783 to 1436407\n",
      "Series name: sentiment\n",
      "Non-Null Count  Dtype\n",
      "--------------  -----\n",
      "31218 non-null  int64\n",
      "dtypes: int64(1)\n",
      "memory usage: 487.8 KB\n"
     ]
    },
    {
     "data": {
      "text/plain": [
       "4261783    1\n",
       "4111496    0\n",
       "1573703    2\n",
       "3954714    1\n",
       "1581966    2\n",
       "Name: sentiment, dtype: int64"
      ]
     },
     "execution_count": 43,
     "metadata": {},
     "output_type": "execute_result"
    }
   ],
   "source": [
    "y_train.info()\n",
    "y_train.head()"
   ]
  },
  {
   "cell_type": "code",
   "execution_count": 44,
   "metadata": {},
   "outputs": [
    {
     "name": "stdout",
     "output_type": "stream",
     "text": [
      "<class 'pandas.core.series.Series'>\n",
      "Int64Index: 10407 entries, 4076760 to 3742364\n",
      "Series name: sentiment\n",
      "Non-Null Count  Dtype\n",
      "--------------  -----\n",
      "10407 non-null  int64\n",
      "dtypes: int64(1)\n",
      "memory usage: 162.6 KB\n"
     ]
    },
    {
     "data": {
      "text/plain": [
       "4076760    1\n",
       "4226495    0\n",
       "4321661    0\n",
       "2494776    1\n",
       "4056663    2\n",
       "Name: sentiment, dtype: int64"
      ]
     },
     "execution_count": 44,
     "metadata": {},
     "output_type": "execute_result"
    }
   ],
   "source": [
    "y_test.info()\n",
    "y_test.head()\n"
   ]
  },
  {
   "cell_type": "code",
   "execution_count": 45,
   "metadata": {},
   "outputs": [
    {
     "data": {
      "text/plain": [
       "1    16655\n",
       "2    14886\n",
       "0    10084\n",
       "Name: sentiment, dtype: int64"
      ]
     },
     "execution_count": 45,
     "metadata": {},
     "output_type": "execute_result"
    }
   ],
   "source": [
    "filterTweets[\"sentiment\"].value_counts()"
   ]
  },
  {
   "attachments": {},
   "cell_type": "markdown",
   "metadata": {},
   "source": [
    "\n",
    "### Separating Neutral Sentiments and Opinionated Sentiments"
   ]
  },
  {
   "cell_type": "code",
   "execution_count": 46,
   "metadata": {},
   "outputs": [
    {
     "data": {
      "text/html": [
       "<div>\n",
       "<style scoped>\n",
       "    .dataframe tbody tr th:only-of-type {\n",
       "        vertical-align: middle;\n",
       "    }\n",
       "\n",
       "    .dataframe tbody tr th {\n",
       "        vertical-align: top;\n",
       "    }\n",
       "\n",
       "    .dataframe thead th {\n",
       "        text-align: right;\n",
       "    }\n",
       "</style>\n",
       "<table border=\"1\" class=\"dataframe\">\n",
       "  <thead>\n",
       "    <tr style=\"text-align: right;\">\n",
       "      <th></th>\n",
       "      <th>tweet_id</th>\n",
       "      <th>ticker_symbol</th>\n",
       "      <th>writer</th>\n",
       "      <th>post_date</th>\n",
       "      <th>body</th>\n",
       "      <th>comment_num</th>\n",
       "      <th>retweet_num</th>\n",
       "      <th>like_num</th>\n",
       "      <th>tweet_activity</th>\n",
       "      <th>sentiment</th>\n",
       "      <th>blob_polarity</th>\n",
       "      <th>blob_subjectivity</th>\n",
       "    </tr>\n",
       "  </thead>\n",
       "  <tbody>\n",
       "    <tr>\n",
       "      <th>3786974</th>\n",
       "      <td>1014983757252780033</td>\n",
       "      <td>TSLA</td>\n",
       "      <td>lopezlinette</td>\n",
       "      <td>2018-07-05</td>\n",
       "      <td>id like point right right moment elonmusk go f...</td>\n",
       "      <td>631</td>\n",
       "      <td>369</td>\n",
       "      <td>0</td>\n",
       "      <td>1000</td>\n",
       "      <td>1</td>\n",
       "      <td>1</td>\n",
       "      <td>Subjective</td>\n",
       "    </tr>\n",
       "    <tr>\n",
       "      <th>4112626</th>\n",
       "      <td>1118989675257978880</td>\n",
       "      <td>TSLA</td>\n",
       "      <td>GerberKawasaki</td>\n",
       "      <td>2019-04-18</td>\n",
       "      <td>tesla save month ga ten year take save put bal...</td>\n",
       "      <td>567</td>\n",
       "      <td>0</td>\n",
       "      <td>0</td>\n",
       "      <td>567</td>\n",
       "      <td>1</td>\n",
       "      <td>1</td>\n",
       "      <td>Objective</td>\n",
       "    </tr>\n",
       "    <tr>\n",
       "      <th>4306536</th>\n",
       "      <td>1199424478536753155</td>\n",
       "      <td>TSLA</td>\n",
       "      <td>AlexSibila</td>\n",
       "      <td>2019-11-26</td>\n",
       "      <td>tesla featur request threadfeel free repli ill...</td>\n",
       "      <td>563</td>\n",
       "      <td>48</td>\n",
       "      <td>662</td>\n",
       "      <td>1273</td>\n",
       "      <td>1</td>\n",
       "      <td>0</td>\n",
       "      <td>Subjective</td>\n",
       "    </tr>\n",
       "    <tr>\n",
       "      <th>2823018</th>\n",
       "      <td>885933344487342082</td>\n",
       "      <td>AMZN</td>\n",
       "      <td>internet_dust</td>\n",
       "      <td>2017-07-14</td>\n",
       "      <td>sell book versu sell whatev fuck want amzn</td>\n",
       "      <td>496</td>\n",
       "      <td>0</td>\n",
       "      <td>0</td>\n",
       "      <td>496</td>\n",
       "      <td>0</td>\n",
       "      <td>0</td>\n",
       "      <td>Subjective</td>\n",
       "    </tr>\n",
       "    <tr>\n",
       "      <th>4182686</th>\n",
       "      <td>1138975188127834112</td>\n",
       "      <td>TSLA</td>\n",
       "      <td>TeslaNY</td>\n",
       "      <td>2019-06-13</td>\n",
       "      <td>think basic financi insan buy anyth except ele...</td>\n",
       "      <td>442</td>\n",
       "      <td>0</td>\n",
       "      <td>0</td>\n",
       "      <td>442</td>\n",
       "      <td>1</td>\n",
       "      <td>0</td>\n",
       "      <td>Objective</td>\n",
       "    </tr>\n",
       "  </tbody>\n",
       "</table>\n",
       "</div>"
      ],
      "text/plain": [
       "                    tweet_id ticker_symbol          writer  post_date  \\\n",
       "3786974  1014983757252780033          TSLA    lopezlinette 2018-07-05   \n",
       "4112626  1118989675257978880          TSLA  GerberKawasaki 2019-04-18   \n",
       "4306536  1199424478536753155          TSLA      AlexSibila 2019-11-26   \n",
       "2823018   885933344487342082          AMZN   internet_dust 2017-07-14   \n",
       "4182686  1138975188127834112          TSLA         TeslaNY 2019-06-13   \n",
       "\n",
       "                                                      body  comment_num  \\\n",
       "3786974  id like point right right moment elonmusk go f...          631   \n",
       "4112626  tesla save month ga ten year take save put bal...          567   \n",
       "4306536  tesla featur request threadfeel free repli ill...          563   \n",
       "2823018         sell book versu sell whatev fuck want amzn          496   \n",
       "4182686  think basic financi insan buy anyth except ele...          442   \n",
       "\n",
       "         retweet_num  like_num  tweet_activity  sentiment  blob_polarity  \\\n",
       "3786974          369         0            1000          1              1   \n",
       "4112626            0         0             567          1              1   \n",
       "4306536           48       662            1273          1              0   \n",
       "2823018            0         0             496          0              0   \n",
       "4182686            0         0             442          1              0   \n",
       "\n",
       "        blob_subjectivity  \n",
       "3786974        Subjective  \n",
       "4112626         Objective  \n",
       "4306536        Subjective  \n",
       "2823018        Subjective  \n",
       "4182686         Objective  "
      ]
     },
     "execution_count": 46,
     "metadata": {},
     "output_type": "execute_result"
    }
   ],
   "source": [
    "opinionatedTweets = filterTweets.loc[filterTweets[\"sentiment\"]!= 2]\n",
    "opinionatedTweets.head()"
   ]
  },
  {
   "cell_type": "code",
   "execution_count": 47,
   "metadata": {},
   "outputs": [
    {
     "data": {
      "text/html": [
       "<div>\n",
       "<style scoped>\n",
       "    .dataframe tbody tr th:only-of-type {\n",
       "        vertical-align: middle;\n",
       "    }\n",
       "\n",
       "    .dataframe tbody tr th {\n",
       "        vertical-align: top;\n",
       "    }\n",
       "\n",
       "    .dataframe thead th {\n",
       "        text-align: right;\n",
       "    }\n",
       "</style>\n",
       "<table border=\"1\" class=\"dataframe\">\n",
       "  <thead>\n",
       "    <tr style=\"text-align: right;\">\n",
       "      <th></th>\n",
       "      <th>tweet_id</th>\n",
       "      <th>ticker_symbol</th>\n",
       "      <th>writer</th>\n",
       "      <th>post_date</th>\n",
       "      <th>body</th>\n",
       "      <th>comment_num</th>\n",
       "      <th>retweet_num</th>\n",
       "      <th>like_num</th>\n",
       "      <th>tweet_activity</th>\n",
       "      <th>sentiment</th>\n",
       "      <th>blob_polarity</th>\n",
       "      <th>blob_subjectivity</th>\n",
       "    </tr>\n",
       "  </thead>\n",
       "  <tbody>\n",
       "    <tr>\n",
       "      <th>4002464</th>\n",
       "      <td>1082182633948295168</td>\n",
       "      <td>TSLA</td>\n",
       "      <td>vincent13031925</td>\n",
       "      <td>2019-01-07</td>\n",
       "      <td>tesla ceo elonmusk shanghai mayor ying yong te...</td>\n",
       "      <td>318</td>\n",
       "      <td>0</td>\n",
       "      <td>0</td>\n",
       "      <td>318</td>\n",
       "      <td>2</td>\n",
       "      <td>2</td>\n",
       "      <td>Objective</td>\n",
       "    </tr>\n",
       "    <tr>\n",
       "      <th>4142690</th>\n",
       "      <td>1126183436144795649</td>\n",
       "      <td>TSLA</td>\n",
       "      <td>TeslaNY</td>\n",
       "      <td>2019-05-08</td>\n",
       "      <td>test product car ever crack second mph tesla s...</td>\n",
       "      <td>280</td>\n",
       "      <td>0</td>\n",
       "      <td>0</td>\n",
       "      <td>280</td>\n",
       "      <td>2</td>\n",
       "      <td>2</td>\n",
       "      <td>Objective</td>\n",
       "    </tr>\n",
       "    <tr>\n",
       "      <th>4301361</th>\n",
       "      <td>1197894016358060032</td>\n",
       "      <td>TSLA</td>\n",
       "      <td>carlquintanilla</td>\n",
       "      <td>2019-11-22</td>\n",
       "      <td>caption pleasetsla cybertruckvia teflongeek</td>\n",
       "      <td>276</td>\n",
       "      <td>27</td>\n",
       "      <td>201</td>\n",
       "      <td>504</td>\n",
       "      <td>2</td>\n",
       "      <td>2</td>\n",
       "      <td>Objective</td>\n",
       "    </tr>\n",
       "    <tr>\n",
       "      <th>1336141</th>\n",
       "      <td>993863874406420481</td>\n",
       "      <td>AAPL</td>\n",
       "      <td>philstockworld</td>\n",
       "      <td>2018-05-08</td>\n",
       "      <td>trillion dollar tuesday appl close histor valu...</td>\n",
       "      <td>213</td>\n",
       "      <td>489</td>\n",
       "      <td>387</td>\n",
       "      <td>1089</td>\n",
       "      <td>2</td>\n",
       "      <td>2</td>\n",
       "      <td>Objective</td>\n",
       "    </tr>\n",
       "    <tr>\n",
       "      <th>1568450</th>\n",
       "      <td>1087700913752600576</td>\n",
       "      <td>AAPL</td>\n",
       "      <td>jimcramer</td>\n",
       "      <td>2019-01-22</td>\n",
       "      <td>hatr aapl reject idea help custom healthcar wa...</td>\n",
       "      <td>204</td>\n",
       "      <td>66</td>\n",
       "      <td>757</td>\n",
       "      <td>1027</td>\n",
       "      <td>2</td>\n",
       "      <td>2</td>\n",
       "      <td>Objective</td>\n",
       "    </tr>\n",
       "  </tbody>\n",
       "</table>\n",
       "</div>"
      ],
      "text/plain": [
       "                    tweet_id ticker_symbol           writer  post_date  \\\n",
       "4002464  1082182633948295168          TSLA  vincent13031925 2019-01-07   \n",
       "4142690  1126183436144795649          TSLA          TeslaNY 2019-05-08   \n",
       "4301361  1197894016358060032          TSLA  carlquintanilla 2019-11-22   \n",
       "1336141   993863874406420481          AAPL   philstockworld 2018-05-08   \n",
       "1568450  1087700913752600576          AAPL        jimcramer 2019-01-22   \n",
       "\n",
       "                                                      body  comment_num  \\\n",
       "4002464  tesla ceo elonmusk shanghai mayor ying yong te...          318   \n",
       "4142690  test product car ever crack second mph tesla s...          280   \n",
       "4301361        caption pleasetsla cybertruckvia teflongeek          276   \n",
       "1336141  trillion dollar tuesday appl close histor valu...          213   \n",
       "1568450  hatr aapl reject idea help custom healthcar wa...          204   \n",
       "\n",
       "         retweet_num  like_num  tweet_activity  sentiment  blob_polarity  \\\n",
       "4002464            0         0             318          2              2   \n",
       "4142690            0         0             280          2              2   \n",
       "4301361           27       201             504          2              2   \n",
       "1336141          489       387            1089          2              2   \n",
       "1568450           66       757            1027          2              2   \n",
       "\n",
       "        blob_subjectivity  \n",
       "4002464         Objective  \n",
       "4142690         Objective  \n",
       "4301361         Objective  \n",
       "1336141         Objective  \n",
       "1568450         Objective  "
      ]
     },
     "execution_count": 47,
     "metadata": {},
     "output_type": "execute_result"
    }
   ],
   "source": [
    "neutralTweets = filterTweets.loc[filterTweets[\"sentiment\"] == 2]\n",
    "neutralTweets.head()"
   ]
  },
  {
   "attachments": {},
   "cell_type": "markdown",
   "metadata": {},
   "source": [
    "## Machine Learnining Model for NLTK Sentimental Analysis"
   ]
  },
  {
   "cell_type": "code",
   "execution_count": 48,
   "metadata": {},
   "outputs": [],
   "source": [
    "def metric_report(y_test,y_pred):\n",
    "    accuracy = accuracy_score(y_test,y_pred)\n",
    "    fmeasure = f1_score(y_test,y_pred, average = \"weighted\")\n",
    "    recall = recall_score(y_test, y_pred, average = \"weighted\")\n",
    "    precision = precision_score(y_test, y_pred, average = \"weighted\")\n",
    "    print(f\"The accuracy of the Model is {accuracy}\")\n",
    "    print(f\"The F-Score of the Model is {fmeasure}\")\n",
    "    print(f\"The Recall of the Model is {recall}\")\n",
    "    print(f\"The precision of the Model is {precision}\")"
   ]
  },
  {
   "attachments": {},
   "cell_type": "markdown",
   "metadata": {},
   "source": [
    "### Create a Naive_bayes Model"
   ]
  },
  {
   "cell_type": "code",
   "execution_count": 49,
   "metadata": {},
   "outputs": [],
   "source": [
    "from sklearn.feature_extraction.text import CountVectorizer\n",
    "from sklearn.naive_bayes import MultinomialNB\n",
    "from sklearn.metrics import accuracy_score"
   ]
  },
  {
   "cell_type": "code",
   "execution_count": 50,
   "metadata": {},
   "outputs": [
    {
     "name": "stdout",
     "output_type": "stream",
     "text": [
      "The accuracy of the Model is 0.7020274815028347\n",
      "The F-Score of the Model is 0.6966401786562404\n",
      "The Recall of the Model is 0.7020274815028347\n",
      "The precision of the Model is 0.735952627354848\n"
     ]
    }
   ],
   "source": [
    "vectoriser = CountVectorizer()\n",
    "\n",
    "X_train_vec = vectoriser.fit_transform(X_train)\n",
    "X_test_vec = vectoriser.transform(X_test)\n",
    "\n",
    "# Train the model using Naive Bayes algorithm\n",
    "clf = MultinomialNB()\n",
    "clf.fit(X_train_vec, y_train)\n",
    "\n",
    "# Make predictions on test data\n",
    "y_pred = clf.predict(X_test_vec)\n",
    "\n",
    "# Evaluate the model using accuracy score\n",
    "metric_report(y_test,y_pred)"
   ]
  },
  {
   "attachments": {},
   "cell_type": "markdown",
   "metadata": {},
   "source": [
    "### Create a Decision Tree Classifier"
   ]
  },
  {
   "cell_type": "code",
   "execution_count": 51,
   "metadata": {},
   "outputs": [
    {
     "name": "stdout",
     "output_type": "stream",
     "text": [
      "The accuracy of the Model is 0.8796963582204286\n",
      "The F-Score of the Model is 0.8786291306432888\n",
      "The Recall of the Model is 0.8796963582204286\n",
      "The precision of the Model is 0.8783628103090642\n"
     ]
    }
   ],
   "source": [
    "clf = DecisionTreeClassifier()\n",
    "clf.fit(X_train_vec,y_train)\n",
    "\n",
    "y_pred = clf.predict(X_test_vec)\n",
    "\n",
    "metric_report(y_test,y_pred)\n"
   ]
  },
  {
   "attachments": {},
   "cell_type": "markdown",
   "metadata": {},
   "source": [
    "### Create a Ensemble Learning Classifier\n"
   ]
  },
  {
   "cell_type": "code",
   "execution_count": 52,
   "metadata": {},
   "outputs": [],
   "source": [
    "from sklearn.ensemble import VotingClassifier\n",
    "from sklearn.ensemble import RandomForestClassifier\n",
    "from sklearn.svm import SVC"
   ]
  },
  {
   "cell_type": "code",
   "execution_count": 53,
   "metadata": {},
   "outputs": [
    {
     "name": "stdout",
     "output_type": "stream",
     "text": [
      "The accuracy of the Model is 0.8856538868069569\n",
      "The F-Score of the Model is 0.8828415505008178\n",
      "The Recall of the Model is 0.8856538868069569\n",
      "The precision of the Model is 0.8858143355662933\n"
     ]
    }
   ],
   "source": [
    "clf1 = DecisionTreeClassifier()\n",
    "clf2 = RandomForestClassifier()\n",
    "clf3 = SVC()\n",
    "\n",
    "# Create the ensemble classifier\n",
    "ensemble = VotingClassifier(estimators=[('dt', clf1), ('rf', clf2), ('svc', clf3)], voting='hard')\n",
    "\n",
    "# Train the ensemble classifier\n",
    "ensemble.fit(X_train_vec, y_train)\n",
    "\n",
    "# Make predictions on the test set\n",
    "y_pred = ensemble.predict(X_test_vec)\n",
    "\n",
    "# Evaluate the accuracy of the model\n",
    "metric_report(y_test,y_pred)"
   ]
  },
  {
   "attachments": {},
   "cell_type": "markdown",
   "metadata": {},
   "source": [
    "### Support Vector Machine Models\n"
   ]
  },
  {
   "cell_type": "code",
   "execution_count": 54,
   "metadata": {},
   "outputs": [
    {
     "data": {
      "text/html": [
       "<style>#sk-container-id-1 {color: black;background-color: white;}#sk-container-id-1 pre{padding: 0;}#sk-container-id-1 div.sk-toggleable {background-color: white;}#sk-container-id-1 label.sk-toggleable__label {cursor: pointer;display: block;width: 100%;margin-bottom: 0;padding: 0.3em;box-sizing: border-box;text-align: center;}#sk-container-id-1 label.sk-toggleable__label-arrow:before {content: \"▸\";float: left;margin-right: 0.25em;color: #696969;}#sk-container-id-1 label.sk-toggleable__label-arrow:hover:before {color: black;}#sk-container-id-1 div.sk-estimator:hover label.sk-toggleable__label-arrow:before {color: black;}#sk-container-id-1 div.sk-toggleable__content {max-height: 0;max-width: 0;overflow: hidden;text-align: left;background-color: #f0f8ff;}#sk-container-id-1 div.sk-toggleable__content pre {margin: 0.2em;color: black;border-radius: 0.25em;background-color: #f0f8ff;}#sk-container-id-1 input.sk-toggleable__control:checked~div.sk-toggleable__content {max-height: 200px;max-width: 100%;overflow: auto;}#sk-container-id-1 input.sk-toggleable__control:checked~label.sk-toggleable__label-arrow:before {content: \"▾\";}#sk-container-id-1 div.sk-estimator input.sk-toggleable__control:checked~label.sk-toggleable__label {background-color: #d4ebff;}#sk-container-id-1 div.sk-label input.sk-toggleable__control:checked~label.sk-toggleable__label {background-color: #d4ebff;}#sk-container-id-1 input.sk-hidden--visually {border: 0;clip: rect(1px 1px 1px 1px);clip: rect(1px, 1px, 1px, 1px);height: 1px;margin: -1px;overflow: hidden;padding: 0;position: absolute;width: 1px;}#sk-container-id-1 div.sk-estimator {font-family: monospace;background-color: #f0f8ff;border: 1px dotted black;border-radius: 0.25em;box-sizing: border-box;margin-bottom: 0.5em;}#sk-container-id-1 div.sk-estimator:hover {background-color: #d4ebff;}#sk-container-id-1 div.sk-parallel-item::after {content: \"\";width: 100%;border-bottom: 1px solid gray;flex-grow: 1;}#sk-container-id-1 div.sk-label:hover label.sk-toggleable__label {background-color: #d4ebff;}#sk-container-id-1 div.sk-serial::before {content: \"\";position: absolute;border-left: 1px solid gray;box-sizing: border-box;top: 0;bottom: 0;left: 50%;z-index: 0;}#sk-container-id-1 div.sk-serial {display: flex;flex-direction: column;align-items: center;background-color: white;padding-right: 0.2em;padding-left: 0.2em;position: relative;}#sk-container-id-1 div.sk-item {position: relative;z-index: 1;}#sk-container-id-1 div.sk-parallel {display: flex;align-items: stretch;justify-content: center;background-color: white;position: relative;}#sk-container-id-1 div.sk-item::before, #sk-container-id-1 div.sk-parallel-item::before {content: \"\";position: absolute;border-left: 1px solid gray;box-sizing: border-box;top: 0;bottom: 0;left: 50%;z-index: -1;}#sk-container-id-1 div.sk-parallel-item {display: flex;flex-direction: column;z-index: 1;position: relative;background-color: white;}#sk-container-id-1 div.sk-parallel-item:first-child::after {align-self: flex-end;width: 50%;}#sk-container-id-1 div.sk-parallel-item:last-child::after {align-self: flex-start;width: 50%;}#sk-container-id-1 div.sk-parallel-item:only-child::after {width: 0;}#sk-container-id-1 div.sk-dashed-wrapped {border: 1px dashed gray;margin: 0 0.4em 0.5em 0.4em;box-sizing: border-box;padding-bottom: 0.4em;background-color: white;}#sk-container-id-1 div.sk-label label {font-family: monospace;font-weight: bold;display: inline-block;line-height: 1.2em;}#sk-container-id-1 div.sk-label-container {text-align: center;}#sk-container-id-1 div.sk-container {/* jupyter's `normalize.less` sets `[hidden] { display: none; }` but bootstrap.min.css set `[hidden] { display: none !important; }` so we also need the `!important` here to be able to override the default hidden behavior on the sphinx rendered scikit-learn.org. See: https://github.com/scikit-learn/scikit-learn/issues/21755 */display: inline-block !important;position: relative;}#sk-container-id-1 div.sk-text-repr-fallback {display: none;}</style><div id=\"sk-container-id-1\" class=\"sk-top-container\"><div class=\"sk-text-repr-fallback\"><pre>SVC(random_state=1)</pre><b>In a Jupyter environment, please rerun this cell to show the HTML representation or trust the notebook. <br />On GitHub, the HTML representation is unable to render, please try loading this page with nbviewer.org.</b></div><div class=\"sk-container\" hidden><div class=\"sk-item\"><div class=\"sk-estimator sk-toggleable\"><input class=\"sk-toggleable__control sk-hidden--visually\" id=\"sk-estimator-id-1\" type=\"checkbox\" checked><label for=\"sk-estimator-id-1\" class=\"sk-toggleable__label sk-toggleable__label-arrow\">SVC</label><div class=\"sk-toggleable__content\"><pre>SVC(random_state=1)</pre></div></div></div></div></div>"
      ],
      "text/plain": [
       "SVC(random_state=1)"
      ]
     },
     "execution_count": 54,
     "metadata": {},
     "output_type": "execute_result"
    }
   ],
   "source": [
    "from sklearn import svm\n",
    "clf = svm.SVC(kernel = \"rbf\",random_state = 1)\n",
    "clf.fit(X_train_vec,y_train)"
   ]
  },
  {
   "cell_type": "code",
   "execution_count": 55,
   "metadata": {},
   "outputs": [],
   "source": [
    "svm_pred = clf.predict(X_test_vec)\n"
   ]
  },
  {
   "cell_type": "code",
   "execution_count": 56,
   "metadata": {},
   "outputs": [
    {
     "name": "stdout",
     "output_type": "stream",
     "text": [
      "The accuracy of the Model is 0.8628807533390986\n",
      "The F-Score of the Model is 0.8601224473413907\n",
      "The Recall of the Model is 0.8628807533390986\n",
      "The precision of the Model is 0.8641845297911553\n"
     ]
    }
   ],
   "source": [
    "metric_report(y_test,svm_pred)"
   ]
  },
  {
   "attachments": {},
   "cell_type": "markdown",
   "metadata": {},
   "source": [
    "### K-Nearest Neighbour Classification"
   ]
  },
  {
   "cell_type": "code",
   "execution_count": 57,
   "metadata": {},
   "outputs": [
    {
     "name": "stdout",
     "output_type": "stream",
     "text": [
      "K value : 2 \n",
      "Accuracy : 0.5515518401076198\n"
     ]
    }
   ],
   "source": [
    "\n",
    "from sklearn.neighbors import KNeighborsClassifier\n",
    "\n",
    "#Finding the optimal k from 1-30\n",
    "kRange = range(1,31)\n",
    "\n",
    "scores = []\n",
    "\n",
    "for kValue in kRange:\n",
    "    knnClass = KNeighborsClassifier(n_neighbors = kValue)\n",
    "    knnClass.fit(X_train_vec,y_train)\n",
    "    knn_pred= knnClass.predict(X_test_vec)\n",
    "    scores.append(accuracy_score(y_test,knn_pred))\n",
    "    \n",
    "maxKAccuracy = 0\n",
    "maxKValue = 0\n",
    "\n",
    "for i, x in enumerate(scores):\n",
    "    if i == 0:\n",
    "        maxKAccuracy = x\n",
    "        maxKValue = i+1\n",
    "    if x > maxKAccuracy:\n",
    "        maxKAccuracy = x\n",
    "        maxKValue = i+1\n",
    "\n",
    "print(f\"K value : {maxKValue} \\nAccuracy : {maxKAccuracy}\")"
   ]
  },
  {
   "cell_type": "code",
   "execution_count": 58,
   "metadata": {},
   "outputs": [
    {
     "data": {
      "text/html": [
       "<style>#sk-container-id-2 {color: black;background-color: white;}#sk-container-id-2 pre{padding: 0;}#sk-container-id-2 div.sk-toggleable {background-color: white;}#sk-container-id-2 label.sk-toggleable__label {cursor: pointer;display: block;width: 100%;margin-bottom: 0;padding: 0.3em;box-sizing: border-box;text-align: center;}#sk-container-id-2 label.sk-toggleable__label-arrow:before {content: \"▸\";float: left;margin-right: 0.25em;color: #696969;}#sk-container-id-2 label.sk-toggleable__label-arrow:hover:before {color: black;}#sk-container-id-2 div.sk-estimator:hover label.sk-toggleable__label-arrow:before {color: black;}#sk-container-id-2 div.sk-toggleable__content {max-height: 0;max-width: 0;overflow: hidden;text-align: left;background-color: #f0f8ff;}#sk-container-id-2 div.sk-toggleable__content pre {margin: 0.2em;color: black;border-radius: 0.25em;background-color: #f0f8ff;}#sk-container-id-2 input.sk-toggleable__control:checked~div.sk-toggleable__content {max-height: 200px;max-width: 100%;overflow: auto;}#sk-container-id-2 input.sk-toggleable__control:checked~label.sk-toggleable__label-arrow:before {content: \"▾\";}#sk-container-id-2 div.sk-estimator input.sk-toggleable__control:checked~label.sk-toggleable__label {background-color: #d4ebff;}#sk-container-id-2 div.sk-label input.sk-toggleable__control:checked~label.sk-toggleable__label {background-color: #d4ebff;}#sk-container-id-2 input.sk-hidden--visually {border: 0;clip: rect(1px 1px 1px 1px);clip: rect(1px, 1px, 1px, 1px);height: 1px;margin: -1px;overflow: hidden;padding: 0;position: absolute;width: 1px;}#sk-container-id-2 div.sk-estimator {font-family: monospace;background-color: #f0f8ff;border: 1px dotted black;border-radius: 0.25em;box-sizing: border-box;margin-bottom: 0.5em;}#sk-container-id-2 div.sk-estimator:hover {background-color: #d4ebff;}#sk-container-id-2 div.sk-parallel-item::after {content: \"\";width: 100%;border-bottom: 1px solid gray;flex-grow: 1;}#sk-container-id-2 div.sk-label:hover label.sk-toggleable__label {background-color: #d4ebff;}#sk-container-id-2 div.sk-serial::before {content: \"\";position: absolute;border-left: 1px solid gray;box-sizing: border-box;top: 0;bottom: 0;left: 50%;z-index: 0;}#sk-container-id-2 div.sk-serial {display: flex;flex-direction: column;align-items: center;background-color: white;padding-right: 0.2em;padding-left: 0.2em;position: relative;}#sk-container-id-2 div.sk-item {position: relative;z-index: 1;}#sk-container-id-2 div.sk-parallel {display: flex;align-items: stretch;justify-content: center;background-color: white;position: relative;}#sk-container-id-2 div.sk-item::before, #sk-container-id-2 div.sk-parallel-item::before {content: \"\";position: absolute;border-left: 1px solid gray;box-sizing: border-box;top: 0;bottom: 0;left: 50%;z-index: -1;}#sk-container-id-2 div.sk-parallel-item {display: flex;flex-direction: column;z-index: 1;position: relative;background-color: white;}#sk-container-id-2 div.sk-parallel-item:first-child::after {align-self: flex-end;width: 50%;}#sk-container-id-2 div.sk-parallel-item:last-child::after {align-self: flex-start;width: 50%;}#sk-container-id-2 div.sk-parallel-item:only-child::after {width: 0;}#sk-container-id-2 div.sk-dashed-wrapped {border: 1px dashed gray;margin: 0 0.4em 0.5em 0.4em;box-sizing: border-box;padding-bottom: 0.4em;background-color: white;}#sk-container-id-2 div.sk-label label {font-family: monospace;font-weight: bold;display: inline-block;line-height: 1.2em;}#sk-container-id-2 div.sk-label-container {text-align: center;}#sk-container-id-2 div.sk-container {/* jupyter's `normalize.less` sets `[hidden] { display: none; }` but bootstrap.min.css set `[hidden] { display: none !important; }` so we also need the `!important` here to be able to override the default hidden behavior on the sphinx rendered scikit-learn.org. See: https://github.com/scikit-learn/scikit-learn/issues/21755 */display: inline-block !important;position: relative;}#sk-container-id-2 div.sk-text-repr-fallback {display: none;}</style><div id=\"sk-container-id-2\" class=\"sk-top-container\"><div class=\"sk-text-repr-fallback\"><pre>KNeighborsClassifier(n_neighbors=2)</pre><b>In a Jupyter environment, please rerun this cell to show the HTML representation or trust the notebook. <br />On GitHub, the HTML representation is unable to render, please try loading this page with nbviewer.org.</b></div><div class=\"sk-container\" hidden><div class=\"sk-item\"><div class=\"sk-estimator sk-toggleable\"><input class=\"sk-toggleable__control sk-hidden--visually\" id=\"sk-estimator-id-2\" type=\"checkbox\" checked><label for=\"sk-estimator-id-2\" class=\"sk-toggleable__label sk-toggleable__label-arrow\">KNeighborsClassifier</label><div class=\"sk-toggleable__content\"><pre>KNeighborsClassifier(n_neighbors=2)</pre></div></div></div></div></div>"
      ],
      "text/plain": [
       "KNeighborsClassifier(n_neighbors=2)"
      ]
     },
     "execution_count": 58,
     "metadata": {},
     "output_type": "execute_result"
    }
   ],
   "source": [
    "knnClass = KNeighborsClassifier(n_neighbors = maxKValue)\n",
    "knnClass.fit(X_train_vec,y_train)"
   ]
  },
  {
   "cell_type": "code",
   "execution_count": 59,
   "metadata": {},
   "outputs": [
    {
     "name": "stdout",
     "output_type": "stream",
     "text": [
      "[1 2 2 ... 0 2 2]\n"
     ]
    }
   ],
   "source": [
    "knnPredicted = knnClass.predict(X_test_vec)\n",
    "print(knnPredicted)"
   ]
  },
  {
   "cell_type": "code",
   "execution_count": 60,
   "metadata": {},
   "outputs": [
    {
     "name": "stdout",
     "output_type": "stream",
     "text": [
      "The accuracy of the Model is 0.3812818295378111\n",
      "The F-Score of the Model is 0.24081983729643194\n",
      "The Recall of the Model is 0.3812818295378111\n",
      "The precision of the Model is 0.686112299912423\n"
     ]
    }
   ],
   "source": [
    "metric_report(y_test,knn_pred)"
   ]
  },
  {
   "cell_type": "code",
   "execution_count": 61,
   "metadata": {},
   "outputs": [
    {
     "data": {
      "text/plain": [
       "array([[ 620,  371, 1544],\n",
       "       [ 272, 1916, 1981],\n",
       "       [ 139,  360, 3204]], dtype=int64)"
      ]
     },
     "execution_count": 61,
     "metadata": {},
     "output_type": "execute_result"
    }
   ],
   "source": [
    "from sklearn.metrics import confusion_matrix\n",
    "cm = confusion_matrix(y_test,knnPredicted)\n",
    "cm"
   ]
  },
  {
   "cell_type": "code",
   "execution_count": 62,
   "metadata": {},
   "outputs": [
    {
     "data": {
      "text/plain": [
       "Text(95.72222222222221, 0.5, 'Truth')"
      ]
     },
     "execution_count": 62,
     "metadata": {},
     "output_type": "execute_result"
    },
    {
     "data": {
      "image/png": "[encoded data removed]",
      "text/plain": [
       "<Figure size 1000x700 with 2 Axes>"
      ]
     },
     "metadata": {},
     "output_type": "display_data"
    }
   ],
   "source": [
    "%matplotlib inline\n",
    "plt.figure(figsize = (10,7))\n",
    "sns.heatmap(cm, annot = True, fmt = \"d\")\n",
    "plt.xlabel(\"Predicted\")\n",
    "plt.ylabel(\"Truth\")"
   ]
  },
  {
   "attachments": {},
   "cell_type": "markdown",
   "metadata": {},
   "source": [
    "### Neural Network"
   ]
  },
  {
   "cell_type": "code",
   "execution_count": 63,
   "metadata": {},
   "outputs": [
    {
     "data": {
      "text/html": [
       "<style>#sk-container-id-3 {color: black;background-color: white;}#sk-container-id-3 pre{padding: 0;}#sk-container-id-3 div.sk-toggleable {background-color: white;}#sk-container-id-3 label.sk-toggleable__label {cursor: pointer;display: block;width: 100%;margin-bottom: 0;padding: 0.3em;box-sizing: border-box;text-align: center;}#sk-container-id-3 label.sk-toggleable__label-arrow:before {content: \"▸\";float: left;margin-right: 0.25em;color: #696969;}#sk-container-id-3 label.sk-toggleable__label-arrow:hover:before {color: black;}#sk-container-id-3 div.sk-estimator:hover label.sk-toggleable__label-arrow:before {color: black;}#sk-container-id-3 div.sk-toggleable__content {max-height: 0;max-width: 0;overflow: hidden;text-align: left;background-color: #f0f8ff;}#sk-container-id-3 div.sk-toggleable__content pre {margin: 0.2em;color: black;border-radius: 0.25em;background-color: #f0f8ff;}#sk-container-id-3 input.sk-toggleable__control:checked~div.sk-toggleable__content {max-height: 200px;max-width: 100%;overflow: auto;}#sk-container-id-3 input.sk-toggleable__control:checked~label.sk-toggleable__label-arrow:before {content: \"▾\";}#sk-container-id-3 div.sk-estimator input.sk-toggleable__control:checked~label.sk-toggleable__label {background-color: #d4ebff;}#sk-container-id-3 div.sk-label input.sk-toggleable__control:checked~label.sk-toggleable__label {background-color: #d4ebff;}#sk-container-id-3 input.sk-hidden--visually {border: 0;clip: rect(1px 1px 1px 1px);clip: rect(1px, 1px, 1px, 1px);height: 1px;margin: -1px;overflow: hidden;padding: 0;position: absolute;width: 1px;}#sk-container-id-3 div.sk-estimator {font-family: monospace;background-color: #f0f8ff;border: 1px dotted black;border-radius: 0.25em;box-sizing: border-box;margin-bottom: 0.5em;}#sk-container-id-3 div.sk-estimator:hover {background-color: #d4ebff;}#sk-container-id-3 div.sk-parallel-item::after {content: \"\";width: 100%;border-bottom: 1px solid gray;flex-grow: 1;}#sk-container-id-3 div.sk-label:hover label.sk-toggleable__label {background-color: #d4ebff;}#sk-container-id-3 div.sk-serial::before {content: \"\";position: absolute;border-left: 1px solid gray;box-sizing: border-box;top: 0;bottom: 0;left: 50%;z-index: 0;}#sk-container-id-3 div.sk-serial {display: flex;flex-direction: column;align-items: center;background-color: white;padding-right: 0.2em;padding-left: 0.2em;position: relative;}#sk-container-id-3 div.sk-item {position: relative;z-index: 1;}#sk-container-id-3 div.sk-parallel {display: flex;align-items: stretch;justify-content: center;background-color: white;position: relative;}#sk-container-id-3 div.sk-item::before, #sk-container-id-3 div.sk-parallel-item::before {content: \"\";position: absolute;border-left: 1px solid gray;box-sizing: border-box;top: 0;bottom: 0;left: 50%;z-index: -1;}#sk-container-id-3 div.sk-parallel-item {display: flex;flex-direction: column;z-index: 1;position: relative;background-color: white;}#sk-container-id-3 div.sk-parallel-item:first-child::after {align-self: flex-end;width: 50%;}#sk-container-id-3 div.sk-parallel-item:last-child::after {align-self: flex-start;width: 50%;}#sk-container-id-3 div.sk-parallel-item:only-child::after {width: 0;}#sk-container-id-3 div.sk-dashed-wrapped {border: 1px dashed gray;margin: 0 0.4em 0.5em 0.4em;box-sizing: border-box;padding-bottom: 0.4em;background-color: white;}#sk-container-id-3 div.sk-label label {font-family: monospace;font-weight: bold;display: inline-block;line-height: 1.2em;}#sk-container-id-3 div.sk-label-container {text-align: center;}#sk-container-id-3 div.sk-container {/* jupyter's `normalize.less` sets `[hidden] { display: none; }` but bootstrap.min.css set `[hidden] { display: none !important; }` so we also need the `!important` here to be able to override the default hidden behavior on the sphinx rendered scikit-learn.org. See: https://github.com/scikit-learn/scikit-learn/issues/21755 */display: inline-block !important;position: relative;}#sk-container-id-3 div.sk-text-repr-fallback {display: none;}</style><div id=\"sk-container-id-3\" class=\"sk-top-container\"><div class=\"sk-text-repr-fallback\"><pre>MLPClassifier(alpha=1e-05, hidden_layer_sizes=(128,), max_iter=1000,\n",
       "              random_state=1, solver=&#x27;lbfgs&#x27;)</pre><b>In a Jupyter environment, please rerun this cell to show the HTML representation or trust the notebook. <br />On GitHub, the HTML representation is unable to render, please try loading this page with nbviewer.org.</b></div><div class=\"sk-container\" hidden><div class=\"sk-item\"><div class=\"sk-estimator sk-toggleable\"><input class=\"sk-toggleable__control sk-hidden--visually\" id=\"sk-estimator-id-3\" type=\"checkbox\" checked><label for=\"sk-estimator-id-3\" class=\"sk-toggleable__label sk-toggleable__label-arrow\">MLPClassifier</label><div class=\"sk-toggleable__content\"><pre>MLPClassifier(alpha=1e-05, hidden_layer_sizes=(128,), max_iter=1000,\n",
       "              random_state=1, solver=&#x27;lbfgs&#x27;)</pre></div></div></div></div></div>"
      ],
      "text/plain": [
       "MLPClassifier(alpha=1e-05, hidden_layer_sizes=(128,), max_iter=1000,\n",
       "              random_state=1, solver='lbfgs')"
      ]
     },
     "execution_count": 63,
     "metadata": {},
     "output_type": "execute_result"
    }
   ],
   "source": [
    "from sklearn.neural_network import MLPClassifier\n",
    "\n",
    "clf = MLPClassifier(solver = \"lbfgs\", alpha = 1e-5, \n",
    "                    hidden_layer_sizes =(128,), random_state=1, max_iter = 1000)\n",
    "clf.fit(X_train_vec,y_train)"
   ]
  },
  {
   "cell_type": "code",
   "execution_count": 64,
   "metadata": {},
   "outputs": [
    {
     "name": "stdout",
     "output_type": "stream",
     "text": [
      "[1 0 1 ... 1 0 0]\n"
     ]
    }
   ],
   "source": [
    "nn_pred = clf.predict(X_test_vec)\n",
    "print(nn_pred)"
   ]
  },
  {
   "cell_type": "code",
   "execution_count": 65,
   "metadata": {},
   "outputs": [
    {
     "name": "stdout",
     "output_type": "stream",
     "text": [
      "The accuracy of the Model is 0.8998750840780244\n",
      "The F-Score of the Model is 0.8994911421235593\n",
      "The Recall of the Model is 0.8998750840780244\n",
      "The precision of the Model is 0.8992936583892842\n"
     ]
    }
   ],
   "source": [
    "metric_report(y_test,nn_pred)"
   ]
  },
  {
   "attachments": {},
   "cell_type": "markdown",
   "metadata": {},
   "source": [
    "## Doing up Machine Learning Models for TextBlob Analysis"
   ]
  },
  {
   "cell_type": "code",
   "execution_count": 66,
   "metadata": {},
   "outputs": [],
   "source": [
    "X = filterTweets[\"body\"] \n",
    "y = filterTweets[\"blob_polarity\"]\n",
    "X_train, X_test, y_train, y_test = train_test_split(\n",
    "    X, y, test_size=0.25, random_state=0)"
   ]
  },
  {
   "attachments": {},
   "cell_type": "markdown",
   "metadata": {},
   "source": [
    "### Naive Bayes ML Model"
   ]
  },
  {
   "cell_type": "code",
   "execution_count": 67,
   "metadata": {},
   "outputs": [
    {
     "name": "stdout",
     "output_type": "stream",
     "text": [
      "The accuracy of the Model is 0.756413952147593\n",
      "The F-Score of the Model is 0.7548979988212197\n",
      "The Recall of the Model is 0.756413952147593\n",
      "The precision of the Model is 0.7933688751701902\n"
     ]
    }
   ],
   "source": [
    "vectoriser = CountVectorizer()\n",
    "\n",
    "X_train_vec = vectoriser.fit_transform(X_train)\n",
    "X_test_vec = vectoriser.transform(X_test)\n",
    "\n",
    "# Train the model using Naive Bayes algorithm\n",
    "clf = MultinomialNB()\n",
    "clf.fit(X_train_vec, y_train)\n",
    "\n",
    "# Make predictions on test data\n",
    "y_pred = clf.predict(X_test_vec)\n",
    "\n",
    "# Evaluate the model using accuracy score\n",
    "metric_report(y_test,y_pred)"
   ]
  },
  {
   "attachments": {},
   "cell_type": "markdown",
   "metadata": {},
   "source": [
    "### Create Decision Tree ML Model"
   ]
  },
  {
   "cell_type": "code",
   "execution_count": 68,
   "metadata": {},
   "outputs": [
    {
     "name": "stdout",
     "output_type": "stream",
     "text": [
      "The accuracy of the Model is 0.950514077063515\n",
      "The F-Score of the Model is 0.9502259031659743\n",
      "The Recall of the Model is 0.950514077063515\n",
      "The precision of the Model is 0.9502660286280088\n"
     ]
    }
   ],
   "source": [
    "clf = DecisionTreeClassifier()\n",
    "clf.fit(X_train_vec,y_train)\n",
    "\n",
    "y_pred = clf.predict(X_test_vec)\n",
    "\n",
    "metric_report(y_test,y_pred)\n"
   ]
  },
  {
   "attachments": {},
   "cell_type": "markdown",
   "metadata": {},
   "source": [
    "### Random Forest ML Model"
   ]
  },
  {
   "cell_type": "code",
   "execution_count": 72,
   "metadata": {},
   "outputs": [
    {
     "name": "stdout",
     "output_type": "stream",
     "text": [
      "The accuracy of the Model is 0.9295666378399154\n",
      "The F-Score of the Model is 0.9266574168317319\n",
      "The Recall of the Model is 0.9295666378399154\n",
      "The precision of the Model is 0.9307374595967796\n"
     ]
    }
   ],
   "source": [
    "clf = RandomForestClassifier()\n",
    "clf.fit(X_train_vec,y_train)\n",
    "\n",
    "y_pred = clf.predict(X_test_vec)\n",
    "\n",
    "metric_report(y_test,y_pred)\n"
   ]
  },
  {
   "attachments": {},
   "cell_type": "markdown",
   "metadata": {},
   "source": [
    "### Ensemble Learning"
   ]
  },
  {
   "cell_type": "code",
   "execution_count": 73,
   "metadata": {},
   "outputs": [
    {
     "name": "stdout",
     "output_type": "stream",
     "text": [
      "The accuracy of the Model is 0.9394638224272125\n",
      "The F-Score of the Model is 0.9374032692328245\n",
      "The Recall of the Model is 0.9394638224272125\n",
      "The precision of the Model is 0.9397877159201262\n"
     ]
    }
   ],
   "source": [
    "clf1 = DecisionTreeClassifier()\n",
    "clf2 = RandomForestClassifier()\n",
    "clf3 = SVC()\n",
    "\n",
    "# Create the ensemble classifier\n",
    "ensemble = VotingClassifier(estimators=[('dt', clf1), ('rf', clf2), ('svc', clf3)], voting='hard')\n",
    "\n",
    "# Train the ensemble classifier\n",
    "ensemble.fit(X_train_vec, y_train)\n",
    "\n",
    "# Make predictions on the test set\n",
    "y_pred = ensemble.predict(X_test_vec)\n",
    "\n",
    "# Evaluate the accuracy of the model\n",
    "metric_report(y_test,y_pred)"
   ]
  },
  {
   "attachments": {},
   "cell_type": "markdown",
   "metadata": {},
   "source": [
    "### Support Vector Machine Model"
   ]
  },
  {
   "cell_type": "code",
   "execution_count": 69,
   "metadata": {},
   "outputs": [],
   "source": [
    "svm_pred = clf.predict(X_test_vec)"
   ]
  },
  {
   "cell_type": "code",
   "execution_count": 70,
   "metadata": {},
   "outputs": [
    {
     "name": "stdout",
     "output_type": "stream",
     "text": [
      "The accuracy of the Model is 0.950514077063515\n",
      "The F-Score of the Model is 0.9502259031659743\n",
      "The Recall of the Model is 0.950514077063515\n",
      "The precision of the Model is 0.9502660286280088\n"
     ]
    }
   ],
   "source": [
    "\n",
    "metric_report(y_test,svm_pred)\n"
   ]
  },
  {
   "cell_type": "markdown",
   "metadata": {},
   "source": [
    "### Neural Network Model\n",
    "\n"
   ]
  },
  {
   "cell_type": "code",
   "execution_count": 71,
   "metadata": {},
   "outputs": [
    {
     "name": "stdout",
     "output_type": "stream",
     "text": [
      "The accuracy of the Model is 0.9528202171615259\n",
      "The F-Score of the Model is 0.9525420622398062\n",
      "The Recall of the Model is 0.9528202171615259\n",
      "The precision of the Model is 0.9524614494679544\n"
     ]
    }
   ],
   "source": [
    "from sklearn.neural_network import MLPClassifier\n",
    "\n",
    "clf = MLPClassifier(solver = \"lbfgs\", alpha = 1e-5, \n",
    "                    hidden_layer_sizes =(128,), random_state=1, max_iter = 1000)\n",
    "clf.fit(X_train_vec,y_train)\n",
    "\n",
    "nn_pred = clf.predict(X_test_vec)\n",
    "metric_report(y_test,nn_pred)"
   ]
  }
 ],
 "metadata": {
  "kernelspec": {
   "display_name": "Python 3",
   "language": "python",
   "name": "python3"
  },
  "language_info": {
   "codemirror_mode": {
    "name": "ipython",
    "version": 3
   },
   "file_extension": ".py",
   "mimetype": "text/x-python",
   "name": "python",
   "nbconvert_exporter": "python",
   "pygments_lexer": "ipython3",
   "version": "3.10.2"
  },
  "orig_nbformat": 4,
  "vscode": {
   "interpreter": {
    "hash": "5e4bda67f9838be16d189b50da62d733f7c09545de52b735a31e173c43804dd6"
   }
  }
 },
 "nbformat": 4,
 "nbformat_minor": 2
}
