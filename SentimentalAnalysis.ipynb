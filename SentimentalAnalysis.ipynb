{
 "cells": [
  {
   "cell_type": "code",
   "execution_count": 34,
   "metadata": {},
   "outputs": [],
   "source": [
    "import numpy as np \n",
    "import seaborn as sns\n",
    "import matplotlib.pyplot as plt\n",
    "import pandas as pd\n",
    "from sklearn.model_selection import train_test_split\n",
    "from sklearn.tree import DecisionTreeClassifier\n",
    "from sklearn.metrics import accuracy_score\n",
    "from sklearn import tree\n",
    "from sklearn import ensemble\n",
    "from sklearn.metrics import f1_score\n",
    "from sklearn.metrics import recall_score\n",
    "from sklearn.metrics import precision_score\n",
    "import re\n",
    "import nltk\n",
    "from wordcloud import WordCloud\n"
   ]
  },
  {
   "cell_type": "code",
   "execution_count": 35,
   "metadata": {},
   "outputs": [],
   "source": [
    "df_tweet = pd.read_csv(\"Tweet.csv\")"
   ]
  },
  {
   "cell_type": "code",
   "execution_count": 36,
   "metadata": {},
   "outputs": [
    {
     "name": "stdout",
     "output_type": "stream",
     "text": [
      "<class 'pandas.core.frame.DataFrame'>\n",
      "RangeIndex: 3717964 entries, 0 to 3717963\n",
      "Data columns (total 7 columns):\n",
      " #   Column       Dtype \n",
      "---  ------       ----- \n",
      " 0   tweet_id     int64 \n",
      " 1   writer       object\n",
      " 2   post_date    int64 \n",
      " 3   body         object\n",
      " 4   comment_num  int64 \n",
      " 5   retweet_num  int64 \n",
      " 6   like_num     int64 \n",
      "dtypes: int64(5), object(2)\n",
      "memory usage: 198.6+ MB\n"
     ]
    }
   ],
   "source": [
    "df_tweet.info()"
   ]
  },
  {
   "cell_type": "code",
   "execution_count": 37,
   "metadata": {},
   "outputs": [
    {
     "data": {
      "text/html": [
       "<div>\n",
       "<style scoped>\n",
       "    .dataframe tbody tr th:only-of-type {\n",
       "        vertical-align: middle;\n",
       "    }\n",
       "\n",
       "    .dataframe tbody tr th {\n",
       "        vertical-align: top;\n",
       "    }\n",
       "\n",
       "    .dataframe thead th {\n",
       "        text-align: right;\n",
       "    }\n",
       "</style>\n",
       "<table border=\"1\" class=\"dataframe\">\n",
       "  <thead>\n",
       "    <tr style=\"text-align: right;\">\n",
       "      <th></th>\n",
       "      <th>tweet_id</th>\n",
       "      <th>writer</th>\n",
       "      <th>post_date</th>\n",
       "      <th>body</th>\n",
       "      <th>comment_num</th>\n",
       "      <th>retweet_num</th>\n",
       "      <th>like_num</th>\n",
       "    </tr>\n",
       "  </thead>\n",
       "  <tbody>\n",
       "    <tr>\n",
       "      <th>0</th>\n",
       "      <td>550441509175443456</td>\n",
       "      <td>VisualStockRSRC</td>\n",
       "      <td>1420070457</td>\n",
       "      <td>lx21 made $10,008  on $AAPL -Check it out! htt...</td>\n",
       "      <td>0</td>\n",
       "      <td>0</td>\n",
       "      <td>1</td>\n",
       "    </tr>\n",
       "    <tr>\n",
       "      <th>1</th>\n",
       "      <td>550441672312512512</td>\n",
       "      <td>KeralaGuy77</td>\n",
       "      <td>1420070496</td>\n",
       "      <td>Insanity of today weirdo massive selling. $aap...</td>\n",
       "      <td>0</td>\n",
       "      <td>0</td>\n",
       "      <td>0</td>\n",
       "    </tr>\n",
       "    <tr>\n",
       "      <th>2</th>\n",
       "      <td>550441732014223360</td>\n",
       "      <td>DozenStocks</td>\n",
       "      <td>1420070510</td>\n",
       "      <td>S&amp;P100 #Stocks Performance $HD $LOW $SBUX $TGT...</td>\n",
       "      <td>0</td>\n",
       "      <td>0</td>\n",
       "      <td>0</td>\n",
       "    </tr>\n",
       "    <tr>\n",
       "      <th>3</th>\n",
       "      <td>550442977802207232</td>\n",
       "      <td>ShowDreamCar</td>\n",
       "      <td>1420070807</td>\n",
       "      <td>$GM $TSLA: Volkswagen Pushes 2014 Record Recal...</td>\n",
       "      <td>0</td>\n",
       "      <td>0</td>\n",
       "      <td>1</td>\n",
       "    </tr>\n",
       "    <tr>\n",
       "      <th>4</th>\n",
       "      <td>550443807834402816</td>\n",
       "      <td>i_Know_First</td>\n",
       "      <td>1420071005</td>\n",
       "      <td>Swing Trading: Up To 8.91% Return In 14 Days h...</td>\n",
       "      <td>0</td>\n",
       "      <td>0</td>\n",
       "      <td>1</td>\n",
       "    </tr>\n",
       "  </tbody>\n",
       "</table>\n",
       "</div>"
      ],
      "text/plain": [
       "             tweet_id           writer   post_date  \\\n",
       "0  550441509175443456  VisualStockRSRC  1420070457   \n",
       "1  550441672312512512      KeralaGuy77  1420070496   \n",
       "2  550441732014223360      DozenStocks  1420070510   \n",
       "3  550442977802207232     ShowDreamCar  1420070807   \n",
       "4  550443807834402816     i_Know_First  1420071005   \n",
       "\n",
       "                                                body  comment_num  \\\n",
       "0  lx21 made $10,008  on $AAPL -Check it out! htt...            0   \n",
       "1  Insanity of today weirdo massive selling. $aap...            0   \n",
       "2  S&P100 #Stocks Performance $HD $LOW $SBUX $TGT...            0   \n",
       "3  $GM $TSLA: Volkswagen Pushes 2014 Record Recal...            0   \n",
       "4  Swing Trading: Up To 8.91% Return In 14 Days h...            0   \n",
       "\n",
       "   retweet_num  like_num  \n",
       "0            0         1  \n",
       "1            0         0  \n",
       "2            0         0  \n",
       "3            0         1  \n",
       "4            0         1  "
      ]
     },
     "execution_count": 37,
     "metadata": {},
     "output_type": "execute_result"
    }
   ],
   "source": [
    "df_tweet.head()"
   ]
  },
  {
   "cell_type": "code",
   "execution_count": 38,
   "metadata": {},
   "outputs": [],
   "source": [
    "df_company_tweet = pd.read_csv(\"Company_Tweet.csv\")"
   ]
  },
  {
   "cell_type": "code",
   "execution_count": 39,
   "metadata": {},
   "outputs": [
    {
     "name": "stdout",
     "output_type": "stream",
     "text": [
      "<class 'pandas.core.frame.DataFrame'>\n",
      "RangeIndex: 4336445 entries, 0 to 4336444\n",
      "Data columns (total 2 columns):\n",
      " #   Column         Dtype \n",
      "---  ------         ----- \n",
      " 0   tweet_id       int64 \n",
      " 1   ticker_symbol  object\n",
      "dtypes: int64(1), object(1)\n",
      "memory usage: 66.2+ MB\n"
     ]
    }
   ],
   "source": [
    "df_company_tweet.info()"
   ]
  },
  {
   "cell_type": "code",
   "execution_count": 40,
   "metadata": {},
   "outputs": [
    {
     "data": {
      "text/html": [
       "<div>\n",
       "<style scoped>\n",
       "    .dataframe tbody tr th:only-of-type {\n",
       "        vertical-align: middle;\n",
       "    }\n",
       "\n",
       "    .dataframe tbody tr th {\n",
       "        vertical-align: top;\n",
       "    }\n",
       "\n",
       "    .dataframe thead th {\n",
       "        text-align: right;\n",
       "    }\n",
       "</style>\n",
       "<table border=\"1\" class=\"dataframe\">\n",
       "  <thead>\n",
       "    <tr style=\"text-align: right;\">\n",
       "      <th></th>\n",
       "      <th>tweet_id</th>\n",
       "      <th>ticker_symbol</th>\n",
       "    </tr>\n",
       "  </thead>\n",
       "  <tbody>\n",
       "    <tr>\n",
       "      <th>0</th>\n",
       "      <td>550803612197457920</td>\n",
       "      <td>AAPL</td>\n",
       "    </tr>\n",
       "    <tr>\n",
       "      <th>1</th>\n",
       "      <td>550803610825928706</td>\n",
       "      <td>AAPL</td>\n",
       "    </tr>\n",
       "    <tr>\n",
       "      <th>2</th>\n",
       "      <td>550803225113157632</td>\n",
       "      <td>AAPL</td>\n",
       "    </tr>\n",
       "    <tr>\n",
       "      <th>3</th>\n",
       "      <td>550802957370159104</td>\n",
       "      <td>AAPL</td>\n",
       "    </tr>\n",
       "    <tr>\n",
       "      <th>4</th>\n",
       "      <td>550802855129382912</td>\n",
       "      <td>AAPL</td>\n",
       "    </tr>\n",
       "  </tbody>\n",
       "</table>\n",
       "</div>"
      ],
      "text/plain": [
       "             tweet_id ticker_symbol\n",
       "0  550803612197457920          AAPL\n",
       "1  550803610825928706          AAPL\n",
       "2  550803225113157632          AAPL\n",
       "3  550802957370159104          AAPL\n",
       "4  550802855129382912          AAPL"
      ]
     },
     "execution_count": 40,
     "metadata": {},
     "output_type": "execute_result"
    }
   ],
   "source": [
    "df_company_tweet.head()"
   ]
  },
  {
   "cell_type": "code",
   "execution_count": 41,
   "metadata": {},
   "outputs": [],
   "source": [
    "tweets = pd.merge(df_company_tweet,df_tweet,on= \"tweet_id\", how = \"inner\")"
   ]
  },
  {
   "cell_type": "code",
   "execution_count": 42,
   "metadata": {},
   "outputs": [
    {
     "data": {
      "text/html": [
       "<div>\n",
       "<style scoped>\n",
       "    .dataframe tbody tr th:only-of-type {\n",
       "        vertical-align: middle;\n",
       "    }\n",
       "\n",
       "    .dataframe tbody tr th {\n",
       "        vertical-align: top;\n",
       "    }\n",
       "\n",
       "    .dataframe thead th {\n",
       "        text-align: right;\n",
       "    }\n",
       "</style>\n",
       "<table border=\"1\" class=\"dataframe\">\n",
       "  <thead>\n",
       "    <tr style=\"text-align: right;\">\n",
       "      <th></th>\n",
       "      <th>tweet_id</th>\n",
       "      <th>ticker_symbol</th>\n",
       "      <th>writer</th>\n",
       "      <th>post_date</th>\n",
       "      <th>body</th>\n",
       "      <th>comment_num</th>\n",
       "      <th>retweet_num</th>\n",
       "      <th>like_num</th>\n",
       "    </tr>\n",
       "  </thead>\n",
       "  <tbody>\n",
       "    <tr>\n",
       "      <th>0</th>\n",
       "      <td>550803612197457920</td>\n",
       "      <td>AAPL</td>\n",
       "      <td>SentiQuant</td>\n",
       "      <td>1420156789</td>\n",
       "      <td>#TOPTICKERTWEETS $AAPL $IMRS $BABA $EBAY $AMZN...</td>\n",
       "      <td>0</td>\n",
       "      <td>0</td>\n",
       "      <td>1</td>\n",
       "    </tr>\n",
       "    <tr>\n",
       "      <th>1</th>\n",
       "      <td>550803612197457920</td>\n",
       "      <td>AMZN</td>\n",
       "      <td>SentiQuant</td>\n",
       "      <td>1420156789</td>\n",
       "      <td>#TOPTICKERTWEETS $AAPL $IMRS $BABA $EBAY $AMZN...</td>\n",
       "      <td>0</td>\n",
       "      <td>0</td>\n",
       "      <td>1</td>\n",
       "    </tr>\n",
       "    <tr>\n",
       "      <th>2</th>\n",
       "      <td>550803610825928706</td>\n",
       "      <td>AAPL</td>\n",
       "      <td>SentiQuant</td>\n",
       "      <td>1420156788</td>\n",
       "      <td>#SENTISHIFTUP $K $FB $GOOGL $GS $GOLD $T $AAPL...</td>\n",
       "      <td>0</td>\n",
       "      <td>0</td>\n",
       "      <td>1</td>\n",
       "    </tr>\n",
       "    <tr>\n",
       "      <th>3</th>\n",
       "      <td>550803610825928706</td>\n",
       "      <td>GOOGL</td>\n",
       "      <td>SentiQuant</td>\n",
       "      <td>1420156788</td>\n",
       "      <td>#SENTISHIFTUP $K $FB $GOOGL $GS $GOLD $T $AAPL...</td>\n",
       "      <td>0</td>\n",
       "      <td>0</td>\n",
       "      <td>1</td>\n",
       "    </tr>\n",
       "    <tr>\n",
       "      <th>4</th>\n",
       "      <td>550803610825928706</td>\n",
       "      <td>AMZN</td>\n",
       "      <td>SentiQuant</td>\n",
       "      <td>1420156788</td>\n",
       "      <td>#SENTISHIFTUP $K $FB $GOOGL $GS $GOLD $T $AAPL...</td>\n",
       "      <td>0</td>\n",
       "      <td>0</td>\n",
       "      <td>1</td>\n",
       "    </tr>\n",
       "  </tbody>\n",
       "</table>\n",
       "</div>"
      ],
      "text/plain": [
       "             tweet_id ticker_symbol      writer   post_date  \\\n",
       "0  550803612197457920          AAPL  SentiQuant  1420156789   \n",
       "1  550803612197457920          AMZN  SentiQuant  1420156789   \n",
       "2  550803610825928706          AAPL  SentiQuant  1420156788   \n",
       "3  550803610825928706         GOOGL  SentiQuant  1420156788   \n",
       "4  550803610825928706          AMZN  SentiQuant  1420156788   \n",
       "\n",
       "                                                body  comment_num  \\\n",
       "0  #TOPTICKERTWEETS $AAPL $IMRS $BABA $EBAY $AMZN...            0   \n",
       "1  #TOPTICKERTWEETS $AAPL $IMRS $BABA $EBAY $AMZN...            0   \n",
       "2  #SENTISHIFTUP $K $FB $GOOGL $GS $GOLD $T $AAPL...            0   \n",
       "3  #SENTISHIFTUP $K $FB $GOOGL $GS $GOLD $T $AAPL...            0   \n",
       "4  #SENTISHIFTUP $K $FB $GOOGL $GS $GOLD $T $AAPL...            0   \n",
       "\n",
       "   retweet_num  like_num  \n",
       "0            0         1  \n",
       "1            0         1  \n",
       "2            0         1  \n",
       "3            0         1  \n",
       "4            0         1  "
      ]
     },
     "execution_count": 42,
     "metadata": {},
     "output_type": "execute_result"
    }
   ],
   "source": [
    "tweets.head()"
   ]
  },
  {
   "cell_type": "code",
   "execution_count": 43,
   "metadata": {},
   "outputs": [],
   "source": [
    "def datasetInfo(dataset):\n",
    "    print(f\" Dataset Information and type \\n {dataset.info()}\")\n",
    "    print(\"--------------------------------------------------------\\n\\n Data Types: \")\n",
    "    print(dataset.dtypes)\n",
    "    print(\"--------------------------------------------------------\\n\\n Rows and Columns: \")\n",
    "    print(dataset.shape)\n",
    "    print(\"--------------------------------------------------------\\n\\n Column Names: \")\n",
    "    print(dataset.columns)\n",
    "    print(\"--------------------------------------------------------\\n\\n Null Values: \")\n",
    "    print(dataset.apply(lambda x: sum(x.isnull()) / len(dataset)))\n",
    "    print(\"--------------------------------------------------------\\n\\n Unique Values: \")\n",
    "    print(dataset.nunique())\n",
    "    print(\"--------------------------------------------------------\\n\\n Describe: \")\n",
    "    print(dataset.describe())"
   ]
  },
  {
   "cell_type": "code",
   "execution_count": 44,
   "metadata": {},
   "outputs": [
    {
     "name": "stdout",
     "output_type": "stream",
     "text": [
      "<class 'pandas.core.frame.DataFrame'>\n",
      "Int64Index: 4336445 entries, 0 to 4336444\n",
      "Data columns (total 8 columns):\n",
      " #   Column         Dtype \n",
      "---  ------         ----- \n",
      " 0   tweet_id       int64 \n",
      " 1   ticker_symbol  object\n",
      " 2   writer         object\n",
      " 3   post_date      int64 \n",
      " 4   body           object\n",
      " 5   comment_num    int64 \n",
      " 6   retweet_num    int64 \n",
      " 7   like_num       int64 \n",
      "dtypes: int64(5), object(3)\n",
      "memory usage: 297.8+ MB\n",
      " Dataset Information and type \n",
      " None\n",
      "--------------------------------------------------------\n",
      "\n",
      " Data Types: \n",
      "tweet_id          int64\n",
      "ticker_symbol    object\n",
      "writer           object\n",
      "post_date         int64\n",
      "body             object\n",
      "comment_num       int64\n",
      "retweet_num       int64\n",
      "like_num          int64\n",
      "dtype: object\n",
      "--------------------------------------------------------\n",
      "\n",
      " Rows and Columns: \n",
      "(4336445, 8)\n",
      "--------------------------------------------------------\n",
      "\n",
      " Column Names: \n",
      "Index(['tweet_id', 'ticker_symbol', 'writer', 'post_date', 'body',\n",
      "       'comment_num', 'retweet_num', 'like_num'],\n",
      "      dtype='object')\n",
      "--------------------------------------------------------\n",
      "\n",
      " Null Values: \n",
      "tweet_id         0.000000\n",
      "ticker_symbol    0.000000\n",
      "writer           0.012895\n",
      "post_date        0.000000\n",
      "body             0.000000\n",
      "comment_num      0.000000\n",
      "retweet_num      0.000000\n",
      "like_num         0.000000\n",
      "dtype: float64\n",
      "--------------------------------------------------------\n",
      "\n",
      " Unique Values: \n",
      "tweet_id         3717964\n",
      "ticker_symbol          6\n",
      "writer            140131\n",
      "post_date        3421363\n",
      "body             3326194\n",
      "comment_num          191\n",
      "retweet_num          509\n",
      "like_num             783\n",
      "dtype: int64\n",
      "--------------------------------------------------------\n",
      "\n",
      " Describe: \n",
      "           tweet_id     post_date   comment_num   retweet_num      like_num\n",
      "count  4.336445e+06  4.336445e+06  4.336445e+06  4.336445e+06  4.336445e+06\n",
      "mean   8.834282e+17  1.499461e+09  2.923863e-01  6.347647e-01  2.103625e+00\n",
      "std    1.927735e+17  4.596080e+07  1.885788e+00  6.986371e+00  1.371744e+01\n",
      "min    5.504415e+17  1.420070e+09  0.000000e+00  0.000000e+00  0.000000e+00\n",
      "25%    7.185450e+17  1.460149e+09  0.000000e+00  0.000000e+00  0.000000e+00\n",
      "50%    8.825934e+17  1.499262e+09  0.000000e+00  0.000000e+00  0.000000e+00\n",
      "75%    1.054776e+18  1.540313e+09  0.000000e+00  0.000000e+00  1.000000e+00\n",
      "max    1.212160e+18  1.577837e+09  6.310000e+02  9.990000e+02  9.990000e+02\n"
     ]
    }
   ],
   "source": [
    "datasetInfo(tweets)"
   ]
  },
  {
   "attachments": {},
   "cell_type": "markdown",
   "metadata": {},
   "source": [
    "After Merging Remove the dataframes that do not have ticker_symbols"
   ]
  },
  {
   "cell_type": "code",
   "execution_count": 45,
   "metadata": {},
   "outputs": [],
   "source": [
    "tweets.dropna(inplace = True)"
   ]
  },
  {
   "attachments": {},
   "cell_type": "markdown",
   "metadata": {},
   "source": [
    "Convert our post_date time in seconds to date_time"
   ]
  },
  {
   "cell_type": "code",
   "execution_count": 46,
   "metadata": {},
   "outputs": [
    {
     "data": {
      "text/html": [
       "<div>\n",
       "<style scoped>\n",
       "    .dataframe tbody tr th:only-of-type {\n",
       "        vertical-align: middle;\n",
       "    }\n",
       "\n",
       "    .dataframe tbody tr th {\n",
       "        vertical-align: top;\n",
       "    }\n",
       "\n",
       "    .dataframe thead th {\n",
       "        text-align: right;\n",
       "    }\n",
       "</style>\n",
       "<table border=\"1\" class=\"dataframe\">\n",
       "  <thead>\n",
       "    <tr style=\"text-align: right;\">\n",
       "      <th></th>\n",
       "      <th>tweet_id</th>\n",
       "      <th>ticker_symbol</th>\n",
       "      <th>writer</th>\n",
       "      <th>post_date</th>\n",
       "      <th>body</th>\n",
       "      <th>comment_num</th>\n",
       "      <th>retweet_num</th>\n",
       "      <th>like_num</th>\n",
       "    </tr>\n",
       "  </thead>\n",
       "  <tbody>\n",
       "    <tr>\n",
       "      <th>0</th>\n",
       "      <td>550803612197457920</td>\n",
       "      <td>AAPL</td>\n",
       "      <td>SentiQuant</td>\n",
       "      <td>2015-01-01</td>\n",
       "      <td>#TOPTICKERTWEETS $AAPL $IMRS $BABA $EBAY $AMZN...</td>\n",
       "      <td>0</td>\n",
       "      <td>0</td>\n",
       "      <td>1</td>\n",
       "    </tr>\n",
       "    <tr>\n",
       "      <th>1</th>\n",
       "      <td>550803612197457920</td>\n",
       "      <td>AMZN</td>\n",
       "      <td>SentiQuant</td>\n",
       "      <td>2015-01-01</td>\n",
       "      <td>#TOPTICKERTWEETS $AAPL $IMRS $BABA $EBAY $AMZN...</td>\n",
       "      <td>0</td>\n",
       "      <td>0</td>\n",
       "      <td>1</td>\n",
       "    </tr>\n",
       "    <tr>\n",
       "      <th>2</th>\n",
       "      <td>550803610825928706</td>\n",
       "      <td>AAPL</td>\n",
       "      <td>SentiQuant</td>\n",
       "      <td>2015-01-01</td>\n",
       "      <td>#SENTISHIFTUP $K $FB $GOOGL $GS $GOLD $T $AAPL...</td>\n",
       "      <td>0</td>\n",
       "      <td>0</td>\n",
       "      <td>1</td>\n",
       "    </tr>\n",
       "    <tr>\n",
       "      <th>3</th>\n",
       "      <td>550803610825928706</td>\n",
       "      <td>GOOGL</td>\n",
       "      <td>SentiQuant</td>\n",
       "      <td>2015-01-01</td>\n",
       "      <td>#SENTISHIFTUP $K $FB $GOOGL $GS $GOLD $T $AAPL...</td>\n",
       "      <td>0</td>\n",
       "      <td>0</td>\n",
       "      <td>1</td>\n",
       "    </tr>\n",
       "    <tr>\n",
       "      <th>4</th>\n",
       "      <td>550803610825928706</td>\n",
       "      <td>AMZN</td>\n",
       "      <td>SentiQuant</td>\n",
       "      <td>2015-01-01</td>\n",
       "      <td>#SENTISHIFTUP $K $FB $GOOGL $GS $GOLD $T $AAPL...</td>\n",
       "      <td>0</td>\n",
       "      <td>0</td>\n",
       "      <td>1</td>\n",
       "    </tr>\n",
       "  </tbody>\n",
       "</table>\n",
       "</div>"
      ],
      "text/plain": [
       "             tweet_id ticker_symbol      writer  post_date  \\\n",
       "0  550803612197457920          AAPL  SentiQuant 2015-01-01   \n",
       "1  550803612197457920          AMZN  SentiQuant 2015-01-01   \n",
       "2  550803610825928706          AAPL  SentiQuant 2015-01-01   \n",
       "3  550803610825928706         GOOGL  SentiQuant 2015-01-01   \n",
       "4  550803610825928706          AMZN  SentiQuant 2015-01-01   \n",
       "\n",
       "                                                body  comment_num  \\\n",
       "0  #TOPTICKERTWEETS $AAPL $IMRS $BABA $EBAY $AMZN...            0   \n",
       "1  #TOPTICKERTWEETS $AAPL $IMRS $BABA $EBAY $AMZN...            0   \n",
       "2  #SENTISHIFTUP $K $FB $GOOGL $GS $GOLD $T $AAPL...            0   \n",
       "3  #SENTISHIFTUP $K $FB $GOOGL $GS $GOLD $T $AAPL...            0   \n",
       "4  #SENTISHIFTUP $K $FB $GOOGL $GS $GOLD $T $AAPL...            0   \n",
       "\n",
       "   retweet_num  like_num  \n",
       "0            0         1  \n",
       "1            0         1  \n",
       "2            0         1  \n",
       "3            0         1  \n",
       "4            0         1  "
      ]
     },
     "execution_count": 46,
     "metadata": {},
     "output_type": "execute_result"
    }
   ],
   "source": [
    "tweets['post_date'] = pd.to_datetime(tweets[\"post_date\"],utc = False , unit = 's',).dt.normalize()\n",
    "tweets.head()"
   ]
  },
  {
   "attachments": {},
   "cell_type": "markdown",
   "metadata": {},
   "source": [
    "We need our a training set and a testing set for the prediction of Neutral or Opinionated Tweets"
   ]
  },
  {
   "cell_type": "code",
   "execution_count": 47,
   "metadata": {},
   "outputs": [
    {
     "data": {
      "text/html": [
       "<div>\n",
       "<style scoped>\n",
       "    .dataframe tbody tr th:only-of-type {\n",
       "        vertical-align: middle;\n",
       "    }\n",
       "\n",
       "    .dataframe tbody tr th {\n",
       "        vertical-align: top;\n",
       "    }\n",
       "\n",
       "    .dataframe thead th {\n",
       "        text-align: right;\n",
       "    }\n",
       "</style>\n",
       "<table border=\"1\" class=\"dataframe\">\n",
       "  <thead>\n",
       "    <tr style=\"text-align: right;\">\n",
       "      <th></th>\n",
       "      <th>tweet_id</th>\n",
       "      <th>ticker_symbol</th>\n",
       "      <th>writer</th>\n",
       "      <th>post_date</th>\n",
       "      <th>body</th>\n",
       "      <th>comment_num</th>\n",
       "      <th>retweet_num</th>\n",
       "      <th>like_num</th>\n",
       "    </tr>\n",
       "  </thead>\n",
       "  <tbody>\n",
       "    <tr>\n",
       "      <th>3786974</th>\n",
       "      <td>1014983757252780033</td>\n",
       "      <td>TSLA</td>\n",
       "      <td>lopezlinette</td>\n",
       "      <td>2018-07-05</td>\n",
       "      <td>I’d just like to point out that right now, rig...</td>\n",
       "      <td>631</td>\n",
       "      <td>369</td>\n",
       "      <td>0</td>\n",
       "    </tr>\n",
       "    <tr>\n",
       "      <th>4112626</th>\n",
       "      <td>1118989675257978880</td>\n",
       "      <td>TSLA</td>\n",
       "      <td>GerberKawasaki</td>\n",
       "      <td>2019-04-18</td>\n",
       "      <td>If a Tesla saves you $200 a month on gas, you ...</td>\n",
       "      <td>567</td>\n",
       "      <td>0</td>\n",
       "      <td>0</td>\n",
       "    </tr>\n",
       "    <tr>\n",
       "      <th>4306536</th>\n",
       "      <td>1199424478536753155</td>\n",
       "      <td>TSLA</td>\n",
       "      <td>AlexSibila</td>\n",
       "      <td>2019-11-26</td>\n",
       "      <td>~Tesla feature request thread~Feel free to rep...</td>\n",
       "      <td>563</td>\n",
       "      <td>48</td>\n",
       "      <td>662</td>\n",
       "    </tr>\n",
       "    <tr>\n",
       "      <th>2823018</th>\n",
       "      <td>885933344487342082</td>\n",
       "      <td>AMZN</td>\n",
       "      <td>internet_dust</td>\n",
       "      <td>2017-07-14</td>\n",
       "      <td>\"I sell books.\" versus \"I sell whatever the fu...</td>\n",
       "      <td>496</td>\n",
       "      <td>0</td>\n",
       "      <td>0</td>\n",
       "    </tr>\n",
       "    <tr>\n",
       "      <th>4182686</th>\n",
       "      <td>1138975188127834112</td>\n",
       "      <td>TSLA</td>\n",
       "      <td>TeslaNY</td>\n",
       "      <td>2019-06-13</td>\n",
       "      <td>“I think it's basically financially insane to ...</td>\n",
       "      <td>442</td>\n",
       "      <td>0</td>\n",
       "      <td>0</td>\n",
       "    </tr>\n",
       "    <tr>\n",
       "      <th>...</th>\n",
       "      <td>...</td>\n",
       "      <td>...</td>\n",
       "      <td>...</td>\n",
       "      <td>...</td>\n",
       "      <td>...</td>\n",
       "      <td>...</td>\n",
       "      <td>...</td>\n",
       "      <td>...</td>\n",
       "    </tr>\n",
       "    <tr>\n",
       "      <th>1488123</th>\n",
       "      <td>1060565704389378055</td>\n",
       "      <td>AAPL</td>\n",
       "      <td>ScottSegen</td>\n",
       "      <td>2018-11-08</td>\n",
       "      <td>Mark Zuckerberg turns down UK parliament reque...</td>\n",
       "      <td>0</td>\n",
       "      <td>0</td>\n",
       "      <td>1</td>\n",
       "    </tr>\n",
       "    <tr>\n",
       "      <th>1488124</th>\n",
       "      <td>1060565704389378055</td>\n",
       "      <td>GOOGL</td>\n",
       "      <td>ScottSegen</td>\n",
       "      <td>2018-11-08</td>\n",
       "      <td>Mark Zuckerberg turns down UK parliament reque...</td>\n",
       "      <td>0</td>\n",
       "      <td>0</td>\n",
       "      <td>1</td>\n",
       "    </tr>\n",
       "    <tr>\n",
       "      <th>1488125</th>\n",
       "      <td>1060566279818366977</td>\n",
       "      <td>AAPL</td>\n",
       "      <td>jordanladz</td>\n",
       "      <td>2018-11-08</td>\n",
       "      <td>Get audible updates with this new application....</td>\n",
       "      <td>0</td>\n",
       "      <td>0</td>\n",
       "      <td>0</td>\n",
       "    </tr>\n",
       "    <tr>\n",
       "      <th>1488126</th>\n",
       "      <td>1060566346763849735</td>\n",
       "      <td>AAPL</td>\n",
       "      <td>CompoundFreedom</td>\n",
       "      <td>2018-11-08</td>\n",
       "      <td>Apple Opens First Store in Thailand Saturday h...</td>\n",
       "      <td>0</td>\n",
       "      <td>0</td>\n",
       "      <td>0</td>\n",
       "    </tr>\n",
       "    <tr>\n",
       "      <th>4336444</th>\n",
       "      <td>1212160015332728833</td>\n",
       "      <td>TSLA</td>\n",
       "      <td>Commuternyc</td>\n",
       "      <td>2019-12-31</td>\n",
       "      <td>Patiently Waiting for the no twitter sitter tw...</td>\n",
       "      <td>0</td>\n",
       "      <td>0</td>\n",
       "      <td>5</td>\n",
       "    </tr>\n",
       "  </tbody>\n",
       "</table>\n",
       "<p>4280526 rows × 8 columns</p>\n",
       "</div>"
      ],
      "text/plain": [
       "                    tweet_id ticker_symbol           writer  post_date  \\\n",
       "3786974  1014983757252780033          TSLA     lopezlinette 2018-07-05   \n",
       "4112626  1118989675257978880          TSLA   GerberKawasaki 2019-04-18   \n",
       "4306536  1199424478536753155          TSLA       AlexSibila 2019-11-26   \n",
       "2823018   885933344487342082          AMZN    internet_dust 2017-07-14   \n",
       "4182686  1138975188127834112          TSLA          TeslaNY 2019-06-13   \n",
       "...                      ...           ...              ...        ...   \n",
       "1488123  1060565704389378055          AAPL       ScottSegen 2018-11-08   \n",
       "1488124  1060565704389378055         GOOGL       ScottSegen 2018-11-08   \n",
       "1488125  1060566279818366977          AAPL       jordanladz 2018-11-08   \n",
       "1488126  1060566346763849735          AAPL  CompoundFreedom 2018-11-08   \n",
       "4336444  1212160015332728833          TSLA      Commuternyc 2019-12-31   \n",
       "\n",
       "                                                      body  comment_num  \\\n",
       "3786974  I’d just like to point out that right now, rig...          631   \n",
       "4112626  If a Tesla saves you $200 a month on gas, you ...          567   \n",
       "4306536  ~Tesla feature request thread~Feel free to rep...          563   \n",
       "2823018  \"I sell books.\" versus \"I sell whatever the fu...          496   \n",
       "4182686  “I think it's basically financially insane to ...          442   \n",
       "...                                                    ...          ...   \n",
       "1488123  Mark Zuckerberg turns down UK parliament reque...            0   \n",
       "1488124  Mark Zuckerberg turns down UK parliament reque...            0   \n",
       "1488125  Get audible updates with this new application....            0   \n",
       "1488126  Apple Opens First Store in Thailand Saturday h...            0   \n",
       "4336444  Patiently Waiting for the no twitter sitter tw...            0   \n",
       "\n",
       "         retweet_num  like_num  \n",
       "3786974          369         0  \n",
       "4112626            0         0  \n",
       "4306536           48       662  \n",
       "2823018            0         0  \n",
       "4182686            0         0  \n",
       "...              ...       ...  \n",
       "1488123            0         1  \n",
       "1488124            0         1  \n",
       "1488125            0         0  \n",
       "1488126            0         0  \n",
       "4336444            0         5  \n",
       "\n",
       "[4280526 rows x 8 columns]"
      ]
     },
     "execution_count": 47,
     "metadata": {},
     "output_type": "execute_result"
    }
   ],
   "source": [
    "tweets.sort_values(by = \"comment_num\" , ascending  = False, inplace = True)\n",
    "tweets\n"
   ]
  },
  {
   "attachments": {},
   "cell_type": "markdown",
   "metadata": {},
   "source": [
    "## First Find the sum of all the activities in the tweet post"
   ]
  },
  {
   "cell_type": "code",
   "execution_count": 48,
   "metadata": {},
   "outputs": [
    {
     "data": {
      "text/html": [
       "<div>\n",
       "<style scoped>\n",
       "    .dataframe tbody tr th:only-of-type {\n",
       "        vertical-align: middle;\n",
       "    }\n",
       "\n",
       "    .dataframe tbody tr th {\n",
       "        vertical-align: top;\n",
       "    }\n",
       "\n",
       "    .dataframe thead th {\n",
       "        text-align: right;\n",
       "    }\n",
       "</style>\n",
       "<table border=\"1\" class=\"dataframe\">\n",
       "  <thead>\n",
       "    <tr style=\"text-align: right;\">\n",
       "      <th></th>\n",
       "      <th>tweet_id</th>\n",
       "      <th>ticker_symbol</th>\n",
       "      <th>writer</th>\n",
       "      <th>post_date</th>\n",
       "      <th>body</th>\n",
       "      <th>comment_num</th>\n",
       "      <th>retweet_num</th>\n",
       "      <th>like_num</th>\n",
       "      <th>tweet_activity</th>\n",
       "    </tr>\n",
       "  </thead>\n",
       "  <tbody>\n",
       "    <tr>\n",
       "      <th>3786974</th>\n",
       "      <td>1014983757252780033</td>\n",
       "      <td>TSLA</td>\n",
       "      <td>lopezlinette</td>\n",
       "      <td>2018-07-05</td>\n",
       "      <td>I’d just like to point out that right now, rig...</td>\n",
       "      <td>631</td>\n",
       "      <td>369</td>\n",
       "      <td>0</td>\n",
       "      <td>1000</td>\n",
       "    </tr>\n",
       "    <tr>\n",
       "      <th>4112626</th>\n",
       "      <td>1118989675257978880</td>\n",
       "      <td>TSLA</td>\n",
       "      <td>GerberKawasaki</td>\n",
       "      <td>2019-04-18</td>\n",
       "      <td>If a Tesla saves you $200 a month on gas, you ...</td>\n",
       "      <td>567</td>\n",
       "      <td>0</td>\n",
       "      <td>0</td>\n",
       "      <td>567</td>\n",
       "    </tr>\n",
       "    <tr>\n",
       "      <th>4306536</th>\n",
       "      <td>1199424478536753155</td>\n",
       "      <td>TSLA</td>\n",
       "      <td>AlexSibila</td>\n",
       "      <td>2019-11-26</td>\n",
       "      <td>~Tesla feature request thread~Feel free to rep...</td>\n",
       "      <td>563</td>\n",
       "      <td>48</td>\n",
       "      <td>662</td>\n",
       "      <td>1273</td>\n",
       "    </tr>\n",
       "    <tr>\n",
       "      <th>2823018</th>\n",
       "      <td>885933344487342082</td>\n",
       "      <td>AMZN</td>\n",
       "      <td>internet_dust</td>\n",
       "      <td>2017-07-14</td>\n",
       "      <td>\"I sell books.\" versus \"I sell whatever the fu...</td>\n",
       "      <td>496</td>\n",
       "      <td>0</td>\n",
       "      <td>0</td>\n",
       "      <td>496</td>\n",
       "    </tr>\n",
       "    <tr>\n",
       "      <th>4182686</th>\n",
       "      <td>1138975188127834112</td>\n",
       "      <td>TSLA</td>\n",
       "      <td>TeslaNY</td>\n",
       "      <td>2019-06-13</td>\n",
       "      <td>“I think it's basically financially insane to ...</td>\n",
       "      <td>442</td>\n",
       "      <td>0</td>\n",
       "      <td>0</td>\n",
       "      <td>442</td>\n",
       "    </tr>\n",
       "    <tr>\n",
       "      <th>...</th>\n",
       "      <td>...</td>\n",
       "      <td>...</td>\n",
       "      <td>...</td>\n",
       "      <td>...</td>\n",
       "      <td>...</td>\n",
       "      <td>...</td>\n",
       "      <td>...</td>\n",
       "      <td>...</td>\n",
       "      <td>...</td>\n",
       "    </tr>\n",
       "    <tr>\n",
       "      <th>1488123</th>\n",
       "      <td>1060565704389378055</td>\n",
       "      <td>AAPL</td>\n",
       "      <td>ScottSegen</td>\n",
       "      <td>2018-11-08</td>\n",
       "      <td>Mark Zuckerberg turns down UK parliament reque...</td>\n",
       "      <td>0</td>\n",
       "      <td>0</td>\n",
       "      <td>1</td>\n",
       "      <td>1</td>\n",
       "    </tr>\n",
       "    <tr>\n",
       "      <th>1488124</th>\n",
       "      <td>1060565704389378055</td>\n",
       "      <td>GOOGL</td>\n",
       "      <td>ScottSegen</td>\n",
       "      <td>2018-11-08</td>\n",
       "      <td>Mark Zuckerberg turns down UK parliament reque...</td>\n",
       "      <td>0</td>\n",
       "      <td>0</td>\n",
       "      <td>1</td>\n",
       "      <td>1</td>\n",
       "    </tr>\n",
       "    <tr>\n",
       "      <th>1488125</th>\n",
       "      <td>1060566279818366977</td>\n",
       "      <td>AAPL</td>\n",
       "      <td>jordanladz</td>\n",
       "      <td>2018-11-08</td>\n",
       "      <td>Get audible updates with this new application....</td>\n",
       "      <td>0</td>\n",
       "      <td>0</td>\n",
       "      <td>0</td>\n",
       "      <td>0</td>\n",
       "    </tr>\n",
       "    <tr>\n",
       "      <th>1488126</th>\n",
       "      <td>1060566346763849735</td>\n",
       "      <td>AAPL</td>\n",
       "      <td>CompoundFreedom</td>\n",
       "      <td>2018-11-08</td>\n",
       "      <td>Apple Opens First Store in Thailand Saturday h...</td>\n",
       "      <td>0</td>\n",
       "      <td>0</td>\n",
       "      <td>0</td>\n",
       "      <td>0</td>\n",
       "    </tr>\n",
       "    <tr>\n",
       "      <th>4336444</th>\n",
       "      <td>1212160015332728833</td>\n",
       "      <td>TSLA</td>\n",
       "      <td>Commuternyc</td>\n",
       "      <td>2019-12-31</td>\n",
       "      <td>Patiently Waiting for the no twitter sitter tw...</td>\n",
       "      <td>0</td>\n",
       "      <td>0</td>\n",
       "      <td>5</td>\n",
       "      <td>5</td>\n",
       "    </tr>\n",
       "  </tbody>\n",
       "</table>\n",
       "<p>4280526 rows × 9 columns</p>\n",
       "</div>"
      ],
      "text/plain": [
       "                    tweet_id ticker_symbol           writer  post_date  \\\n",
       "3786974  1014983757252780033          TSLA     lopezlinette 2018-07-05   \n",
       "4112626  1118989675257978880          TSLA   GerberKawasaki 2019-04-18   \n",
       "4306536  1199424478536753155          TSLA       AlexSibila 2019-11-26   \n",
       "2823018   885933344487342082          AMZN    internet_dust 2017-07-14   \n",
       "4182686  1138975188127834112          TSLA          TeslaNY 2019-06-13   \n",
       "...                      ...           ...              ...        ...   \n",
       "1488123  1060565704389378055          AAPL       ScottSegen 2018-11-08   \n",
       "1488124  1060565704389378055         GOOGL       ScottSegen 2018-11-08   \n",
       "1488125  1060566279818366977          AAPL       jordanladz 2018-11-08   \n",
       "1488126  1060566346763849735          AAPL  CompoundFreedom 2018-11-08   \n",
       "4336444  1212160015332728833          TSLA      Commuternyc 2019-12-31   \n",
       "\n",
       "                                                      body  comment_num  \\\n",
       "3786974  I’d just like to point out that right now, rig...          631   \n",
       "4112626  If a Tesla saves you $200 a month on gas, you ...          567   \n",
       "4306536  ~Tesla feature request thread~Feel free to rep...          563   \n",
       "2823018  \"I sell books.\" versus \"I sell whatever the fu...          496   \n",
       "4182686  “I think it's basically financially insane to ...          442   \n",
       "...                                                    ...          ...   \n",
       "1488123  Mark Zuckerberg turns down UK parliament reque...            0   \n",
       "1488124  Mark Zuckerberg turns down UK parliament reque...            0   \n",
       "1488125  Get audible updates with this new application....            0   \n",
       "1488126  Apple Opens First Store in Thailand Saturday h...            0   \n",
       "4336444  Patiently Waiting for the no twitter sitter tw...            0   \n",
       "\n",
       "         retweet_num  like_num  tweet_activity  \n",
       "3786974          369         0            1000  \n",
       "4112626            0         0             567  \n",
       "4306536           48       662            1273  \n",
       "2823018            0         0             496  \n",
       "4182686            0         0             442  \n",
       "...              ...       ...             ...  \n",
       "1488123            0         1               1  \n",
       "1488124            0         1               1  \n",
       "1488125            0         0               0  \n",
       "1488126            0         0               0  \n",
       "4336444            0         5               5  \n",
       "\n",
       "[4280526 rows x 9 columns]"
      ]
     },
     "execution_count": 48,
     "metadata": {},
     "output_type": "execute_result"
    }
   ],
   "source": [
    "tweets[\"tweet_activity\"] = tweets[\"comment_num\"] + tweets[\"like_num\"] + tweets[\"retweet_num\"]\n",
    "tweets"
   ]
  },
  {
   "attachments": {},
   "cell_type": "markdown",
   "metadata": {},
   "source": [
    "## Filter Tweets that are >= 50 activities"
   ]
  },
  {
   "cell_type": "code",
   "execution_count": 49,
   "metadata": {},
   "outputs": [],
   "source": [
    "filterTweets = tweets.loc[tweets[\"tweet_activity\"] > 50]"
   ]
  },
  {
   "cell_type": "code",
   "execution_count": 50,
   "metadata": {},
   "outputs": [
    {
     "data": {
      "text/html": [
       "<div>\n",
       "<style scoped>\n",
       "    .dataframe tbody tr th:only-of-type {\n",
       "        vertical-align: middle;\n",
       "    }\n",
       "\n",
       "    .dataframe tbody tr th {\n",
       "        vertical-align: top;\n",
       "    }\n",
       "\n",
       "    .dataframe thead th {\n",
       "        text-align: right;\n",
       "    }\n",
       "</style>\n",
       "<table border=\"1\" class=\"dataframe\">\n",
       "  <thead>\n",
       "    <tr style=\"text-align: right;\">\n",
       "      <th></th>\n",
       "      <th>tweet_id</th>\n",
       "      <th>ticker_symbol</th>\n",
       "      <th>writer</th>\n",
       "      <th>post_date</th>\n",
       "      <th>body</th>\n",
       "      <th>comment_num</th>\n",
       "      <th>retweet_num</th>\n",
       "      <th>like_num</th>\n",
       "      <th>tweet_activity</th>\n",
       "    </tr>\n",
       "  </thead>\n",
       "  <tbody>\n",
       "    <tr>\n",
       "      <th>3786974</th>\n",
       "      <td>1014983757252780033</td>\n",
       "      <td>TSLA</td>\n",
       "      <td>lopezlinette</td>\n",
       "      <td>2018-07-05</td>\n",
       "      <td>I’d just like to point out that right now, rig...</td>\n",
       "      <td>631</td>\n",
       "      <td>369</td>\n",
       "      <td>0</td>\n",
       "      <td>1000</td>\n",
       "    </tr>\n",
       "    <tr>\n",
       "      <th>4112626</th>\n",
       "      <td>1118989675257978880</td>\n",
       "      <td>TSLA</td>\n",
       "      <td>GerberKawasaki</td>\n",
       "      <td>2019-04-18</td>\n",
       "      <td>If a Tesla saves you $200 a month on gas, you ...</td>\n",
       "      <td>567</td>\n",
       "      <td>0</td>\n",
       "      <td>0</td>\n",
       "      <td>567</td>\n",
       "    </tr>\n",
       "    <tr>\n",
       "      <th>4306536</th>\n",
       "      <td>1199424478536753155</td>\n",
       "      <td>TSLA</td>\n",
       "      <td>AlexSibila</td>\n",
       "      <td>2019-11-26</td>\n",
       "      <td>~Tesla feature request thread~Feel free to rep...</td>\n",
       "      <td>563</td>\n",
       "      <td>48</td>\n",
       "      <td>662</td>\n",
       "      <td>1273</td>\n",
       "    </tr>\n",
       "    <tr>\n",
       "      <th>2823018</th>\n",
       "      <td>885933344487342082</td>\n",
       "      <td>AMZN</td>\n",
       "      <td>internet_dust</td>\n",
       "      <td>2017-07-14</td>\n",
       "      <td>\"I sell books.\" versus \"I sell whatever the fu...</td>\n",
       "      <td>496</td>\n",
       "      <td>0</td>\n",
       "      <td>0</td>\n",
       "      <td>496</td>\n",
       "    </tr>\n",
       "    <tr>\n",
       "      <th>4182686</th>\n",
       "      <td>1138975188127834112</td>\n",
       "      <td>TSLA</td>\n",
       "      <td>TeslaNY</td>\n",
       "      <td>2019-06-13</td>\n",
       "      <td>“I think it's basically financially insane to ...</td>\n",
       "      <td>442</td>\n",
       "      <td>0</td>\n",
       "      <td>0</td>\n",
       "      <td>442</td>\n",
       "    </tr>\n",
       "  </tbody>\n",
       "</table>\n",
       "</div>"
      ],
      "text/plain": [
       "                    tweet_id ticker_symbol          writer  post_date  \\\n",
       "3786974  1014983757252780033          TSLA    lopezlinette 2018-07-05   \n",
       "4112626  1118989675257978880          TSLA  GerberKawasaki 2019-04-18   \n",
       "4306536  1199424478536753155          TSLA      AlexSibila 2019-11-26   \n",
       "2823018   885933344487342082          AMZN   internet_dust 2017-07-14   \n",
       "4182686  1138975188127834112          TSLA         TeslaNY 2019-06-13   \n",
       "\n",
       "                                                      body  comment_num  \\\n",
       "3786974  I’d just like to point out that right now, rig...          631   \n",
       "4112626  If a Tesla saves you $200 a month on gas, you ...          567   \n",
       "4306536  ~Tesla feature request thread~Feel free to rep...          563   \n",
       "2823018  \"I sell books.\" versus \"I sell whatever the fu...          496   \n",
       "4182686  “I think it's basically financially insane to ...          442   \n",
       "\n",
       "         retweet_num  like_num  tweet_activity  \n",
       "3786974          369         0            1000  \n",
       "4112626            0         0             567  \n",
       "4306536           48       662            1273  \n",
       "2823018            0         0             496  \n",
       "4182686            0         0             442  "
      ]
     },
     "execution_count": 50,
     "metadata": {},
     "output_type": "execute_result"
    }
   ],
   "source": [
    "filterTweets.head()"
   ]
  },
  {
   "cell_type": "code",
   "execution_count": 51,
   "metadata": {},
   "outputs": [
    {
     "name": "stdout",
     "output_type": "stream",
     "text": [
      "<class 'pandas.core.frame.DataFrame'>\n",
      "Int64Index: 41625 entries, 3786974 to 1488017\n",
      "Data columns (total 9 columns):\n",
      " #   Column          Non-Null Count  Dtype         \n",
      "---  ------          --------------  -----         \n",
      " 0   tweet_id        41625 non-null  int64         \n",
      " 1   ticker_symbol   41625 non-null  object        \n",
      " 2   writer          41625 non-null  object        \n",
      " 3   post_date       41625 non-null  datetime64[ns]\n",
      " 4   body            41625 non-null  object        \n",
      " 5   comment_num     41625 non-null  int64         \n",
      " 6   retweet_num     41625 non-null  int64         \n",
      " 7   like_num        41625 non-null  int64         \n",
      " 8   tweet_activity  41625 non-null  int64         \n",
      "dtypes: datetime64[ns](1), int64(5), object(3)\n",
      "memory usage: 3.2+ MB\n",
      " Dataset Information and type \n",
      " None\n",
      "--------------------------------------------------------\n",
      "\n",
      " Data Types: \n",
      "tweet_id                   int64\n",
      "ticker_symbol             object\n",
      "writer                    object\n",
      "post_date         datetime64[ns]\n",
      "body                      object\n",
      "comment_num                int64\n",
      "retweet_num                int64\n",
      "like_num                   int64\n",
      "tweet_activity             int64\n",
      "dtype: object\n",
      "--------------------------------------------------------\n",
      "\n",
      " Rows and Columns: \n",
      "(41625, 9)\n",
      "--------------------------------------------------------\n",
      "\n",
      " Column Names: \n",
      "Index(['tweet_id', 'ticker_symbol', 'writer', 'post_date', 'body',\n",
      "       'comment_num', 'retweet_num', 'like_num', 'tweet_activity'],\n",
      "      dtype='object')\n",
      "--------------------------------------------------------\n",
      "\n",
      " Null Values: \n",
      "tweet_id          0.0\n",
      "ticker_symbol     0.0\n",
      "writer            0.0\n",
      "post_date         0.0\n",
      "body              0.0\n",
      "comment_num       0.0\n",
      "retweet_num       0.0\n",
      "like_num          0.0\n",
      "tweet_activity    0.0\n",
      "dtype: float64\n",
      "--------------------------------------------------------\n",
      "\n",
      " Unique Values: \n",
      "tweet_id          38420\n",
      "ticker_symbol         6\n",
      "writer             2797\n",
      "post_date          1746\n",
      "body              38085\n",
      "comment_num         191\n",
      "retweet_num         509\n",
      "like_num            783\n",
      "tweet_activity      967\n",
      "dtype: int64\n",
      "--------------------------------------------------------\n",
      "\n",
      " Describe: \n",
      "           tweet_id   comment_num   retweet_num      like_num  tweet_activity\n",
      "count  4.162500e+04  41625.000000  41625.000000  41625.000000    41625.000000\n",
      "mean   1.049881e+18      9.375808     29.118775     94.410907      132.905489\n",
      "std    1.361704e+17     15.281991     63.833735     98.093655      134.698745\n",
      "min    5.504536e+17      0.000000      0.000000      0.000000       51.000000\n",
      "25%    1.016411e+18      3.000000      7.000000     46.000000       64.000000\n",
      "50%    1.081987e+18      6.000000     14.000000     64.000000       88.000000\n",
      "75%    1.138579e+18     11.000000     29.000000    102.000000      142.000000\n",
      "max    1.212129e+18    631.000000    999.000000    999.000000     1703.000000\n"
     ]
    }
   ],
   "source": [
    "datasetInfo(filterTweets)"
   ]
  },
  {
   "attachments": {},
   "cell_type": "markdown",
   "metadata": {},
   "source": [
    "### Data Cleaning and Tokenization of text body"
   ]
  },
  {
   "cell_type": "code",
   "execution_count": 52,
   "metadata": {},
   "outputs": [],
   "source": [
    "from nltk.corpus import stopwords\n",
    "\n",
    "def removeStopWords(df):\n",
    "    finalList = []\n",
    "    stop_words = set(stopwords.words('english'))\n",
    "    for word in df:\n",
    "        if word not in stop_words:\n",
    "            finalList.append(word)\n",
    "    df = finalList\n",
    "    return df"
   ]
  },
  {
   "cell_type": "code",
   "execution_count": 53,
   "metadata": {},
   "outputs": [],
   "source": [
    "import pandas as pd\n",
    "import re\n",
    "\n",
    "\n",
    "def clean_dataframe_text(df, column):\n",
    "    \n",
    "    \n",
    "    # Remove any non-alphanumeric characters and replace them with spaces\n",
    "    df[column] = df[column].apply(lambda x: re.sub(r\"(\\w+)'d\", lambda m: 'would' if m.group(1) in ['he', 'she', 'it', 'that'] else 'had', x))\n",
    "    \n",
    "    # Replace 's with 'is' or 'has'\n",
    "    df[column] = df[column].apply(lambda x: re.sub(r\"(\\w+)'s\", lambda m: 'is' if m.group(1) in ['he', 'she', 'it'] else 'has', x))\n",
    "    \n",
    "    # Remove any non-alphanumeric characters and replace them with spaces\n",
    "    df[column] = df[column].apply(lambda x: re.sub(r'[^\\w\\s]', '', x))\n",
    "    \n",
    "    # Replace any consecutive whitespace characters with a single space\n",
    "    df[column] = df[column].apply(lambda x: re.sub(r'\\s+', ' ', x))\n",
    "    \n",
    "    df[column] = df[column].apply(lambda x: re.sub(r'[^\\w\\s]', ' ', x))\n",
    "    \n",
    "    # Replace any consecutive whitespace characters with a single space\n",
    "    df[column] = df[column].apply(lambda x: re.sub(r'\\s+', ' ', x))\n",
    "    \n",
    "    df[column] = df[column].apply(lambda x: re.sub(r'\\d+', '', x))\n",
    "    \n",
    "    # Convert the string in lower\n",
    "    df[column] = df[column].str.lower()\n",
    "    \n",
    "    # Tokenised the words\n",
    "    df[column]  = df[column].apply(lambda x : nltk.word_tokenize(x))\n",
    "\n",
    "    # Remove stopwords from the NLTK stopword list\n",
    "    df[column] = df[column].apply(lambda x : removeStopWords(x))\n",
    "    \n",
    "    #concatenate the tokenised list into string\n",
    "    df[column] = df[column].apply(lambda x: ' '.join(x))\n",
    "    \n",
    "      \n",
    "    return df"
   ]
  },
  {
   "cell_type": "code",
   "execution_count": 54,
   "metadata": {},
   "outputs": [
    {
     "name": "stderr",
     "output_type": "stream",
     "text": [
      "C:\\Users\\eric2\\AppData\\Local\\Temp\\ipykernel_15708\\1818228353.py:9: SettingWithCopyWarning: \n",
      "A value is trying to be set on a copy of a slice from a DataFrame.\n",
      "Try using .loc[row_indexer,col_indexer] = value instead\n",
      "\n",
      "See the caveats in the documentation: https://pandas.pydata.org/pandas-docs/stable/user_guide/indexing.html#returning-a-view-versus-a-copy\n",
      "  df[column] = df[column].apply(lambda x: re.sub(r\"(\\w+)'d\", lambda m: 'would' if m.group(1) in ['he', 'she', 'it', 'that'] else 'had', x))\n",
      "C:\\Users\\eric2\\AppData\\Local\\Temp\\ipykernel_15708\\1818228353.py:12: SettingWithCopyWarning: \n",
      "A value is trying to be set on a copy of a slice from a DataFrame.\n",
      "Try using .loc[row_indexer,col_indexer] = value instead\n",
      "\n",
      "See the caveats in the documentation: https://pandas.pydata.org/pandas-docs/stable/user_guide/indexing.html#returning-a-view-versus-a-copy\n",
      "  df[column] = df[column].apply(lambda x: re.sub(r\"(\\w+)'s\", lambda m: 'is' if m.group(1) in ['he', 'she', 'it'] else 'has', x))\n",
      "C:\\Users\\eric2\\AppData\\Local\\Temp\\ipykernel_15708\\1818228353.py:15: SettingWithCopyWarning: \n",
      "A value is trying to be set on a copy of a slice from a DataFrame.\n",
      "Try using .loc[row_indexer,col_indexer] = value instead\n",
      "\n",
      "See the caveats in the documentation: https://pandas.pydata.org/pandas-docs/stable/user_guide/indexing.html#returning-a-view-versus-a-copy\n",
      "  df[column] = df[column].apply(lambda x: re.sub(r'[^\\w\\s]', '', x))\n",
      "C:\\Users\\eric2\\AppData\\Local\\Temp\\ipykernel_15708\\1818228353.py:18: SettingWithCopyWarning: \n",
      "A value is trying to be set on a copy of a slice from a DataFrame.\n",
      "Try using .loc[row_indexer,col_indexer] = value instead\n",
      "\n",
      "See the caveats in the documentation: https://pandas.pydata.org/pandas-docs/stable/user_guide/indexing.html#returning-a-view-versus-a-copy\n",
      "  df[column] = df[column].apply(lambda x: re.sub(r'\\s+', ' ', x))\n",
      "C:\\Users\\eric2\\AppData\\Local\\Temp\\ipykernel_15708\\1818228353.py:20: SettingWithCopyWarning: \n",
      "A value is trying to be set on a copy of a slice from a DataFrame.\n",
      "Try using .loc[row_indexer,col_indexer] = value instead\n",
      "\n",
      "See the caveats in the documentation: https://pandas.pydata.org/pandas-docs/stable/user_guide/indexing.html#returning-a-view-versus-a-copy\n",
      "  df[column] = df[column].apply(lambda x: re.sub(r'[^\\w\\s]', ' ', x))\n",
      "C:\\Users\\eric2\\AppData\\Local\\Temp\\ipykernel_15708\\1818228353.py:23: SettingWithCopyWarning: \n",
      "A value is trying to be set on a copy of a slice from a DataFrame.\n",
      "Try using .loc[row_indexer,col_indexer] = value instead\n",
      "\n",
      "See the caveats in the documentation: https://pandas.pydata.org/pandas-docs/stable/user_guide/indexing.html#returning-a-view-versus-a-copy\n",
      "  df[column] = df[column].apply(lambda x: re.sub(r'\\s+', ' ', x))\n",
      "C:\\Users\\eric2\\AppData\\Local\\Temp\\ipykernel_15708\\1818228353.py:25: SettingWithCopyWarning: \n",
      "A value is trying to be set on a copy of a slice from a DataFrame.\n",
      "Try using .loc[row_indexer,col_indexer] = value instead\n",
      "\n",
      "See the caveats in the documentation: https://pandas.pydata.org/pandas-docs/stable/user_guide/indexing.html#returning-a-view-versus-a-copy\n",
      "  df[column] = df[column].apply(lambda x: re.sub(r'\\d+', '', x))\n",
      "C:\\Users\\eric2\\AppData\\Local\\Temp\\ipykernel_15708\\1818228353.py:28: SettingWithCopyWarning: \n",
      "A value is trying to be set on a copy of a slice from a DataFrame.\n",
      "Try using .loc[row_indexer,col_indexer] = value instead\n",
      "\n",
      "See the caveats in the documentation: https://pandas.pydata.org/pandas-docs/stable/user_guide/indexing.html#returning-a-view-versus-a-copy\n",
      "  df[column] = df[column].str.lower()\n",
      "C:\\Users\\eric2\\AppData\\Local\\Temp\\ipykernel_15708\\1818228353.py:31: SettingWithCopyWarning: \n",
      "A value is trying to be set on a copy of a slice from a DataFrame.\n",
      "Try using .loc[row_indexer,col_indexer] = value instead\n",
      "\n",
      "See the caveats in the documentation: https://pandas.pydata.org/pandas-docs/stable/user_guide/indexing.html#returning-a-view-versus-a-copy\n",
      "  df[column]  = df[column].apply(lambda x : nltk.word_tokenize(x))\n",
      "C:\\Users\\eric2\\AppData\\Local\\Temp\\ipykernel_15708\\1818228353.py:34: SettingWithCopyWarning: \n",
      "A value is trying to be set on a copy of a slice from a DataFrame.\n",
      "Try using .loc[row_indexer,col_indexer] = value instead\n",
      "\n",
      "See the caveats in the documentation: https://pandas.pydata.org/pandas-docs/stable/user_guide/indexing.html#returning-a-view-versus-a-copy\n",
      "  df[column] = df[column].apply(lambda x : removeStopWords(x))\n",
      "C:\\Users\\eric2\\AppData\\Local\\Temp\\ipykernel_15708\\1818228353.py:37: SettingWithCopyWarning: \n",
      "A value is trying to be set on a copy of a slice from a DataFrame.\n",
      "Try using .loc[row_indexer,col_indexer] = value instead\n",
      "\n",
      "See the caveats in the documentation: https://pandas.pydata.org/pandas-docs/stable/user_guide/indexing.html#returning-a-view-versus-a-copy\n",
      "  df[column] = df[column].apply(lambda x: ' '.join(x))\n"
     ]
    },
    {
     "data": {
      "text/html": [
       "<div>\n",
       "<style scoped>\n",
       "    .dataframe tbody tr th:only-of-type {\n",
       "        vertical-align: middle;\n",
       "    }\n",
       "\n",
       "    .dataframe tbody tr th {\n",
       "        vertical-align: top;\n",
       "    }\n",
       "\n",
       "    .dataframe thead th {\n",
       "        text-align: right;\n",
       "    }\n",
       "</style>\n",
       "<table border=\"1\" class=\"dataframe\">\n",
       "  <thead>\n",
       "    <tr style=\"text-align: right;\">\n",
       "      <th></th>\n",
       "      <th>tweet_id</th>\n",
       "      <th>ticker_symbol</th>\n",
       "      <th>writer</th>\n",
       "      <th>post_date</th>\n",
       "      <th>body</th>\n",
       "      <th>comment_num</th>\n",
       "      <th>retweet_num</th>\n",
       "      <th>like_num</th>\n",
       "      <th>tweet_activity</th>\n",
       "    </tr>\n",
       "  </thead>\n",
       "  <tbody>\n",
       "    <tr>\n",
       "      <th>3786974</th>\n",
       "      <td>1014983757252780033</td>\n",
       "      <td>TSLA</td>\n",
       "      <td>lopezlinette</td>\n",
       "      <td>2018-07-05</td>\n",
       "      <td>id like point right right moment elonmusk goin...</td>\n",
       "      <td>631</td>\n",
       "      <td>369</td>\n",
       "      <td>0</td>\n",
       "      <td>1000</td>\n",
       "    </tr>\n",
       "    <tr>\n",
       "      <th>4112626</th>\n",
       "      <td>1118989675257978880</td>\n",
       "      <td>TSLA</td>\n",
       "      <td>GerberKawasaki</td>\n",
       "      <td>2019-04-18</td>\n",
       "      <td>tesla saves month gas ten years take savings p...</td>\n",
       "      <td>567</td>\n",
       "      <td>0</td>\n",
       "      <td>0</td>\n",
       "      <td>567</td>\n",
       "    </tr>\n",
       "    <tr>\n",
       "      <th>4306536</th>\n",
       "      <td>1199424478536753155</td>\n",
       "      <td>TSLA</td>\n",
       "      <td>AlexSibila</td>\n",
       "      <td>2019-11-26</td>\n",
       "      <td>tesla feature request threadfeel free reply il...</td>\n",
       "      <td>563</td>\n",
       "      <td>48</td>\n",
       "      <td>662</td>\n",
       "      <td>1273</td>\n",
       "    </tr>\n",
       "    <tr>\n",
       "      <th>2823018</th>\n",
       "      <td>885933344487342082</td>\n",
       "      <td>AMZN</td>\n",
       "      <td>internet_dust</td>\n",
       "      <td>2017-07-14</td>\n",
       "      <td>sell books versus sell whatever fuck want amzn</td>\n",
       "      <td>496</td>\n",
       "      <td>0</td>\n",
       "      <td>0</td>\n",
       "      <td>496</td>\n",
       "    </tr>\n",
       "    <tr>\n",
       "      <th>4182686</th>\n",
       "      <td>1138975188127834112</td>\n",
       "      <td>TSLA</td>\n",
       "      <td>TeslaNY</td>\n",
       "      <td>2019-06-13</td>\n",
       "      <td>think basically financially insane buy anythin...</td>\n",
       "      <td>442</td>\n",
       "      <td>0</td>\n",
       "      <td>0</td>\n",
       "      <td>442</td>\n",
       "    </tr>\n",
       "    <tr>\n",
       "      <th>...</th>\n",
       "      <td>...</td>\n",
       "      <td>...</td>\n",
       "      <td>...</td>\n",
       "      <td>...</td>\n",
       "      <td>...</td>\n",
       "      <td>...</td>\n",
       "      <td>...</td>\n",
       "      <td>...</td>\n",
       "      <td>...</td>\n",
       "    </tr>\n",
       "    <tr>\n",
       "      <th>1498488</th>\n",
       "      <td>1063566557677146112</td>\n",
       "      <td>AAPL</td>\n",
       "      <td>financialbuzz</td>\n",
       "      <td>2018-11-16</td>\n",
       "      <td>watch us report live floor nyse weeks weekly w...</td>\n",
       "      <td>0</td>\n",
       "      <td>126</td>\n",
       "      <td>80</td>\n",
       "      <td>206</td>\n",
       "    </tr>\n",
       "    <tr>\n",
       "      <th>1498489</th>\n",
       "      <td>1063566683720175616</td>\n",
       "      <td>AAPL</td>\n",
       "      <td>financialbuzz</td>\n",
       "      <td>2018-11-16</td>\n",
       "      <td>watch us report live floor nyse weeks weekly w...</td>\n",
       "      <td>0</td>\n",
       "      <td>86</td>\n",
       "      <td>62</td>\n",
       "      <td>148</td>\n",
       "    </tr>\n",
       "    <tr>\n",
       "      <th>1498490</th>\n",
       "      <td>1063566957956349952</td>\n",
       "      <td>AAPL</td>\n",
       "      <td>financialbuzz</td>\n",
       "      <td>2018-11-16</td>\n",
       "      <td>watch us report live floor nyse weeks weekly w...</td>\n",
       "      <td>0</td>\n",
       "      <td>117</td>\n",
       "      <td>41</td>\n",
       "      <td>158</td>\n",
       "    </tr>\n",
       "    <tr>\n",
       "      <th>1482004</th>\n",
       "      <td>1058502476406632448</td>\n",
       "      <td>AAPL</td>\n",
       "      <td>financialbuzz</td>\n",
       "      <td>2018-11-02</td>\n",
       "      <td>watch us report live floor nyse weeks weekly w...</td>\n",
       "      <td>0</td>\n",
       "      <td>155</td>\n",
       "      <td>0</td>\n",
       "      <td>155</td>\n",
       "    </tr>\n",
       "    <tr>\n",
       "      <th>1488017</th>\n",
       "      <td>1060549081418948609</td>\n",
       "      <td>AAPL</td>\n",
       "      <td>appleinsider</td>\n",
       "      <td>2018-11-08</td>\n",
       "      <td>services grow billion per year says analyst aa...</td>\n",
       "      <td>0</td>\n",
       "      <td>10</td>\n",
       "      <td>45</td>\n",
       "      <td>55</td>\n",
       "    </tr>\n",
       "  </tbody>\n",
       "</table>\n",
       "<p>41625 rows × 9 columns</p>\n",
       "</div>"
      ],
      "text/plain": [
       "                    tweet_id ticker_symbol          writer  post_date  \\\n",
       "3786974  1014983757252780033          TSLA    lopezlinette 2018-07-05   \n",
       "4112626  1118989675257978880          TSLA  GerberKawasaki 2019-04-18   \n",
       "4306536  1199424478536753155          TSLA      AlexSibila 2019-11-26   \n",
       "2823018   885933344487342082          AMZN   internet_dust 2017-07-14   \n",
       "4182686  1138975188127834112          TSLA         TeslaNY 2019-06-13   \n",
       "...                      ...           ...             ...        ...   \n",
       "1498488  1063566557677146112          AAPL   financialbuzz 2018-11-16   \n",
       "1498489  1063566683720175616          AAPL   financialbuzz 2018-11-16   \n",
       "1498490  1063566957956349952          AAPL   financialbuzz 2018-11-16   \n",
       "1482004  1058502476406632448          AAPL   financialbuzz 2018-11-02   \n",
       "1488017  1060549081418948609          AAPL    appleinsider 2018-11-08   \n",
       "\n",
       "                                                      body  comment_num  \\\n",
       "3786974  id like point right right moment elonmusk goin...          631   \n",
       "4112626  tesla saves month gas ten years take savings p...          567   \n",
       "4306536  tesla feature request threadfeel free reply il...          563   \n",
       "2823018     sell books versus sell whatever fuck want amzn          496   \n",
       "4182686  think basically financially insane buy anythin...          442   \n",
       "...                                                    ...          ...   \n",
       "1498488  watch us report live floor nyse weeks weekly w...            0   \n",
       "1498489  watch us report live floor nyse weeks weekly w...            0   \n",
       "1498490  watch us report live floor nyse weeks weekly w...            0   \n",
       "1482004  watch us report live floor nyse weeks weekly w...            0   \n",
       "1488017  services grow billion per year says analyst aa...            0   \n",
       "\n",
       "         retweet_num  like_num  tweet_activity  \n",
       "3786974          369         0            1000  \n",
       "4112626            0         0             567  \n",
       "4306536           48       662            1273  \n",
       "2823018            0         0             496  \n",
       "4182686            0         0             442  \n",
       "...              ...       ...             ...  \n",
       "1498488          126        80             206  \n",
       "1498489           86        62             148  \n",
       "1498490          117        41             158  \n",
       "1482004          155         0             155  \n",
       "1488017           10        45              55  \n",
       "\n",
       "[41625 rows x 9 columns]"
      ]
     },
     "execution_count": 54,
     "metadata": {},
     "output_type": "execute_result"
    }
   ],
   "source": [
    "clean_dataframe_text(filterTweets,\"body\")"
   ]
  },
  {
   "cell_type": "code",
   "execution_count": 55,
   "metadata": {},
   "outputs": [
    {
     "data": {
      "text/html": [
       "<div>\n",
       "<style scoped>\n",
       "    .dataframe tbody tr th:only-of-type {\n",
       "        vertical-align: middle;\n",
       "    }\n",
       "\n",
       "    .dataframe tbody tr th {\n",
       "        vertical-align: top;\n",
       "    }\n",
       "\n",
       "    .dataframe thead th {\n",
       "        text-align: right;\n",
       "    }\n",
       "</style>\n",
       "<table border=\"1\" class=\"dataframe\">\n",
       "  <thead>\n",
       "    <tr style=\"text-align: right;\">\n",
       "      <th></th>\n",
       "      <th>tweet_id</th>\n",
       "      <th>ticker_symbol</th>\n",
       "      <th>writer</th>\n",
       "      <th>post_date</th>\n",
       "      <th>body</th>\n",
       "      <th>comment_num</th>\n",
       "      <th>retweet_num</th>\n",
       "      <th>like_num</th>\n",
       "      <th>tweet_activity</th>\n",
       "    </tr>\n",
       "  </thead>\n",
       "  <tbody>\n",
       "    <tr>\n",
       "      <th>3786974</th>\n",
       "      <td>1014983757252780033</td>\n",
       "      <td>TSLA</td>\n",
       "      <td>lopezlinette</td>\n",
       "      <td>2018-07-05</td>\n",
       "      <td>id like point right right moment elonmusk goin...</td>\n",
       "      <td>631</td>\n",
       "      <td>369</td>\n",
       "      <td>0</td>\n",
       "      <td>1000</td>\n",
       "    </tr>\n",
       "    <tr>\n",
       "      <th>4112626</th>\n",
       "      <td>1118989675257978880</td>\n",
       "      <td>TSLA</td>\n",
       "      <td>GerberKawasaki</td>\n",
       "      <td>2019-04-18</td>\n",
       "      <td>tesla saves month gas ten years take savings p...</td>\n",
       "      <td>567</td>\n",
       "      <td>0</td>\n",
       "      <td>0</td>\n",
       "      <td>567</td>\n",
       "    </tr>\n",
       "    <tr>\n",
       "      <th>4306536</th>\n",
       "      <td>1199424478536753155</td>\n",
       "      <td>TSLA</td>\n",
       "      <td>AlexSibila</td>\n",
       "      <td>2019-11-26</td>\n",
       "      <td>tesla feature request threadfeel free reply il...</td>\n",
       "      <td>563</td>\n",
       "      <td>48</td>\n",
       "      <td>662</td>\n",
       "      <td>1273</td>\n",
       "    </tr>\n",
       "    <tr>\n",
       "      <th>2823018</th>\n",
       "      <td>885933344487342082</td>\n",
       "      <td>AMZN</td>\n",
       "      <td>internet_dust</td>\n",
       "      <td>2017-07-14</td>\n",
       "      <td>sell books versus sell whatever fuck want amzn</td>\n",
       "      <td>496</td>\n",
       "      <td>0</td>\n",
       "      <td>0</td>\n",
       "      <td>496</td>\n",
       "    </tr>\n",
       "    <tr>\n",
       "      <th>4182686</th>\n",
       "      <td>1138975188127834112</td>\n",
       "      <td>TSLA</td>\n",
       "      <td>TeslaNY</td>\n",
       "      <td>2019-06-13</td>\n",
       "      <td>think basically financially insane buy anythin...</td>\n",
       "      <td>442</td>\n",
       "      <td>0</td>\n",
       "      <td>0</td>\n",
       "      <td>442</td>\n",
       "    </tr>\n",
       "    <tr>\n",
       "      <th>...</th>\n",
       "      <td>...</td>\n",
       "      <td>...</td>\n",
       "      <td>...</td>\n",
       "      <td>...</td>\n",
       "      <td>...</td>\n",
       "      <td>...</td>\n",
       "      <td>...</td>\n",
       "      <td>...</td>\n",
       "      <td>...</td>\n",
       "    </tr>\n",
       "    <tr>\n",
       "      <th>1498488</th>\n",
       "      <td>1063566557677146112</td>\n",
       "      <td>AAPL</td>\n",
       "      <td>financialbuzz</td>\n",
       "      <td>2018-11-16</td>\n",
       "      <td>watch us report live floor nyse weeks weekly w...</td>\n",
       "      <td>0</td>\n",
       "      <td>126</td>\n",
       "      <td>80</td>\n",
       "      <td>206</td>\n",
       "    </tr>\n",
       "    <tr>\n",
       "      <th>1498489</th>\n",
       "      <td>1063566683720175616</td>\n",
       "      <td>AAPL</td>\n",
       "      <td>financialbuzz</td>\n",
       "      <td>2018-11-16</td>\n",
       "      <td>watch us report live floor nyse weeks weekly w...</td>\n",
       "      <td>0</td>\n",
       "      <td>86</td>\n",
       "      <td>62</td>\n",
       "      <td>148</td>\n",
       "    </tr>\n",
       "    <tr>\n",
       "      <th>1498490</th>\n",
       "      <td>1063566957956349952</td>\n",
       "      <td>AAPL</td>\n",
       "      <td>financialbuzz</td>\n",
       "      <td>2018-11-16</td>\n",
       "      <td>watch us report live floor nyse weeks weekly w...</td>\n",
       "      <td>0</td>\n",
       "      <td>117</td>\n",
       "      <td>41</td>\n",
       "      <td>158</td>\n",
       "    </tr>\n",
       "    <tr>\n",
       "      <th>1482004</th>\n",
       "      <td>1058502476406632448</td>\n",
       "      <td>AAPL</td>\n",
       "      <td>financialbuzz</td>\n",
       "      <td>2018-11-02</td>\n",
       "      <td>watch us report live floor nyse weeks weekly w...</td>\n",
       "      <td>0</td>\n",
       "      <td>155</td>\n",
       "      <td>0</td>\n",
       "      <td>155</td>\n",
       "    </tr>\n",
       "    <tr>\n",
       "      <th>1488017</th>\n",
       "      <td>1060549081418948609</td>\n",
       "      <td>AAPL</td>\n",
       "      <td>appleinsider</td>\n",
       "      <td>2018-11-08</td>\n",
       "      <td>services grow billion per year says analyst aa...</td>\n",
       "      <td>0</td>\n",
       "      <td>10</td>\n",
       "      <td>45</td>\n",
       "      <td>55</td>\n",
       "    </tr>\n",
       "  </tbody>\n",
       "</table>\n",
       "<p>41625 rows × 9 columns</p>\n",
       "</div>"
      ],
      "text/plain": [
       "                    tweet_id ticker_symbol          writer  post_date  \\\n",
       "3786974  1014983757252780033          TSLA    lopezlinette 2018-07-05   \n",
       "4112626  1118989675257978880          TSLA  GerberKawasaki 2019-04-18   \n",
       "4306536  1199424478536753155          TSLA      AlexSibila 2019-11-26   \n",
       "2823018   885933344487342082          AMZN   internet_dust 2017-07-14   \n",
       "4182686  1138975188127834112          TSLA         TeslaNY 2019-06-13   \n",
       "...                      ...           ...             ...        ...   \n",
       "1498488  1063566557677146112          AAPL   financialbuzz 2018-11-16   \n",
       "1498489  1063566683720175616          AAPL   financialbuzz 2018-11-16   \n",
       "1498490  1063566957956349952          AAPL   financialbuzz 2018-11-16   \n",
       "1482004  1058502476406632448          AAPL   financialbuzz 2018-11-02   \n",
       "1488017  1060549081418948609          AAPL    appleinsider 2018-11-08   \n",
       "\n",
       "                                                      body  comment_num  \\\n",
       "3786974  id like point right right moment elonmusk goin...          631   \n",
       "4112626  tesla saves month gas ten years take savings p...          567   \n",
       "4306536  tesla feature request threadfeel free reply il...          563   \n",
       "2823018     sell books versus sell whatever fuck want amzn          496   \n",
       "4182686  think basically financially insane buy anythin...          442   \n",
       "...                                                    ...          ...   \n",
       "1498488  watch us report live floor nyse weeks weekly w...            0   \n",
       "1498489  watch us report live floor nyse weeks weekly w...            0   \n",
       "1498490  watch us report live floor nyse weeks weekly w...            0   \n",
       "1482004  watch us report live floor nyse weeks weekly w...            0   \n",
       "1488017  services grow billion per year says analyst aa...            0   \n",
       "\n",
       "         retweet_num  like_num  tweet_activity  \n",
       "3786974          369         0            1000  \n",
       "4112626            0         0             567  \n",
       "4306536           48       662            1273  \n",
       "2823018            0         0             496  \n",
       "4182686            0         0             442  \n",
       "...              ...       ...             ...  \n",
       "1498488          126        80             206  \n",
       "1498489           86        62             148  \n",
       "1498490          117        41             158  \n",
       "1482004          155         0             155  \n",
       "1488017           10        45              55  \n",
       "\n",
       "[41625 rows x 9 columns]"
      ]
     },
     "execution_count": 55,
     "metadata": {},
     "output_type": "execute_result"
    }
   ],
   "source": [
    "filterTweets"
   ]
  },
  {
   "cell_type": "code",
   "execution_count": 56,
   "metadata": {},
   "outputs": [],
   "source": [
    "# filterTweets[\"body\"].apply(lambda x : clean_tweet(x))\n",
    "# filterTweets[\"body\"].apply(lambda x : x.translate(str.maketrans('', '' , string.punctuation)))\n",
    "# filterTweets[\"body\"]\n",
    "# filterTweets[\"body\"].apply(lambda x : nltk.word_tokenize(x))"
   ]
  },
  {
   "cell_type": "code",
   "execution_count": 57,
   "metadata": {},
   "outputs": [
    {
     "data": {
      "text/plain": [
       "3786974    id like point right right moment elonmusk goin...\n",
       "4112626    tesla saves month gas ten years take savings p...\n",
       "4306536    tesla feature request threadfeel free reply il...\n",
       "2823018       sell books versus sell whatever fuck want amzn\n",
       "4182686    think basically financially insane buy anythin...\n",
       "Name: body, dtype: object"
      ]
     },
     "execution_count": 57,
     "metadata": {},
     "output_type": "execute_result"
    }
   ],
   "source": [
    "filterTweets[\"body\"].head()"
   ]
  },
  {
   "attachments": {},
   "cell_type": "markdown",
   "metadata": {},
   "source": [
    "### Tweet EDA"
   ]
  },
  {
   "cell_type": "code",
   "execution_count": 58,
   "metadata": {},
   "outputs": [
    {
     "data": {
      "text/plain": [
       "count           41625\n",
       "unique           2797\n",
       "top       TESLAcharts\n",
       "freq             2212\n",
       "Name: writer, dtype: object"
      ]
     },
     "execution_count": 58,
     "metadata": {},
     "output_type": "execute_result"
    }
   ],
   "source": [
    "filterTweets[\"writer\"].describe()\n"
   ]
  },
  {
   "attachments": {},
   "cell_type": "markdown",
   "metadata": {},
   "source": [
    "### Writer Data Exploration"
   ]
  },
  {
   "cell_type": "code",
   "execution_count": 59,
   "metadata": {},
   "outputs": [
    {
     "data": {
      "image/png": "[encoded data removed]",
      "text/plain": [
       "<Figure size 640x480 with 1 Axes>"
      ]
     },
     "metadata": {},
     "output_type": "display_data"
    }
   ],
   "source": [
    "\n",
    "counts = filterTweets[\"writer\"].value_counts()\n",
    "countsFilter = counts[counts > 400]\n",
    "countsFilter.plot(kind=\"bar\")\n",
    "\n",
    "plt.title(\"Top User Tweet Activities\")\n",
    "plt.ylabel(\"Number of Total Tweets\")\n",
    "plt.xlabel(\"Writer's Name\")\n",
    "plt.show()"
   ]
  },
  {
   "attachments": {},
   "cell_type": "markdown",
   "metadata": {},
   "source": [
    "Graph above shows the top writers that are active and have >100 posts"
   ]
  },
  {
   "cell_type": "code",
   "execution_count": 60,
   "metadata": {},
   "outputs": [
    {
     "data": {
      "text/plain": [
       "<AxesSubplot: ylabel='ticker_symbol'>"
      ]
     },
     "execution_count": 60,
     "metadata": {},
     "output_type": "execute_result"
    },
    {
     "data": {
      "image/png": "[encoded data removed]",
      "text/plain": [
       "<Figure size 640x480 with 1 Axes>"
      ]
     },
     "metadata": {},
     "output_type": "display_data"
    }
   ],
   "source": [
    "\n",
    "counts = filterTweets[\"ticker_symbol\"].value_counts()\n",
    "counts.plot(kind=\"pie\")"
   ]
  },
  {
   "cell_type": "markdown",
   "metadata": {},
   "source": [
    "Notice that there are more TSLA tweets in the dataset."
   ]
  },
  {
   "attachments": {},
   "cell_type": "markdown",
   "metadata": {},
   "source": [
    "### Active Tweets dates"
   ]
  },
  {
   "cell_type": "code",
   "execution_count": 61,
   "metadata": {},
   "outputs": [
    {
     "data": {
      "image/png": "[encoded data removed]",
      "text/plain": [
       "<Figure size 640x480 with 1 Axes>"
      ]
     },
     "metadata": {},
     "output_type": "display_data"
    }
   ],
   "source": [
    "count = filterTweets[\"post_date\"].value_counts()\n",
    "count\n",
    "filterCounts = count[count > 120]\n",
    "filterCounts.plot(kind = \"bar\")\n",
    "plt.title(\"Most number of Tweets in a Day\")\n",
    "plt.ylabel(\"Number of Tweets\")\n",
    "plt.xlabel(\"Date\")\n",
    "plt.show()"
   ]
  },
  {
   "cell_type": "markdown",
   "metadata": {},
   "source": [
    "Above bar graphs shows the highest tweets in the respective days"
   ]
  },
  {
   "attachments": {},
   "cell_type": "markdown",
   "metadata": {},
   "source": [
    "### Word Cloud of Tweets"
   ]
  },
  {
   "cell_type": "code",
   "execution_count": 62,
   "metadata": {},
   "outputs": [
    {
     "data": {
      "image/png": "[encoded data removed]",
      "text/plain": [
       "<Figure size 800x800 with 1 Axes>"
      ]
     },
     "metadata": {},
     "output_type": "display_data"
    }
   ],
   "source": [
    "text = \" \".join(filterTweets[\"body\"])\n",
    "wordcloud = WordCloud(width = 800, height = 800, background_color='white', max_words = 200)\n",
    "wordcloud.generate(text)\n",
    "\n",
    "plt.figure(figsize=(8, 8))\n",
    "plt.imshow(wordcloud)\n",
    "plt.axis(\"off\")\n",
    "plt.show()"
   ]
  },
  {
   "attachments": {},
   "cell_type": "markdown",
   "metadata": {},
   "source": [
    "From the word cloud we can tell that TSLA/TESLA and AAPL are common tweets in Twitter"
   ]
  },
  {
   "attachments": {},
   "cell_type": "markdown",
   "metadata": {},
   "source": [
    "# Polarity Detection"
   ]
  },
  {
   "attachments": {},
   "cell_type": "markdown",
   "metadata": {},
   "source": [
    "### Import Sentiment Analyser from NLTK"
   ]
  },
  {
   "cell_type": "code",
   "execution_count": 63,
   "metadata": {},
   "outputs": [],
   "source": [
    "from nltk.sentiment import SentimentIntensityAnalyzer"
   ]
  },
  {
   "cell_type": "code",
   "execution_count": 64,
   "metadata": {},
   "outputs": [],
   "source": [
    "analyser = SentimentIntensityAnalyzer()"
   ]
  },
  {
   "cell_type": "code",
   "execution_count": 65,
   "metadata": {},
   "outputs": [],
   "source": [
    "def getSentiment(body):\n",
    "    analyser = SentimentIntensityAnalyzer()\n",
    "    \n",
    "    assert body is not None\n",
    "    sentimentAnalysis = analyser.polarity_scores(body)\n",
    "    score = sentimentAnalysis['compound']\n",
    "    \n",
    "    if (score >= 0.05):\n",
    "        return \"Positive\"\n",
    "    elif (score < 0.05 and score > -0.05):\n",
    "        return \"Neutral\"\n",
    "    elif (score <= -0.05):\n",
    "        return \"Negative\"\n",
    "    \n",
    "    print(score)\n",
    "    "
   ]
  },
  {
   "cell_type": "code",
   "execution_count": 66,
   "metadata": {},
   "outputs": [
    {
     "name": "stderr",
     "output_type": "stream",
     "text": [
      "C:\\Users\\eric2\\AppData\\Local\\Temp\\ipykernel_15708\\1991431580.py:1: SettingWithCopyWarning: \n",
      "A value is trying to be set on a copy of a slice from a DataFrame.\n",
      "Try using .loc[row_indexer,col_indexer] = value instead\n",
      "\n",
      "See the caveats in the documentation: https://pandas.pydata.org/pandas-docs/stable/user_guide/indexing.html#returning-a-view-versus-a-copy\n",
      "  filterTweets['sentiment'] = filterTweets['body'].apply(lambda x : getSentiment(x))\n"
     ]
    },
    {
     "data": {
      "text/html": [
       "<div>\n",
       "<style scoped>\n",
       "    .dataframe tbody tr th:only-of-type {\n",
       "        vertical-align: middle;\n",
       "    }\n",
       "\n",
       "    .dataframe tbody tr th {\n",
       "        vertical-align: top;\n",
       "    }\n",
       "\n",
       "    .dataframe thead th {\n",
       "        text-align: right;\n",
       "    }\n",
       "</style>\n",
       "<table border=\"1\" class=\"dataframe\">\n",
       "  <thead>\n",
       "    <tr style=\"text-align: right;\">\n",
       "      <th></th>\n",
       "      <th>tweet_id</th>\n",
       "      <th>ticker_symbol</th>\n",
       "      <th>writer</th>\n",
       "      <th>post_date</th>\n",
       "      <th>body</th>\n",
       "      <th>comment_num</th>\n",
       "      <th>retweet_num</th>\n",
       "      <th>like_num</th>\n",
       "      <th>tweet_activity</th>\n",
       "      <th>sentiment</th>\n",
       "    </tr>\n",
       "  </thead>\n",
       "  <tbody>\n",
       "    <tr>\n",
       "      <th>3786974</th>\n",
       "      <td>1014983757252780033</td>\n",
       "      <td>TSLA</td>\n",
       "      <td>lopezlinette</td>\n",
       "      <td>2018-07-05</td>\n",
       "      <td>id like point right right moment elonmusk goin...</td>\n",
       "      <td>631</td>\n",
       "      <td>369</td>\n",
       "      <td>0</td>\n",
       "      <td>1000</td>\n",
       "      <td>Positive</td>\n",
       "    </tr>\n",
       "    <tr>\n",
       "      <th>4112626</th>\n",
       "      <td>1118989675257978880</td>\n",
       "      <td>TSLA</td>\n",
       "      <td>GerberKawasaki</td>\n",
       "      <td>2019-04-18</td>\n",
       "      <td>tesla saves month gas ten years take savings p...</td>\n",
       "      <td>567</td>\n",
       "      <td>0</td>\n",
       "      <td>0</td>\n",
       "      <td>567</td>\n",
       "      <td>Neutral</td>\n",
       "    </tr>\n",
       "    <tr>\n",
       "      <th>4306536</th>\n",
       "      <td>1199424478536753155</td>\n",
       "      <td>TSLA</td>\n",
       "      <td>AlexSibila</td>\n",
       "      <td>2019-11-26</td>\n",
       "      <td>tesla feature request threadfeel free reply il...</td>\n",
       "      <td>563</td>\n",
       "      <td>48</td>\n",
       "      <td>662</td>\n",
       "      <td>1273</td>\n",
       "      <td>Positive</td>\n",
       "    </tr>\n",
       "    <tr>\n",
       "      <th>2823018</th>\n",
       "      <td>885933344487342082</td>\n",
       "      <td>AMZN</td>\n",
       "      <td>internet_dust</td>\n",
       "      <td>2017-07-14</td>\n",
       "      <td>sell books versus sell whatever fuck want amzn</td>\n",
       "      <td>496</td>\n",
       "      <td>0</td>\n",
       "      <td>0</td>\n",
       "      <td>496</td>\n",
       "      <td>Negative</td>\n",
       "    </tr>\n",
       "    <tr>\n",
       "      <th>4182686</th>\n",
       "      <td>1138975188127834112</td>\n",
       "      <td>TSLA</td>\n",
       "      <td>TeslaNY</td>\n",
       "      <td>2019-06-13</td>\n",
       "      <td>think basically financially insane buy anythin...</td>\n",
       "      <td>442</td>\n",
       "      <td>0</td>\n",
       "      <td>0</td>\n",
       "      <td>442</td>\n",
       "      <td>Positive</td>\n",
       "    </tr>\n",
       "    <tr>\n",
       "      <th>...</th>\n",
       "      <td>...</td>\n",
       "      <td>...</td>\n",
       "      <td>...</td>\n",
       "      <td>...</td>\n",
       "      <td>...</td>\n",
       "      <td>...</td>\n",
       "      <td>...</td>\n",
       "      <td>...</td>\n",
       "      <td>...</td>\n",
       "      <td>...</td>\n",
       "    </tr>\n",
       "    <tr>\n",
       "      <th>1498488</th>\n",
       "      <td>1063566557677146112</td>\n",
       "      <td>AAPL</td>\n",
       "      <td>financialbuzz</td>\n",
       "      <td>2018-11-16</td>\n",
       "      <td>watch us report live floor nyse weeks weekly w...</td>\n",
       "      <td>0</td>\n",
       "      <td>126</td>\n",
       "      <td>80</td>\n",
       "      <td>206</td>\n",
       "      <td>Neutral</td>\n",
       "    </tr>\n",
       "    <tr>\n",
       "      <th>1498489</th>\n",
       "      <td>1063566683720175616</td>\n",
       "      <td>AAPL</td>\n",
       "      <td>financialbuzz</td>\n",
       "      <td>2018-11-16</td>\n",
       "      <td>watch us report live floor nyse weeks weekly w...</td>\n",
       "      <td>0</td>\n",
       "      <td>86</td>\n",
       "      <td>62</td>\n",
       "      <td>148</td>\n",
       "      <td>Neutral</td>\n",
       "    </tr>\n",
       "    <tr>\n",
       "      <th>1498490</th>\n",
       "      <td>1063566957956349952</td>\n",
       "      <td>AAPL</td>\n",
       "      <td>financialbuzz</td>\n",
       "      <td>2018-11-16</td>\n",
       "      <td>watch us report live floor nyse weeks weekly w...</td>\n",
       "      <td>0</td>\n",
       "      <td>117</td>\n",
       "      <td>41</td>\n",
       "      <td>158</td>\n",
       "      <td>Neutral</td>\n",
       "    </tr>\n",
       "    <tr>\n",
       "      <th>1482004</th>\n",
       "      <td>1058502476406632448</td>\n",
       "      <td>AAPL</td>\n",
       "      <td>financialbuzz</td>\n",
       "      <td>2018-11-02</td>\n",
       "      <td>watch us report live floor nyse weeks weekly w...</td>\n",
       "      <td>0</td>\n",
       "      <td>155</td>\n",
       "      <td>0</td>\n",
       "      <td>155</td>\n",
       "      <td>Positive</td>\n",
       "    </tr>\n",
       "    <tr>\n",
       "      <th>1488017</th>\n",
       "      <td>1060549081418948609</td>\n",
       "      <td>AAPL</td>\n",
       "      <td>appleinsider</td>\n",
       "      <td>2018-11-08</td>\n",
       "      <td>services grow billion per year says analyst aa...</td>\n",
       "      <td>0</td>\n",
       "      <td>10</td>\n",
       "      <td>45</td>\n",
       "      <td>55</td>\n",
       "      <td>Neutral</td>\n",
       "    </tr>\n",
       "  </tbody>\n",
       "</table>\n",
       "<p>41625 rows × 10 columns</p>\n",
       "</div>"
      ],
      "text/plain": [
       "                    tweet_id ticker_symbol          writer  post_date  \\\n",
       "3786974  1014983757252780033          TSLA    lopezlinette 2018-07-05   \n",
       "4112626  1118989675257978880          TSLA  GerberKawasaki 2019-04-18   \n",
       "4306536  1199424478536753155          TSLA      AlexSibila 2019-11-26   \n",
       "2823018   885933344487342082          AMZN   internet_dust 2017-07-14   \n",
       "4182686  1138975188127834112          TSLA         TeslaNY 2019-06-13   \n",
       "...                      ...           ...             ...        ...   \n",
       "1498488  1063566557677146112          AAPL   financialbuzz 2018-11-16   \n",
       "1498489  1063566683720175616          AAPL   financialbuzz 2018-11-16   \n",
       "1498490  1063566957956349952          AAPL   financialbuzz 2018-11-16   \n",
       "1482004  1058502476406632448          AAPL   financialbuzz 2018-11-02   \n",
       "1488017  1060549081418948609          AAPL    appleinsider 2018-11-08   \n",
       "\n",
       "                                                      body  comment_num  \\\n",
       "3786974  id like point right right moment elonmusk goin...          631   \n",
       "4112626  tesla saves month gas ten years take savings p...          567   \n",
       "4306536  tesla feature request threadfeel free reply il...          563   \n",
       "2823018     sell books versus sell whatever fuck want amzn          496   \n",
       "4182686  think basically financially insane buy anythin...          442   \n",
       "...                                                    ...          ...   \n",
       "1498488  watch us report live floor nyse weeks weekly w...            0   \n",
       "1498489  watch us report live floor nyse weeks weekly w...            0   \n",
       "1498490  watch us report live floor nyse weeks weekly w...            0   \n",
       "1482004  watch us report live floor nyse weeks weekly w...            0   \n",
       "1488017  services grow billion per year says analyst aa...            0   \n",
       "\n",
       "         retweet_num  like_num  tweet_activity sentiment  \n",
       "3786974          369         0            1000  Positive  \n",
       "4112626            0         0             567   Neutral  \n",
       "4306536           48       662            1273  Positive  \n",
       "2823018            0         0             496  Negative  \n",
       "4182686            0         0             442  Positive  \n",
       "...              ...       ...             ...       ...  \n",
       "1498488          126        80             206   Neutral  \n",
       "1498489           86        62             148   Neutral  \n",
       "1498490          117        41             158   Neutral  \n",
       "1482004          155         0             155  Positive  \n",
       "1488017           10        45              55   Neutral  \n",
       "\n",
       "[41625 rows x 10 columns]"
      ]
     },
     "execution_count": 66,
     "metadata": {},
     "output_type": "execute_result"
    }
   ],
   "source": [
    "filterTweets['sentiment'] = filterTweets['body'].apply(lambda x : getSentiment(x))\n",
    "\n",
    "filterTweets\n"
   ]
  },
  {
   "attachments": {},
   "cell_type": "markdown",
   "metadata": {},
   "source": [
    "### Testing out TextBlob Sentimental Analysis"
   ]
  },
  {
   "cell_type": "code",
   "execution_count": 67,
   "metadata": {},
   "outputs": [],
   "source": [
    "from textblob import TextBlob"
   ]
  },
  {
   "cell_type": "code",
   "execution_count": 68,
   "metadata": {},
   "outputs": [],
   "source": [
    "# Function to use TextBlob (Sentimental Analysis [Objectivity & Polarity])\n",
    "\n",
    "def add_sentiment_scores_blob(df, text_column, polarity_threshold = 0.0 , subjectivity_threshold = 0.5):\n",
    "    # Compute polarity and subjectivity scores for each row in the specified text column\n",
    "    scores = df[text_column].apply(lambda x: TextBlob(x).sentiment)\n",
    "    \n",
    "    # Add two new columns to the DataFrame for the polarity and subjectivity scores\n",
    "    df['blob_polarity'] = scores.apply(lambda x: x.polarity)\n",
    "    df['blob_subjectivity'] = scores.apply(lambda x: x.subjectivity)\n",
    "    \n",
    "    # Convert polarity score to class (positive, neutral, or negative) based on the specified threshold\n",
    "    df['blob_polarity'] = df['blob_polarity'].apply(lambda x: 'Positive' if x > polarity_threshold else 'Negative' if x < -polarity_threshold else 'Neutral')\n",
    "    \n",
    "    # Convert subjectivity score to class (subjective or objective) based on the specified threshold\n",
    "    df['blob_subjectivity'] = df['blob_subjectivity'].apply(lambda x: 'Subjective' if x > subjectivity_threshold else 'Objective')\n",
    "    \n",
    "    return df\n",
    "    \n",
    "    "
   ]
  },
  {
   "cell_type": "code",
   "execution_count": 69,
   "metadata": {},
   "outputs": [
    {
     "name": "stderr",
     "output_type": "stream",
     "text": [
      "C:\\Users\\eric2\\AppData\\Local\\Temp\\ipykernel_15708\\2951990553.py:8: SettingWithCopyWarning: \n",
      "A value is trying to be set on a copy of a slice from a DataFrame.\n",
      "Try using .loc[row_indexer,col_indexer] = value instead\n",
      "\n",
      "See the caveats in the documentation: https://pandas.pydata.org/pandas-docs/stable/user_guide/indexing.html#returning-a-view-versus-a-copy\n",
      "  df['blob_polarity'] = scores.apply(lambda x: x.polarity)\n",
      "C:\\Users\\eric2\\AppData\\Local\\Temp\\ipykernel_15708\\2951990553.py:9: SettingWithCopyWarning: \n",
      "A value is trying to be set on a copy of a slice from a DataFrame.\n",
      "Try using .loc[row_indexer,col_indexer] = value instead\n",
      "\n",
      "See the caveats in the documentation: https://pandas.pydata.org/pandas-docs/stable/user_guide/indexing.html#returning-a-view-versus-a-copy\n",
      "  df['blob_subjectivity'] = scores.apply(lambda x: x.subjectivity)\n",
      "C:\\Users\\eric2\\AppData\\Local\\Temp\\ipykernel_15708\\2951990553.py:12: SettingWithCopyWarning: \n",
      "A value is trying to be set on a copy of a slice from a DataFrame.\n",
      "Try using .loc[row_indexer,col_indexer] = value instead\n",
      "\n",
      "See the caveats in the documentation: https://pandas.pydata.org/pandas-docs/stable/user_guide/indexing.html#returning-a-view-versus-a-copy\n",
      "  df['blob_polarity'] = df['blob_polarity'].apply(lambda x: 'Positive' if x > polarity_threshold else 'Negative' if x < -polarity_threshold else 'Neutral')\n",
      "C:\\Users\\eric2\\AppData\\Local\\Temp\\ipykernel_15708\\2951990553.py:15: SettingWithCopyWarning: \n",
      "A value is trying to be set on a copy of a slice from a DataFrame.\n",
      "Try using .loc[row_indexer,col_indexer] = value instead\n",
      "\n",
      "See the caveats in the documentation: https://pandas.pydata.org/pandas-docs/stable/user_guide/indexing.html#returning-a-view-versus-a-copy\n",
      "  df['blob_subjectivity'] = df['blob_subjectivity'].apply(lambda x: 'Subjective' if x > subjectivity_threshold else 'Objective')\n"
     ]
    },
    {
     "data": {
      "text/html": [
       "<div>\n",
       "<style scoped>\n",
       "    .dataframe tbody tr th:only-of-type {\n",
       "        vertical-align: middle;\n",
       "    }\n",
       "\n",
       "    .dataframe tbody tr th {\n",
       "        vertical-align: top;\n",
       "    }\n",
       "\n",
       "    .dataframe thead th {\n",
       "        text-align: right;\n",
       "    }\n",
       "</style>\n",
       "<table border=\"1\" class=\"dataframe\">\n",
       "  <thead>\n",
       "    <tr style=\"text-align: right;\">\n",
       "      <th></th>\n",
       "      <th>tweet_id</th>\n",
       "      <th>ticker_symbol</th>\n",
       "      <th>writer</th>\n",
       "      <th>post_date</th>\n",
       "      <th>body</th>\n",
       "      <th>comment_num</th>\n",
       "      <th>retweet_num</th>\n",
       "      <th>like_num</th>\n",
       "      <th>tweet_activity</th>\n",
       "      <th>sentiment</th>\n",
       "      <th>blob_polarity</th>\n",
       "      <th>blob_subjectivity</th>\n",
       "    </tr>\n",
       "  </thead>\n",
       "  <tbody>\n",
       "    <tr>\n",
       "      <th>3786974</th>\n",
       "      <td>1014983757252780033</td>\n",
       "      <td>TSLA</td>\n",
       "      <td>lopezlinette</td>\n",
       "      <td>2018-07-05</td>\n",
       "      <td>id like point right right moment elonmusk goin...</td>\n",
       "      <td>631</td>\n",
       "      <td>369</td>\n",
       "      <td>0</td>\n",
       "      <td>1000</td>\n",
       "      <td>Positive</td>\n",
       "      <td>Positive</td>\n",
       "      <td>Subjective</td>\n",
       "    </tr>\n",
       "    <tr>\n",
       "      <th>4112626</th>\n",
       "      <td>1118989675257978880</td>\n",
       "      <td>TSLA</td>\n",
       "      <td>GerberKawasaki</td>\n",
       "      <td>2019-04-18</td>\n",
       "      <td>tesla saves month gas ten years take savings p...</td>\n",
       "      <td>567</td>\n",
       "      <td>0</td>\n",
       "      <td>0</td>\n",
       "      <td>567</td>\n",
       "      <td>Neutral</td>\n",
       "      <td>Positive</td>\n",
       "      <td>Objective</td>\n",
       "    </tr>\n",
       "    <tr>\n",
       "      <th>4306536</th>\n",
       "      <td>1199424478536753155</td>\n",
       "      <td>TSLA</td>\n",
       "      <td>AlexSibila</td>\n",
       "      <td>2019-11-26</td>\n",
       "      <td>tesla feature request threadfeel free reply il...</td>\n",
       "      <td>563</td>\n",
       "      <td>48</td>\n",
       "      <td>662</td>\n",
       "      <td>1273</td>\n",
       "      <td>Positive</td>\n",
       "      <td>Negative</td>\n",
       "      <td>Subjective</td>\n",
       "    </tr>\n",
       "    <tr>\n",
       "      <th>2823018</th>\n",
       "      <td>885933344487342082</td>\n",
       "      <td>AMZN</td>\n",
       "      <td>internet_dust</td>\n",
       "      <td>2017-07-14</td>\n",
       "      <td>sell books versus sell whatever fuck want amzn</td>\n",
       "      <td>496</td>\n",
       "      <td>0</td>\n",
       "      <td>0</td>\n",
       "      <td>496</td>\n",
       "      <td>Negative</td>\n",
       "      <td>Negative</td>\n",
       "      <td>Subjective</td>\n",
       "    </tr>\n",
       "    <tr>\n",
       "      <th>4182686</th>\n",
       "      <td>1138975188127834112</td>\n",
       "      <td>TSLA</td>\n",
       "      <td>TeslaNY</td>\n",
       "      <td>2019-06-13</td>\n",
       "      <td>think basically financially insane buy anythin...</td>\n",
       "      <td>442</td>\n",
       "      <td>0</td>\n",
       "      <td>0</td>\n",
       "      <td>442</td>\n",
       "      <td>Positive</td>\n",
       "      <td>Negative</td>\n",
       "      <td>Objective</td>\n",
       "    </tr>\n",
       "    <tr>\n",
       "      <th>...</th>\n",
       "      <td>...</td>\n",
       "      <td>...</td>\n",
       "      <td>...</td>\n",
       "      <td>...</td>\n",
       "      <td>...</td>\n",
       "      <td>...</td>\n",
       "      <td>...</td>\n",
       "      <td>...</td>\n",
       "      <td>...</td>\n",
       "      <td>...</td>\n",
       "      <td>...</td>\n",
       "      <td>...</td>\n",
       "    </tr>\n",
       "    <tr>\n",
       "      <th>1498488</th>\n",
       "      <td>1063566557677146112</td>\n",
       "      <td>AAPL</td>\n",
       "      <td>financialbuzz</td>\n",
       "      <td>2018-11-16</td>\n",
       "      <td>watch us report live floor nyse weeks weekly w...</td>\n",
       "      <td>0</td>\n",
       "      <td>126</td>\n",
       "      <td>80</td>\n",
       "      <td>206</td>\n",
       "      <td>Neutral</td>\n",
       "      <td>Positive</td>\n",
       "      <td>Objective</td>\n",
       "    </tr>\n",
       "    <tr>\n",
       "      <th>1498489</th>\n",
       "      <td>1063566683720175616</td>\n",
       "      <td>AAPL</td>\n",
       "      <td>financialbuzz</td>\n",
       "      <td>2018-11-16</td>\n",
       "      <td>watch us report live floor nyse weeks weekly w...</td>\n",
       "      <td>0</td>\n",
       "      <td>86</td>\n",
       "      <td>62</td>\n",
       "      <td>148</td>\n",
       "      <td>Neutral</td>\n",
       "      <td>Positive</td>\n",
       "      <td>Objective</td>\n",
       "    </tr>\n",
       "    <tr>\n",
       "      <th>1498490</th>\n",
       "      <td>1063566957956349952</td>\n",
       "      <td>AAPL</td>\n",
       "      <td>financialbuzz</td>\n",
       "      <td>2018-11-16</td>\n",
       "      <td>watch us report live floor nyse weeks weekly w...</td>\n",
       "      <td>0</td>\n",
       "      <td>117</td>\n",
       "      <td>41</td>\n",
       "      <td>158</td>\n",
       "      <td>Neutral</td>\n",
       "      <td>Positive</td>\n",
       "      <td>Objective</td>\n",
       "    </tr>\n",
       "    <tr>\n",
       "      <th>1482004</th>\n",
       "      <td>1058502476406632448</td>\n",
       "      <td>AAPL</td>\n",
       "      <td>financialbuzz</td>\n",
       "      <td>2018-11-02</td>\n",
       "      <td>watch us report live floor nyse weeks weekly w...</td>\n",
       "      <td>0</td>\n",
       "      <td>155</td>\n",
       "      <td>0</td>\n",
       "      <td>155</td>\n",
       "      <td>Positive</td>\n",
       "      <td>Positive</td>\n",
       "      <td>Objective</td>\n",
       "    </tr>\n",
       "    <tr>\n",
       "      <th>1488017</th>\n",
       "      <td>1060549081418948609</td>\n",
       "      <td>AAPL</td>\n",
       "      <td>appleinsider</td>\n",
       "      <td>2018-11-08</td>\n",
       "      <td>services grow billion per year says analyst aa...</td>\n",
       "      <td>0</td>\n",
       "      <td>10</td>\n",
       "      <td>45</td>\n",
       "      <td>55</td>\n",
       "      <td>Neutral</td>\n",
       "      <td>Neutral</td>\n",
       "      <td>Objective</td>\n",
       "    </tr>\n",
       "  </tbody>\n",
       "</table>\n",
       "<p>41625 rows × 12 columns</p>\n",
       "</div>"
      ],
      "text/plain": [
       "                    tweet_id ticker_symbol          writer  post_date  \\\n",
       "3786974  1014983757252780033          TSLA    lopezlinette 2018-07-05   \n",
       "4112626  1118989675257978880          TSLA  GerberKawasaki 2019-04-18   \n",
       "4306536  1199424478536753155          TSLA      AlexSibila 2019-11-26   \n",
       "2823018   885933344487342082          AMZN   internet_dust 2017-07-14   \n",
       "4182686  1138975188127834112          TSLA         TeslaNY 2019-06-13   \n",
       "...                      ...           ...             ...        ...   \n",
       "1498488  1063566557677146112          AAPL   financialbuzz 2018-11-16   \n",
       "1498489  1063566683720175616          AAPL   financialbuzz 2018-11-16   \n",
       "1498490  1063566957956349952          AAPL   financialbuzz 2018-11-16   \n",
       "1482004  1058502476406632448          AAPL   financialbuzz 2018-11-02   \n",
       "1488017  1060549081418948609          AAPL    appleinsider 2018-11-08   \n",
       "\n",
       "                                                      body  comment_num  \\\n",
       "3786974  id like point right right moment elonmusk goin...          631   \n",
       "4112626  tesla saves month gas ten years take savings p...          567   \n",
       "4306536  tesla feature request threadfeel free reply il...          563   \n",
       "2823018     sell books versus sell whatever fuck want amzn          496   \n",
       "4182686  think basically financially insane buy anythin...          442   \n",
       "...                                                    ...          ...   \n",
       "1498488  watch us report live floor nyse weeks weekly w...            0   \n",
       "1498489  watch us report live floor nyse weeks weekly w...            0   \n",
       "1498490  watch us report live floor nyse weeks weekly w...            0   \n",
       "1482004  watch us report live floor nyse weeks weekly w...            0   \n",
       "1488017  services grow billion per year says analyst aa...            0   \n",
       "\n",
       "         retweet_num  like_num  tweet_activity sentiment blob_polarity  \\\n",
       "3786974          369         0            1000  Positive      Positive   \n",
       "4112626            0         0             567   Neutral      Positive   \n",
       "4306536           48       662            1273  Positive      Negative   \n",
       "2823018            0         0             496  Negative      Negative   \n",
       "4182686            0         0             442  Positive      Negative   \n",
       "...              ...       ...             ...       ...           ...   \n",
       "1498488          126        80             206   Neutral      Positive   \n",
       "1498489           86        62             148   Neutral      Positive   \n",
       "1498490          117        41             158   Neutral      Positive   \n",
       "1482004          155         0             155  Positive      Positive   \n",
       "1488017           10        45              55   Neutral       Neutral   \n",
       "\n",
       "        blob_subjectivity  \n",
       "3786974        Subjective  \n",
       "4112626         Objective  \n",
       "4306536        Subjective  \n",
       "2823018        Subjective  \n",
       "4182686         Objective  \n",
       "...                   ...  \n",
       "1498488         Objective  \n",
       "1498489         Objective  \n",
       "1498490         Objective  \n",
       "1482004         Objective  \n",
       "1488017         Objective  \n",
       "\n",
       "[41625 rows x 12 columns]"
      ]
     },
     "execution_count": 69,
     "metadata": {},
     "output_type": "execute_result"
    }
   ],
   "source": [
    "add_sentiment_scores_blob(filterTweets,\"body\", 0.0, 0.5)"
   ]
  },
  {
   "attachments": {},
   "cell_type": "markdown",
   "metadata": {},
   "source": [
    "### Convert Positive, Negative and Neutral to numeral labels"
   ]
  },
  {
   "cell_type": "code",
   "execution_count": 70,
   "metadata": {},
   "outputs": [],
   "source": [
    "sentiment_map = {\"Positive\": 1, \"Negative\": 0, \"Neutral\": 2}"
   ]
  },
  {
   "cell_type": "code",
   "execution_count": 71,
   "metadata": {},
   "outputs": [
    {
     "name": "stderr",
     "output_type": "stream",
     "text": [
      "C:\\Users\\eric2\\AppData\\Local\\Temp\\ipykernel_15708\\3903232632.py:1: SettingWithCopyWarning: \n",
      "A value is trying to be set on a copy of a slice from a DataFrame\n",
      "\n",
      "See the caveats in the documentation: https://pandas.pydata.org/pandas-docs/stable/user_guide/indexing.html#returning-a-view-versus-a-copy\n",
      "  filterTweets[\"sentiment\"].replace(sentiment_map, inplace = True)\n",
      "C:\\Users\\eric2\\AppData\\Local\\Temp\\ipykernel_15708\\3903232632.py:2: SettingWithCopyWarning: \n",
      "A value is trying to be set on a copy of a slice from a DataFrame\n",
      "\n",
      "See the caveats in the documentation: https://pandas.pydata.org/pandas-docs/stable/user_guide/indexing.html#returning-a-view-versus-a-copy\n",
      "  filterTweets[\"blob_polarity\"].replace(sentiment_map, inplace = True)\n"
     ]
    }
   ],
   "source": [
    "filterTweets[\"sentiment\"].replace(sentiment_map, inplace = True)\n",
    "filterTweets[\"blob_polarity\"].replace(sentiment_map, inplace = True)"
   ]
  },
  {
   "attachments": {},
   "cell_type": "markdown",
   "metadata": {},
   "source": [
    "### Splitting up data for Prediction using ensemble machine learning models For NLTK.Sentiment Analysis"
   ]
  },
  {
   "cell_type": "code",
   "execution_count": 72,
   "metadata": {},
   "outputs": [],
   "source": [
    "X = filterTweets[\"body\"] #[\"ticker_symbol\",\"writer\" , \"body\"]\n",
    "y = filterTweets[\"sentiment\"]\n",
    "X_train, X_test, y_train, y_test = train_test_split(\n",
    "    X, y, test_size=0.25, random_state=0)"
   ]
  },
  {
   "cell_type": "code",
   "execution_count": 73,
   "metadata": {},
   "outputs": [
    {
     "name": "stdout",
     "output_type": "stream",
     "text": [
      "<class 'pandas.core.series.Series'>\n",
      "Int64Index: 31218 entries, 4261783 to 1436407\n",
      "Series name: body\n",
      "Non-Null Count  Dtype \n",
      "--------------  ----- \n",
      "31218 non-null  object\n",
      "dtypes: object(1)\n",
      "memory usage: 487.8+ KB\n"
     ]
    },
    {
     "data": {
      "text/plain": [
       "4261783    patheticthat tesla attempted deliver car condi...\n",
       "4111496    sources tsla pares loses amid reports tesla un...\n",
       "1573703    big earnings week amzn aapl amd fb msft baba t...\n",
       "3954714    thread chart puzzling ihs markit registration ...\n",
       "1581966    watch us report live floor nyse weeks weekly w...\n",
       "Name: body, dtype: object"
      ]
     },
     "execution_count": 73,
     "metadata": {},
     "output_type": "execute_result"
    }
   ],
   "source": [
    "X_train.info()\n",
    "X_train.head()"
   ]
  },
  {
   "cell_type": "code",
   "execution_count": 74,
   "metadata": {},
   "outputs": [
    {
     "name": "stdout",
     "output_type": "stream",
     "text": [
      "<class 'pandas.core.series.Series'>\n",
      "Int64Index: 10407 entries, 4076760 to 3742364\n",
      "Series name: body\n",
      "Non-Null Count  Dtype \n",
      "--------------  ----- \n",
      "10407 non-null  object\n",
      "dtypes: object(1)\n",
      "memory usage: 162.6+ KB\n"
     ]
    },
    {
     "data": {
      "text/plain": [
       "4076760    great writeup potential recovery bondholders b...\n",
       "4226495    tsla competition killing dealer ipace inventor...\n",
       "4321661    raise hand agreed let tsla beta test dangerous...\n",
       "2494776    good interview brilliant p_ferragu likes intc ...\n",
       "4056663                              really classy move tsla\n",
       "Name: body, dtype: object"
      ]
     },
     "execution_count": 74,
     "metadata": {},
     "output_type": "execute_result"
    }
   ],
   "source": [
    "X_test.info()\n",
    "X_test.head()"
   ]
  },
  {
   "cell_type": "code",
   "execution_count": 75,
   "metadata": {},
   "outputs": [
    {
     "name": "stdout",
     "output_type": "stream",
     "text": [
      "<class 'pandas.core.series.Series'>\n",
      "Int64Index: 31218 entries, 4261783 to 1436407\n",
      "Series name: sentiment\n",
      "Non-Null Count  Dtype\n",
      "--------------  -----\n",
      "31218 non-null  int64\n",
      "dtypes: int64(1)\n",
      "memory usage: 487.8 KB\n"
     ]
    },
    {
     "data": {
      "text/plain": [
       "4261783    1\n",
       "4111496    0\n",
       "1573703    2\n",
       "3954714    1\n",
       "1581966    2\n",
       "Name: sentiment, dtype: int64"
      ]
     },
     "execution_count": 75,
     "metadata": {},
     "output_type": "execute_result"
    }
   ],
   "source": [
    "y_train.info()\n",
    "y_train.head()"
   ]
  },
  {
   "cell_type": "code",
   "execution_count": 76,
   "metadata": {},
   "outputs": [
    {
     "name": "stdout",
     "output_type": "stream",
     "text": [
      "<class 'pandas.core.series.Series'>\n",
      "Int64Index: 10407 entries, 4076760 to 3742364\n",
      "Series name: sentiment\n",
      "Non-Null Count  Dtype\n",
      "--------------  -----\n",
      "10407 non-null  int64\n",
      "dtypes: int64(1)\n",
      "memory usage: 162.6 KB\n"
     ]
    },
    {
     "data": {
      "text/plain": [
       "4076760    1\n",
       "4226495    0\n",
       "4321661    1\n",
       "2494776    1\n",
       "4056663    1\n",
       "Name: sentiment, dtype: int64"
      ]
     },
     "execution_count": 76,
     "metadata": {},
     "output_type": "execute_result"
    }
   ],
   "source": [
    "y_test.info()\n",
    "y_test.head()\n"
   ]
  },
  {
   "cell_type": "code",
   "execution_count": 77,
   "metadata": {},
   "outputs": [
    {
     "data": {
      "text/plain": [
       "1    18976\n",
       "2    11927\n",
       "0    10722\n",
       "Name: sentiment, dtype: int64"
      ]
     },
     "execution_count": 77,
     "metadata": {},
     "output_type": "execute_result"
    }
   ],
   "source": [
    "filterTweets[\"sentiment\"].value_counts()"
   ]
  },
  {
   "attachments": {},
   "cell_type": "markdown",
   "metadata": {},
   "source": [
    "\n",
    "### Separating Neutral Sentiments and Opinionated Sentiments"
   ]
  },
  {
   "cell_type": "code",
   "execution_count": 78,
   "metadata": {},
   "outputs": [
    {
     "data": {
      "text/html": [
       "<div>\n",
       "<style scoped>\n",
       "    .dataframe tbody tr th:only-of-type {\n",
       "        vertical-align: middle;\n",
       "    }\n",
       "\n",
       "    .dataframe tbody tr th {\n",
       "        vertical-align: top;\n",
       "    }\n",
       "\n",
       "    .dataframe thead th {\n",
       "        text-align: right;\n",
       "    }\n",
       "</style>\n",
       "<table border=\"1\" class=\"dataframe\">\n",
       "  <thead>\n",
       "    <tr style=\"text-align: right;\">\n",
       "      <th></th>\n",
       "      <th>tweet_id</th>\n",
       "      <th>ticker_symbol</th>\n",
       "      <th>writer</th>\n",
       "      <th>post_date</th>\n",
       "      <th>body</th>\n",
       "      <th>comment_num</th>\n",
       "      <th>retweet_num</th>\n",
       "      <th>like_num</th>\n",
       "      <th>tweet_activity</th>\n",
       "      <th>sentiment</th>\n",
       "      <th>blob_polarity</th>\n",
       "      <th>blob_subjectivity</th>\n",
       "    </tr>\n",
       "  </thead>\n",
       "  <tbody>\n",
       "    <tr>\n",
       "      <th>3786974</th>\n",
       "      <td>1014983757252780033</td>\n",
       "      <td>TSLA</td>\n",
       "      <td>lopezlinette</td>\n",
       "      <td>2018-07-05</td>\n",
       "      <td>id like point right right moment elonmusk goin...</td>\n",
       "      <td>631</td>\n",
       "      <td>369</td>\n",
       "      <td>0</td>\n",
       "      <td>1000</td>\n",
       "      <td>1</td>\n",
       "      <td>1</td>\n",
       "      <td>Subjective</td>\n",
       "    </tr>\n",
       "    <tr>\n",
       "      <th>4306536</th>\n",
       "      <td>1199424478536753155</td>\n",
       "      <td>TSLA</td>\n",
       "      <td>AlexSibila</td>\n",
       "      <td>2019-11-26</td>\n",
       "      <td>tesla feature request threadfeel free reply il...</td>\n",
       "      <td>563</td>\n",
       "      <td>48</td>\n",
       "      <td>662</td>\n",
       "      <td>1273</td>\n",
       "      <td>1</td>\n",
       "      <td>0</td>\n",
       "      <td>Subjective</td>\n",
       "    </tr>\n",
       "    <tr>\n",
       "      <th>2823018</th>\n",
       "      <td>885933344487342082</td>\n",
       "      <td>AMZN</td>\n",
       "      <td>internet_dust</td>\n",
       "      <td>2017-07-14</td>\n",
       "      <td>sell books versus sell whatever fuck want amzn</td>\n",
       "      <td>496</td>\n",
       "      <td>0</td>\n",
       "      <td>0</td>\n",
       "      <td>496</td>\n",
       "      <td>0</td>\n",
       "      <td>0</td>\n",
       "      <td>Subjective</td>\n",
       "    </tr>\n",
       "    <tr>\n",
       "      <th>4182686</th>\n",
       "      <td>1138975188127834112</td>\n",
       "      <td>TSLA</td>\n",
       "      <td>TeslaNY</td>\n",
       "      <td>2019-06-13</td>\n",
       "      <td>think basically financially insane buy anythin...</td>\n",
       "      <td>442</td>\n",
       "      <td>0</td>\n",
       "      <td>0</td>\n",
       "      <td>442</td>\n",
       "      <td>1</td>\n",
       "      <td>0</td>\n",
       "      <td>Objective</td>\n",
       "    </tr>\n",
       "    <tr>\n",
       "      <th>3003947</th>\n",
       "      <td>1083042743293747200</td>\n",
       "      <td>AMZN</td>\n",
       "      <td>fillbeforeshill</td>\n",
       "      <td>2019-01-09</td>\n",
       "      <td>jeff bezos wife better investor usamzn</td>\n",
       "      <td>387</td>\n",
       "      <td>0</td>\n",
       "      <td>0</td>\n",
       "      <td>387</td>\n",
       "      <td>1</td>\n",
       "      <td>1</td>\n",
       "      <td>Objective</td>\n",
       "    </tr>\n",
       "  </tbody>\n",
       "</table>\n",
       "</div>"
      ],
      "text/plain": [
       "                    tweet_id ticker_symbol           writer  post_date  \\\n",
       "3786974  1014983757252780033          TSLA     lopezlinette 2018-07-05   \n",
       "4306536  1199424478536753155          TSLA       AlexSibila 2019-11-26   \n",
       "2823018   885933344487342082          AMZN    internet_dust 2017-07-14   \n",
       "4182686  1138975188127834112          TSLA          TeslaNY 2019-06-13   \n",
       "3003947  1083042743293747200          AMZN  fillbeforeshill 2019-01-09   \n",
       "\n",
       "                                                      body  comment_num  \\\n",
       "3786974  id like point right right moment elonmusk goin...          631   \n",
       "4306536  tesla feature request threadfeel free reply il...          563   \n",
       "2823018     sell books versus sell whatever fuck want amzn          496   \n",
       "4182686  think basically financially insane buy anythin...          442   \n",
       "3003947             jeff bezos wife better investor usamzn          387   \n",
       "\n",
       "         retweet_num  like_num  tweet_activity  sentiment  blob_polarity  \\\n",
       "3786974          369         0            1000          1              1   \n",
       "4306536           48       662            1273          1              0   \n",
       "2823018            0         0             496          0              0   \n",
       "4182686            0         0             442          1              0   \n",
       "3003947            0         0             387          1              1   \n",
       "\n",
       "        blob_subjectivity  \n",
       "3786974        Subjective  \n",
       "4306536        Subjective  \n",
       "2823018        Subjective  \n",
       "4182686         Objective  \n",
       "3003947         Objective  "
      ]
     },
     "execution_count": 78,
     "metadata": {},
     "output_type": "execute_result"
    }
   ],
   "source": [
    "opinionatedTweets = filterTweets.loc[filterTweets[\"sentiment\"]!= 2]\n",
    "opinionatedTweets.head()"
   ]
  },
  {
   "cell_type": "code",
   "execution_count": 79,
   "metadata": {},
   "outputs": [
    {
     "data": {
      "text/html": [
       "<div>\n",
       "<style scoped>\n",
       "    .dataframe tbody tr th:only-of-type {\n",
       "        vertical-align: middle;\n",
       "    }\n",
       "\n",
       "    .dataframe tbody tr th {\n",
       "        vertical-align: top;\n",
       "    }\n",
       "\n",
       "    .dataframe thead th {\n",
       "        text-align: right;\n",
       "    }\n",
       "</style>\n",
       "<table border=\"1\" class=\"dataframe\">\n",
       "  <thead>\n",
       "    <tr style=\"text-align: right;\">\n",
       "      <th></th>\n",
       "      <th>tweet_id</th>\n",
       "      <th>ticker_symbol</th>\n",
       "      <th>writer</th>\n",
       "      <th>post_date</th>\n",
       "      <th>body</th>\n",
       "      <th>comment_num</th>\n",
       "      <th>retweet_num</th>\n",
       "      <th>like_num</th>\n",
       "      <th>tweet_activity</th>\n",
       "      <th>sentiment</th>\n",
       "      <th>blob_polarity</th>\n",
       "      <th>blob_subjectivity</th>\n",
       "    </tr>\n",
       "  </thead>\n",
       "  <tbody>\n",
       "    <tr>\n",
       "      <th>4112626</th>\n",
       "      <td>1118989675257978880</td>\n",
       "      <td>TSLA</td>\n",
       "      <td>GerberKawasaki</td>\n",
       "      <td>2019-04-18</td>\n",
       "      <td>tesla saves month gas ten years take savings p...</td>\n",
       "      <td>567</td>\n",
       "      <td>0</td>\n",
       "      <td>0</td>\n",
       "      <td>567</td>\n",
       "      <td>2</td>\n",
       "      <td>1</td>\n",
       "      <td>Objective</td>\n",
       "    </tr>\n",
       "    <tr>\n",
       "      <th>4002464</th>\n",
       "      <td>1082182633948295168</td>\n",
       "      <td>TSLA</td>\n",
       "      <td>vincent13031925</td>\n",
       "      <td>2019-01-07</td>\n",
       "      <td>tesla ceo elonmusk shanghai mayor ying yong te...</td>\n",
       "      <td>318</td>\n",
       "      <td>0</td>\n",
       "      <td>0</td>\n",
       "      <td>318</td>\n",
       "      <td>2</td>\n",
       "      <td>2</td>\n",
       "      <td>Objective</td>\n",
       "    </tr>\n",
       "    <tr>\n",
       "      <th>4142690</th>\n",
       "      <td>1126183436144795649</td>\n",
       "      <td>TSLA</td>\n",
       "      <td>TeslaNY</td>\n",
       "      <td>2019-05-08</td>\n",
       "      <td>testing production car ever cracked seconds mp...</td>\n",
       "      <td>280</td>\n",
       "      <td>0</td>\n",
       "      <td>0</td>\n",
       "      <td>280</td>\n",
       "      <td>2</td>\n",
       "      <td>2</td>\n",
       "      <td>Objective</td>\n",
       "    </tr>\n",
       "    <tr>\n",
       "      <th>4301361</th>\n",
       "      <td>1197894016358060032</td>\n",
       "      <td>TSLA</td>\n",
       "      <td>carlquintanilla</td>\n",
       "      <td>2019-11-22</td>\n",
       "      <td>caption pleasetsla cybertruckvia teflongeek</td>\n",
       "      <td>276</td>\n",
       "      <td>27</td>\n",
       "      <td>201</td>\n",
       "      <td>504</td>\n",
       "      <td>2</td>\n",
       "      <td>2</td>\n",
       "      <td>Objective</td>\n",
       "    </tr>\n",
       "    <tr>\n",
       "      <th>4244910</th>\n",
       "      <td>1172211592848527360</td>\n",
       "      <td>TSLA</td>\n",
       "      <td>edmunds</td>\n",
       "      <td>2019-09-12</td>\n",
       "      <td>cultural impact porsche tsla dropping reacting...</td>\n",
       "      <td>218</td>\n",
       "      <td>63</td>\n",
       "      <td>459</td>\n",
       "      <td>740</td>\n",
       "      <td>2</td>\n",
       "      <td>1</td>\n",
       "      <td>Objective</td>\n",
       "    </tr>\n",
       "  </tbody>\n",
       "</table>\n",
       "</div>"
      ],
      "text/plain": [
       "                    tweet_id ticker_symbol           writer  post_date  \\\n",
       "4112626  1118989675257978880          TSLA   GerberKawasaki 2019-04-18   \n",
       "4002464  1082182633948295168          TSLA  vincent13031925 2019-01-07   \n",
       "4142690  1126183436144795649          TSLA          TeslaNY 2019-05-08   \n",
       "4301361  1197894016358060032          TSLA  carlquintanilla 2019-11-22   \n",
       "4244910  1172211592848527360          TSLA          edmunds 2019-09-12   \n",
       "\n",
       "                                                      body  comment_num  \\\n",
       "4112626  tesla saves month gas ten years take savings p...          567   \n",
       "4002464  tesla ceo elonmusk shanghai mayor ying yong te...          318   \n",
       "4142690  testing production car ever cracked seconds mp...          280   \n",
       "4301361        caption pleasetsla cybertruckvia teflongeek          276   \n",
       "4244910  cultural impact porsche tsla dropping reacting...          218   \n",
       "\n",
       "         retweet_num  like_num  tweet_activity  sentiment  blob_polarity  \\\n",
       "4112626            0         0             567          2              1   \n",
       "4002464            0         0             318          2              2   \n",
       "4142690            0         0             280          2              2   \n",
       "4301361           27       201             504          2              2   \n",
       "4244910           63       459             740          2              1   \n",
       "\n",
       "        blob_subjectivity  \n",
       "4112626         Objective  \n",
       "4002464         Objective  \n",
       "4142690         Objective  \n",
       "4301361         Objective  \n",
       "4244910         Objective  "
      ]
     },
     "execution_count": 79,
     "metadata": {},
     "output_type": "execute_result"
    }
   ],
   "source": [
    "neutralTweets = filterTweets.loc[filterTweets[\"sentiment\"] == 2]\n",
    "neutralTweets.head()"
   ]
  },
  {
   "attachments": {},
   "cell_type": "markdown",
   "metadata": {},
   "source": [
    "## Machine Learnining Model for NLTK Sentimental Analysis"
   ]
  },
  {
   "cell_type": "code",
   "execution_count": 80,
   "metadata": {},
   "outputs": [],
   "source": [
    "def metric_report(y_test,y_pred):\n",
    "    accuracy = accuracy_score(y_test,y_pred)\n",
    "    fmeasure = f1_score(y_test,y_pred, average = \"weighted\")\n",
    "    recall = recall_score(y_test, y_pred, average = \"weighted\")\n",
    "    precision = precision_score(y_test, y_pred, average = \"weighted\")\n",
    "    print(f\"The accuracy of the Model is {accuracy}\")\n",
    "    print(f\"The F-Score of the Model is {fmeasure}\")\n",
    "    print(f\"The Recall of the Model is {recall}\")\n",
    "    print(f\"The precision of the Model is {precision}\")"
   ]
  },
  {
   "attachments": {},
   "cell_type": "markdown",
   "metadata": {},
   "source": [
    "### Create a Naive_bayes Model"
   ]
  },
  {
   "cell_type": "code",
   "execution_count": 81,
   "metadata": {},
   "outputs": [],
   "source": [
    "from sklearn.feature_extraction.text import CountVectorizer\n",
    "from sklearn.naive_bayes import MultinomialNB\n",
    "from sklearn.metrics import accuracy_score"
   ]
  },
  {
   "cell_type": "code",
   "execution_count": 82,
   "metadata": {},
   "outputs": [
    {
     "name": "stdout",
     "output_type": "stream",
     "text": [
      "The accuracy of the Model is 0.6633035456904007\n",
      "The F-Score of the Model is 0.6456242908224311\n",
      "The Recall of the Model is 0.6633035456904007\n",
      "The precision of the Model is 0.6898857564488065\n"
     ]
    }
   ],
   "source": [
    "vectoriser = CountVectorizer()\n",
    "\n",
    "X_train_vec = vectoriser.fit_transform(X_train)\n",
    "X_test_vec = vectoriser.transform(X_test)\n",
    "\n",
    "# Train the model using Naive Bayes algorithm\n",
    "clf = MultinomialNB()\n",
    "clf.fit(X_train_vec, y_train)\n",
    "\n",
    "# Make predictions on test data\n",
    "y_pred = clf.predict(X_test_vec)\n",
    "\n",
    "# Evaluate the model using accuracy score\n",
    "metric_report(y_test,y_pred)"
   ]
  },
  {
   "attachments": {},
   "cell_type": "markdown",
   "metadata": {},
   "source": [
    "### Create a Decision Tree Classifier"
   ]
  },
  {
   "cell_type": "code",
   "execution_count": 83,
   "metadata": {},
   "outputs": [
    {
     "name": "stdout",
     "output_type": "stream",
     "text": [
      "The accuracy of the Model is 0.7749591621024311\n",
      "The F-Score of the Model is 0.7715807525034247\n",
      "The Recall of the Model is 0.7749591621024311\n",
      "The precision of the Model is 0.7722502883998411\n"
     ]
    }
   ],
   "source": [
    "clf = DecisionTreeClassifier()\n",
    "clf.fit(X_train_vec,y_train)\n",
    "\n",
    "y_pred = clf.predict(X_test_vec)\n",
    "\n",
    "metric_report(y_test,y_pred)\n"
   ]
  },
  {
   "attachments": {},
   "cell_type": "markdown",
   "metadata": {},
   "source": [
    "### Create a Ensemble Learning Classifier\n"
   ]
  },
  {
   "cell_type": "code",
   "execution_count": 84,
   "metadata": {},
   "outputs": [],
   "source": [
    "from sklearn.ensemble import VotingClassifier\n",
    "from sklearn.ensemble import RandomForestClassifier\n",
    "from sklearn.svm import SVC"
   ]
  },
  {
   "cell_type": "code",
   "execution_count": 85,
   "metadata": {},
   "outputs": [
    {
     "name": "stdout",
     "output_type": "stream",
     "text": [
      "The accuracy of the Model is 0.8108965119631018\n",
      "The F-Score of the Model is 0.8059135450725267\n",
      "The Recall of the Model is 0.8108965119631018\n",
      "The precision of the Model is 0.8162792028076998\n"
     ]
    }
   ],
   "source": [
    "clf1 = DecisionTreeClassifier()\n",
    "clf2 = RandomForestClassifier()\n",
    "clf3 = SVC()\n",
    "\n",
    "# Create the ensemble classifier\n",
    "ensemble = VotingClassifier(estimators=[('dt', clf1), ('rf', clf2), ('svc', clf3)], voting='hard')\n",
    "\n",
    "# Train the ensemble classifier\n",
    "ensemble.fit(X_train_vec, y_train)\n",
    "\n",
    "# Make predictions on the test set\n",
    "y_pred = ensemble.predict(X_test_vec)\n",
    "\n",
    "# Evaluate the accuracy of the model\n",
    "metric_report(y_test,y_pred)"
   ]
  },
  {
   "attachments": {},
   "cell_type": "markdown",
   "metadata": {},
   "source": [
    "### Support Vector Machine Models\n"
   ]
  },
  {
   "cell_type": "code",
   "execution_count": 86,
   "metadata": {},
   "outputs": [
    {
     "data": {
      "text/html": [
       "<style>#sk-container-id-1 {color: black;background-color: white;}#sk-container-id-1 pre{padding: 0;}#sk-container-id-1 div.sk-toggleable {background-color: white;}#sk-container-id-1 label.sk-toggleable__label {cursor: pointer;display: block;width: 100%;margin-bottom: 0;padding: 0.3em;box-sizing: border-box;text-align: center;}#sk-container-id-1 label.sk-toggleable__label-arrow:before {content: \"▸\";float: left;margin-right: 0.25em;color: #696969;}#sk-container-id-1 label.sk-toggleable__label-arrow:hover:before {color: black;}#sk-container-id-1 div.sk-estimator:hover label.sk-toggleable__label-arrow:before {color: black;}#sk-container-id-1 div.sk-toggleable__content {max-height: 0;max-width: 0;overflow: hidden;text-align: left;background-color: #f0f8ff;}#sk-container-id-1 div.sk-toggleable__content pre {margin: 0.2em;color: black;border-radius: 0.25em;background-color: #f0f8ff;}#sk-container-id-1 input.sk-toggleable__control:checked~div.sk-toggleable__content {max-height: 200px;max-width: 100%;overflow: auto;}#sk-container-id-1 input.sk-toggleable__control:checked~label.sk-toggleable__label-arrow:before {content: \"▾\";}#sk-container-id-1 div.sk-estimator input.sk-toggleable__control:checked~label.sk-toggleable__label {background-color: #d4ebff;}#sk-container-id-1 div.sk-label input.sk-toggleable__control:checked~label.sk-toggleable__label {background-color: #d4ebff;}#sk-container-id-1 input.sk-hidden--visually {border: 0;clip: rect(1px 1px 1px 1px);clip: rect(1px, 1px, 1px, 1px);height: 1px;margin: -1px;overflow: hidden;padding: 0;position: absolute;width: 1px;}#sk-container-id-1 div.sk-estimator {font-family: monospace;background-color: #f0f8ff;border: 1px dotted black;border-radius: 0.25em;box-sizing: border-box;margin-bottom: 0.5em;}#sk-container-id-1 div.sk-estimator:hover {background-color: #d4ebff;}#sk-container-id-1 div.sk-parallel-item::after {content: \"\";width: 100%;border-bottom: 1px solid gray;flex-grow: 1;}#sk-container-id-1 div.sk-label:hover label.sk-toggleable__label {background-color: #d4ebff;}#sk-container-id-1 div.sk-serial::before {content: \"\";position: absolute;border-left: 1px solid gray;box-sizing: border-box;top: 0;bottom: 0;left: 50%;z-index: 0;}#sk-container-id-1 div.sk-serial {display: flex;flex-direction: column;align-items: center;background-color: white;padding-right: 0.2em;padding-left: 0.2em;position: relative;}#sk-container-id-1 div.sk-item {position: relative;z-index: 1;}#sk-container-id-1 div.sk-parallel {display: flex;align-items: stretch;justify-content: center;background-color: white;position: relative;}#sk-container-id-1 div.sk-item::before, #sk-container-id-1 div.sk-parallel-item::before {content: \"\";position: absolute;border-left: 1px solid gray;box-sizing: border-box;top: 0;bottom: 0;left: 50%;z-index: -1;}#sk-container-id-1 div.sk-parallel-item {display: flex;flex-direction: column;z-index: 1;position: relative;background-color: white;}#sk-container-id-1 div.sk-parallel-item:first-child::after {align-self: flex-end;width: 50%;}#sk-container-id-1 div.sk-parallel-item:last-child::after {align-self: flex-start;width: 50%;}#sk-container-id-1 div.sk-parallel-item:only-child::after {width: 0;}#sk-container-id-1 div.sk-dashed-wrapped {border: 1px dashed gray;margin: 0 0.4em 0.5em 0.4em;box-sizing: border-box;padding-bottom: 0.4em;background-color: white;}#sk-container-id-1 div.sk-label label {font-family: monospace;font-weight: bold;display: inline-block;line-height: 1.2em;}#sk-container-id-1 div.sk-label-container {text-align: center;}#sk-container-id-1 div.sk-container {/* jupyter's `normalize.less` sets `[hidden] { display: none; }` but bootstrap.min.css set `[hidden] { display: none !important; }` so we also need the `!important` here to be able to override the default hidden behavior on the sphinx rendered scikit-learn.org. See: https://github.com/scikit-learn/scikit-learn/issues/21755 */display: inline-block !important;position: relative;}#sk-container-id-1 div.sk-text-repr-fallback {display: none;}</style><div id=\"sk-container-id-1\" class=\"sk-top-container\"><div class=\"sk-text-repr-fallback\"><pre>SVC(random_state=1)</pre><b>In a Jupyter environment, please rerun this cell to show the HTML representation or trust the notebook. <br />On GitHub, the HTML representation is unable to render, please try loading this page with nbviewer.org.</b></div><div class=\"sk-container\" hidden><div class=\"sk-item\"><div class=\"sk-estimator sk-toggleable\"><input class=\"sk-toggleable__control sk-hidden--visually\" id=\"sk-estimator-id-1\" type=\"checkbox\" checked><label for=\"sk-estimator-id-1\" class=\"sk-toggleable__label sk-toggleable__label-arrow\">SVC</label><div class=\"sk-toggleable__content\"><pre>SVC(random_state=1)</pre></div></div></div></div></div>"
      ],
      "text/plain": [
       "SVC(random_state=1)"
      ]
     },
     "execution_count": 86,
     "metadata": {},
     "output_type": "execute_result"
    }
   ],
   "source": [
    "from sklearn import svm\n",
    "clf = svm.SVC(kernel = \"rbf\",random_state = 1)\n",
    "clf.fit(X_train_vec,y_train)"
   ]
  },
  {
   "cell_type": "code",
   "execution_count": 87,
   "metadata": {},
   "outputs": [],
   "source": [
    "svm_pred = clf.predict(X_test_vec)\n"
   ]
  },
  {
   "cell_type": "code",
   "execution_count": 88,
   "metadata": {},
   "outputs": [
    {
     "name": "stdout",
     "output_type": "stream",
     "text": [
      "The accuracy of the Model is 0.7941769962525224\n",
      "The F-Score of the Model is 0.7899176391130729\n",
      "The Recall of the Model is 0.7941769962525224\n",
      "The precision of the Model is 0.7986070046651962\n"
     ]
    }
   ],
   "source": [
    "metric_report(y_test,svm_pred)"
   ]
  },
  {
   "attachments": {},
   "cell_type": "markdown",
   "metadata": {},
   "source": [
    "### K-Nearest Neighbour Classification"
   ]
  },
  {
   "cell_type": "code",
   "execution_count": 89,
   "metadata": {},
   "outputs": [
    {
     "name": "stdout",
     "output_type": "stream",
     "text": [
      "K value : 2 \n",
      "Accuracy : 0.4998558662438743\n"
     ]
    }
   ],
   "source": [
    "\n",
    "from sklearn.neighbors import KNeighborsClassifier\n",
    "\n",
    "#Finding the optimal k from 1-30\n",
    "kRange = range(1,31)\n",
    "\n",
    "scores = []\n",
    "\n",
    "for kValue in kRange:\n",
    "    knnClass = KNeighborsClassifier(n_neighbors = kValue)\n",
    "    knnClass.fit(X_train_vec,y_train)\n",
    "    knn_pred= knnClass.predict(X_test_vec)\n",
    "    scores.append(accuracy_score(y_test,knn_pred))\n",
    "    \n",
    "maxKAccuracy = 0\n",
    "maxKValue = 0\n",
    "\n",
    "for i, x in enumerate(scores):\n",
    "    if i == 0:\n",
    "        maxKAccuracy = x\n",
    "        maxKValue = i+1\n",
    "    if x > maxKAccuracy:\n",
    "        maxKAccuracy = x\n",
    "        maxKValue = i+1\n",
    "\n",
    "print(f\"K value : {maxKValue} \\nAccuracy : {maxKAccuracy}\")"
   ]
  },
  {
   "cell_type": "code",
   "execution_count": 90,
   "metadata": {},
   "outputs": [
    {
     "data": {
      "text/html": [
       "<style>#sk-container-id-2 {color: black;background-color: white;}#sk-container-id-2 pre{padding: 0;}#sk-container-id-2 div.sk-toggleable {background-color: white;}#sk-container-id-2 label.sk-toggleable__label {cursor: pointer;display: block;width: 100%;margin-bottom: 0;padding: 0.3em;box-sizing: border-box;text-align: center;}#sk-container-id-2 label.sk-toggleable__label-arrow:before {content: \"▸\";float: left;margin-right: 0.25em;color: #696969;}#sk-container-id-2 label.sk-toggleable__label-arrow:hover:before {color: black;}#sk-container-id-2 div.sk-estimator:hover label.sk-toggleable__label-arrow:before {color: black;}#sk-container-id-2 div.sk-toggleable__content {max-height: 0;max-width: 0;overflow: hidden;text-align: left;background-color: #f0f8ff;}#sk-container-id-2 div.sk-toggleable__content pre {margin: 0.2em;color: black;border-radius: 0.25em;background-color: #f0f8ff;}#sk-container-id-2 input.sk-toggleable__control:checked~div.sk-toggleable__content {max-height: 200px;max-width: 100%;overflow: auto;}#sk-container-id-2 input.sk-toggleable__control:checked~label.sk-toggleable__label-arrow:before {content: \"▾\";}#sk-container-id-2 div.sk-estimator input.sk-toggleable__control:checked~label.sk-toggleable__label {background-color: #d4ebff;}#sk-container-id-2 div.sk-label input.sk-toggleable__control:checked~label.sk-toggleable__label {background-color: #d4ebff;}#sk-container-id-2 input.sk-hidden--visually {border: 0;clip: rect(1px 1px 1px 1px);clip: rect(1px, 1px, 1px, 1px);height: 1px;margin: -1px;overflow: hidden;padding: 0;position: absolute;width: 1px;}#sk-container-id-2 div.sk-estimator {font-family: monospace;background-color: #f0f8ff;border: 1px dotted black;border-radius: 0.25em;box-sizing: border-box;margin-bottom: 0.5em;}#sk-container-id-2 div.sk-estimator:hover {background-color: #d4ebff;}#sk-container-id-2 div.sk-parallel-item::after {content: \"\";width: 100%;border-bottom: 1px solid gray;flex-grow: 1;}#sk-container-id-2 div.sk-label:hover label.sk-toggleable__label {background-color: #d4ebff;}#sk-container-id-2 div.sk-serial::before {content: \"\";position: absolute;border-left: 1px solid gray;box-sizing: border-box;top: 0;bottom: 0;left: 50%;z-index: 0;}#sk-container-id-2 div.sk-serial {display: flex;flex-direction: column;align-items: center;background-color: white;padding-right: 0.2em;padding-left: 0.2em;position: relative;}#sk-container-id-2 div.sk-item {position: relative;z-index: 1;}#sk-container-id-2 div.sk-parallel {display: flex;align-items: stretch;justify-content: center;background-color: white;position: relative;}#sk-container-id-2 div.sk-item::before, #sk-container-id-2 div.sk-parallel-item::before {content: \"\";position: absolute;border-left: 1px solid gray;box-sizing: border-box;top: 0;bottom: 0;left: 50%;z-index: -1;}#sk-container-id-2 div.sk-parallel-item {display: flex;flex-direction: column;z-index: 1;position: relative;background-color: white;}#sk-container-id-2 div.sk-parallel-item:first-child::after {align-self: flex-end;width: 50%;}#sk-container-id-2 div.sk-parallel-item:last-child::after {align-self: flex-start;width: 50%;}#sk-container-id-2 div.sk-parallel-item:only-child::after {width: 0;}#sk-container-id-2 div.sk-dashed-wrapped {border: 1px dashed gray;margin: 0 0.4em 0.5em 0.4em;box-sizing: border-box;padding-bottom: 0.4em;background-color: white;}#sk-container-id-2 div.sk-label label {font-family: monospace;font-weight: bold;display: inline-block;line-height: 1.2em;}#sk-container-id-2 div.sk-label-container {text-align: center;}#sk-container-id-2 div.sk-container {/* jupyter's `normalize.less` sets `[hidden] { display: none; }` but bootstrap.min.css set `[hidden] { display: none !important; }` so we also need the `!important` here to be able to override the default hidden behavior on the sphinx rendered scikit-learn.org. See: https://github.com/scikit-learn/scikit-learn/issues/21755 */display: inline-block !important;position: relative;}#sk-container-id-2 div.sk-text-repr-fallback {display: none;}</style><div id=\"sk-container-id-2\" class=\"sk-top-container\"><div class=\"sk-text-repr-fallback\"><pre>KNeighborsClassifier(n_neighbors=2)</pre><b>In a Jupyter environment, please rerun this cell to show the HTML representation or trust the notebook. <br />On GitHub, the HTML representation is unable to render, please try loading this page with nbviewer.org.</b></div><div class=\"sk-container\" hidden><div class=\"sk-item\"><div class=\"sk-estimator sk-toggleable\"><input class=\"sk-toggleable__control sk-hidden--visually\" id=\"sk-estimator-id-2\" type=\"checkbox\" checked><label for=\"sk-estimator-id-2\" class=\"sk-toggleable__label sk-toggleable__label-arrow\">KNeighborsClassifier</label><div class=\"sk-toggleable__content\"><pre>KNeighborsClassifier(n_neighbors=2)</pre></div></div></div></div></div>"
      ],
      "text/plain": [
       "KNeighborsClassifier(n_neighbors=2)"
      ]
     },
     "execution_count": 90,
     "metadata": {},
     "output_type": "execute_result"
    }
   ],
   "source": [
    "knnClass = KNeighborsClassifier(n_neighbors = maxKValue)\n",
    "knnClass.fit(X_train_vec,y_train)"
   ]
  },
  {
   "cell_type": "code",
   "execution_count": 91,
   "metadata": {},
   "outputs": [
    {
     "name": "stdout",
     "output_type": "stream",
     "text": [
      "[1 2 1 ... 2 1 2]\n"
     ]
    }
   ],
   "source": [
    "knnPredicted = knnClass.predict(X_test_vec)\n",
    "print(knnPredicted)"
   ]
  },
  {
   "cell_type": "code",
   "execution_count": 92,
   "metadata": {},
   "outputs": [
    {
     "name": "stdout",
     "output_type": "stream",
     "text": [
      "The accuracy of the Model is 0.3032574228884405\n",
      "The F-Score of the Model is 0.17100311745931907\n",
      "The Recall of the Model is 0.3032574228884405\n",
      "The precision of the Model is 0.6683040471426585\n"
     ]
    }
   ],
   "source": [
    "metric_report(y_test,knn_pred)"
   ]
  },
  {
   "cell_type": "code",
   "execution_count": 93,
   "metadata": {},
   "outputs": [
    {
     "data": {
      "text/plain": [
       "array([[ 606,  407, 1721],\n",
       "       [ 289, 2120, 2340],\n",
       "       [ 133,  315, 2476]], dtype=int64)"
      ]
     },
     "execution_count": 93,
     "metadata": {},
     "output_type": "execute_result"
    }
   ],
   "source": [
    "from sklearn.metrics import confusion_matrix\n",
    "cm = confusion_matrix(y_test,knnPredicted)\n",
    "cm"
   ]
  },
  {
   "cell_type": "code",
   "execution_count": 94,
   "metadata": {},
   "outputs": [
    {
     "data": {
      "text/plain": [
       "Text(95.72222222222221, 0.5, 'Truth')"
      ]
     },
     "execution_count": 94,
     "metadata": {},
     "output_type": "execute_result"
    },
    {
     "data": {
      "image/png": "[encoded data removed]",
      "text/plain": [
       "<Figure size 1000x700 with 2 Axes>"
      ]
     },
     "metadata": {},
     "output_type": "display_data"
    }
   ],
   "source": [
    "%matplotlib inline\n",
    "plt.figure(figsize = (10,7))\n",
    "sns.heatmap(cm, annot = True, fmt = \"d\")\n",
    "plt.xlabel(\"Predicted\")\n",
    "plt.ylabel(\"Truth\")"
   ]
  },
  {
   "attachments": {},
   "cell_type": "markdown",
   "metadata": {},
   "source": [
    "### Neural Network"
   ]
  },
  {
   "cell_type": "code",
   "execution_count": 95,
   "metadata": {},
   "outputs": [
    {
     "data": {
      "text/html": [
       "<style>#sk-container-id-3 {color: black;background-color: white;}#sk-container-id-3 pre{padding: 0;}#sk-container-id-3 div.sk-toggleable {background-color: white;}#sk-container-id-3 label.sk-toggleable__label {cursor: pointer;display: block;width: 100%;margin-bottom: 0;padding: 0.3em;box-sizing: border-box;text-align: center;}#sk-container-id-3 label.sk-toggleable__label-arrow:before {content: \"▸\";float: left;margin-right: 0.25em;color: #696969;}#sk-container-id-3 label.sk-toggleable__label-arrow:hover:before {color: black;}#sk-container-id-3 div.sk-estimator:hover label.sk-toggleable__label-arrow:before {color: black;}#sk-container-id-3 div.sk-toggleable__content {max-height: 0;max-width: 0;overflow: hidden;text-align: left;background-color: #f0f8ff;}#sk-container-id-3 div.sk-toggleable__content pre {margin: 0.2em;color: black;border-radius: 0.25em;background-color: #f0f8ff;}#sk-container-id-3 input.sk-toggleable__control:checked~div.sk-toggleable__content {max-height: 200px;max-width: 100%;overflow: auto;}#sk-container-id-3 input.sk-toggleable__control:checked~label.sk-toggleable__label-arrow:before {content: \"▾\";}#sk-container-id-3 div.sk-estimator input.sk-toggleable__control:checked~label.sk-toggleable__label {background-color: #d4ebff;}#sk-container-id-3 div.sk-label input.sk-toggleable__control:checked~label.sk-toggleable__label {background-color: #d4ebff;}#sk-container-id-3 input.sk-hidden--visually {border: 0;clip: rect(1px 1px 1px 1px);clip: rect(1px, 1px, 1px, 1px);height: 1px;margin: -1px;overflow: hidden;padding: 0;position: absolute;width: 1px;}#sk-container-id-3 div.sk-estimator {font-family: monospace;background-color: #f0f8ff;border: 1px dotted black;border-radius: 0.25em;box-sizing: border-box;margin-bottom: 0.5em;}#sk-container-id-3 div.sk-estimator:hover {background-color: #d4ebff;}#sk-container-id-3 div.sk-parallel-item::after {content: \"\";width: 100%;border-bottom: 1px solid gray;flex-grow: 1;}#sk-container-id-3 div.sk-label:hover label.sk-toggleable__label {background-color: #d4ebff;}#sk-container-id-3 div.sk-serial::before {content: \"\";position: absolute;border-left: 1px solid gray;box-sizing: border-box;top: 0;bottom: 0;left: 50%;z-index: 0;}#sk-container-id-3 div.sk-serial {display: flex;flex-direction: column;align-items: center;background-color: white;padding-right: 0.2em;padding-left: 0.2em;position: relative;}#sk-container-id-3 div.sk-item {position: relative;z-index: 1;}#sk-container-id-3 div.sk-parallel {display: flex;align-items: stretch;justify-content: center;background-color: white;position: relative;}#sk-container-id-3 div.sk-item::before, #sk-container-id-3 div.sk-parallel-item::before {content: \"\";position: absolute;border-left: 1px solid gray;box-sizing: border-box;top: 0;bottom: 0;left: 50%;z-index: -1;}#sk-container-id-3 div.sk-parallel-item {display: flex;flex-direction: column;z-index: 1;position: relative;background-color: white;}#sk-container-id-3 div.sk-parallel-item:first-child::after {align-self: flex-end;width: 50%;}#sk-container-id-3 div.sk-parallel-item:last-child::after {align-self: flex-start;width: 50%;}#sk-container-id-3 div.sk-parallel-item:only-child::after {width: 0;}#sk-container-id-3 div.sk-dashed-wrapped {border: 1px dashed gray;margin: 0 0.4em 0.5em 0.4em;box-sizing: border-box;padding-bottom: 0.4em;background-color: white;}#sk-container-id-3 div.sk-label label {font-family: monospace;font-weight: bold;display: inline-block;line-height: 1.2em;}#sk-container-id-3 div.sk-label-container {text-align: center;}#sk-container-id-3 div.sk-container {/* jupyter's `normalize.less` sets `[hidden] { display: none; }` but bootstrap.min.css set `[hidden] { display: none !important; }` so we also need the `!important` here to be able to override the default hidden behavior on the sphinx rendered scikit-learn.org. See: https://github.com/scikit-learn/scikit-learn/issues/21755 */display: inline-block !important;position: relative;}#sk-container-id-3 div.sk-text-repr-fallback {display: none;}</style><div id=\"sk-container-id-3\" class=\"sk-top-container\"><div class=\"sk-text-repr-fallback\"><pre>MLPClassifier(alpha=1e-05, hidden_layer_sizes=(128,), max_iter=1000,\n",
       "              random_state=1, solver=&#x27;lbfgs&#x27;)</pre><b>In a Jupyter environment, please rerun this cell to show the HTML representation or trust the notebook. <br />On GitHub, the HTML representation is unable to render, please try loading this page with nbviewer.org.</b></div><div class=\"sk-container\" hidden><div class=\"sk-item\"><div class=\"sk-estimator sk-toggleable\"><input class=\"sk-toggleable__control sk-hidden--visually\" id=\"sk-estimator-id-3\" type=\"checkbox\" checked><label for=\"sk-estimator-id-3\" class=\"sk-toggleable__label sk-toggleable__label-arrow\">MLPClassifier</label><div class=\"sk-toggleable__content\"><pre>MLPClassifier(alpha=1e-05, hidden_layer_sizes=(128,), max_iter=1000,\n",
       "              random_state=1, solver=&#x27;lbfgs&#x27;)</pre></div></div></div></div></div>"
      ],
      "text/plain": [
       "MLPClassifier(alpha=1e-05, hidden_layer_sizes=(128,), max_iter=1000,\n",
       "              random_state=1, solver='lbfgs')"
      ]
     },
     "execution_count": 95,
     "metadata": {},
     "output_type": "execute_result"
    }
   ],
   "source": [
    "from sklearn.neural_network import MLPClassifier\n",
    "\n",
    "clf = MLPClassifier(solver = \"lbfgs\", alpha = 1e-5, \n",
    "                    hidden_layer_sizes =(128,), random_state=1, max_iter = 1000)\n",
    "clf.fit(X_train_vec,y_train)"
   ]
  },
  {
   "cell_type": "code",
   "execution_count": 96,
   "metadata": {},
   "outputs": [
    {
     "name": "stdout",
     "output_type": "stream",
     "text": [
      "[1 0 0 ... 0 0 2]\n"
     ]
    }
   ],
   "source": [
    "nn_pred = clf.predict(X_test_vec)\n",
    "print(nn_pred)"
   ]
  },
  {
   "cell_type": "code",
   "execution_count": 97,
   "metadata": {},
   "outputs": [
    {
     "name": "stdout",
     "output_type": "stream",
     "text": [
      "The accuracy of the Model is 0.8362640530412222\n",
      "The F-Score of the Model is 0.8356079473607323\n",
      "The Recall of the Model is 0.8362640530412222\n",
      "The precision of the Model is 0.8363051436337441\n"
     ]
    }
   ],
   "source": [
    "metric_report(y_test,nn_pred)"
   ]
  },
  {
   "attachments": {},
   "cell_type": "markdown",
   "metadata": {},
   "source": [
    "## Doing up Machine Learning Models for TextBlob Analysis"
   ]
  },
  {
   "cell_type": "code",
   "execution_count": 98,
   "metadata": {},
   "outputs": [],
   "source": [
    "X = filterTweets[\"body\"] \n",
    "y = filterTweets[\"blob_polarity\"]\n",
    "X_train, X_test, y_train, y_test = train_test_split(\n",
    "    X, y, test_size=0.25, random_state=0)"
   ]
  },
  {
   "attachments": {},
   "cell_type": "markdown",
   "metadata": {},
   "source": [
    "### Naive Bayes ML Model"
   ]
  },
  {
   "cell_type": "code",
   "execution_count": 99,
   "metadata": {},
   "outputs": [
    {
     "name": "stdout",
     "output_type": "stream",
     "text": [
      "The accuracy of the Model is 0.6724320169116941\n",
      "The F-Score of the Model is 0.6542403243462113\n",
      "The Recall of the Model is 0.6724320169116941\n",
      "The precision of the Model is 0.7177707826728906\n"
     ]
    }
   ],
   "source": [
    "vectoriser = CountVectorizer()\n",
    "\n",
    "X_train_vec = vectoriser.fit_transform(X_train)\n",
    "X_test_vec = vectoriser.transform(X_test)\n",
    "\n",
    "# Train the model using Naive Bayes algorithm\n",
    "clf = MultinomialNB()\n",
    "clf.fit(X_train_vec, y_train)\n",
    "\n",
    "# Make predictions on test data\n",
    "y_pred = clf.predict(X_test_vec)\n",
    "\n",
    "# Evaluate the model using accuracy score\n",
    "metric_report(y_test,y_pred)"
   ]
  },
  {
   "attachments": {},
   "cell_type": "markdown",
   "metadata": {},
   "source": [
    "### Create Decision Tree ML Model"
   ]
  },
  {
   "cell_type": "code",
   "execution_count": 100,
   "metadata": {},
   "outputs": [
    {
     "name": "stdout",
     "output_type": "stream",
     "text": [
      "The accuracy of the Model is 0.8904583453444797\n",
      "The F-Score of the Model is 0.8887261442428611\n",
      "The Recall of the Model is 0.8904583453444797\n",
      "The precision of the Model is 0.8881029393455674\n"
     ]
    }
   ],
   "source": [
    "clf = DecisionTreeClassifier()\n",
    "clf.fit(X_train_vec,y_train)\n",
    "\n",
    "y_pred = clf.predict(X_test_vec)\n",
    "\n",
    "metric_report(y_test,y_pred)\n"
   ]
  },
  {
   "attachments": {},
   "cell_type": "markdown",
   "metadata": {},
   "source": [
    "### Support Vector Machine Model"
   ]
  },
  {
   "cell_type": "code",
   "execution_count": 101,
   "metadata": {},
   "outputs": [],
   "source": [
    "svm_pred = clf.predict(X_test_vec)"
   ]
  },
  {
   "cell_type": "code",
   "execution_count": 102,
   "metadata": {},
   "outputs": [
    {
     "name": "stdout",
     "output_type": "stream",
     "text": [
      "The accuracy of the Model is 0.8904583453444797\n",
      "The F-Score of the Model is 0.8887261442428611\n",
      "The Recall of the Model is 0.8904583453444797\n",
      "The precision of the Model is 0.8881029393455674\n"
     ]
    }
   ],
   "source": [
    "\n",
    "metric_report(y_test,svm_pred)\n"
   ]
  },
  {
   "cell_type": "markdown",
   "metadata": {},
   "source": [
    "### Neural Network Model\n",
    "\n"
   ]
  },
  {
   "cell_type": "code",
   "execution_count": 103,
   "metadata": {},
   "outputs": [
    {
     "name": "stdout",
     "output_type": "stream",
     "text": [
      "The accuracy of the Model is 0.9091957336408186\n",
      "The F-Score of the Model is 0.9083377780112382\n",
      "The Recall of the Model is 0.9091957336408186\n",
      "The precision of the Model is 0.9085241854649969\n"
     ]
    }
   ],
   "source": [
    "from sklearn.neural_network import MLPClassifier\n",
    "\n",
    "clf = MLPClassifier(solver = \"lbfgs\", alpha = 1e-5, \n",
    "                    hidden_layer_sizes =(128,), random_state=1, max_iter = 1000)\n",
    "clf.fit(X_train_vec,y_train)\n",
    "\n",
    "nn_pred = clf.predict(X_test_vec)\n",
    "metric_report(y_test,nn_pred)"
   ]
  }
 ],
 "metadata": {
  "kernelspec": {
   "display_name": "Python 3",
   "language": "python",
   "name": "python3"
  },
  "language_info": {
   "codemirror_mode": {
    "name": "ipython",
    "version": 3
   },
   "file_extension": ".py",
   "mimetype": "text/x-python",
   "name": "python",
   "nbconvert_exporter": "python",
   "pygments_lexer": "ipython3",
   "version": "3.10.2"
  },
  "orig_nbformat": 4,
  "vscode": {
   "interpreter": {
    "hash": "5e4bda67f9838be16d189b50da62d733f7c09545de52b735a31e173c43804dd6"
   }
  }
 },
 "nbformat": 4,
 "nbformat_minor": 2
}
