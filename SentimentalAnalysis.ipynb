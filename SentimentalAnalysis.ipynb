{
 "cells": [
  {
   "cell_type": "code",
   "execution_count": 210,
   "metadata": {},
   "outputs": [],
   "source": [
    "import numpy as np \n",
    "import seaborn as sns\n",
    "import matplotlib.pyplot as plt\n",
    "import pandas as pd\n",
    "from sklearn.model_selection import train_test_split\n",
    "from sklearn.tree import DecisionTreeClassifier\n",
    "from sklearn.metrics import accuracy_score\n",
    "from sklearn import tree\n",
    "from sklearn import ensemble\n",
    "from sklearn.metrics import f1_score\n",
    "from sklearn.metrics import recall_score\n",
    "from sklearn.metrics import precision_score\n",
    "import re\n",
    "import nltk\n",
    "from wordcloud import WordCloud\n",
    "import tensorflow as tf\n",
    "from tensorflow.keras.preprocessing.text import Tokenizer\n",
    "from tensorflow.keras.preprocessing.sequence import pad_sequences\n",
    "import time \n"
   ]
  },
  {
   "cell_type": "code",
   "execution_count": 211,
   "metadata": {},
   "outputs": [],
   "source": [
    "df_tweet = pd.read_csv(\"Tweet.csv\")"
   ]
  },
  {
   "cell_type": "code",
   "execution_count": 212,
   "metadata": {},
   "outputs": [
    {
     "name": "stdout",
     "output_type": "stream",
     "text": [
      "<class 'pandas.core.frame.DataFrame'>\n",
      "RangeIndex: 3717964 entries, 0 to 3717963\n",
      "Data columns (total 7 columns):\n",
      " #   Column       Dtype \n",
      "---  ------       ----- \n",
      " 0   tweet_id     int64 \n",
      " 1   writer       object\n",
      " 2   post_date    int64 \n",
      " 3   body         object\n",
      " 4   comment_num  int64 \n",
      " 5   retweet_num  int64 \n",
      " 6   like_num     int64 \n",
      "dtypes: int64(5), object(2)\n",
      "memory usage: 198.6+ MB\n"
     ]
    }
   ],
   "source": [
    "df_tweet.info()"
   ]
  },
  {
   "cell_type": "code",
   "execution_count": 213,
   "metadata": {},
   "outputs": [
    {
     "data": {
      "text/html": [
       "<div>\n",
       "<style scoped>\n",
       "    .dataframe tbody tr th:only-of-type {\n",
       "        vertical-align: middle;\n",
       "    }\n",
       "\n",
       "    .dataframe tbody tr th {\n",
       "        vertical-align: top;\n",
       "    }\n",
       "\n",
       "    .dataframe thead th {\n",
       "        text-align: right;\n",
       "    }\n",
       "</style>\n",
       "<table border=\"1\" class=\"dataframe\">\n",
       "  <thead>\n",
       "    <tr style=\"text-align: right;\">\n",
       "      <th></th>\n",
       "      <th>tweet_id</th>\n",
       "      <th>writer</th>\n",
       "      <th>post_date</th>\n",
       "      <th>body</th>\n",
       "      <th>comment_num</th>\n",
       "      <th>retweet_num</th>\n",
       "      <th>like_num</th>\n",
       "    </tr>\n",
       "  </thead>\n",
       "  <tbody>\n",
       "    <tr>\n",
       "      <th>0</th>\n",
       "      <td>550441509175443456</td>\n",
       "      <td>VisualStockRSRC</td>\n",
       "      <td>1420070457</td>\n",
       "      <td>lx21 made $10,008  on $AAPL -Check it out! htt...</td>\n",
       "      <td>0</td>\n",
       "      <td>0</td>\n",
       "      <td>1</td>\n",
       "    </tr>\n",
       "    <tr>\n",
       "      <th>1</th>\n",
       "      <td>550441672312512512</td>\n",
       "      <td>KeralaGuy77</td>\n",
       "      <td>1420070496</td>\n",
       "      <td>Insanity of today weirdo massive selling. $aap...</td>\n",
       "      <td>0</td>\n",
       "      <td>0</td>\n",
       "      <td>0</td>\n",
       "    </tr>\n",
       "    <tr>\n",
       "      <th>2</th>\n",
       "      <td>550441732014223360</td>\n",
       "      <td>DozenStocks</td>\n",
       "      <td>1420070510</td>\n",
       "      <td>S&amp;P100 #Stocks Performance $HD $LOW $SBUX $TGT...</td>\n",
       "      <td>0</td>\n",
       "      <td>0</td>\n",
       "      <td>0</td>\n",
       "    </tr>\n",
       "    <tr>\n",
       "      <th>3</th>\n",
       "      <td>550442977802207232</td>\n",
       "      <td>ShowDreamCar</td>\n",
       "      <td>1420070807</td>\n",
       "      <td>$GM $TSLA: Volkswagen Pushes 2014 Record Recal...</td>\n",
       "      <td>0</td>\n",
       "      <td>0</td>\n",
       "      <td>1</td>\n",
       "    </tr>\n",
       "    <tr>\n",
       "      <th>4</th>\n",
       "      <td>550443807834402816</td>\n",
       "      <td>i_Know_First</td>\n",
       "      <td>1420071005</td>\n",
       "      <td>Swing Trading: Up To 8.91% Return In 14 Days h...</td>\n",
       "      <td>0</td>\n",
       "      <td>0</td>\n",
       "      <td>1</td>\n",
       "    </tr>\n",
       "  </tbody>\n",
       "</table>\n",
       "</div>"
      ],
      "text/plain": [
       "             tweet_id           writer   post_date  \\\n",
       "0  550441509175443456  VisualStockRSRC  1420070457   \n",
       "1  550441672312512512      KeralaGuy77  1420070496   \n",
       "2  550441732014223360      DozenStocks  1420070510   \n",
       "3  550442977802207232     ShowDreamCar  1420070807   \n",
       "4  550443807834402816     i_Know_First  1420071005   \n",
       "\n",
       "                                                body  comment_num  \\\n",
       "0  lx21 made $10,008  on $AAPL -Check it out! htt...            0   \n",
       "1  Insanity of today weirdo massive selling. $aap...            0   \n",
       "2  S&P100 #Stocks Performance $HD $LOW $SBUX $TGT...            0   \n",
       "3  $GM $TSLA: Volkswagen Pushes 2014 Record Recal...            0   \n",
       "4  Swing Trading: Up To 8.91% Return In 14 Days h...            0   \n",
       "\n",
       "   retweet_num  like_num  \n",
       "0            0         1  \n",
       "1            0         0  \n",
       "2            0         0  \n",
       "3            0         1  \n",
       "4            0         1  "
      ]
     },
     "execution_count": 213,
     "metadata": {},
     "output_type": "execute_result"
    }
   ],
   "source": [
    "df_tweet.head()"
   ]
  },
  {
   "cell_type": "code",
   "execution_count": 214,
   "metadata": {},
   "outputs": [],
   "source": [
    "df_company_tweet = pd.read_csv(\"Company_Tweet.csv\")"
   ]
  },
  {
   "cell_type": "code",
   "execution_count": 215,
   "metadata": {},
   "outputs": [
    {
     "name": "stdout",
     "output_type": "stream",
     "text": [
      "<class 'pandas.core.frame.DataFrame'>\n",
      "RangeIndex: 4336445 entries, 0 to 4336444\n",
      "Data columns (total 2 columns):\n",
      " #   Column         Dtype \n",
      "---  ------         ----- \n",
      " 0   tweet_id       int64 \n",
      " 1   ticker_symbol  object\n",
      "dtypes: int64(1), object(1)\n",
      "memory usage: 66.2+ MB\n"
     ]
    }
   ],
   "source": [
    "df_company_tweet.info()"
   ]
  },
  {
   "cell_type": "code",
   "execution_count": 216,
   "metadata": {},
   "outputs": [
    {
     "data": {
      "text/html": [
       "<div>\n",
       "<style scoped>\n",
       "    .dataframe tbody tr th:only-of-type {\n",
       "        vertical-align: middle;\n",
       "    }\n",
       "\n",
       "    .dataframe tbody tr th {\n",
       "        vertical-align: top;\n",
       "    }\n",
       "\n",
       "    .dataframe thead th {\n",
       "        text-align: right;\n",
       "    }\n",
       "</style>\n",
       "<table border=\"1\" class=\"dataframe\">\n",
       "  <thead>\n",
       "    <tr style=\"text-align: right;\">\n",
       "      <th></th>\n",
       "      <th>tweet_id</th>\n",
       "      <th>ticker_symbol</th>\n",
       "    </tr>\n",
       "  </thead>\n",
       "  <tbody>\n",
       "    <tr>\n",
       "      <th>0</th>\n",
       "      <td>550803612197457920</td>\n",
       "      <td>AAPL</td>\n",
       "    </tr>\n",
       "    <tr>\n",
       "      <th>1</th>\n",
       "      <td>550803610825928706</td>\n",
       "      <td>AAPL</td>\n",
       "    </tr>\n",
       "    <tr>\n",
       "      <th>2</th>\n",
       "      <td>550803225113157632</td>\n",
       "      <td>AAPL</td>\n",
       "    </tr>\n",
       "    <tr>\n",
       "      <th>3</th>\n",
       "      <td>550802957370159104</td>\n",
       "      <td>AAPL</td>\n",
       "    </tr>\n",
       "    <tr>\n",
       "      <th>4</th>\n",
       "      <td>550802855129382912</td>\n",
       "      <td>AAPL</td>\n",
       "    </tr>\n",
       "  </tbody>\n",
       "</table>\n",
       "</div>"
      ],
      "text/plain": [
       "             tweet_id ticker_symbol\n",
       "0  550803612197457920          AAPL\n",
       "1  550803610825928706          AAPL\n",
       "2  550803225113157632          AAPL\n",
       "3  550802957370159104          AAPL\n",
       "4  550802855129382912          AAPL"
      ]
     },
     "execution_count": 216,
     "metadata": {},
     "output_type": "execute_result"
    }
   ],
   "source": [
    "df_company_tweet.head()"
   ]
  },
  {
   "cell_type": "code",
   "execution_count": 217,
   "metadata": {},
   "outputs": [],
   "source": [
    "tweets = pd.merge(df_company_tweet,df_tweet,on= \"tweet_id\", how = \"inner\")"
   ]
  },
  {
   "cell_type": "code",
   "execution_count": 218,
   "metadata": {},
   "outputs": [
    {
     "data": {
      "text/html": [
       "<div>\n",
       "<style scoped>\n",
       "    .dataframe tbody tr th:only-of-type {\n",
       "        vertical-align: middle;\n",
       "    }\n",
       "\n",
       "    .dataframe tbody tr th {\n",
       "        vertical-align: top;\n",
       "    }\n",
       "\n",
       "    .dataframe thead th {\n",
       "        text-align: right;\n",
       "    }\n",
       "</style>\n",
       "<table border=\"1\" class=\"dataframe\">\n",
       "  <thead>\n",
       "    <tr style=\"text-align: right;\">\n",
       "      <th></th>\n",
       "      <th>tweet_id</th>\n",
       "      <th>ticker_symbol</th>\n",
       "      <th>writer</th>\n",
       "      <th>post_date</th>\n",
       "      <th>body</th>\n",
       "      <th>comment_num</th>\n",
       "      <th>retweet_num</th>\n",
       "      <th>like_num</th>\n",
       "    </tr>\n",
       "  </thead>\n",
       "  <tbody>\n",
       "    <tr>\n",
       "      <th>0</th>\n",
       "      <td>550803612197457920</td>\n",
       "      <td>AAPL</td>\n",
       "      <td>SentiQuant</td>\n",
       "      <td>1420156789</td>\n",
       "      <td>#TOPTICKERTWEETS $AAPL $IMRS $BABA $EBAY $AMZN...</td>\n",
       "      <td>0</td>\n",
       "      <td>0</td>\n",
       "      <td>1</td>\n",
       "    </tr>\n",
       "    <tr>\n",
       "      <th>1</th>\n",
       "      <td>550803612197457920</td>\n",
       "      <td>AMZN</td>\n",
       "      <td>SentiQuant</td>\n",
       "      <td>1420156789</td>\n",
       "      <td>#TOPTICKERTWEETS $AAPL $IMRS $BABA $EBAY $AMZN...</td>\n",
       "      <td>0</td>\n",
       "      <td>0</td>\n",
       "      <td>1</td>\n",
       "    </tr>\n",
       "    <tr>\n",
       "      <th>2</th>\n",
       "      <td>550803610825928706</td>\n",
       "      <td>AAPL</td>\n",
       "      <td>SentiQuant</td>\n",
       "      <td>1420156788</td>\n",
       "      <td>#SENTISHIFTUP $K $FB $GOOGL $GS $GOLD $T $AAPL...</td>\n",
       "      <td>0</td>\n",
       "      <td>0</td>\n",
       "      <td>1</td>\n",
       "    </tr>\n",
       "    <tr>\n",
       "      <th>3</th>\n",
       "      <td>550803610825928706</td>\n",
       "      <td>GOOGL</td>\n",
       "      <td>SentiQuant</td>\n",
       "      <td>1420156788</td>\n",
       "      <td>#SENTISHIFTUP $K $FB $GOOGL $GS $GOLD $T $AAPL...</td>\n",
       "      <td>0</td>\n",
       "      <td>0</td>\n",
       "      <td>1</td>\n",
       "    </tr>\n",
       "    <tr>\n",
       "      <th>4</th>\n",
       "      <td>550803610825928706</td>\n",
       "      <td>AMZN</td>\n",
       "      <td>SentiQuant</td>\n",
       "      <td>1420156788</td>\n",
       "      <td>#SENTISHIFTUP $K $FB $GOOGL $GS $GOLD $T $AAPL...</td>\n",
       "      <td>0</td>\n",
       "      <td>0</td>\n",
       "      <td>1</td>\n",
       "    </tr>\n",
       "  </tbody>\n",
       "</table>\n",
       "</div>"
      ],
      "text/plain": [
       "             tweet_id ticker_symbol      writer   post_date  \\\n",
       "0  550803612197457920          AAPL  SentiQuant  1420156789   \n",
       "1  550803612197457920          AMZN  SentiQuant  1420156789   \n",
       "2  550803610825928706          AAPL  SentiQuant  1420156788   \n",
       "3  550803610825928706         GOOGL  SentiQuant  1420156788   \n",
       "4  550803610825928706          AMZN  SentiQuant  1420156788   \n",
       "\n",
       "                                                body  comment_num  \\\n",
       "0  #TOPTICKERTWEETS $AAPL $IMRS $BABA $EBAY $AMZN...            0   \n",
       "1  #TOPTICKERTWEETS $AAPL $IMRS $BABA $EBAY $AMZN...            0   \n",
       "2  #SENTISHIFTUP $K $FB $GOOGL $GS $GOLD $T $AAPL...            0   \n",
       "3  #SENTISHIFTUP $K $FB $GOOGL $GS $GOLD $T $AAPL...            0   \n",
       "4  #SENTISHIFTUP $K $FB $GOOGL $GS $GOLD $T $AAPL...            0   \n",
       "\n",
       "   retweet_num  like_num  \n",
       "0            0         1  \n",
       "1            0         1  \n",
       "2            0         1  \n",
       "3            0         1  \n",
       "4            0         1  "
      ]
     },
     "execution_count": 218,
     "metadata": {},
     "output_type": "execute_result"
    }
   ],
   "source": [
    "tweets.head()"
   ]
  },
  {
   "cell_type": "code",
   "execution_count": 219,
   "metadata": {},
   "outputs": [],
   "source": [
    "def datasetInfo(dataset):\n",
    "    print(f\" Dataset Information and type \\n {dataset.info()}\")\n",
    "    print(\"--------------------------------------------------------\\n\\n Data Types: \")\n",
    "    print(dataset.dtypes)\n",
    "    print(\"--------------------------------------------------------\\n\\n Rows and Columns: \")\n",
    "    print(dataset.shape)\n",
    "    print(\"--------------------------------------------------------\\n\\n Column Names: \")\n",
    "    print(dataset.columns)\n",
    "    print(\"--------------------------------------------------------\\n\\n Null Values: \")\n",
    "    print(dataset.apply(lambda x: sum(x.isnull()) / len(dataset)))\n",
    "    print(\"--------------------------------------------------------\\n\\n Unique Values: \")\n",
    "    print(dataset.nunique())\n",
    "    print(\"--------------------------------------------------------\\n\\n Describe: \")\n",
    "    print(dataset.describe())"
   ]
  },
  {
   "cell_type": "code",
   "execution_count": 220,
   "metadata": {},
   "outputs": [
    {
     "name": "stdout",
     "output_type": "stream",
     "text": [
      "<class 'pandas.core.frame.DataFrame'>\n",
      "Int64Index: 4336445 entries, 0 to 4336444\n",
      "Data columns (total 8 columns):\n",
      " #   Column         Dtype \n",
      "---  ------         ----- \n",
      " 0   tweet_id       int64 \n",
      " 1   ticker_symbol  object\n",
      " 2   writer         object\n",
      " 3   post_date      int64 \n",
      " 4   body           object\n",
      " 5   comment_num    int64 \n",
      " 6   retweet_num    int64 \n",
      " 7   like_num       int64 \n",
      "dtypes: int64(5), object(3)\n",
      "memory usage: 297.8+ MB\n",
      " Dataset Information and type \n",
      " None\n",
      "--------------------------------------------------------\n",
      "\n",
      " Data Types: \n",
      "tweet_id          int64\n",
      "ticker_symbol    object\n",
      "writer           object\n",
      "post_date         int64\n",
      "body             object\n",
      "comment_num       int64\n",
      "retweet_num       int64\n",
      "like_num          int64\n",
      "dtype: object\n",
      "--------------------------------------------------------\n",
      "\n",
      " Rows and Columns: \n",
      "(4336445, 8)\n",
      "--------------------------------------------------------\n",
      "\n",
      " Column Names: \n",
      "Index(['tweet_id', 'ticker_symbol', 'writer', 'post_date', 'body',\n",
      "       'comment_num', 'retweet_num', 'like_num'],\n",
      "      dtype='object')\n",
      "--------------------------------------------------------\n",
      "\n",
      " Null Values: \n",
      "tweet_id         0.000000\n",
      "ticker_symbol    0.000000\n",
      "writer           0.012895\n",
      "post_date        0.000000\n",
      "body             0.000000\n",
      "comment_num      0.000000\n",
      "retweet_num      0.000000\n",
      "like_num         0.000000\n",
      "dtype: float64\n",
      "--------------------------------------------------------\n",
      "\n",
      " Unique Values: \n",
      "tweet_id         3717964\n",
      "ticker_symbol          6\n",
      "writer            140131\n",
      "post_date        3421363\n",
      "body             3326194\n",
      "comment_num          191\n",
      "retweet_num          509\n",
      "like_num             783\n",
      "dtype: int64\n",
      "--------------------------------------------------------\n",
      "\n",
      " Describe: \n",
      "           tweet_id     post_date   comment_num   retweet_num      like_num\n",
      "count  4.336445e+06  4.336445e+06  4.336445e+06  4.336445e+06  4.336445e+06\n",
      "mean   8.834282e+17  1.499461e+09  2.923863e-01  6.347647e-01  2.103625e+00\n",
      "std    1.927735e+17  4.596080e+07  1.885788e+00  6.986371e+00  1.371744e+01\n",
      "min    5.504415e+17  1.420070e+09  0.000000e+00  0.000000e+00  0.000000e+00\n",
      "25%    7.185450e+17  1.460149e+09  0.000000e+00  0.000000e+00  0.000000e+00\n",
      "50%    8.825934e+17  1.499262e+09  0.000000e+00  0.000000e+00  0.000000e+00\n",
      "75%    1.054776e+18  1.540313e+09  0.000000e+00  0.000000e+00  1.000000e+00\n",
      "max    1.212160e+18  1.577837e+09  6.310000e+02  9.990000e+02  9.990000e+02\n"
     ]
    }
   ],
   "source": [
    "datasetInfo(tweets)"
   ]
  },
  {
   "attachments": {},
   "cell_type": "markdown",
   "metadata": {},
   "source": [
    "After Merging Remove the dataframes that do not have ticker_symbols"
   ]
  },
  {
   "cell_type": "code",
   "execution_count": 221,
   "metadata": {},
   "outputs": [],
   "source": [
    "tweets.dropna(inplace = True)"
   ]
  },
  {
   "attachments": {},
   "cell_type": "markdown",
   "metadata": {},
   "source": [
    "Convert our post_date time in seconds to date_time"
   ]
  },
  {
   "cell_type": "code",
   "execution_count": 222,
   "metadata": {},
   "outputs": [
    {
     "data": {
      "text/html": [
       "<div>\n",
       "<style scoped>\n",
       "    .dataframe tbody tr th:only-of-type {\n",
       "        vertical-align: middle;\n",
       "    }\n",
       "\n",
       "    .dataframe tbody tr th {\n",
       "        vertical-align: top;\n",
       "    }\n",
       "\n",
       "    .dataframe thead th {\n",
       "        text-align: right;\n",
       "    }\n",
       "</style>\n",
       "<table border=\"1\" class=\"dataframe\">\n",
       "  <thead>\n",
       "    <tr style=\"text-align: right;\">\n",
       "      <th></th>\n",
       "      <th>tweet_id</th>\n",
       "      <th>ticker_symbol</th>\n",
       "      <th>writer</th>\n",
       "      <th>post_date</th>\n",
       "      <th>body</th>\n",
       "      <th>comment_num</th>\n",
       "      <th>retweet_num</th>\n",
       "      <th>like_num</th>\n",
       "    </tr>\n",
       "  </thead>\n",
       "  <tbody>\n",
       "    <tr>\n",
       "      <th>0</th>\n",
       "      <td>550803612197457920</td>\n",
       "      <td>AAPL</td>\n",
       "      <td>SentiQuant</td>\n",
       "      <td>2015-01-01</td>\n",
       "      <td>#TOPTICKERTWEETS $AAPL $IMRS $BABA $EBAY $AMZN...</td>\n",
       "      <td>0</td>\n",
       "      <td>0</td>\n",
       "      <td>1</td>\n",
       "    </tr>\n",
       "    <tr>\n",
       "      <th>1</th>\n",
       "      <td>550803612197457920</td>\n",
       "      <td>AMZN</td>\n",
       "      <td>SentiQuant</td>\n",
       "      <td>2015-01-01</td>\n",
       "      <td>#TOPTICKERTWEETS $AAPL $IMRS $BABA $EBAY $AMZN...</td>\n",
       "      <td>0</td>\n",
       "      <td>0</td>\n",
       "      <td>1</td>\n",
       "    </tr>\n",
       "    <tr>\n",
       "      <th>2</th>\n",
       "      <td>550803610825928706</td>\n",
       "      <td>AAPL</td>\n",
       "      <td>SentiQuant</td>\n",
       "      <td>2015-01-01</td>\n",
       "      <td>#SENTISHIFTUP $K $FB $GOOGL $GS $GOLD $T $AAPL...</td>\n",
       "      <td>0</td>\n",
       "      <td>0</td>\n",
       "      <td>1</td>\n",
       "    </tr>\n",
       "    <tr>\n",
       "      <th>3</th>\n",
       "      <td>550803610825928706</td>\n",
       "      <td>GOOGL</td>\n",
       "      <td>SentiQuant</td>\n",
       "      <td>2015-01-01</td>\n",
       "      <td>#SENTISHIFTUP $K $FB $GOOGL $GS $GOLD $T $AAPL...</td>\n",
       "      <td>0</td>\n",
       "      <td>0</td>\n",
       "      <td>1</td>\n",
       "    </tr>\n",
       "    <tr>\n",
       "      <th>4</th>\n",
       "      <td>550803610825928706</td>\n",
       "      <td>AMZN</td>\n",
       "      <td>SentiQuant</td>\n",
       "      <td>2015-01-01</td>\n",
       "      <td>#SENTISHIFTUP $K $FB $GOOGL $GS $GOLD $T $AAPL...</td>\n",
       "      <td>0</td>\n",
       "      <td>0</td>\n",
       "      <td>1</td>\n",
       "    </tr>\n",
       "  </tbody>\n",
       "</table>\n",
       "</div>"
      ],
      "text/plain": [
       "             tweet_id ticker_symbol      writer  post_date  \\\n",
       "0  550803612197457920          AAPL  SentiQuant 2015-01-01   \n",
       "1  550803612197457920          AMZN  SentiQuant 2015-01-01   \n",
       "2  550803610825928706          AAPL  SentiQuant 2015-01-01   \n",
       "3  550803610825928706         GOOGL  SentiQuant 2015-01-01   \n",
       "4  550803610825928706          AMZN  SentiQuant 2015-01-01   \n",
       "\n",
       "                                                body  comment_num  \\\n",
       "0  #TOPTICKERTWEETS $AAPL $IMRS $BABA $EBAY $AMZN...            0   \n",
       "1  #TOPTICKERTWEETS $AAPL $IMRS $BABA $EBAY $AMZN...            0   \n",
       "2  #SENTISHIFTUP $K $FB $GOOGL $GS $GOLD $T $AAPL...            0   \n",
       "3  #SENTISHIFTUP $K $FB $GOOGL $GS $GOLD $T $AAPL...            0   \n",
       "4  #SENTISHIFTUP $K $FB $GOOGL $GS $GOLD $T $AAPL...            0   \n",
       "\n",
       "   retweet_num  like_num  \n",
       "0            0         1  \n",
       "1            0         1  \n",
       "2            0         1  \n",
       "3            0         1  \n",
       "4            0         1  "
      ]
     },
     "execution_count": 222,
     "metadata": {},
     "output_type": "execute_result"
    }
   ],
   "source": [
    "tweets['post_date'] = pd.to_datetime(tweets[\"post_date\"],utc = False , unit = 's',).dt.normalize()\n",
    "tweets.head()"
   ]
  },
  {
   "attachments": {},
   "cell_type": "markdown",
   "metadata": {},
   "source": [
    "We need our a training set and a testing set for the prediction of Neutral or Opinionated Tweets"
   ]
  },
  {
   "cell_type": "code",
   "execution_count": 223,
   "metadata": {},
   "outputs": [
    {
     "data": {
      "text/html": [
       "<div>\n",
       "<style scoped>\n",
       "    .dataframe tbody tr th:only-of-type {\n",
       "        vertical-align: middle;\n",
       "    }\n",
       "\n",
       "    .dataframe tbody tr th {\n",
       "        vertical-align: top;\n",
       "    }\n",
       "\n",
       "    .dataframe thead th {\n",
       "        text-align: right;\n",
       "    }\n",
       "</style>\n",
       "<table border=\"1\" class=\"dataframe\">\n",
       "  <thead>\n",
       "    <tr style=\"text-align: right;\">\n",
       "      <th></th>\n",
       "      <th>tweet_id</th>\n",
       "      <th>ticker_symbol</th>\n",
       "      <th>writer</th>\n",
       "      <th>post_date</th>\n",
       "      <th>body</th>\n",
       "      <th>comment_num</th>\n",
       "      <th>retweet_num</th>\n",
       "      <th>like_num</th>\n",
       "    </tr>\n",
       "  </thead>\n",
       "  <tbody>\n",
       "    <tr>\n",
       "      <th>3786974</th>\n",
       "      <td>1014983757252780033</td>\n",
       "      <td>TSLA</td>\n",
       "      <td>lopezlinette</td>\n",
       "      <td>2018-07-05</td>\n",
       "      <td>I’d just like to point out that right now, rig...</td>\n",
       "      <td>631</td>\n",
       "      <td>369</td>\n",
       "      <td>0</td>\n",
       "    </tr>\n",
       "    <tr>\n",
       "      <th>4112626</th>\n",
       "      <td>1118989675257978880</td>\n",
       "      <td>TSLA</td>\n",
       "      <td>GerberKawasaki</td>\n",
       "      <td>2019-04-18</td>\n",
       "      <td>If a Tesla saves you $200 a month on gas, you ...</td>\n",
       "      <td>567</td>\n",
       "      <td>0</td>\n",
       "      <td>0</td>\n",
       "    </tr>\n",
       "    <tr>\n",
       "      <th>4306536</th>\n",
       "      <td>1199424478536753155</td>\n",
       "      <td>TSLA</td>\n",
       "      <td>AlexSibila</td>\n",
       "      <td>2019-11-26</td>\n",
       "      <td>~Tesla feature request thread~Feel free to rep...</td>\n",
       "      <td>563</td>\n",
       "      <td>48</td>\n",
       "      <td>662</td>\n",
       "    </tr>\n",
       "    <tr>\n",
       "      <th>2823018</th>\n",
       "      <td>885933344487342082</td>\n",
       "      <td>AMZN</td>\n",
       "      <td>internet_dust</td>\n",
       "      <td>2017-07-14</td>\n",
       "      <td>\"I sell books.\" versus \"I sell whatever the fu...</td>\n",
       "      <td>496</td>\n",
       "      <td>0</td>\n",
       "      <td>0</td>\n",
       "    </tr>\n",
       "    <tr>\n",
       "      <th>4182686</th>\n",
       "      <td>1138975188127834112</td>\n",
       "      <td>TSLA</td>\n",
       "      <td>TeslaNY</td>\n",
       "      <td>2019-06-13</td>\n",
       "      <td>“I think it's basically financially insane to ...</td>\n",
       "      <td>442</td>\n",
       "      <td>0</td>\n",
       "      <td>0</td>\n",
       "    </tr>\n",
       "    <tr>\n",
       "      <th>...</th>\n",
       "      <td>...</td>\n",
       "      <td>...</td>\n",
       "      <td>...</td>\n",
       "      <td>...</td>\n",
       "      <td>...</td>\n",
       "      <td>...</td>\n",
       "      <td>...</td>\n",
       "      <td>...</td>\n",
       "    </tr>\n",
       "    <tr>\n",
       "      <th>1488123</th>\n",
       "      <td>1060565704389378055</td>\n",
       "      <td>AAPL</td>\n",
       "      <td>ScottSegen</td>\n",
       "      <td>2018-11-08</td>\n",
       "      <td>Mark Zuckerberg turns down UK parliament reque...</td>\n",
       "      <td>0</td>\n",
       "      <td>0</td>\n",
       "      <td>1</td>\n",
       "    </tr>\n",
       "    <tr>\n",
       "      <th>1488124</th>\n",
       "      <td>1060565704389378055</td>\n",
       "      <td>GOOGL</td>\n",
       "      <td>ScottSegen</td>\n",
       "      <td>2018-11-08</td>\n",
       "      <td>Mark Zuckerberg turns down UK parliament reque...</td>\n",
       "      <td>0</td>\n",
       "      <td>0</td>\n",
       "      <td>1</td>\n",
       "    </tr>\n",
       "    <tr>\n",
       "      <th>1488125</th>\n",
       "      <td>1060566279818366977</td>\n",
       "      <td>AAPL</td>\n",
       "      <td>jordanladz</td>\n",
       "      <td>2018-11-08</td>\n",
       "      <td>Get audible updates with this new application....</td>\n",
       "      <td>0</td>\n",
       "      <td>0</td>\n",
       "      <td>0</td>\n",
       "    </tr>\n",
       "    <tr>\n",
       "      <th>1488126</th>\n",
       "      <td>1060566346763849735</td>\n",
       "      <td>AAPL</td>\n",
       "      <td>CompoundFreedom</td>\n",
       "      <td>2018-11-08</td>\n",
       "      <td>Apple Opens First Store in Thailand Saturday h...</td>\n",
       "      <td>0</td>\n",
       "      <td>0</td>\n",
       "      <td>0</td>\n",
       "    </tr>\n",
       "    <tr>\n",
       "      <th>4336444</th>\n",
       "      <td>1212160015332728833</td>\n",
       "      <td>TSLA</td>\n",
       "      <td>Commuternyc</td>\n",
       "      <td>2019-12-31</td>\n",
       "      <td>Patiently Waiting for the no twitter sitter tw...</td>\n",
       "      <td>0</td>\n",
       "      <td>0</td>\n",
       "      <td>5</td>\n",
       "    </tr>\n",
       "  </tbody>\n",
       "</table>\n",
       "<p>4280526 rows × 8 columns</p>\n",
       "</div>"
      ],
      "text/plain": [
       "                    tweet_id ticker_symbol           writer  post_date  \\\n",
       "3786974  1014983757252780033          TSLA     lopezlinette 2018-07-05   \n",
       "4112626  1118989675257978880          TSLA   GerberKawasaki 2019-04-18   \n",
       "4306536  1199424478536753155          TSLA       AlexSibila 2019-11-26   \n",
       "2823018   885933344487342082          AMZN    internet_dust 2017-07-14   \n",
       "4182686  1138975188127834112          TSLA          TeslaNY 2019-06-13   \n",
       "...                      ...           ...              ...        ...   \n",
       "1488123  1060565704389378055          AAPL       ScottSegen 2018-11-08   \n",
       "1488124  1060565704389378055         GOOGL       ScottSegen 2018-11-08   \n",
       "1488125  1060566279818366977          AAPL       jordanladz 2018-11-08   \n",
       "1488126  1060566346763849735          AAPL  CompoundFreedom 2018-11-08   \n",
       "4336444  1212160015332728833          TSLA      Commuternyc 2019-12-31   \n",
       "\n",
       "                                                      body  comment_num  \\\n",
       "3786974  I’d just like to point out that right now, rig...          631   \n",
       "4112626  If a Tesla saves you $200 a month on gas, you ...          567   \n",
       "4306536  ~Tesla feature request thread~Feel free to rep...          563   \n",
       "2823018  \"I sell books.\" versus \"I sell whatever the fu...          496   \n",
       "4182686  “I think it's basically financially insane to ...          442   \n",
       "...                                                    ...          ...   \n",
       "1488123  Mark Zuckerberg turns down UK parliament reque...            0   \n",
       "1488124  Mark Zuckerberg turns down UK parliament reque...            0   \n",
       "1488125  Get audible updates with this new application....            0   \n",
       "1488126  Apple Opens First Store in Thailand Saturday h...            0   \n",
       "4336444  Patiently Waiting for the no twitter sitter tw...            0   \n",
       "\n",
       "         retweet_num  like_num  \n",
       "3786974          369         0  \n",
       "4112626            0         0  \n",
       "4306536           48       662  \n",
       "2823018            0         0  \n",
       "4182686            0         0  \n",
       "...              ...       ...  \n",
       "1488123            0         1  \n",
       "1488124            0         1  \n",
       "1488125            0         0  \n",
       "1488126            0         0  \n",
       "4336444            0         5  \n",
       "\n",
       "[4280526 rows x 8 columns]"
      ]
     },
     "execution_count": 223,
     "metadata": {},
     "output_type": "execute_result"
    }
   ],
   "source": [
    "tweets.sort_values(by = \"comment_num\" , ascending  = False, inplace = True)\n",
    "tweets\n"
   ]
  },
  {
   "attachments": {},
   "cell_type": "markdown",
   "metadata": {},
   "source": [
    "## First Find the sum of all the activities in the tweet post"
   ]
  },
  {
   "cell_type": "code",
   "execution_count": 224,
   "metadata": {},
   "outputs": [
    {
     "data": {
      "text/html": [
       "<div>\n",
       "<style scoped>\n",
       "    .dataframe tbody tr th:only-of-type {\n",
       "        vertical-align: middle;\n",
       "    }\n",
       "\n",
       "    .dataframe tbody tr th {\n",
       "        vertical-align: top;\n",
       "    }\n",
       "\n",
       "    .dataframe thead th {\n",
       "        text-align: right;\n",
       "    }\n",
       "</style>\n",
       "<table border=\"1\" class=\"dataframe\">\n",
       "  <thead>\n",
       "    <tr style=\"text-align: right;\">\n",
       "      <th></th>\n",
       "      <th>tweet_id</th>\n",
       "      <th>ticker_symbol</th>\n",
       "      <th>writer</th>\n",
       "      <th>post_date</th>\n",
       "      <th>body</th>\n",
       "      <th>comment_num</th>\n",
       "      <th>retweet_num</th>\n",
       "      <th>like_num</th>\n",
       "      <th>tweet_activity</th>\n",
       "    </tr>\n",
       "  </thead>\n",
       "  <tbody>\n",
       "    <tr>\n",
       "      <th>3786974</th>\n",
       "      <td>1014983757252780033</td>\n",
       "      <td>TSLA</td>\n",
       "      <td>lopezlinette</td>\n",
       "      <td>2018-07-05</td>\n",
       "      <td>I’d just like to point out that right now, rig...</td>\n",
       "      <td>631</td>\n",
       "      <td>369</td>\n",
       "      <td>0</td>\n",
       "      <td>1000</td>\n",
       "    </tr>\n",
       "    <tr>\n",
       "      <th>4112626</th>\n",
       "      <td>1118989675257978880</td>\n",
       "      <td>TSLA</td>\n",
       "      <td>GerberKawasaki</td>\n",
       "      <td>2019-04-18</td>\n",
       "      <td>If a Tesla saves you $200 a month on gas, you ...</td>\n",
       "      <td>567</td>\n",
       "      <td>0</td>\n",
       "      <td>0</td>\n",
       "      <td>567</td>\n",
       "    </tr>\n",
       "    <tr>\n",
       "      <th>4306536</th>\n",
       "      <td>1199424478536753155</td>\n",
       "      <td>TSLA</td>\n",
       "      <td>AlexSibila</td>\n",
       "      <td>2019-11-26</td>\n",
       "      <td>~Tesla feature request thread~Feel free to rep...</td>\n",
       "      <td>563</td>\n",
       "      <td>48</td>\n",
       "      <td>662</td>\n",
       "      <td>1273</td>\n",
       "    </tr>\n",
       "    <tr>\n",
       "      <th>2823018</th>\n",
       "      <td>885933344487342082</td>\n",
       "      <td>AMZN</td>\n",
       "      <td>internet_dust</td>\n",
       "      <td>2017-07-14</td>\n",
       "      <td>\"I sell books.\" versus \"I sell whatever the fu...</td>\n",
       "      <td>496</td>\n",
       "      <td>0</td>\n",
       "      <td>0</td>\n",
       "      <td>496</td>\n",
       "    </tr>\n",
       "    <tr>\n",
       "      <th>4182686</th>\n",
       "      <td>1138975188127834112</td>\n",
       "      <td>TSLA</td>\n",
       "      <td>TeslaNY</td>\n",
       "      <td>2019-06-13</td>\n",
       "      <td>“I think it's basically financially insane to ...</td>\n",
       "      <td>442</td>\n",
       "      <td>0</td>\n",
       "      <td>0</td>\n",
       "      <td>442</td>\n",
       "    </tr>\n",
       "    <tr>\n",
       "      <th>...</th>\n",
       "      <td>...</td>\n",
       "      <td>...</td>\n",
       "      <td>...</td>\n",
       "      <td>...</td>\n",
       "      <td>...</td>\n",
       "      <td>...</td>\n",
       "      <td>...</td>\n",
       "      <td>...</td>\n",
       "      <td>...</td>\n",
       "    </tr>\n",
       "    <tr>\n",
       "      <th>1488123</th>\n",
       "      <td>1060565704389378055</td>\n",
       "      <td>AAPL</td>\n",
       "      <td>ScottSegen</td>\n",
       "      <td>2018-11-08</td>\n",
       "      <td>Mark Zuckerberg turns down UK parliament reque...</td>\n",
       "      <td>0</td>\n",
       "      <td>0</td>\n",
       "      <td>1</td>\n",
       "      <td>1</td>\n",
       "    </tr>\n",
       "    <tr>\n",
       "      <th>1488124</th>\n",
       "      <td>1060565704389378055</td>\n",
       "      <td>GOOGL</td>\n",
       "      <td>ScottSegen</td>\n",
       "      <td>2018-11-08</td>\n",
       "      <td>Mark Zuckerberg turns down UK parliament reque...</td>\n",
       "      <td>0</td>\n",
       "      <td>0</td>\n",
       "      <td>1</td>\n",
       "      <td>1</td>\n",
       "    </tr>\n",
       "    <tr>\n",
       "      <th>1488125</th>\n",
       "      <td>1060566279818366977</td>\n",
       "      <td>AAPL</td>\n",
       "      <td>jordanladz</td>\n",
       "      <td>2018-11-08</td>\n",
       "      <td>Get audible updates with this new application....</td>\n",
       "      <td>0</td>\n",
       "      <td>0</td>\n",
       "      <td>0</td>\n",
       "      <td>0</td>\n",
       "    </tr>\n",
       "    <tr>\n",
       "      <th>1488126</th>\n",
       "      <td>1060566346763849735</td>\n",
       "      <td>AAPL</td>\n",
       "      <td>CompoundFreedom</td>\n",
       "      <td>2018-11-08</td>\n",
       "      <td>Apple Opens First Store in Thailand Saturday h...</td>\n",
       "      <td>0</td>\n",
       "      <td>0</td>\n",
       "      <td>0</td>\n",
       "      <td>0</td>\n",
       "    </tr>\n",
       "    <tr>\n",
       "      <th>4336444</th>\n",
       "      <td>1212160015332728833</td>\n",
       "      <td>TSLA</td>\n",
       "      <td>Commuternyc</td>\n",
       "      <td>2019-12-31</td>\n",
       "      <td>Patiently Waiting for the no twitter sitter tw...</td>\n",
       "      <td>0</td>\n",
       "      <td>0</td>\n",
       "      <td>5</td>\n",
       "      <td>5</td>\n",
       "    </tr>\n",
       "  </tbody>\n",
       "</table>\n",
       "<p>4280526 rows × 9 columns</p>\n",
       "</div>"
      ],
      "text/plain": [
       "                    tweet_id ticker_symbol           writer  post_date  \\\n",
       "3786974  1014983757252780033          TSLA     lopezlinette 2018-07-05   \n",
       "4112626  1118989675257978880          TSLA   GerberKawasaki 2019-04-18   \n",
       "4306536  1199424478536753155          TSLA       AlexSibila 2019-11-26   \n",
       "2823018   885933344487342082          AMZN    internet_dust 2017-07-14   \n",
       "4182686  1138975188127834112          TSLA          TeslaNY 2019-06-13   \n",
       "...                      ...           ...              ...        ...   \n",
       "1488123  1060565704389378055          AAPL       ScottSegen 2018-11-08   \n",
       "1488124  1060565704389378055         GOOGL       ScottSegen 2018-11-08   \n",
       "1488125  1060566279818366977          AAPL       jordanladz 2018-11-08   \n",
       "1488126  1060566346763849735          AAPL  CompoundFreedom 2018-11-08   \n",
       "4336444  1212160015332728833          TSLA      Commuternyc 2019-12-31   \n",
       "\n",
       "                                                      body  comment_num  \\\n",
       "3786974  I’d just like to point out that right now, rig...          631   \n",
       "4112626  If a Tesla saves you $200 a month on gas, you ...          567   \n",
       "4306536  ~Tesla feature request thread~Feel free to rep...          563   \n",
       "2823018  \"I sell books.\" versus \"I sell whatever the fu...          496   \n",
       "4182686  “I think it's basically financially insane to ...          442   \n",
       "...                                                    ...          ...   \n",
       "1488123  Mark Zuckerberg turns down UK parliament reque...            0   \n",
       "1488124  Mark Zuckerberg turns down UK parliament reque...            0   \n",
       "1488125  Get audible updates with this new application....            0   \n",
       "1488126  Apple Opens First Store in Thailand Saturday h...            0   \n",
       "4336444  Patiently Waiting for the no twitter sitter tw...            0   \n",
       "\n",
       "         retweet_num  like_num  tweet_activity  \n",
       "3786974          369         0            1000  \n",
       "4112626            0         0             567  \n",
       "4306536           48       662            1273  \n",
       "2823018            0         0             496  \n",
       "4182686            0         0             442  \n",
       "...              ...       ...             ...  \n",
       "1488123            0         1               1  \n",
       "1488124            0         1               1  \n",
       "1488125            0         0               0  \n",
       "1488126            0         0               0  \n",
       "4336444            0         5               5  \n",
       "\n",
       "[4280526 rows x 9 columns]"
      ]
     },
     "execution_count": 224,
     "metadata": {},
     "output_type": "execute_result"
    }
   ],
   "source": [
    "tweets[\"tweet_activity\"] = tweets[\"comment_num\"] + tweets[\"like_num\"] + tweets[\"retweet_num\"]\n",
    "tweets"
   ]
  },
  {
   "attachments": {},
   "cell_type": "markdown",
   "metadata": {},
   "source": [
    "## Filter Tweets that are >= 50 activities"
   ]
  },
  {
   "cell_type": "code",
   "execution_count": 225,
   "metadata": {},
   "outputs": [],
   "source": [
    "filterTweets = tweets.loc[tweets[\"tweet_activity\"] > 50]"
   ]
  },
  {
   "cell_type": "code",
   "execution_count": 226,
   "metadata": {},
   "outputs": [
    {
     "data": {
      "text/html": [
       "<div>\n",
       "<style scoped>\n",
       "    .dataframe tbody tr th:only-of-type {\n",
       "        vertical-align: middle;\n",
       "    }\n",
       "\n",
       "    .dataframe tbody tr th {\n",
       "        vertical-align: top;\n",
       "    }\n",
       "\n",
       "    .dataframe thead th {\n",
       "        text-align: right;\n",
       "    }\n",
       "</style>\n",
       "<table border=\"1\" class=\"dataframe\">\n",
       "  <thead>\n",
       "    <tr style=\"text-align: right;\">\n",
       "      <th></th>\n",
       "      <th>tweet_id</th>\n",
       "      <th>ticker_symbol</th>\n",
       "      <th>writer</th>\n",
       "      <th>post_date</th>\n",
       "      <th>body</th>\n",
       "      <th>comment_num</th>\n",
       "      <th>retweet_num</th>\n",
       "      <th>like_num</th>\n",
       "      <th>tweet_activity</th>\n",
       "    </tr>\n",
       "  </thead>\n",
       "  <tbody>\n",
       "    <tr>\n",
       "      <th>3786974</th>\n",
       "      <td>1014983757252780033</td>\n",
       "      <td>TSLA</td>\n",
       "      <td>lopezlinette</td>\n",
       "      <td>2018-07-05</td>\n",
       "      <td>I’d just like to point out that right now, rig...</td>\n",
       "      <td>631</td>\n",
       "      <td>369</td>\n",
       "      <td>0</td>\n",
       "      <td>1000</td>\n",
       "    </tr>\n",
       "    <tr>\n",
       "      <th>4112626</th>\n",
       "      <td>1118989675257978880</td>\n",
       "      <td>TSLA</td>\n",
       "      <td>GerberKawasaki</td>\n",
       "      <td>2019-04-18</td>\n",
       "      <td>If a Tesla saves you $200 a month on gas, you ...</td>\n",
       "      <td>567</td>\n",
       "      <td>0</td>\n",
       "      <td>0</td>\n",
       "      <td>567</td>\n",
       "    </tr>\n",
       "    <tr>\n",
       "      <th>4306536</th>\n",
       "      <td>1199424478536753155</td>\n",
       "      <td>TSLA</td>\n",
       "      <td>AlexSibila</td>\n",
       "      <td>2019-11-26</td>\n",
       "      <td>~Tesla feature request thread~Feel free to rep...</td>\n",
       "      <td>563</td>\n",
       "      <td>48</td>\n",
       "      <td>662</td>\n",
       "      <td>1273</td>\n",
       "    </tr>\n",
       "    <tr>\n",
       "      <th>2823018</th>\n",
       "      <td>885933344487342082</td>\n",
       "      <td>AMZN</td>\n",
       "      <td>internet_dust</td>\n",
       "      <td>2017-07-14</td>\n",
       "      <td>\"I sell books.\" versus \"I sell whatever the fu...</td>\n",
       "      <td>496</td>\n",
       "      <td>0</td>\n",
       "      <td>0</td>\n",
       "      <td>496</td>\n",
       "    </tr>\n",
       "    <tr>\n",
       "      <th>4182686</th>\n",
       "      <td>1138975188127834112</td>\n",
       "      <td>TSLA</td>\n",
       "      <td>TeslaNY</td>\n",
       "      <td>2019-06-13</td>\n",
       "      <td>“I think it's basically financially insane to ...</td>\n",
       "      <td>442</td>\n",
       "      <td>0</td>\n",
       "      <td>0</td>\n",
       "      <td>442</td>\n",
       "    </tr>\n",
       "  </tbody>\n",
       "</table>\n",
       "</div>"
      ],
      "text/plain": [
       "                    tweet_id ticker_symbol          writer  post_date  \\\n",
       "3786974  1014983757252780033          TSLA    lopezlinette 2018-07-05   \n",
       "4112626  1118989675257978880          TSLA  GerberKawasaki 2019-04-18   \n",
       "4306536  1199424478536753155          TSLA      AlexSibila 2019-11-26   \n",
       "2823018   885933344487342082          AMZN   internet_dust 2017-07-14   \n",
       "4182686  1138975188127834112          TSLA         TeslaNY 2019-06-13   \n",
       "\n",
       "                                                      body  comment_num  \\\n",
       "3786974  I’d just like to point out that right now, rig...          631   \n",
       "4112626  If a Tesla saves you $200 a month on gas, you ...          567   \n",
       "4306536  ~Tesla feature request thread~Feel free to rep...          563   \n",
       "2823018  \"I sell books.\" versus \"I sell whatever the fu...          496   \n",
       "4182686  “I think it's basically financially insane to ...          442   \n",
       "\n",
       "         retweet_num  like_num  tweet_activity  \n",
       "3786974          369         0            1000  \n",
       "4112626            0         0             567  \n",
       "4306536           48       662            1273  \n",
       "2823018            0         0             496  \n",
       "4182686            0         0             442  "
      ]
     },
     "execution_count": 226,
     "metadata": {},
     "output_type": "execute_result"
    }
   ],
   "source": [
    "filterTweets.head()"
   ]
  },
  {
   "cell_type": "code",
   "execution_count": 227,
   "metadata": {},
   "outputs": [
    {
     "name": "stdout",
     "output_type": "stream",
     "text": [
      "<class 'pandas.core.frame.DataFrame'>\n",
      "Int64Index: 41625 entries, 3786974 to 1488017\n",
      "Data columns (total 9 columns):\n",
      " #   Column          Non-Null Count  Dtype         \n",
      "---  ------          --------------  -----         \n",
      " 0   tweet_id        41625 non-null  int64         \n",
      " 1   ticker_symbol   41625 non-null  object        \n",
      " 2   writer          41625 non-null  object        \n",
      " 3   post_date       41625 non-null  datetime64[ns]\n",
      " 4   body            41625 non-null  object        \n",
      " 5   comment_num     41625 non-null  int64         \n",
      " 6   retweet_num     41625 non-null  int64         \n",
      " 7   like_num        41625 non-null  int64         \n",
      " 8   tweet_activity  41625 non-null  int64         \n",
      "dtypes: datetime64[ns](1), int64(5), object(3)\n",
      "memory usage: 3.2+ MB\n",
      " Dataset Information and type \n",
      " None\n",
      "--------------------------------------------------------\n",
      "\n",
      " Data Types: \n",
      "tweet_id                   int64\n",
      "ticker_symbol             object\n",
      "writer                    object\n",
      "post_date         datetime64[ns]\n",
      "body                      object\n",
      "comment_num                int64\n",
      "retweet_num                int64\n",
      "like_num                   int64\n",
      "tweet_activity             int64\n",
      "dtype: object\n",
      "--------------------------------------------------------\n",
      "\n",
      " Rows and Columns: \n",
      "(41625, 9)\n",
      "--------------------------------------------------------\n",
      "\n",
      " Column Names: \n",
      "Index(['tweet_id', 'ticker_symbol', 'writer', 'post_date', 'body',\n",
      "       'comment_num', 'retweet_num', 'like_num', 'tweet_activity'],\n",
      "      dtype='object')\n",
      "--------------------------------------------------------\n",
      "\n",
      " Null Values: \n",
      "tweet_id          0.0\n",
      "ticker_symbol     0.0\n",
      "writer            0.0\n",
      "post_date         0.0\n",
      "body              0.0\n",
      "comment_num       0.0\n",
      "retweet_num       0.0\n",
      "like_num          0.0\n",
      "tweet_activity    0.0\n",
      "dtype: float64\n",
      "--------------------------------------------------------\n",
      "\n",
      " Unique Values: \n",
      "tweet_id          38420\n",
      "ticker_symbol         6\n",
      "writer             2797\n",
      "post_date          1746\n",
      "body              38085\n",
      "comment_num         191\n",
      "retweet_num         509\n",
      "like_num            783\n",
      "tweet_activity      967\n",
      "dtype: int64\n",
      "--------------------------------------------------------\n",
      "\n",
      " Describe: \n",
      "           tweet_id   comment_num   retweet_num      like_num  tweet_activity\n",
      "count  4.162500e+04  41625.000000  41625.000000  41625.000000    41625.000000\n",
      "mean   1.049881e+18      9.375808     29.118775     94.410907      132.905489\n",
      "std    1.361704e+17     15.281991     63.833735     98.093655      134.698745\n",
      "min    5.504536e+17      0.000000      0.000000      0.000000       51.000000\n",
      "25%    1.016411e+18      3.000000      7.000000     46.000000       64.000000\n",
      "50%    1.081987e+18      6.000000     14.000000     64.000000       88.000000\n",
      "75%    1.138579e+18     11.000000     29.000000    102.000000      142.000000\n",
      "max    1.212129e+18    631.000000    999.000000    999.000000     1703.000000\n"
     ]
    }
   ],
   "source": [
    "datasetInfo(filterTweets)"
   ]
  },
  {
   "attachments": {},
   "cell_type": "markdown",
   "metadata": {},
   "source": [
    "### Data Cleaning and Tokenization of text body"
   ]
  },
  {
   "cell_type": "code",
   "execution_count": 228,
   "metadata": {},
   "outputs": [],
   "source": [
    "from nltk.corpus import stopwords\n",
    "\n",
    "def removeStopWords(df):\n",
    "    finalList = []\n",
    "    stop_words = set(stopwords.words('english'))\n",
    "    for word in df:\n",
    "        if word not in stop_words:\n",
    "            finalList.append(word)\n",
    "    df = finalList\n",
    "    return df"
   ]
  },
  {
   "cell_type": "code",
   "execution_count": 229,
   "metadata": {},
   "outputs": [],
   "source": [
    "from nltk.stem.porter import *\n",
    "\n",
    "def stem_text(text):\n",
    "    \n",
    "    stemmer = PorterStemmer()\n",
    "   \n",
    "    return [stemmer.stem(word) for word in text]"
   ]
  },
  {
   "cell_type": "code",
   "execution_count": 230,
   "metadata": {},
   "outputs": [],
   "source": [
    "def lemmatised_text(text):\n",
    "    lemmatiser = nltk.stem.WordNetLemmatizer()\n",
    "    return [lemmatiser.lemmatize(word) for word in text]"
   ]
  },
  {
   "cell_type": "code",
   "execution_count": 231,
   "metadata": {},
   "outputs": [],
   "source": [
    "import pandas as pd\n",
    "import re\n",
    "\n",
    "\n",
    "\n",
    "def clean_dataframe_text(df, column,lemma):\n",
    "    \n",
    "    # Define regex pattern to match URLs\n",
    "    url_pattern = r\"https?://\\S+\"\n",
    "    \n",
    "    # Remove URLs from text column\n",
    "    df[column] = df[column].str.replace(url_pattern, \"\", regex=True)\n",
    "    \n",
    "    # Remove any non-alphanumeric characters and replace them with spaces\n",
    "    df[column] = df[column].apply(lambda x: re.sub(r\"(\\w+)'d\", lambda m: 'would' if m.group(1) in ['he', 'she', 'it', 'that'] else 'had', x))\n",
    "    \n",
    "    # Replace 's with 'is' or 'has'\n",
    "    df[column] = df[column].apply(lambda x: re.sub(r\"(\\w+)'s\", lambda m: 'is' if m.group(1) in ['he', 'she', 'it'] else 'has', x))\n",
    "    \n",
    "    # Remove any non-alphanumeric characters and replace them with spaces\n",
    "    df[column] = df[column].apply(lambda x: re.sub(r'[^\\w\\s]', '', x))\n",
    "    \n",
    "    # Replace any consecutive whitespace characters with a single space\n",
    "    df[column] = df[column].apply(lambda x: re.sub(r'\\s+', ' ', x))\n",
    "    \n",
    "    # Remove not word characters\n",
    "    df[column] = df[column].apply(lambda x: re.sub(r'[^\\w\\s]', ' ', x))\n",
    "    \n",
    "       \n",
    "    # Remove digits \n",
    "    df[column] = df[column].apply(lambda x: re.sub(r'\\d+', '', x))\n",
    "    \n",
    "    # Convert the string in lower\n",
    "    df[column] = df[column].str.lower()\n",
    "    \n",
    "    # Tokenised the words\n",
    "    df[column]  = df[column].apply(lambda x : nltk.word_tokenize(x))\n",
    "\n",
    "    # Remove stopwords from the NLTK stopword list\n",
    "    df[column] = df[column].apply(lambda x : removeStopWords(x))\n",
    "    \n",
    "    if lemma:\n",
    "    # Porter Stemmer\n",
    "        df[column] = df[column].apply(lambda x : lemmatised_text(x))\n",
    "    else:\n",
    "        df[column] = df[column].apply(lambda x : stem_text(x))\n",
    "    #concatenate the tokenised list into string\n",
    "    df[column] = df[column].apply(lambda x: ' '.join(x))\n",
    "    \n",
    "      \n",
    "    return df"
   ]
  },
  {
   "cell_type": "code",
   "execution_count": 232,
   "metadata": {},
   "outputs": [
    {
     "name": "stderr",
     "output_type": "stream",
     "text": [
      "C:\\Users\\eric2\\AppData\\Local\\Temp\\ipykernel_40152\\2573604085.py:12: SettingWithCopyWarning: \n",
      "A value is trying to be set on a copy of a slice from a DataFrame.\n",
      "Try using .loc[row_indexer,col_indexer] = value instead\n",
      "\n",
      "See the caveats in the documentation: https://pandas.pydata.org/pandas-docs/stable/user_guide/indexing.html#returning-a-view-versus-a-copy\n",
      "  df[column] = df[column].str.replace(url_pattern, \"\", regex=True)\n",
      "C:\\Users\\eric2\\AppData\\Local\\Temp\\ipykernel_40152\\2573604085.py:15: SettingWithCopyWarning: \n",
      "A value is trying to be set on a copy of a slice from a DataFrame.\n",
      "Try using .loc[row_indexer,col_indexer] = value instead\n",
      "\n",
      "See the caveats in the documentation: https://pandas.pydata.org/pandas-docs/stable/user_guide/indexing.html#returning-a-view-versus-a-copy\n",
      "  df[column] = df[column].apply(lambda x: re.sub(r\"(\\w+)'d\", lambda m: 'would' if m.group(1) in ['he', 'she', 'it', 'that'] else 'had', x))\n",
      "C:\\Users\\eric2\\AppData\\Local\\Temp\\ipykernel_40152\\2573604085.py:18: SettingWithCopyWarning: \n",
      "A value is trying to be set on a copy of a slice from a DataFrame.\n",
      "Try using .loc[row_indexer,col_indexer] = value instead\n",
      "\n",
      "See the caveats in the documentation: https://pandas.pydata.org/pandas-docs/stable/user_guide/indexing.html#returning-a-view-versus-a-copy\n",
      "  df[column] = df[column].apply(lambda x: re.sub(r\"(\\w+)'s\", lambda m: 'is' if m.group(1) in ['he', 'she', 'it'] else 'has', x))\n",
      "C:\\Users\\eric2\\AppData\\Local\\Temp\\ipykernel_40152\\2573604085.py:21: SettingWithCopyWarning: \n",
      "A value is trying to be set on a copy of a slice from a DataFrame.\n",
      "Try using .loc[row_indexer,col_indexer] = value instead\n",
      "\n",
      "See the caveats in the documentation: https://pandas.pydata.org/pandas-docs/stable/user_guide/indexing.html#returning-a-view-versus-a-copy\n",
      "  df[column] = df[column].apply(lambda x: re.sub(r'[^\\w\\s]', '', x))\n",
      "C:\\Users\\eric2\\AppData\\Local\\Temp\\ipykernel_40152\\2573604085.py:24: SettingWithCopyWarning: \n",
      "A value is trying to be set on a copy of a slice from a DataFrame.\n",
      "Try using .loc[row_indexer,col_indexer] = value instead\n",
      "\n",
      "See the caveats in the documentation: https://pandas.pydata.org/pandas-docs/stable/user_guide/indexing.html#returning-a-view-versus-a-copy\n",
      "  df[column] = df[column].apply(lambda x: re.sub(r'\\s+', ' ', x))\n",
      "C:\\Users\\eric2\\AppData\\Local\\Temp\\ipykernel_40152\\2573604085.py:27: SettingWithCopyWarning: \n",
      "A value is trying to be set on a copy of a slice from a DataFrame.\n",
      "Try using .loc[row_indexer,col_indexer] = value instead\n",
      "\n",
      "See the caveats in the documentation: https://pandas.pydata.org/pandas-docs/stable/user_guide/indexing.html#returning-a-view-versus-a-copy\n",
      "  df[column] = df[column].apply(lambda x: re.sub(r'[^\\w\\s]', ' ', x))\n",
      "C:\\Users\\eric2\\AppData\\Local\\Temp\\ipykernel_40152\\2573604085.py:31: SettingWithCopyWarning: \n",
      "A value is trying to be set on a copy of a slice from a DataFrame.\n",
      "Try using .loc[row_indexer,col_indexer] = value instead\n",
      "\n",
      "See the caveats in the documentation: https://pandas.pydata.org/pandas-docs/stable/user_guide/indexing.html#returning-a-view-versus-a-copy\n",
      "  df[column] = df[column].apply(lambda x: re.sub(r'\\d+', '', x))\n",
      "C:\\Users\\eric2\\AppData\\Local\\Temp\\ipykernel_40152\\2573604085.py:34: SettingWithCopyWarning: \n",
      "A value is trying to be set on a copy of a slice from a DataFrame.\n",
      "Try using .loc[row_indexer,col_indexer] = value instead\n",
      "\n",
      "See the caveats in the documentation: https://pandas.pydata.org/pandas-docs/stable/user_guide/indexing.html#returning-a-view-versus-a-copy\n",
      "  df[column] = df[column].str.lower()\n",
      "C:\\Users\\eric2\\AppData\\Local\\Temp\\ipykernel_40152\\2573604085.py:37: SettingWithCopyWarning: \n",
      "A value is trying to be set on a copy of a slice from a DataFrame.\n",
      "Try using .loc[row_indexer,col_indexer] = value instead\n",
      "\n",
      "See the caveats in the documentation: https://pandas.pydata.org/pandas-docs/stable/user_guide/indexing.html#returning-a-view-versus-a-copy\n",
      "  df[column]  = df[column].apply(lambda x : nltk.word_tokenize(x))\n",
      "C:\\Users\\eric2\\AppData\\Local\\Temp\\ipykernel_40152\\2573604085.py:40: SettingWithCopyWarning: \n",
      "A value is trying to be set on a copy of a slice from a DataFrame.\n",
      "Try using .loc[row_indexer,col_indexer] = value instead\n",
      "\n",
      "See the caveats in the documentation: https://pandas.pydata.org/pandas-docs/stable/user_guide/indexing.html#returning-a-view-versus-a-copy\n",
      "  df[column] = df[column].apply(lambda x : removeStopWords(x))\n",
      "C:\\Users\\eric2\\AppData\\Local\\Temp\\ipykernel_40152\\2573604085.py:46: SettingWithCopyWarning: \n",
      "A value is trying to be set on a copy of a slice from a DataFrame.\n",
      "Try using .loc[row_indexer,col_indexer] = value instead\n",
      "\n",
      "See the caveats in the documentation: https://pandas.pydata.org/pandas-docs/stable/user_guide/indexing.html#returning-a-view-versus-a-copy\n",
      "  df[column] = df[column].apply(lambda x : stem_text(x))\n",
      "C:\\Users\\eric2\\AppData\\Local\\Temp\\ipykernel_40152\\2573604085.py:48: SettingWithCopyWarning: \n",
      "A value is trying to be set on a copy of a slice from a DataFrame.\n",
      "Try using .loc[row_indexer,col_indexer] = value instead\n",
      "\n",
      "See the caveats in the documentation: https://pandas.pydata.org/pandas-docs/stable/user_guide/indexing.html#returning-a-view-versus-a-copy\n",
      "  df[column] = df[column].apply(lambda x: ' '.join(x))\n"
     ]
    },
    {
     "data": {
      "text/html": [
       "<div>\n",
       "<style scoped>\n",
       "    .dataframe tbody tr th:only-of-type {\n",
       "        vertical-align: middle;\n",
       "    }\n",
       "\n",
       "    .dataframe tbody tr th {\n",
       "        vertical-align: top;\n",
       "    }\n",
       "\n",
       "    .dataframe thead th {\n",
       "        text-align: right;\n",
       "    }\n",
       "</style>\n",
       "<table border=\"1\" class=\"dataframe\">\n",
       "  <thead>\n",
       "    <tr style=\"text-align: right;\">\n",
       "      <th></th>\n",
       "      <th>tweet_id</th>\n",
       "      <th>ticker_symbol</th>\n",
       "      <th>writer</th>\n",
       "      <th>post_date</th>\n",
       "      <th>body</th>\n",
       "      <th>comment_num</th>\n",
       "      <th>retweet_num</th>\n",
       "      <th>like_num</th>\n",
       "      <th>tweet_activity</th>\n",
       "    </tr>\n",
       "  </thead>\n",
       "  <tbody>\n",
       "    <tr>\n",
       "      <th>3786974</th>\n",
       "      <td>1014983757252780033</td>\n",
       "      <td>TSLA</td>\n",
       "      <td>lopezlinette</td>\n",
       "      <td>2018-07-05</td>\n",
       "      <td>id like point right right moment elonmusk go f...</td>\n",
       "      <td>631</td>\n",
       "      <td>369</td>\n",
       "      <td>0</td>\n",
       "      <td>1000</td>\n",
       "    </tr>\n",
       "    <tr>\n",
       "      <th>4112626</th>\n",
       "      <td>1118989675257978880</td>\n",
       "      <td>TSLA</td>\n",
       "      <td>GerberKawasaki</td>\n",
       "      <td>2019-04-18</td>\n",
       "      <td>tesla save month ga ten year take save put bal...</td>\n",
       "      <td>567</td>\n",
       "      <td>0</td>\n",
       "      <td>0</td>\n",
       "      <td>567</td>\n",
       "    </tr>\n",
       "    <tr>\n",
       "      <th>4306536</th>\n",
       "      <td>1199424478536753155</td>\n",
       "      <td>TSLA</td>\n",
       "      <td>AlexSibila</td>\n",
       "      <td>2019-11-26</td>\n",
       "      <td>tesla featur request threadfeel free repli ill...</td>\n",
       "      <td>563</td>\n",
       "      <td>48</td>\n",
       "      <td>662</td>\n",
       "      <td>1273</td>\n",
       "    </tr>\n",
       "    <tr>\n",
       "      <th>2823018</th>\n",
       "      <td>885933344487342082</td>\n",
       "      <td>AMZN</td>\n",
       "      <td>internet_dust</td>\n",
       "      <td>2017-07-14</td>\n",
       "      <td>sell book versu sell whatev fuck want amzn</td>\n",
       "      <td>496</td>\n",
       "      <td>0</td>\n",
       "      <td>0</td>\n",
       "      <td>496</td>\n",
       "    </tr>\n",
       "    <tr>\n",
       "      <th>4182686</th>\n",
       "      <td>1138975188127834112</td>\n",
       "      <td>TSLA</td>\n",
       "      <td>TeslaNY</td>\n",
       "      <td>2019-06-13</td>\n",
       "      <td>think basic financi insan buy anyth except ele...</td>\n",
       "      <td>442</td>\n",
       "      <td>0</td>\n",
       "      <td>0</td>\n",
       "      <td>442</td>\n",
       "    </tr>\n",
       "  </tbody>\n",
       "</table>\n",
       "</div>"
      ],
      "text/plain": [
       "                    tweet_id ticker_symbol          writer  post_date  \\\n",
       "3786974  1014983757252780033          TSLA    lopezlinette 2018-07-05   \n",
       "4112626  1118989675257978880          TSLA  GerberKawasaki 2019-04-18   \n",
       "4306536  1199424478536753155          TSLA      AlexSibila 2019-11-26   \n",
       "2823018   885933344487342082          AMZN   internet_dust 2017-07-14   \n",
       "4182686  1138975188127834112          TSLA         TeslaNY 2019-06-13   \n",
       "\n",
       "                                                      body  comment_num  \\\n",
       "3786974  id like point right right moment elonmusk go f...          631   \n",
       "4112626  tesla save month ga ten year take save put bal...          567   \n",
       "4306536  tesla featur request threadfeel free repli ill...          563   \n",
       "2823018         sell book versu sell whatev fuck want amzn          496   \n",
       "4182686  think basic financi insan buy anyth except ele...          442   \n",
       "\n",
       "         retweet_num  like_num  tweet_activity  \n",
       "3786974          369         0            1000  \n",
       "4112626            0         0             567  \n",
       "4306536           48       662            1273  \n",
       "2823018            0         0             496  \n",
       "4182686            0         0             442  "
      ]
     },
     "execution_count": 232,
     "metadata": {},
     "output_type": "execute_result"
    }
   ],
   "source": [
    "#False: Stemming True: Lemmatization\n",
    "filterTweets = clean_dataframe_text(filterTweets,\"body\",False)\n",
    "filterTweets.head()"
   ]
  },
  {
   "cell_type": "code",
   "execution_count": 233,
   "metadata": {},
   "outputs": [
    {
     "name": "stderr",
     "output_type": "stream",
     "text": [
      "C:\\Users\\eric2\\AppData\\Local\\Temp\\ipykernel_40152\\2573604085.py:12: SettingWithCopyWarning: \n",
      "A value is trying to be set on a copy of a slice from a DataFrame.\n",
      "Try using .loc[row_indexer,col_indexer] = value instead\n",
      "\n",
      "See the caveats in the documentation: https://pandas.pydata.org/pandas-docs/stable/user_guide/indexing.html#returning-a-view-versus-a-copy\n",
      "  df[column] = df[column].str.replace(url_pattern, \"\", regex=True)\n",
      "C:\\Users\\eric2\\AppData\\Local\\Temp\\ipykernel_40152\\2573604085.py:15: SettingWithCopyWarning: \n",
      "A value is trying to be set on a copy of a slice from a DataFrame.\n",
      "Try using .loc[row_indexer,col_indexer] = value instead\n",
      "\n",
      "See the caveats in the documentation: https://pandas.pydata.org/pandas-docs/stable/user_guide/indexing.html#returning-a-view-versus-a-copy\n",
      "  df[column] = df[column].apply(lambda x: re.sub(r\"(\\w+)'d\", lambda m: 'would' if m.group(1) in ['he', 'she', 'it', 'that'] else 'had', x))\n",
      "C:\\Users\\eric2\\AppData\\Local\\Temp\\ipykernel_40152\\2573604085.py:18: SettingWithCopyWarning: \n",
      "A value is trying to be set on a copy of a slice from a DataFrame.\n",
      "Try using .loc[row_indexer,col_indexer] = value instead\n",
      "\n",
      "See the caveats in the documentation: https://pandas.pydata.org/pandas-docs/stable/user_guide/indexing.html#returning-a-view-versus-a-copy\n",
      "  df[column] = df[column].apply(lambda x: re.sub(r\"(\\w+)'s\", lambda m: 'is' if m.group(1) in ['he', 'she', 'it'] else 'has', x))\n",
      "C:\\Users\\eric2\\AppData\\Local\\Temp\\ipykernel_40152\\2573604085.py:21: SettingWithCopyWarning: \n",
      "A value is trying to be set on a copy of a slice from a DataFrame.\n",
      "Try using .loc[row_indexer,col_indexer] = value instead\n",
      "\n",
      "See the caveats in the documentation: https://pandas.pydata.org/pandas-docs/stable/user_guide/indexing.html#returning-a-view-versus-a-copy\n",
      "  df[column] = df[column].apply(lambda x: re.sub(r'[^\\w\\s]', '', x))\n",
      "C:\\Users\\eric2\\AppData\\Local\\Temp\\ipykernel_40152\\2573604085.py:24: SettingWithCopyWarning: \n",
      "A value is trying to be set on a copy of a slice from a DataFrame.\n",
      "Try using .loc[row_indexer,col_indexer] = value instead\n",
      "\n",
      "See the caveats in the documentation: https://pandas.pydata.org/pandas-docs/stable/user_guide/indexing.html#returning-a-view-versus-a-copy\n",
      "  df[column] = df[column].apply(lambda x: re.sub(r'\\s+', ' ', x))\n",
      "C:\\Users\\eric2\\AppData\\Local\\Temp\\ipykernel_40152\\2573604085.py:27: SettingWithCopyWarning: \n",
      "A value is trying to be set on a copy of a slice from a DataFrame.\n",
      "Try using .loc[row_indexer,col_indexer] = value instead\n",
      "\n",
      "See the caveats in the documentation: https://pandas.pydata.org/pandas-docs/stable/user_guide/indexing.html#returning-a-view-versus-a-copy\n",
      "  df[column] = df[column].apply(lambda x: re.sub(r'[^\\w\\s]', ' ', x))\n",
      "C:\\Users\\eric2\\AppData\\Local\\Temp\\ipykernel_40152\\2573604085.py:31: SettingWithCopyWarning: \n",
      "A value is trying to be set on a copy of a slice from a DataFrame.\n",
      "Try using .loc[row_indexer,col_indexer] = value instead\n",
      "\n",
      "See the caveats in the documentation: https://pandas.pydata.org/pandas-docs/stable/user_guide/indexing.html#returning-a-view-versus-a-copy\n",
      "  df[column] = df[column].apply(lambda x: re.sub(r'\\d+', '', x))\n",
      "C:\\Users\\eric2\\AppData\\Local\\Temp\\ipykernel_40152\\2573604085.py:34: SettingWithCopyWarning: \n",
      "A value is trying to be set on a copy of a slice from a DataFrame.\n",
      "Try using .loc[row_indexer,col_indexer] = value instead\n",
      "\n",
      "See the caveats in the documentation: https://pandas.pydata.org/pandas-docs/stable/user_guide/indexing.html#returning-a-view-versus-a-copy\n",
      "  df[column] = df[column].str.lower()\n",
      "C:\\Users\\eric2\\AppData\\Local\\Temp\\ipykernel_40152\\2573604085.py:37: SettingWithCopyWarning: \n",
      "A value is trying to be set on a copy of a slice from a DataFrame.\n",
      "Try using .loc[row_indexer,col_indexer] = value instead\n",
      "\n",
      "See the caveats in the documentation: https://pandas.pydata.org/pandas-docs/stable/user_guide/indexing.html#returning-a-view-versus-a-copy\n",
      "  df[column]  = df[column].apply(lambda x : nltk.word_tokenize(x))\n",
      "C:\\Users\\eric2\\AppData\\Local\\Temp\\ipykernel_40152\\2573604085.py:40: SettingWithCopyWarning: \n",
      "A value is trying to be set on a copy of a slice from a DataFrame.\n",
      "Try using .loc[row_indexer,col_indexer] = value instead\n",
      "\n",
      "See the caveats in the documentation: https://pandas.pydata.org/pandas-docs/stable/user_guide/indexing.html#returning-a-view-versus-a-copy\n",
      "  df[column] = df[column].apply(lambda x : removeStopWords(x))\n",
      "C:\\Users\\eric2\\AppData\\Local\\Temp\\ipykernel_40152\\2573604085.py:44: SettingWithCopyWarning: \n",
      "A value is trying to be set on a copy of a slice from a DataFrame.\n",
      "Try using .loc[row_indexer,col_indexer] = value instead\n",
      "\n",
      "See the caveats in the documentation: https://pandas.pydata.org/pandas-docs/stable/user_guide/indexing.html#returning-a-view-versus-a-copy\n",
      "  df[column] = df[column].apply(lambda x : lemmatised_text(x))\n",
      "C:\\Users\\eric2\\AppData\\Local\\Temp\\ipykernel_40152\\2573604085.py:48: SettingWithCopyWarning: \n",
      "A value is trying to be set on a copy of a slice from a DataFrame.\n",
      "Try using .loc[row_indexer,col_indexer] = value instead\n",
      "\n",
      "See the caveats in the documentation: https://pandas.pydata.org/pandas-docs/stable/user_guide/indexing.html#returning-a-view-versus-a-copy\n",
      "  df[column] = df[column].apply(lambda x: ' '.join(x))\n"
     ]
    },
    {
     "data": {
      "text/html": [
       "<div>\n",
       "<style scoped>\n",
       "    .dataframe tbody tr th:only-of-type {\n",
       "        vertical-align: middle;\n",
       "    }\n",
       "\n",
       "    .dataframe tbody tr th {\n",
       "        vertical-align: top;\n",
       "    }\n",
       "\n",
       "    .dataframe thead th {\n",
       "        text-align: right;\n",
       "    }\n",
       "</style>\n",
       "<table border=\"1\" class=\"dataframe\">\n",
       "  <thead>\n",
       "    <tr style=\"text-align: right;\">\n",
       "      <th></th>\n",
       "      <th>tweet_id</th>\n",
       "      <th>ticker_symbol</th>\n",
       "      <th>writer</th>\n",
       "      <th>post_date</th>\n",
       "      <th>body</th>\n",
       "      <th>comment_num</th>\n",
       "      <th>retweet_num</th>\n",
       "      <th>like_num</th>\n",
       "      <th>tweet_activity</th>\n",
       "    </tr>\n",
       "  </thead>\n",
       "  <tbody>\n",
       "    <tr>\n",
       "      <th>3786974</th>\n",
       "      <td>1014983757252780033</td>\n",
       "      <td>TSLA</td>\n",
       "      <td>lopezlinette</td>\n",
       "      <td>2018-07-05</td>\n",
       "      <td>id like point right right moment elonmusk go f...</td>\n",
       "      <td>631</td>\n",
       "      <td>369</td>\n",
       "      <td>0</td>\n",
       "      <td>1000</td>\n",
       "    </tr>\n",
       "    <tr>\n",
       "      <th>4112626</th>\n",
       "      <td>1118989675257978880</td>\n",
       "      <td>TSLA</td>\n",
       "      <td>GerberKawasaki</td>\n",
       "      <td>2019-04-18</td>\n",
       "      <td>tesla save month ga ten year take save put bal...</td>\n",
       "      <td>567</td>\n",
       "      <td>0</td>\n",
       "      <td>0</td>\n",
       "      <td>567</td>\n",
       "    </tr>\n",
       "    <tr>\n",
       "      <th>4306536</th>\n",
       "      <td>1199424478536753155</td>\n",
       "      <td>TSLA</td>\n",
       "      <td>AlexSibila</td>\n",
       "      <td>2019-11-26</td>\n",
       "      <td>tesla featur request threadfeel free repli ill...</td>\n",
       "      <td>563</td>\n",
       "      <td>48</td>\n",
       "      <td>662</td>\n",
       "      <td>1273</td>\n",
       "    </tr>\n",
       "    <tr>\n",
       "      <th>2823018</th>\n",
       "      <td>885933344487342082</td>\n",
       "      <td>AMZN</td>\n",
       "      <td>internet_dust</td>\n",
       "      <td>2017-07-14</td>\n",
       "      <td>sell book versu sell whatev fuck want amzn</td>\n",
       "      <td>496</td>\n",
       "      <td>0</td>\n",
       "      <td>0</td>\n",
       "      <td>496</td>\n",
       "    </tr>\n",
       "    <tr>\n",
       "      <th>4182686</th>\n",
       "      <td>1138975188127834112</td>\n",
       "      <td>TSLA</td>\n",
       "      <td>TeslaNY</td>\n",
       "      <td>2019-06-13</td>\n",
       "      <td>think basic financi insan buy anyth except ele...</td>\n",
       "      <td>442</td>\n",
       "      <td>0</td>\n",
       "      <td>0</td>\n",
       "      <td>442</td>\n",
       "    </tr>\n",
       "  </tbody>\n",
       "</table>\n",
       "</div>"
      ],
      "text/plain": [
       "                    tweet_id ticker_symbol          writer  post_date  \\\n",
       "3786974  1014983757252780033          TSLA    lopezlinette 2018-07-05   \n",
       "4112626  1118989675257978880          TSLA  GerberKawasaki 2019-04-18   \n",
       "4306536  1199424478536753155          TSLA      AlexSibila 2019-11-26   \n",
       "2823018   885933344487342082          AMZN   internet_dust 2017-07-14   \n",
       "4182686  1138975188127834112          TSLA         TeslaNY 2019-06-13   \n",
       "\n",
       "                                                      body  comment_num  \\\n",
       "3786974  id like point right right moment elonmusk go f...          631   \n",
       "4112626  tesla save month ga ten year take save put bal...          567   \n",
       "4306536  tesla featur request threadfeel free repli ill...          563   \n",
       "2823018         sell book versu sell whatev fuck want amzn          496   \n",
       "4182686  think basic financi insan buy anyth except ele...          442   \n",
       "\n",
       "         retweet_num  like_num  tweet_activity  \n",
       "3786974          369         0            1000  \n",
       "4112626            0         0             567  \n",
       "4306536           48       662            1273  \n",
       "2823018            0         0             496  \n",
       "4182686            0         0             442  "
      ]
     },
     "execution_count": 233,
     "metadata": {},
     "output_type": "execute_result"
    }
   ],
   "source": [
    "filterTweetsLemma = clean_dataframe_text(filterTweets,\"body\",True)\n",
    "filterTweetsLemma.head()"
   ]
  },
  {
   "cell_type": "code",
   "execution_count": 234,
   "metadata": {},
   "outputs": [
    {
     "data": {
      "text/plain": [
       "3786974    id like point right right moment elonmusk go f...\n",
       "4112626    tesla save month ga ten year take save put bal...\n",
       "4306536    tesla featur request threadfeel free repli ill...\n",
       "2823018           sell book versu sell whatev fuck want amzn\n",
       "4182686    think basic financi insan buy anyth except ele...\n",
       "Name: body, dtype: object"
      ]
     },
     "execution_count": 234,
     "metadata": {},
     "output_type": "execute_result"
    }
   ],
   "source": [
    "filterTweets[\"body\"].head()"
   ]
  },
  {
   "attachments": {},
   "cell_type": "markdown",
   "metadata": {},
   "source": [
    "### Tweet EDA"
   ]
  },
  {
   "cell_type": "code",
   "execution_count": 235,
   "metadata": {},
   "outputs": [
    {
     "data": {
      "text/plain": [
       "count           41625\n",
       "unique           2797\n",
       "top       TESLAcharts\n",
       "freq             2212\n",
       "Name: writer, dtype: object"
      ]
     },
     "execution_count": 235,
     "metadata": {},
     "output_type": "execute_result"
    }
   ],
   "source": [
    "filterTweets[\"writer\"].describe()\n"
   ]
  },
  {
   "attachments": {},
   "cell_type": "markdown",
   "metadata": {},
   "source": [
    "### Writer Data Exploration"
   ]
  },
  {
   "cell_type": "code",
   "execution_count": 236,
   "metadata": {},
   "outputs": [
    {
     "data": {
      "image/png": "[encoded data removed]",
      "text/plain": [
       "<Figure size 640x480 with 1 Axes>"
      ]
     },
     "metadata": {},
     "output_type": "display_data"
    }
   ],
   "source": [
    "\n",
    "counts = filterTweets[\"writer\"].value_counts(ascending= False)\n",
    "countsFilter = counts[:10]\n",
    "countsFilter.plot(kind=\"bar\")\n",
    "\n",
    "plt.title(\"Top User Tweet Activities\")\n",
    "plt.ylabel(\"Number of Total Tweets\")\n",
    "plt.xlabel(\"Writer's Name\")\n",
    "plt.show()"
   ]
  },
  {
   "attachments": {},
   "cell_type": "markdown",
   "metadata": {},
   "source": [
    "Graph above shows the top writers that are active and have >100 posts"
   ]
  },
  {
   "cell_type": "code",
   "execution_count": 237,
   "metadata": {},
   "outputs": [
    {
     "data": {
      "text/plain": [
       "<AxesSubplot: ylabel='ticker_symbol'>"
      ]
     },
     "execution_count": 237,
     "metadata": {},
     "output_type": "execute_result"
    },
    {
     "data": {
      "image/png": "[encoded data removed]",
      "text/plain": [
       "<Figure size 640x480 with 1 Axes>"
      ]
     },
     "metadata": {},
     "output_type": "display_data"
    }
   ],
   "source": [
    "\n",
    "counts = filterTweets[\"ticker_symbol\"].value_counts()\n",
    "counts.plot(kind=\"pie\")"
   ]
  },
  {
   "cell_type": "markdown",
   "metadata": {},
   "source": [
    "Notice that there are more TSLA tweets in the dataset."
   ]
  },
  {
   "attachments": {},
   "cell_type": "markdown",
   "metadata": {},
   "source": [
    "### Active Tweets dates"
   ]
  },
  {
   "cell_type": "code",
   "execution_count": 238,
   "metadata": {},
   "outputs": [
    {
     "data": {
      "image/png": "[encoded data removed]",
      "text/plain": [
       "<Figure size 640x480 with 1 Axes>"
      ]
     },
     "metadata": {},
     "output_type": "display_data"
    }
   ],
   "source": [
    "count = filterTweets[\"post_date\"].value_counts(ascending = False)\n",
    "count\n",
    "filterCounts = count[:15]\n",
    "filterCounts.plot(kind = \"bar\")\n",
    "plt.title(\"Most number of Tweets in a Day\")\n",
    "plt.ylabel(\"Number of Tweets\")\n",
    "plt.xlabel(\"Date\")\n",
    "plt.show()"
   ]
  },
  {
   "cell_type": "markdown",
   "metadata": {},
   "source": [
    "Above bar graphs shows the highest tweets in the respective days"
   ]
  },
  {
   "attachments": {},
   "cell_type": "markdown",
   "metadata": {},
   "source": [
    "### Word Cloud of Tweets"
   ]
  },
  {
   "cell_type": "code",
   "execution_count": 239,
   "metadata": {},
   "outputs": [
    {
     "data": {
      "image/png": "[encoded data removed]",
      "text/plain": [
       "<Figure size 800x800 with 1 Axes>"
      ]
     },
     "metadata": {},
     "output_type": "display_data"
    }
   ],
   "source": [
    "text = \" \".join(filterTweets[\"body\"])\n",
    "wordcloud = WordCloud(width = 800, height = 800, background_color='white', max_words = 200)\n",
    "wordcloud.generate(text)\n",
    "\n",
    "plt.figure(figsize=(8, 8))\n",
    "plt.imshow(wordcloud)\n",
    "plt.axis(\"off\")\n",
    "plt.show()"
   ]
  },
  {
   "attachments": {},
   "cell_type": "markdown",
   "metadata": {},
   "source": [
    "From the word cloud we can tell that TSLA/TESLA and AAPL are common tweets in Twitter"
   ]
  },
  {
   "attachments": {},
   "cell_type": "markdown",
   "metadata": {},
   "source": [
    "# Polarity Detection"
   ]
  },
  {
   "attachments": {},
   "cell_type": "markdown",
   "metadata": {},
   "source": [
    "### Import Sentiment Analyser from NLTK"
   ]
  },
  {
   "cell_type": "code",
   "execution_count": 240,
   "metadata": {},
   "outputs": [],
   "source": [
    "from nltk.sentiment import SentimentIntensityAnalyzer"
   ]
  },
  {
   "cell_type": "code",
   "execution_count": 241,
   "metadata": {},
   "outputs": [],
   "source": [
    "analyser = SentimentIntensityAnalyzer()"
   ]
  },
  {
   "cell_type": "code",
   "execution_count": 242,
   "metadata": {},
   "outputs": [],
   "source": [
    "def getSentiment(body):\n",
    "    analyser = SentimentIntensityAnalyzer()\n",
    "    \n",
    "    assert body is not None\n",
    "    sentimentAnalysis = analyser.polarity_scores(body)\n",
    "    score = sentimentAnalysis['compound']\n",
    "    \n",
    "    if (score >= 0.05):\n",
    "        return \"Positive\"\n",
    "    elif (score < 0.05 and score > -0.05):\n",
    "        return \"Neutral\"\n",
    "    elif (score <= -0.05):\n",
    "        return \"Negative\"\n",
    "    \n",
    "    print(score)\n",
    "    "
   ]
  },
  {
   "attachments": {},
   "cell_type": "markdown",
   "metadata": {},
   "source": [
    "### Creating Sentiment Analysis for different datasets"
   ]
  },
  {
   "cell_type": "code",
   "execution_count": 243,
   "metadata": {},
   "outputs": [
    {
     "name": "stderr",
     "output_type": "stream",
     "text": [
      "C:\\Users\\eric2\\AppData\\Local\\Temp\\ipykernel_40152\\3123628082.py:1: SettingWithCopyWarning: \n",
      "A value is trying to be set on a copy of a slice from a DataFrame.\n",
      "Try using .loc[row_indexer,col_indexer] = value instead\n",
      "\n",
      "See the caveats in the documentation: https://pandas.pydata.org/pandas-docs/stable/user_guide/indexing.html#returning-a-view-versus-a-copy\n",
      "  filterTweets['sentiment'] = filterTweets['body'].apply(lambda x : getSentiment(x))\n"
     ]
    },
    {
     "data": {
      "text/html": [
       "<div>\n",
       "<style scoped>\n",
       "    .dataframe tbody tr th:only-of-type {\n",
       "        vertical-align: middle;\n",
       "    }\n",
       "\n",
       "    .dataframe tbody tr th {\n",
       "        vertical-align: top;\n",
       "    }\n",
       "\n",
       "    .dataframe thead th {\n",
       "        text-align: right;\n",
       "    }\n",
       "</style>\n",
       "<table border=\"1\" class=\"dataframe\">\n",
       "  <thead>\n",
       "    <tr style=\"text-align: right;\">\n",
       "      <th></th>\n",
       "      <th>tweet_id</th>\n",
       "      <th>ticker_symbol</th>\n",
       "      <th>writer</th>\n",
       "      <th>post_date</th>\n",
       "      <th>body</th>\n",
       "      <th>comment_num</th>\n",
       "      <th>retweet_num</th>\n",
       "      <th>like_num</th>\n",
       "      <th>tweet_activity</th>\n",
       "      <th>sentiment</th>\n",
       "    </tr>\n",
       "  </thead>\n",
       "  <tbody>\n",
       "    <tr>\n",
       "      <th>3786974</th>\n",
       "      <td>1014983757252780033</td>\n",
       "      <td>TSLA</td>\n",
       "      <td>lopezlinette</td>\n",
       "      <td>2018-07-05</td>\n",
       "      <td>id like point right right moment elonmusk go f...</td>\n",
       "      <td>631</td>\n",
       "      <td>369</td>\n",
       "      <td>0</td>\n",
       "      <td>1000</td>\n",
       "      <td>Positive</td>\n",
       "    </tr>\n",
       "    <tr>\n",
       "      <th>4112626</th>\n",
       "      <td>1118989675257978880</td>\n",
       "      <td>TSLA</td>\n",
       "      <td>GerberKawasaki</td>\n",
       "      <td>2019-04-18</td>\n",
       "      <td>tesla save month ga ten year take save put bal...</td>\n",
       "      <td>567</td>\n",
       "      <td>0</td>\n",
       "      <td>0</td>\n",
       "      <td>567</td>\n",
       "      <td>Positive</td>\n",
       "    </tr>\n",
       "    <tr>\n",
       "      <th>4306536</th>\n",
       "      <td>1199424478536753155</td>\n",
       "      <td>TSLA</td>\n",
       "      <td>AlexSibila</td>\n",
       "      <td>2019-11-26</td>\n",
       "      <td>tesla featur request threadfeel free repli ill...</td>\n",
       "      <td>563</td>\n",
       "      <td>48</td>\n",
       "      <td>662</td>\n",
       "      <td>1273</td>\n",
       "      <td>Positive</td>\n",
       "    </tr>\n",
       "    <tr>\n",
       "      <th>2823018</th>\n",
       "      <td>885933344487342082</td>\n",
       "      <td>AMZN</td>\n",
       "      <td>internet_dust</td>\n",
       "      <td>2017-07-14</td>\n",
       "      <td>sell book versu sell whatev fuck want amzn</td>\n",
       "      <td>496</td>\n",
       "      <td>0</td>\n",
       "      <td>0</td>\n",
       "      <td>496</td>\n",
       "      <td>Negative</td>\n",
       "    </tr>\n",
       "    <tr>\n",
       "      <th>4182686</th>\n",
       "      <td>1138975188127834112</td>\n",
       "      <td>TSLA</td>\n",
       "      <td>TeslaNY</td>\n",
       "      <td>2019-06-13</td>\n",
       "      <td>think basic financi insan buy anyth except ele...</td>\n",
       "      <td>442</td>\n",
       "      <td>0</td>\n",
       "      <td>0</td>\n",
       "      <td>442</td>\n",
       "      <td>Positive</td>\n",
       "    </tr>\n",
       "  </tbody>\n",
       "</table>\n",
       "</div>"
      ],
      "text/plain": [
       "                    tweet_id ticker_symbol          writer  post_date  \\\n",
       "3786974  1014983757252780033          TSLA    lopezlinette 2018-07-05   \n",
       "4112626  1118989675257978880          TSLA  GerberKawasaki 2019-04-18   \n",
       "4306536  1199424478536753155          TSLA      AlexSibila 2019-11-26   \n",
       "2823018   885933344487342082          AMZN   internet_dust 2017-07-14   \n",
       "4182686  1138975188127834112          TSLA         TeslaNY 2019-06-13   \n",
       "\n",
       "                                                      body  comment_num  \\\n",
       "3786974  id like point right right moment elonmusk go f...          631   \n",
       "4112626  tesla save month ga ten year take save put bal...          567   \n",
       "4306536  tesla featur request threadfeel free repli ill...          563   \n",
       "2823018         sell book versu sell whatev fuck want amzn          496   \n",
       "4182686  think basic financi insan buy anyth except ele...          442   \n",
       "\n",
       "         retweet_num  like_num  tweet_activity sentiment  \n",
       "3786974          369         0            1000  Positive  \n",
       "4112626            0         0             567  Positive  \n",
       "4306536           48       662            1273  Positive  \n",
       "2823018            0         0             496  Negative  \n",
       "4182686            0         0             442  Positive  "
      ]
     },
     "execution_count": 243,
     "metadata": {},
     "output_type": "execute_result"
    }
   ],
   "source": [
    "filterTweets['sentiment'] = filterTweets['body'].apply(lambda x : getSentiment(x))\n",
    "\n",
    "filterTweets.head()\n"
   ]
  },
  {
   "cell_type": "code",
   "execution_count": 244,
   "metadata": {},
   "outputs": [
    {
     "name": "stderr",
     "output_type": "stream",
     "text": [
      "C:\\Users\\eric2\\AppData\\Local\\Temp\\ipykernel_40152\\2992052023.py:1: SettingWithCopyWarning: \n",
      "A value is trying to be set on a copy of a slice from a DataFrame.\n",
      "Try using .loc[row_indexer,col_indexer] = value instead\n",
      "\n",
      "See the caveats in the documentation: https://pandas.pydata.org/pandas-docs/stable/user_guide/indexing.html#returning-a-view-versus-a-copy\n",
      "  filterTweetsLemma['sentiment'] = filterTweets['body'].apply(lambda x : getSentiment(x))\n"
     ]
    },
    {
     "data": {
      "text/html": [
       "<div>\n",
       "<style scoped>\n",
       "    .dataframe tbody tr th:only-of-type {\n",
       "        vertical-align: middle;\n",
       "    }\n",
       "\n",
       "    .dataframe tbody tr th {\n",
       "        vertical-align: top;\n",
       "    }\n",
       "\n",
       "    .dataframe thead th {\n",
       "        text-align: right;\n",
       "    }\n",
       "</style>\n",
       "<table border=\"1\" class=\"dataframe\">\n",
       "  <thead>\n",
       "    <tr style=\"text-align: right;\">\n",
       "      <th></th>\n",
       "      <th>tweet_id</th>\n",
       "      <th>ticker_symbol</th>\n",
       "      <th>writer</th>\n",
       "      <th>post_date</th>\n",
       "      <th>body</th>\n",
       "      <th>comment_num</th>\n",
       "      <th>retweet_num</th>\n",
       "      <th>like_num</th>\n",
       "      <th>tweet_activity</th>\n",
       "      <th>sentiment</th>\n",
       "    </tr>\n",
       "  </thead>\n",
       "  <tbody>\n",
       "    <tr>\n",
       "      <th>3786974</th>\n",
       "      <td>1014983757252780033</td>\n",
       "      <td>TSLA</td>\n",
       "      <td>lopezlinette</td>\n",
       "      <td>2018-07-05</td>\n",
       "      <td>id like point right right moment elonmusk go f...</td>\n",
       "      <td>631</td>\n",
       "      <td>369</td>\n",
       "      <td>0</td>\n",
       "      <td>1000</td>\n",
       "      <td>Positive</td>\n",
       "    </tr>\n",
       "    <tr>\n",
       "      <th>4112626</th>\n",
       "      <td>1118989675257978880</td>\n",
       "      <td>TSLA</td>\n",
       "      <td>GerberKawasaki</td>\n",
       "      <td>2019-04-18</td>\n",
       "      <td>tesla save month ga ten year take save put bal...</td>\n",
       "      <td>567</td>\n",
       "      <td>0</td>\n",
       "      <td>0</td>\n",
       "      <td>567</td>\n",
       "      <td>Positive</td>\n",
       "    </tr>\n",
       "    <tr>\n",
       "      <th>4306536</th>\n",
       "      <td>1199424478536753155</td>\n",
       "      <td>TSLA</td>\n",
       "      <td>AlexSibila</td>\n",
       "      <td>2019-11-26</td>\n",
       "      <td>tesla featur request threadfeel free repli ill...</td>\n",
       "      <td>563</td>\n",
       "      <td>48</td>\n",
       "      <td>662</td>\n",
       "      <td>1273</td>\n",
       "      <td>Positive</td>\n",
       "    </tr>\n",
       "    <tr>\n",
       "      <th>2823018</th>\n",
       "      <td>885933344487342082</td>\n",
       "      <td>AMZN</td>\n",
       "      <td>internet_dust</td>\n",
       "      <td>2017-07-14</td>\n",
       "      <td>sell book versu sell whatev fuck want amzn</td>\n",
       "      <td>496</td>\n",
       "      <td>0</td>\n",
       "      <td>0</td>\n",
       "      <td>496</td>\n",
       "      <td>Negative</td>\n",
       "    </tr>\n",
       "    <tr>\n",
       "      <th>4182686</th>\n",
       "      <td>1138975188127834112</td>\n",
       "      <td>TSLA</td>\n",
       "      <td>TeslaNY</td>\n",
       "      <td>2019-06-13</td>\n",
       "      <td>think basic financi insan buy anyth except ele...</td>\n",
       "      <td>442</td>\n",
       "      <td>0</td>\n",
       "      <td>0</td>\n",
       "      <td>442</td>\n",
       "      <td>Positive</td>\n",
       "    </tr>\n",
       "  </tbody>\n",
       "</table>\n",
       "</div>"
      ],
      "text/plain": [
       "                    tweet_id ticker_symbol          writer  post_date  \\\n",
       "3786974  1014983757252780033          TSLA    lopezlinette 2018-07-05   \n",
       "4112626  1118989675257978880          TSLA  GerberKawasaki 2019-04-18   \n",
       "4306536  1199424478536753155          TSLA      AlexSibila 2019-11-26   \n",
       "2823018   885933344487342082          AMZN   internet_dust 2017-07-14   \n",
       "4182686  1138975188127834112          TSLA         TeslaNY 2019-06-13   \n",
       "\n",
       "                                                      body  comment_num  \\\n",
       "3786974  id like point right right moment elonmusk go f...          631   \n",
       "4112626  tesla save month ga ten year take save put bal...          567   \n",
       "4306536  tesla featur request threadfeel free repli ill...          563   \n",
       "2823018         sell book versu sell whatev fuck want amzn          496   \n",
       "4182686  think basic financi insan buy anyth except ele...          442   \n",
       "\n",
       "         retweet_num  like_num  tweet_activity sentiment  \n",
       "3786974          369         0            1000  Positive  \n",
       "4112626            0         0             567  Positive  \n",
       "4306536           48       662            1273  Positive  \n",
       "2823018            0         0             496  Negative  \n",
       "4182686            0         0             442  Positive  "
      ]
     },
     "execution_count": 244,
     "metadata": {},
     "output_type": "execute_result"
    }
   ],
   "source": [
    "filterTweetsLemma['sentiment'] = filterTweets['body'].apply(lambda x : getSentiment(x))\n",
    "\n",
    "filterTweetsLemma.head()\n"
   ]
  },
  {
   "attachments": {},
   "cell_type": "markdown",
   "metadata": {},
   "source": [
    "### Testing out TextBlob Sentimental Analysis"
   ]
  },
  {
   "cell_type": "code",
   "execution_count": 245,
   "metadata": {},
   "outputs": [],
   "source": [
    "from textblob import TextBlob"
   ]
  },
  {
   "cell_type": "code",
   "execution_count": 246,
   "metadata": {},
   "outputs": [],
   "source": [
    "# Function to use TextBlob (Sentimental Analysis [Objectivity & Polarity])\n",
    "\n",
    "def add_sentiment_scores_blob(df, text_column, polarity_threshold = 0.0 , subjectivity_threshold = 0.5):\n",
    "    # Compute polarity and subjectivity scores for each row in the specified text column\n",
    "    scores = df[text_column].apply(lambda x: TextBlob(x).sentiment)\n",
    "    \n",
    "    # Add two new columns to the DataFrame for the polarity and subjectivity scores\n",
    "    df['blob_polarity'] = scores.apply(lambda x: x.polarity)\n",
    "    df['blob_subjectivity'] = scores.apply(lambda x: x.subjectivity)\n",
    "    \n",
    "    # Convert polarity score to class (positive, neutral, or negative) based on the specified threshold\n",
    "    df['blob_polarity'] = df['blob_polarity'].apply(lambda x: 'Positive' if x > polarity_threshold else 'Negative' if x < -polarity_threshold else 'Neutral')\n",
    "    \n",
    "    # Convert subjectivity score to class (subjective or objective) based on the specified threshold\n",
    "    df['blob_subjectivity'] = df['blob_subjectivity'].apply(lambda x: 'Subjective' if x > subjectivity_threshold else 'Objective')\n",
    "    \n",
    "    return df\n",
    "    \n",
    "    "
   ]
  },
  {
   "cell_type": "code",
   "execution_count": 247,
   "metadata": {},
   "outputs": [
    {
     "name": "stderr",
     "output_type": "stream",
     "text": [
      "C:\\Users\\eric2\\AppData\\Local\\Temp\\ipykernel_40152\\2951990553.py:8: SettingWithCopyWarning: \n",
      "A value is trying to be set on a copy of a slice from a DataFrame.\n",
      "Try using .loc[row_indexer,col_indexer] = value instead\n",
      "\n",
      "See the caveats in the documentation: https://pandas.pydata.org/pandas-docs/stable/user_guide/indexing.html#returning-a-view-versus-a-copy\n",
      "  df['blob_polarity'] = scores.apply(lambda x: x.polarity)\n",
      "C:\\Users\\eric2\\AppData\\Local\\Temp\\ipykernel_40152\\2951990553.py:9: SettingWithCopyWarning: \n",
      "A value is trying to be set on a copy of a slice from a DataFrame.\n",
      "Try using .loc[row_indexer,col_indexer] = value instead\n",
      "\n",
      "See the caveats in the documentation: https://pandas.pydata.org/pandas-docs/stable/user_guide/indexing.html#returning-a-view-versus-a-copy\n",
      "  df['blob_subjectivity'] = scores.apply(lambda x: x.subjectivity)\n",
      "C:\\Users\\eric2\\AppData\\Local\\Temp\\ipykernel_40152\\2951990553.py:12: SettingWithCopyWarning: \n",
      "A value is trying to be set on a copy of a slice from a DataFrame.\n",
      "Try using .loc[row_indexer,col_indexer] = value instead\n",
      "\n",
      "See the caveats in the documentation: https://pandas.pydata.org/pandas-docs/stable/user_guide/indexing.html#returning-a-view-versus-a-copy\n",
      "  df['blob_polarity'] = df['blob_polarity'].apply(lambda x: 'Positive' if x > polarity_threshold else 'Negative' if x < -polarity_threshold else 'Neutral')\n",
      "C:\\Users\\eric2\\AppData\\Local\\Temp\\ipykernel_40152\\2951990553.py:15: SettingWithCopyWarning: \n",
      "A value is trying to be set on a copy of a slice from a DataFrame.\n",
      "Try using .loc[row_indexer,col_indexer] = value instead\n",
      "\n",
      "See the caveats in the documentation: https://pandas.pydata.org/pandas-docs/stable/user_guide/indexing.html#returning-a-view-versus-a-copy\n",
      "  df['blob_subjectivity'] = df['blob_subjectivity'].apply(lambda x: 'Subjective' if x > subjectivity_threshold else 'Objective')\n"
     ]
    },
    {
     "data": {
      "text/html": [
       "<div>\n",
       "<style scoped>\n",
       "    .dataframe tbody tr th:only-of-type {\n",
       "        vertical-align: middle;\n",
       "    }\n",
       "\n",
       "    .dataframe tbody tr th {\n",
       "        vertical-align: top;\n",
       "    }\n",
       "\n",
       "    .dataframe thead th {\n",
       "        text-align: right;\n",
       "    }\n",
       "</style>\n",
       "<table border=\"1\" class=\"dataframe\">\n",
       "  <thead>\n",
       "    <tr style=\"text-align: right;\">\n",
       "      <th></th>\n",
       "      <th>tweet_id</th>\n",
       "      <th>ticker_symbol</th>\n",
       "      <th>writer</th>\n",
       "      <th>post_date</th>\n",
       "      <th>body</th>\n",
       "      <th>comment_num</th>\n",
       "      <th>retweet_num</th>\n",
       "      <th>like_num</th>\n",
       "      <th>tweet_activity</th>\n",
       "      <th>sentiment</th>\n",
       "      <th>blob_polarity</th>\n",
       "      <th>blob_subjectivity</th>\n",
       "    </tr>\n",
       "  </thead>\n",
       "  <tbody>\n",
       "    <tr>\n",
       "      <th>3786974</th>\n",
       "      <td>1014983757252780033</td>\n",
       "      <td>TSLA</td>\n",
       "      <td>lopezlinette</td>\n",
       "      <td>2018-07-05</td>\n",
       "      <td>id like point right right moment elonmusk go f...</td>\n",
       "      <td>631</td>\n",
       "      <td>369</td>\n",
       "      <td>0</td>\n",
       "      <td>1000</td>\n",
       "      <td>Positive</td>\n",
       "      <td>Positive</td>\n",
       "      <td>Subjective</td>\n",
       "    </tr>\n",
       "    <tr>\n",
       "      <th>4112626</th>\n",
       "      <td>1118989675257978880</td>\n",
       "      <td>TSLA</td>\n",
       "      <td>GerberKawasaki</td>\n",
       "      <td>2019-04-18</td>\n",
       "      <td>tesla save month ga ten year take save put bal...</td>\n",
       "      <td>567</td>\n",
       "      <td>0</td>\n",
       "      <td>0</td>\n",
       "      <td>567</td>\n",
       "      <td>Positive</td>\n",
       "      <td>Positive</td>\n",
       "      <td>Objective</td>\n",
       "    </tr>\n",
       "    <tr>\n",
       "      <th>4306536</th>\n",
       "      <td>1199424478536753155</td>\n",
       "      <td>TSLA</td>\n",
       "      <td>AlexSibila</td>\n",
       "      <td>2019-11-26</td>\n",
       "      <td>tesla featur request threadfeel free repli ill...</td>\n",
       "      <td>563</td>\n",
       "      <td>48</td>\n",
       "      <td>662</td>\n",
       "      <td>1273</td>\n",
       "      <td>Positive</td>\n",
       "      <td>Negative</td>\n",
       "      <td>Subjective</td>\n",
       "    </tr>\n",
       "    <tr>\n",
       "      <th>2823018</th>\n",
       "      <td>885933344487342082</td>\n",
       "      <td>AMZN</td>\n",
       "      <td>internet_dust</td>\n",
       "      <td>2017-07-14</td>\n",
       "      <td>sell book versu sell whatev fuck want amzn</td>\n",
       "      <td>496</td>\n",
       "      <td>0</td>\n",
       "      <td>0</td>\n",
       "      <td>496</td>\n",
       "      <td>Negative</td>\n",
       "      <td>Negative</td>\n",
       "      <td>Subjective</td>\n",
       "    </tr>\n",
       "    <tr>\n",
       "      <th>4182686</th>\n",
       "      <td>1138975188127834112</td>\n",
       "      <td>TSLA</td>\n",
       "      <td>TeslaNY</td>\n",
       "      <td>2019-06-13</td>\n",
       "      <td>think basic financi insan buy anyth except ele...</td>\n",
       "      <td>442</td>\n",
       "      <td>0</td>\n",
       "      <td>0</td>\n",
       "      <td>442</td>\n",
       "      <td>Positive</td>\n",
       "      <td>Negative</td>\n",
       "      <td>Objective</td>\n",
       "    </tr>\n",
       "  </tbody>\n",
       "</table>\n",
       "</div>"
      ],
      "text/plain": [
       "                    tweet_id ticker_symbol          writer  post_date  \\\n",
       "3786974  1014983757252780033          TSLA    lopezlinette 2018-07-05   \n",
       "4112626  1118989675257978880          TSLA  GerberKawasaki 2019-04-18   \n",
       "4306536  1199424478536753155          TSLA      AlexSibila 2019-11-26   \n",
       "2823018   885933344487342082          AMZN   internet_dust 2017-07-14   \n",
       "4182686  1138975188127834112          TSLA         TeslaNY 2019-06-13   \n",
       "\n",
       "                                                      body  comment_num  \\\n",
       "3786974  id like point right right moment elonmusk go f...          631   \n",
       "4112626  tesla save month ga ten year take save put bal...          567   \n",
       "4306536  tesla featur request threadfeel free repli ill...          563   \n",
       "2823018         sell book versu sell whatev fuck want amzn          496   \n",
       "4182686  think basic financi insan buy anyth except ele...          442   \n",
       "\n",
       "         retweet_num  like_num  tweet_activity sentiment blob_polarity  \\\n",
       "3786974          369         0            1000  Positive      Positive   \n",
       "4112626            0         0             567  Positive      Positive   \n",
       "4306536           48       662            1273  Positive      Negative   \n",
       "2823018            0         0             496  Negative      Negative   \n",
       "4182686            0         0             442  Positive      Negative   \n",
       "\n",
       "        blob_subjectivity  \n",
       "3786974        Subjective  \n",
       "4112626         Objective  \n",
       "4306536        Subjective  \n",
       "2823018        Subjective  \n",
       "4182686         Objective  "
      ]
     },
     "execution_count": 247,
     "metadata": {},
     "output_type": "execute_result"
    }
   ],
   "source": [
    "add_sentiment_scores_blob(filterTweets,\"body\", 0.0, 0.5)\n",
    "filterTweets.head()"
   ]
  },
  {
   "cell_type": "code",
   "execution_count": 248,
   "metadata": {},
   "outputs": [
    {
     "name": "stderr",
     "output_type": "stream",
     "text": [
      "C:\\Users\\eric2\\AppData\\Local\\Temp\\ipykernel_40152\\2951990553.py:8: SettingWithCopyWarning: \n",
      "A value is trying to be set on a copy of a slice from a DataFrame.\n",
      "Try using .loc[row_indexer,col_indexer] = value instead\n",
      "\n",
      "See the caveats in the documentation: https://pandas.pydata.org/pandas-docs/stable/user_guide/indexing.html#returning-a-view-versus-a-copy\n",
      "  df['blob_polarity'] = scores.apply(lambda x: x.polarity)\n",
      "C:\\Users\\eric2\\AppData\\Local\\Temp\\ipykernel_40152\\2951990553.py:9: SettingWithCopyWarning: \n",
      "A value is trying to be set on a copy of a slice from a DataFrame.\n",
      "Try using .loc[row_indexer,col_indexer] = value instead\n",
      "\n",
      "See the caveats in the documentation: https://pandas.pydata.org/pandas-docs/stable/user_guide/indexing.html#returning-a-view-versus-a-copy\n",
      "  df['blob_subjectivity'] = scores.apply(lambda x: x.subjectivity)\n",
      "C:\\Users\\eric2\\AppData\\Local\\Temp\\ipykernel_40152\\2951990553.py:12: SettingWithCopyWarning: \n",
      "A value is trying to be set on a copy of a slice from a DataFrame.\n",
      "Try using .loc[row_indexer,col_indexer] = value instead\n",
      "\n",
      "See the caveats in the documentation: https://pandas.pydata.org/pandas-docs/stable/user_guide/indexing.html#returning-a-view-versus-a-copy\n",
      "  df['blob_polarity'] = df['blob_polarity'].apply(lambda x: 'Positive' if x > polarity_threshold else 'Negative' if x < -polarity_threshold else 'Neutral')\n",
      "C:\\Users\\eric2\\AppData\\Local\\Temp\\ipykernel_40152\\2951990553.py:15: SettingWithCopyWarning: \n",
      "A value is trying to be set on a copy of a slice from a DataFrame.\n",
      "Try using .loc[row_indexer,col_indexer] = value instead\n",
      "\n",
      "See the caveats in the documentation: https://pandas.pydata.org/pandas-docs/stable/user_guide/indexing.html#returning-a-view-versus-a-copy\n",
      "  df['blob_subjectivity'] = df['blob_subjectivity'].apply(lambda x: 'Subjective' if x > subjectivity_threshold else 'Objective')\n"
     ]
    },
    {
     "data": {
      "text/html": [
       "<div>\n",
       "<style scoped>\n",
       "    .dataframe tbody tr th:only-of-type {\n",
       "        vertical-align: middle;\n",
       "    }\n",
       "\n",
       "    .dataframe tbody tr th {\n",
       "        vertical-align: top;\n",
       "    }\n",
       "\n",
       "    .dataframe thead th {\n",
       "        text-align: right;\n",
       "    }\n",
       "</style>\n",
       "<table border=\"1\" class=\"dataframe\">\n",
       "  <thead>\n",
       "    <tr style=\"text-align: right;\">\n",
       "      <th></th>\n",
       "      <th>tweet_id</th>\n",
       "      <th>ticker_symbol</th>\n",
       "      <th>writer</th>\n",
       "      <th>post_date</th>\n",
       "      <th>body</th>\n",
       "      <th>comment_num</th>\n",
       "      <th>retweet_num</th>\n",
       "      <th>like_num</th>\n",
       "      <th>tweet_activity</th>\n",
       "      <th>sentiment</th>\n",
       "      <th>blob_polarity</th>\n",
       "      <th>blob_subjectivity</th>\n",
       "    </tr>\n",
       "  </thead>\n",
       "  <tbody>\n",
       "    <tr>\n",
       "      <th>3786974</th>\n",
       "      <td>1014983757252780033</td>\n",
       "      <td>TSLA</td>\n",
       "      <td>lopezlinette</td>\n",
       "      <td>2018-07-05</td>\n",
       "      <td>id like point right right moment elonmusk go f...</td>\n",
       "      <td>631</td>\n",
       "      <td>369</td>\n",
       "      <td>0</td>\n",
       "      <td>1000</td>\n",
       "      <td>Positive</td>\n",
       "      <td>Positive</td>\n",
       "      <td>Subjective</td>\n",
       "    </tr>\n",
       "    <tr>\n",
       "      <th>4112626</th>\n",
       "      <td>1118989675257978880</td>\n",
       "      <td>TSLA</td>\n",
       "      <td>GerberKawasaki</td>\n",
       "      <td>2019-04-18</td>\n",
       "      <td>tesla save month ga ten year take save put bal...</td>\n",
       "      <td>567</td>\n",
       "      <td>0</td>\n",
       "      <td>0</td>\n",
       "      <td>567</td>\n",
       "      <td>Positive</td>\n",
       "      <td>Positive</td>\n",
       "      <td>Objective</td>\n",
       "    </tr>\n",
       "    <tr>\n",
       "      <th>4306536</th>\n",
       "      <td>1199424478536753155</td>\n",
       "      <td>TSLA</td>\n",
       "      <td>AlexSibila</td>\n",
       "      <td>2019-11-26</td>\n",
       "      <td>tesla featur request threadfeel free repli ill...</td>\n",
       "      <td>563</td>\n",
       "      <td>48</td>\n",
       "      <td>662</td>\n",
       "      <td>1273</td>\n",
       "      <td>Positive</td>\n",
       "      <td>Negative</td>\n",
       "      <td>Subjective</td>\n",
       "    </tr>\n",
       "    <tr>\n",
       "      <th>2823018</th>\n",
       "      <td>885933344487342082</td>\n",
       "      <td>AMZN</td>\n",
       "      <td>internet_dust</td>\n",
       "      <td>2017-07-14</td>\n",
       "      <td>sell book versu sell whatev fuck want amzn</td>\n",
       "      <td>496</td>\n",
       "      <td>0</td>\n",
       "      <td>0</td>\n",
       "      <td>496</td>\n",
       "      <td>Negative</td>\n",
       "      <td>Negative</td>\n",
       "      <td>Subjective</td>\n",
       "    </tr>\n",
       "    <tr>\n",
       "      <th>4182686</th>\n",
       "      <td>1138975188127834112</td>\n",
       "      <td>TSLA</td>\n",
       "      <td>TeslaNY</td>\n",
       "      <td>2019-06-13</td>\n",
       "      <td>think basic financi insan buy anyth except ele...</td>\n",
       "      <td>442</td>\n",
       "      <td>0</td>\n",
       "      <td>0</td>\n",
       "      <td>442</td>\n",
       "      <td>Positive</td>\n",
       "      <td>Negative</td>\n",
       "      <td>Objective</td>\n",
       "    </tr>\n",
       "  </tbody>\n",
       "</table>\n",
       "</div>"
      ],
      "text/plain": [
       "                    tweet_id ticker_symbol          writer  post_date  \\\n",
       "3786974  1014983757252780033          TSLA    lopezlinette 2018-07-05   \n",
       "4112626  1118989675257978880          TSLA  GerberKawasaki 2019-04-18   \n",
       "4306536  1199424478536753155          TSLA      AlexSibila 2019-11-26   \n",
       "2823018   885933344487342082          AMZN   internet_dust 2017-07-14   \n",
       "4182686  1138975188127834112          TSLA         TeslaNY 2019-06-13   \n",
       "\n",
       "                                                      body  comment_num  \\\n",
       "3786974  id like point right right moment elonmusk go f...          631   \n",
       "4112626  tesla save month ga ten year take save put bal...          567   \n",
       "4306536  tesla featur request threadfeel free repli ill...          563   \n",
       "2823018         sell book versu sell whatev fuck want amzn          496   \n",
       "4182686  think basic financi insan buy anyth except ele...          442   \n",
       "\n",
       "         retweet_num  like_num  tweet_activity sentiment blob_polarity  \\\n",
       "3786974          369         0            1000  Positive      Positive   \n",
       "4112626            0         0             567  Positive      Positive   \n",
       "4306536           48       662            1273  Positive      Negative   \n",
       "2823018            0         0             496  Negative      Negative   \n",
       "4182686            0         0             442  Positive      Negative   \n",
       "\n",
       "        blob_subjectivity  \n",
       "3786974        Subjective  \n",
       "4112626         Objective  \n",
       "4306536        Subjective  \n",
       "2823018        Subjective  \n",
       "4182686         Objective  "
      ]
     },
     "execution_count": 248,
     "metadata": {},
     "output_type": "execute_result"
    }
   ],
   "source": [
    "add_sentiment_scores_blob(filterTweetsLemma,\"body\", 0.0, 0.5)\n",
    "filterTweetsLemma.head()"
   ]
  },
  {
   "attachments": {},
   "cell_type": "markdown",
   "metadata": {},
   "source": [
    "### Convert Positive, Negative and Neutral to numeral labels and Subjectivity"
   ]
  },
  {
   "cell_type": "code",
   "execution_count": 249,
   "metadata": {},
   "outputs": [],
   "source": [
    "sentiment_map = {\"Positive\": 1, \"Negative\": 0, \"Neutral\": 2}\n",
    "subjectivity_mapping = {\"Subjective\": 1, \"Objective\": 0}\n"
   ]
  },
  {
   "cell_type": "code",
   "execution_count": 250,
   "metadata": {},
   "outputs": [
    {
     "name": "stderr",
     "output_type": "stream",
     "text": [
      "C:\\Users\\eric2\\AppData\\Local\\Temp\\ipykernel_40152\\1162442850.py:1: SettingWithCopyWarning: \n",
      "A value is trying to be set on a copy of a slice from a DataFrame\n",
      "\n",
      "See the caveats in the documentation: https://pandas.pydata.org/pandas-docs/stable/user_guide/indexing.html#returning-a-view-versus-a-copy\n",
      "  filterTweets[\"sentiment\"].replace(sentiment_map, inplace = True)\n",
      "C:\\Users\\eric2\\AppData\\Local\\Temp\\ipykernel_40152\\1162442850.py:2: SettingWithCopyWarning: \n",
      "A value is trying to be set on a copy of a slice from a DataFrame\n",
      "\n",
      "See the caveats in the documentation: https://pandas.pydata.org/pandas-docs/stable/user_guide/indexing.html#returning-a-view-versus-a-copy\n",
      "  filterTweets[\"blob_polarity\"].replace(sentiment_map, inplace = True)\n",
      "C:\\Users\\eric2\\AppData\\Local\\Temp\\ipykernel_40152\\1162442850.py:3: SettingWithCopyWarning: \n",
      "A value is trying to be set on a copy of a slice from a DataFrame\n",
      "\n",
      "See the caveats in the documentation: https://pandas.pydata.org/pandas-docs/stable/user_guide/indexing.html#returning-a-view-versus-a-copy\n",
      "  filterTweets[\"blob_subjectivity\"].replace(subjectivity_mapping, inplace = True)\n"
     ]
    },
    {
     "data": {
      "text/html": [
       "<div>\n",
       "<style scoped>\n",
       "    .dataframe tbody tr th:only-of-type {\n",
       "        vertical-align: middle;\n",
       "    }\n",
       "\n",
       "    .dataframe tbody tr th {\n",
       "        vertical-align: top;\n",
       "    }\n",
       "\n",
       "    .dataframe thead th {\n",
       "        text-align: right;\n",
       "    }\n",
       "</style>\n",
       "<table border=\"1\" class=\"dataframe\">\n",
       "  <thead>\n",
       "    <tr style=\"text-align: right;\">\n",
       "      <th></th>\n",
       "      <th>tweet_id</th>\n",
       "      <th>ticker_symbol</th>\n",
       "      <th>writer</th>\n",
       "      <th>post_date</th>\n",
       "      <th>body</th>\n",
       "      <th>comment_num</th>\n",
       "      <th>retweet_num</th>\n",
       "      <th>like_num</th>\n",
       "      <th>tweet_activity</th>\n",
       "      <th>sentiment</th>\n",
       "      <th>blob_polarity</th>\n",
       "      <th>blob_subjectivity</th>\n",
       "    </tr>\n",
       "  </thead>\n",
       "  <tbody>\n",
       "    <tr>\n",
       "      <th>3786974</th>\n",
       "      <td>1014983757252780033</td>\n",
       "      <td>TSLA</td>\n",
       "      <td>lopezlinette</td>\n",
       "      <td>2018-07-05</td>\n",
       "      <td>id like point right right moment elonmusk go f...</td>\n",
       "      <td>631</td>\n",
       "      <td>369</td>\n",
       "      <td>0</td>\n",
       "      <td>1000</td>\n",
       "      <td>1</td>\n",
       "      <td>1</td>\n",
       "      <td>1</td>\n",
       "    </tr>\n",
       "    <tr>\n",
       "      <th>4112626</th>\n",
       "      <td>1118989675257978880</td>\n",
       "      <td>TSLA</td>\n",
       "      <td>GerberKawasaki</td>\n",
       "      <td>2019-04-18</td>\n",
       "      <td>tesla save month ga ten year take save put bal...</td>\n",
       "      <td>567</td>\n",
       "      <td>0</td>\n",
       "      <td>0</td>\n",
       "      <td>567</td>\n",
       "      <td>1</td>\n",
       "      <td>1</td>\n",
       "      <td>0</td>\n",
       "    </tr>\n",
       "    <tr>\n",
       "      <th>4306536</th>\n",
       "      <td>1199424478536753155</td>\n",
       "      <td>TSLA</td>\n",
       "      <td>AlexSibila</td>\n",
       "      <td>2019-11-26</td>\n",
       "      <td>tesla featur request threadfeel free repli ill...</td>\n",
       "      <td>563</td>\n",
       "      <td>48</td>\n",
       "      <td>662</td>\n",
       "      <td>1273</td>\n",
       "      <td>1</td>\n",
       "      <td>0</td>\n",
       "      <td>1</td>\n",
       "    </tr>\n",
       "    <tr>\n",
       "      <th>2823018</th>\n",
       "      <td>885933344487342082</td>\n",
       "      <td>AMZN</td>\n",
       "      <td>internet_dust</td>\n",
       "      <td>2017-07-14</td>\n",
       "      <td>sell book versu sell whatev fuck want amzn</td>\n",
       "      <td>496</td>\n",
       "      <td>0</td>\n",
       "      <td>0</td>\n",
       "      <td>496</td>\n",
       "      <td>0</td>\n",
       "      <td>0</td>\n",
       "      <td>1</td>\n",
       "    </tr>\n",
       "    <tr>\n",
       "      <th>4182686</th>\n",
       "      <td>1138975188127834112</td>\n",
       "      <td>TSLA</td>\n",
       "      <td>TeslaNY</td>\n",
       "      <td>2019-06-13</td>\n",
       "      <td>think basic financi insan buy anyth except ele...</td>\n",
       "      <td>442</td>\n",
       "      <td>0</td>\n",
       "      <td>0</td>\n",
       "      <td>442</td>\n",
       "      <td>1</td>\n",
       "      <td>0</td>\n",
       "      <td>0</td>\n",
       "    </tr>\n",
       "  </tbody>\n",
       "</table>\n",
       "</div>"
      ],
      "text/plain": [
       "                    tweet_id ticker_symbol          writer  post_date  \\\n",
       "3786974  1014983757252780033          TSLA    lopezlinette 2018-07-05   \n",
       "4112626  1118989675257978880          TSLA  GerberKawasaki 2019-04-18   \n",
       "4306536  1199424478536753155          TSLA      AlexSibila 2019-11-26   \n",
       "2823018   885933344487342082          AMZN   internet_dust 2017-07-14   \n",
       "4182686  1138975188127834112          TSLA         TeslaNY 2019-06-13   \n",
       "\n",
       "                                                      body  comment_num  \\\n",
       "3786974  id like point right right moment elonmusk go f...          631   \n",
       "4112626  tesla save month ga ten year take save put bal...          567   \n",
       "4306536  tesla featur request threadfeel free repli ill...          563   \n",
       "2823018         sell book versu sell whatev fuck want amzn          496   \n",
       "4182686  think basic financi insan buy anyth except ele...          442   \n",
       "\n",
       "         retweet_num  like_num  tweet_activity  sentiment  blob_polarity  \\\n",
       "3786974          369         0            1000          1              1   \n",
       "4112626            0         0             567          1              1   \n",
       "4306536           48       662            1273          1              0   \n",
       "2823018            0         0             496          0              0   \n",
       "4182686            0         0             442          1              0   \n",
       "\n",
       "         blob_subjectivity  \n",
       "3786974                  1  \n",
       "4112626                  0  \n",
       "4306536                  1  \n",
       "2823018                  1  \n",
       "4182686                  0  "
      ]
     },
     "execution_count": 250,
     "metadata": {},
     "output_type": "execute_result"
    }
   ],
   "source": [
    "filterTweets[\"sentiment\"].replace(sentiment_map, inplace = True)\n",
    "filterTweets[\"blob_polarity\"].replace(sentiment_map, inplace = True)\n",
    "filterTweets[\"blob_subjectivity\"].replace(subjectivity_mapping, inplace = True)\n",
    "filterTweets.head()"
   ]
  },
  {
   "cell_type": "code",
   "execution_count": 251,
   "metadata": {},
   "outputs": [
    {
     "name": "stderr",
     "output_type": "stream",
     "text": [
      "C:\\Users\\eric2\\AppData\\Local\\Temp\\ipykernel_40152\\2292899471.py:1: SettingWithCopyWarning: \n",
      "A value is trying to be set on a copy of a slice from a DataFrame\n",
      "\n",
      "See the caveats in the documentation: https://pandas.pydata.org/pandas-docs/stable/user_guide/indexing.html#returning-a-view-versus-a-copy\n",
      "  filterTweetsLemma[\"sentiment\"].replace(sentiment_map, inplace = True)\n",
      "C:\\Users\\eric2\\AppData\\Local\\Temp\\ipykernel_40152\\2292899471.py:2: SettingWithCopyWarning: \n",
      "A value is trying to be set on a copy of a slice from a DataFrame\n",
      "\n",
      "See the caveats in the documentation: https://pandas.pydata.org/pandas-docs/stable/user_guide/indexing.html#returning-a-view-versus-a-copy\n",
      "  filterTweetsLemma[\"blob_polarity\"].replace(sentiment_map, inplace = True)\n"
     ]
    },
    {
     "data": {
      "text/html": [
       "<div>\n",
       "<style scoped>\n",
       "    .dataframe tbody tr th:only-of-type {\n",
       "        vertical-align: middle;\n",
       "    }\n",
       "\n",
       "    .dataframe tbody tr th {\n",
       "        vertical-align: top;\n",
       "    }\n",
       "\n",
       "    .dataframe thead th {\n",
       "        text-align: right;\n",
       "    }\n",
       "</style>\n",
       "<table border=\"1\" class=\"dataframe\">\n",
       "  <thead>\n",
       "    <tr style=\"text-align: right;\">\n",
       "      <th></th>\n",
       "      <th>tweet_id</th>\n",
       "      <th>ticker_symbol</th>\n",
       "      <th>writer</th>\n",
       "      <th>post_date</th>\n",
       "      <th>body</th>\n",
       "      <th>comment_num</th>\n",
       "      <th>retweet_num</th>\n",
       "      <th>like_num</th>\n",
       "      <th>tweet_activity</th>\n",
       "      <th>sentiment</th>\n",
       "      <th>blob_polarity</th>\n",
       "      <th>blob_subjectivity</th>\n",
       "    </tr>\n",
       "  </thead>\n",
       "  <tbody>\n",
       "    <tr>\n",
       "      <th>3786974</th>\n",
       "      <td>1014983757252780033</td>\n",
       "      <td>TSLA</td>\n",
       "      <td>lopezlinette</td>\n",
       "      <td>2018-07-05</td>\n",
       "      <td>id like point right right moment elonmusk go f...</td>\n",
       "      <td>631</td>\n",
       "      <td>369</td>\n",
       "      <td>0</td>\n",
       "      <td>1000</td>\n",
       "      <td>1</td>\n",
       "      <td>1</td>\n",
       "      <td>1</td>\n",
       "    </tr>\n",
       "    <tr>\n",
       "      <th>4112626</th>\n",
       "      <td>1118989675257978880</td>\n",
       "      <td>TSLA</td>\n",
       "      <td>GerberKawasaki</td>\n",
       "      <td>2019-04-18</td>\n",
       "      <td>tesla save month ga ten year take save put bal...</td>\n",
       "      <td>567</td>\n",
       "      <td>0</td>\n",
       "      <td>0</td>\n",
       "      <td>567</td>\n",
       "      <td>1</td>\n",
       "      <td>1</td>\n",
       "      <td>0</td>\n",
       "    </tr>\n",
       "    <tr>\n",
       "      <th>4306536</th>\n",
       "      <td>1199424478536753155</td>\n",
       "      <td>TSLA</td>\n",
       "      <td>AlexSibila</td>\n",
       "      <td>2019-11-26</td>\n",
       "      <td>tesla featur request threadfeel free repli ill...</td>\n",
       "      <td>563</td>\n",
       "      <td>48</td>\n",
       "      <td>662</td>\n",
       "      <td>1273</td>\n",
       "      <td>1</td>\n",
       "      <td>0</td>\n",
       "      <td>1</td>\n",
       "    </tr>\n",
       "    <tr>\n",
       "      <th>2823018</th>\n",
       "      <td>885933344487342082</td>\n",
       "      <td>AMZN</td>\n",
       "      <td>internet_dust</td>\n",
       "      <td>2017-07-14</td>\n",
       "      <td>sell book versu sell whatev fuck want amzn</td>\n",
       "      <td>496</td>\n",
       "      <td>0</td>\n",
       "      <td>0</td>\n",
       "      <td>496</td>\n",
       "      <td>0</td>\n",
       "      <td>0</td>\n",
       "      <td>1</td>\n",
       "    </tr>\n",
       "    <tr>\n",
       "      <th>4182686</th>\n",
       "      <td>1138975188127834112</td>\n",
       "      <td>TSLA</td>\n",
       "      <td>TeslaNY</td>\n",
       "      <td>2019-06-13</td>\n",
       "      <td>think basic financi insan buy anyth except ele...</td>\n",
       "      <td>442</td>\n",
       "      <td>0</td>\n",
       "      <td>0</td>\n",
       "      <td>442</td>\n",
       "      <td>1</td>\n",
       "      <td>0</td>\n",
       "      <td>0</td>\n",
       "    </tr>\n",
       "  </tbody>\n",
       "</table>\n",
       "</div>"
      ],
      "text/plain": [
       "                    tweet_id ticker_symbol          writer  post_date  \\\n",
       "3786974  1014983757252780033          TSLA    lopezlinette 2018-07-05   \n",
       "4112626  1118989675257978880          TSLA  GerberKawasaki 2019-04-18   \n",
       "4306536  1199424478536753155          TSLA      AlexSibila 2019-11-26   \n",
       "2823018   885933344487342082          AMZN   internet_dust 2017-07-14   \n",
       "4182686  1138975188127834112          TSLA         TeslaNY 2019-06-13   \n",
       "\n",
       "                                                      body  comment_num  \\\n",
       "3786974  id like point right right moment elonmusk go f...          631   \n",
       "4112626  tesla save month ga ten year take save put bal...          567   \n",
       "4306536  tesla featur request threadfeel free repli ill...          563   \n",
       "2823018         sell book versu sell whatev fuck want amzn          496   \n",
       "4182686  think basic financi insan buy anyth except ele...          442   \n",
       "\n",
       "         retweet_num  like_num  tweet_activity  sentiment  blob_polarity  \\\n",
       "3786974          369         0            1000          1              1   \n",
       "4112626            0         0             567          1              1   \n",
       "4306536           48       662            1273          1              0   \n",
       "2823018            0         0             496          0              0   \n",
       "4182686            0         0             442          1              0   \n",
       "\n",
       "         blob_subjectivity  \n",
       "3786974                  1  \n",
       "4112626                  0  \n",
       "4306536                  1  \n",
       "2823018                  1  \n",
       "4182686                  0  "
      ]
     },
     "execution_count": 251,
     "metadata": {},
     "output_type": "execute_result"
    }
   ],
   "source": [
    "filterTweetsLemma[\"sentiment\"].replace(sentiment_map, inplace = True)\n",
    "filterTweetsLemma[\"blob_polarity\"].replace(sentiment_map, inplace = True)\n",
    "filterTweetsLemma.head()"
   ]
  },
  {
   "attachments": {},
   "cell_type": "markdown",
   "metadata": {},
   "source": [
    "\n",
    "### Separating Neutral Sentiments and Opinionated Sentiments for NLTK Analysis"
   ]
  },
  {
   "cell_type": "code",
   "execution_count": 252,
   "metadata": {},
   "outputs": [
    {
     "data": {
      "text/html": [
       "<div>\n",
       "<style scoped>\n",
       "    .dataframe tbody tr th:only-of-type {\n",
       "        vertical-align: middle;\n",
       "    }\n",
       "\n",
       "    .dataframe tbody tr th {\n",
       "        vertical-align: top;\n",
       "    }\n",
       "\n",
       "    .dataframe thead th {\n",
       "        text-align: right;\n",
       "    }\n",
       "</style>\n",
       "<table border=\"1\" class=\"dataframe\">\n",
       "  <thead>\n",
       "    <tr style=\"text-align: right;\">\n",
       "      <th></th>\n",
       "      <th>tweet_id</th>\n",
       "      <th>ticker_symbol</th>\n",
       "      <th>writer</th>\n",
       "      <th>post_date</th>\n",
       "      <th>body</th>\n",
       "      <th>comment_num</th>\n",
       "      <th>retweet_num</th>\n",
       "      <th>like_num</th>\n",
       "      <th>tweet_activity</th>\n",
       "      <th>sentiment</th>\n",
       "      <th>blob_polarity</th>\n",
       "      <th>blob_subjectivity</th>\n",
       "    </tr>\n",
       "  </thead>\n",
       "  <tbody>\n",
       "    <tr>\n",
       "      <th>3786974</th>\n",
       "      <td>1014983757252780033</td>\n",
       "      <td>TSLA</td>\n",
       "      <td>lopezlinette</td>\n",
       "      <td>2018-07-05</td>\n",
       "      <td>id like point right right moment elonmusk go f...</td>\n",
       "      <td>631</td>\n",
       "      <td>369</td>\n",
       "      <td>0</td>\n",
       "      <td>1000</td>\n",
       "      <td>1</td>\n",
       "      <td>1</td>\n",
       "      <td>1</td>\n",
       "    </tr>\n",
       "    <tr>\n",
       "      <th>4112626</th>\n",
       "      <td>1118989675257978880</td>\n",
       "      <td>TSLA</td>\n",
       "      <td>GerberKawasaki</td>\n",
       "      <td>2019-04-18</td>\n",
       "      <td>tesla save month ga ten year take save put bal...</td>\n",
       "      <td>567</td>\n",
       "      <td>0</td>\n",
       "      <td>0</td>\n",
       "      <td>567</td>\n",
       "      <td>1</td>\n",
       "      <td>1</td>\n",
       "      <td>0</td>\n",
       "    </tr>\n",
       "    <tr>\n",
       "      <th>4306536</th>\n",
       "      <td>1199424478536753155</td>\n",
       "      <td>TSLA</td>\n",
       "      <td>AlexSibila</td>\n",
       "      <td>2019-11-26</td>\n",
       "      <td>tesla featur request threadfeel free repli ill...</td>\n",
       "      <td>563</td>\n",
       "      <td>48</td>\n",
       "      <td>662</td>\n",
       "      <td>1273</td>\n",
       "      <td>1</td>\n",
       "      <td>0</td>\n",
       "      <td>1</td>\n",
       "    </tr>\n",
       "    <tr>\n",
       "      <th>2823018</th>\n",
       "      <td>885933344487342082</td>\n",
       "      <td>AMZN</td>\n",
       "      <td>internet_dust</td>\n",
       "      <td>2017-07-14</td>\n",
       "      <td>sell book versu sell whatev fuck want amzn</td>\n",
       "      <td>496</td>\n",
       "      <td>0</td>\n",
       "      <td>0</td>\n",
       "      <td>496</td>\n",
       "      <td>0</td>\n",
       "      <td>0</td>\n",
       "      <td>1</td>\n",
       "    </tr>\n",
       "    <tr>\n",
       "      <th>4182686</th>\n",
       "      <td>1138975188127834112</td>\n",
       "      <td>TSLA</td>\n",
       "      <td>TeslaNY</td>\n",
       "      <td>2019-06-13</td>\n",
       "      <td>think basic financi insan buy anyth except ele...</td>\n",
       "      <td>442</td>\n",
       "      <td>0</td>\n",
       "      <td>0</td>\n",
       "      <td>442</td>\n",
       "      <td>1</td>\n",
       "      <td>0</td>\n",
       "      <td>0</td>\n",
       "    </tr>\n",
       "  </tbody>\n",
       "</table>\n",
       "</div>"
      ],
      "text/plain": [
       "                    tweet_id ticker_symbol          writer  post_date  \\\n",
       "3786974  1014983757252780033          TSLA    lopezlinette 2018-07-05   \n",
       "4112626  1118989675257978880          TSLA  GerberKawasaki 2019-04-18   \n",
       "4306536  1199424478536753155          TSLA      AlexSibila 2019-11-26   \n",
       "2823018   885933344487342082          AMZN   internet_dust 2017-07-14   \n",
       "4182686  1138975188127834112          TSLA         TeslaNY 2019-06-13   \n",
       "\n",
       "                                                      body  comment_num  \\\n",
       "3786974  id like point right right moment elonmusk go f...          631   \n",
       "4112626  tesla save month ga ten year take save put bal...          567   \n",
       "4306536  tesla featur request threadfeel free repli ill...          563   \n",
       "2823018         sell book versu sell whatev fuck want amzn          496   \n",
       "4182686  think basic financi insan buy anyth except ele...          442   \n",
       "\n",
       "         retweet_num  like_num  tweet_activity  sentiment  blob_polarity  \\\n",
       "3786974          369         0            1000          1              1   \n",
       "4112626            0         0             567          1              1   \n",
       "4306536           48       662            1273          1              0   \n",
       "2823018            0         0             496          0              0   \n",
       "4182686            0         0             442          1              0   \n",
       "\n",
       "         blob_subjectivity  \n",
       "3786974                  1  \n",
       "4112626                  0  \n",
       "4306536                  1  \n",
       "2823018                  1  \n",
       "4182686                  0  "
      ]
     },
     "execution_count": 252,
     "metadata": {},
     "output_type": "execute_result"
    }
   ],
   "source": [
    "opinionatedTweets = filterTweets.loc[filterTweets[\"sentiment\"]!= 2]\n",
    "opinionatedTweets.head()"
   ]
  },
  {
   "cell_type": "code",
   "execution_count": 253,
   "metadata": {},
   "outputs": [
    {
     "data": {
      "text/html": [
       "<div>\n",
       "<style scoped>\n",
       "    .dataframe tbody tr th:only-of-type {\n",
       "        vertical-align: middle;\n",
       "    }\n",
       "\n",
       "    .dataframe tbody tr th {\n",
       "        vertical-align: top;\n",
       "    }\n",
       "\n",
       "    .dataframe thead th {\n",
       "        text-align: right;\n",
       "    }\n",
       "</style>\n",
       "<table border=\"1\" class=\"dataframe\">\n",
       "  <thead>\n",
       "    <tr style=\"text-align: right;\">\n",
       "      <th></th>\n",
       "      <th>tweet_id</th>\n",
       "      <th>ticker_symbol</th>\n",
       "      <th>writer</th>\n",
       "      <th>post_date</th>\n",
       "      <th>body</th>\n",
       "      <th>comment_num</th>\n",
       "      <th>retweet_num</th>\n",
       "      <th>like_num</th>\n",
       "      <th>tweet_activity</th>\n",
       "      <th>sentiment</th>\n",
       "      <th>blob_polarity</th>\n",
       "      <th>blob_subjectivity</th>\n",
       "    </tr>\n",
       "  </thead>\n",
       "  <tbody>\n",
       "    <tr>\n",
       "      <th>3786974</th>\n",
       "      <td>1014983757252780033</td>\n",
       "      <td>TSLA</td>\n",
       "      <td>lopezlinette</td>\n",
       "      <td>2018-07-05</td>\n",
       "      <td>id like point right right moment elonmusk go f...</td>\n",
       "      <td>631</td>\n",
       "      <td>369</td>\n",
       "      <td>0</td>\n",
       "      <td>1000</td>\n",
       "      <td>1</td>\n",
       "      <td>1</td>\n",
       "      <td>1</td>\n",
       "    </tr>\n",
       "    <tr>\n",
       "      <th>4112626</th>\n",
       "      <td>1118989675257978880</td>\n",
       "      <td>TSLA</td>\n",
       "      <td>GerberKawasaki</td>\n",
       "      <td>2019-04-18</td>\n",
       "      <td>tesla save month ga ten year take save put bal...</td>\n",
       "      <td>567</td>\n",
       "      <td>0</td>\n",
       "      <td>0</td>\n",
       "      <td>567</td>\n",
       "      <td>1</td>\n",
       "      <td>1</td>\n",
       "      <td>0</td>\n",
       "    </tr>\n",
       "    <tr>\n",
       "      <th>4306536</th>\n",
       "      <td>1199424478536753155</td>\n",
       "      <td>TSLA</td>\n",
       "      <td>AlexSibila</td>\n",
       "      <td>2019-11-26</td>\n",
       "      <td>tesla featur request threadfeel free repli ill...</td>\n",
       "      <td>563</td>\n",
       "      <td>48</td>\n",
       "      <td>662</td>\n",
       "      <td>1273</td>\n",
       "      <td>1</td>\n",
       "      <td>0</td>\n",
       "      <td>1</td>\n",
       "    </tr>\n",
       "    <tr>\n",
       "      <th>2823018</th>\n",
       "      <td>885933344487342082</td>\n",
       "      <td>AMZN</td>\n",
       "      <td>internet_dust</td>\n",
       "      <td>2017-07-14</td>\n",
       "      <td>sell book versu sell whatev fuck want amzn</td>\n",
       "      <td>496</td>\n",
       "      <td>0</td>\n",
       "      <td>0</td>\n",
       "      <td>496</td>\n",
       "      <td>0</td>\n",
       "      <td>0</td>\n",
       "      <td>1</td>\n",
       "    </tr>\n",
       "    <tr>\n",
       "      <th>4182686</th>\n",
       "      <td>1138975188127834112</td>\n",
       "      <td>TSLA</td>\n",
       "      <td>TeslaNY</td>\n",
       "      <td>2019-06-13</td>\n",
       "      <td>think basic financi insan buy anyth except ele...</td>\n",
       "      <td>442</td>\n",
       "      <td>0</td>\n",
       "      <td>0</td>\n",
       "      <td>442</td>\n",
       "      <td>1</td>\n",
       "      <td>0</td>\n",
       "      <td>0</td>\n",
       "    </tr>\n",
       "  </tbody>\n",
       "</table>\n",
       "</div>"
      ],
      "text/plain": [
       "                    tweet_id ticker_symbol          writer  post_date  \\\n",
       "3786974  1014983757252780033          TSLA    lopezlinette 2018-07-05   \n",
       "4112626  1118989675257978880          TSLA  GerberKawasaki 2019-04-18   \n",
       "4306536  1199424478536753155          TSLA      AlexSibila 2019-11-26   \n",
       "2823018   885933344487342082          AMZN   internet_dust 2017-07-14   \n",
       "4182686  1138975188127834112          TSLA         TeslaNY 2019-06-13   \n",
       "\n",
       "                                                      body  comment_num  \\\n",
       "3786974  id like point right right moment elonmusk go f...          631   \n",
       "4112626  tesla save month ga ten year take save put bal...          567   \n",
       "4306536  tesla featur request threadfeel free repli ill...          563   \n",
       "2823018         sell book versu sell whatev fuck want amzn          496   \n",
       "4182686  think basic financi insan buy anyth except ele...          442   \n",
       "\n",
       "         retweet_num  like_num  tweet_activity  sentiment  blob_polarity  \\\n",
       "3786974          369         0            1000          1              1   \n",
       "4112626            0         0             567          1              1   \n",
       "4306536           48       662            1273          1              0   \n",
       "2823018            0         0             496          0              0   \n",
       "4182686            0         0             442          1              0   \n",
       "\n",
       "         blob_subjectivity  \n",
       "3786974                  1  \n",
       "4112626                  0  \n",
       "4306536                  1  \n",
       "2823018                  1  \n",
       "4182686                  0  "
      ]
     },
     "execution_count": 253,
     "metadata": {},
     "output_type": "execute_result"
    }
   ],
   "source": [
    "opinionatedTweetsLemma = filterTweetsLemma.loc[filterTweetsLemma[\"sentiment\"]!= 2]\n",
    "opinionatedTweetsLemma.head()"
   ]
  },
  {
   "cell_type": "code",
   "execution_count": 254,
   "metadata": {},
   "outputs": [],
   "source": [
    "X_opinionated = filterTweets[\"body\"].values #[\"ticker_symbol\",\"writer\" , \"body\"]\n",
    "y_opinionated = filterTweets[\"sentiment\"].values\n",
    "X_train_opinionated, X_test_opinionated, y_train_opinionated, y_test_opinionated = train_test_split(\n",
    "    X_opinionated, y_opinionated, test_size=0.20, random_state=0)"
   ]
  },
  {
   "cell_type": "code",
   "execution_count": 255,
   "metadata": {},
   "outputs": [],
   "source": [
    "X_opinionated_lemma = filterTweets[\"body\"].values #[\"ticker_symbol\",\"writer\" , \"body\"]\n",
    "y_opinionated_lemma = filterTweets[\"sentiment\"].values\n",
    "X_train_opinionated_lemma, X_test_opinionated_lemma, y_train_opinionated_lemma, y_test_opinionated_lemma = train_test_split(\n",
    "    X_opinionated_lemma, y_opinionated_lemma, test_size=0.20, random_state=0)"
   ]
  },
  {
   "cell_type": "code",
   "execution_count": 256,
   "metadata": {},
   "outputs": [
    {
     "data": {
      "text/html": [
       "<div>\n",
       "<style scoped>\n",
       "    .dataframe tbody tr th:only-of-type {\n",
       "        vertical-align: middle;\n",
       "    }\n",
       "\n",
       "    .dataframe tbody tr th {\n",
       "        vertical-align: top;\n",
       "    }\n",
       "\n",
       "    .dataframe thead th {\n",
       "        text-align: right;\n",
       "    }\n",
       "</style>\n",
       "<table border=\"1\" class=\"dataframe\">\n",
       "  <thead>\n",
       "    <tr style=\"text-align: right;\">\n",
       "      <th></th>\n",
       "      <th>tweet_id</th>\n",
       "      <th>ticker_symbol</th>\n",
       "      <th>writer</th>\n",
       "      <th>post_date</th>\n",
       "      <th>body</th>\n",
       "      <th>comment_num</th>\n",
       "      <th>retweet_num</th>\n",
       "      <th>like_num</th>\n",
       "      <th>tweet_activity</th>\n",
       "      <th>sentiment</th>\n",
       "      <th>blob_polarity</th>\n",
       "      <th>blob_subjectivity</th>\n",
       "    </tr>\n",
       "  </thead>\n",
       "  <tbody>\n",
       "    <tr>\n",
       "      <th>4002464</th>\n",
       "      <td>1082182633948295168</td>\n",
       "      <td>TSLA</td>\n",
       "      <td>vincent13031925</td>\n",
       "      <td>2019-01-07</td>\n",
       "      <td>tesla ceo elonmusk shanghai mayor ying yong te...</td>\n",
       "      <td>318</td>\n",
       "      <td>0</td>\n",
       "      <td>0</td>\n",
       "      <td>318</td>\n",
       "      <td>2</td>\n",
       "      <td>2</td>\n",
       "      <td>0</td>\n",
       "    </tr>\n",
       "    <tr>\n",
       "      <th>4142690</th>\n",
       "      <td>1126183436144795649</td>\n",
       "      <td>TSLA</td>\n",
       "      <td>TeslaNY</td>\n",
       "      <td>2019-05-08</td>\n",
       "      <td>test product car ever crack second mph tesla s...</td>\n",
       "      <td>280</td>\n",
       "      <td>0</td>\n",
       "      <td>0</td>\n",
       "      <td>280</td>\n",
       "      <td>2</td>\n",
       "      <td>2</td>\n",
       "      <td>0</td>\n",
       "    </tr>\n",
       "    <tr>\n",
       "      <th>4301361</th>\n",
       "      <td>1197894016358060032</td>\n",
       "      <td>TSLA</td>\n",
       "      <td>carlquintanilla</td>\n",
       "      <td>2019-11-22</td>\n",
       "      <td>caption pleasetsla cybertruckvia teflongeek</td>\n",
       "      <td>276</td>\n",
       "      <td>27</td>\n",
       "      <td>201</td>\n",
       "      <td>504</td>\n",
       "      <td>2</td>\n",
       "      <td>2</td>\n",
       "      <td>0</td>\n",
       "    </tr>\n",
       "    <tr>\n",
       "      <th>1336141</th>\n",
       "      <td>993863874406420481</td>\n",
       "      <td>AAPL</td>\n",
       "      <td>philstockworld</td>\n",
       "      <td>2018-05-08</td>\n",
       "      <td>trillion dollar tuesday appl close histor valu...</td>\n",
       "      <td>213</td>\n",
       "      <td>489</td>\n",
       "      <td>387</td>\n",
       "      <td>1089</td>\n",
       "      <td>2</td>\n",
       "      <td>2</td>\n",
       "      <td>0</td>\n",
       "    </tr>\n",
       "    <tr>\n",
       "      <th>1568450</th>\n",
       "      <td>1087700913752600576</td>\n",
       "      <td>AAPL</td>\n",
       "      <td>jimcramer</td>\n",
       "      <td>2019-01-22</td>\n",
       "      <td>hatr aapl reject idea help custom healthcar wa...</td>\n",
       "      <td>204</td>\n",
       "      <td>66</td>\n",
       "      <td>757</td>\n",
       "      <td>1027</td>\n",
       "      <td>2</td>\n",
       "      <td>2</td>\n",
       "      <td>0</td>\n",
       "    </tr>\n",
       "  </tbody>\n",
       "</table>\n",
       "</div>"
      ],
      "text/plain": [
       "                    tweet_id ticker_symbol           writer  post_date  \\\n",
       "4002464  1082182633948295168          TSLA  vincent13031925 2019-01-07   \n",
       "4142690  1126183436144795649          TSLA          TeslaNY 2019-05-08   \n",
       "4301361  1197894016358060032          TSLA  carlquintanilla 2019-11-22   \n",
       "1336141   993863874406420481          AAPL   philstockworld 2018-05-08   \n",
       "1568450  1087700913752600576          AAPL        jimcramer 2019-01-22   \n",
       "\n",
       "                                                      body  comment_num  \\\n",
       "4002464  tesla ceo elonmusk shanghai mayor ying yong te...          318   \n",
       "4142690  test product car ever crack second mph tesla s...          280   \n",
       "4301361        caption pleasetsla cybertruckvia teflongeek          276   \n",
       "1336141  trillion dollar tuesday appl close histor valu...          213   \n",
       "1568450  hatr aapl reject idea help custom healthcar wa...          204   \n",
       "\n",
       "         retweet_num  like_num  tweet_activity  sentiment  blob_polarity  \\\n",
       "4002464            0         0             318          2              2   \n",
       "4142690            0         0             280          2              2   \n",
       "4301361           27       201             504          2              2   \n",
       "1336141          489       387            1089          2              2   \n",
       "1568450           66       757            1027          2              2   \n",
       "\n",
       "         blob_subjectivity  \n",
       "4002464                  0  \n",
       "4142690                  0  \n",
       "4301361                  0  \n",
       "1336141                  0  \n",
       "1568450                  0  "
      ]
     },
     "execution_count": 256,
     "metadata": {},
     "output_type": "execute_result"
    }
   ],
   "source": [
    "neutralTweets = filterTweets.loc[filterTweets[\"sentiment\"] == 2]\n",
    "neutralTweets.head()"
   ]
  },
  {
   "cell_type": "code",
   "execution_count": 257,
   "metadata": {},
   "outputs": [
    {
     "data": {
      "text/html": [
       "<div>\n",
       "<style scoped>\n",
       "    .dataframe tbody tr th:only-of-type {\n",
       "        vertical-align: middle;\n",
       "    }\n",
       "\n",
       "    .dataframe tbody tr th {\n",
       "        vertical-align: top;\n",
       "    }\n",
       "\n",
       "    .dataframe thead th {\n",
       "        text-align: right;\n",
       "    }\n",
       "</style>\n",
       "<table border=\"1\" class=\"dataframe\">\n",
       "  <thead>\n",
       "    <tr style=\"text-align: right;\">\n",
       "      <th></th>\n",
       "      <th>tweet_id</th>\n",
       "      <th>ticker_symbol</th>\n",
       "      <th>writer</th>\n",
       "      <th>post_date</th>\n",
       "      <th>body</th>\n",
       "      <th>comment_num</th>\n",
       "      <th>retweet_num</th>\n",
       "      <th>like_num</th>\n",
       "      <th>tweet_activity</th>\n",
       "      <th>sentiment</th>\n",
       "      <th>blob_polarity</th>\n",
       "      <th>blob_subjectivity</th>\n",
       "    </tr>\n",
       "  </thead>\n",
       "  <tbody>\n",
       "    <tr>\n",
       "      <th>4002464</th>\n",
       "      <td>1082182633948295168</td>\n",
       "      <td>TSLA</td>\n",
       "      <td>vincent13031925</td>\n",
       "      <td>2019-01-07</td>\n",
       "      <td>tesla ceo elonmusk shanghai mayor ying yong te...</td>\n",
       "      <td>318</td>\n",
       "      <td>0</td>\n",
       "      <td>0</td>\n",
       "      <td>318</td>\n",
       "      <td>2</td>\n",
       "      <td>2</td>\n",
       "      <td>0</td>\n",
       "    </tr>\n",
       "    <tr>\n",
       "      <th>4142690</th>\n",
       "      <td>1126183436144795649</td>\n",
       "      <td>TSLA</td>\n",
       "      <td>TeslaNY</td>\n",
       "      <td>2019-05-08</td>\n",
       "      <td>test product car ever crack second mph tesla s...</td>\n",
       "      <td>280</td>\n",
       "      <td>0</td>\n",
       "      <td>0</td>\n",
       "      <td>280</td>\n",
       "      <td>2</td>\n",
       "      <td>2</td>\n",
       "      <td>0</td>\n",
       "    </tr>\n",
       "    <tr>\n",
       "      <th>4301361</th>\n",
       "      <td>1197894016358060032</td>\n",
       "      <td>TSLA</td>\n",
       "      <td>carlquintanilla</td>\n",
       "      <td>2019-11-22</td>\n",
       "      <td>caption pleasetsla cybertruckvia teflongeek</td>\n",
       "      <td>276</td>\n",
       "      <td>27</td>\n",
       "      <td>201</td>\n",
       "      <td>504</td>\n",
       "      <td>2</td>\n",
       "      <td>2</td>\n",
       "      <td>0</td>\n",
       "    </tr>\n",
       "    <tr>\n",
       "      <th>1336141</th>\n",
       "      <td>993863874406420481</td>\n",
       "      <td>AAPL</td>\n",
       "      <td>philstockworld</td>\n",
       "      <td>2018-05-08</td>\n",
       "      <td>trillion dollar tuesday appl close histor valu...</td>\n",
       "      <td>213</td>\n",
       "      <td>489</td>\n",
       "      <td>387</td>\n",
       "      <td>1089</td>\n",
       "      <td>2</td>\n",
       "      <td>2</td>\n",
       "      <td>0</td>\n",
       "    </tr>\n",
       "    <tr>\n",
       "      <th>1568450</th>\n",
       "      <td>1087700913752600576</td>\n",
       "      <td>AAPL</td>\n",
       "      <td>jimcramer</td>\n",
       "      <td>2019-01-22</td>\n",
       "      <td>hatr aapl reject idea help custom healthcar wa...</td>\n",
       "      <td>204</td>\n",
       "      <td>66</td>\n",
       "      <td>757</td>\n",
       "      <td>1027</td>\n",
       "      <td>2</td>\n",
       "      <td>2</td>\n",
       "      <td>0</td>\n",
       "    </tr>\n",
       "  </tbody>\n",
       "</table>\n",
       "</div>"
      ],
      "text/plain": [
       "                    tweet_id ticker_symbol           writer  post_date  \\\n",
       "4002464  1082182633948295168          TSLA  vincent13031925 2019-01-07   \n",
       "4142690  1126183436144795649          TSLA          TeslaNY 2019-05-08   \n",
       "4301361  1197894016358060032          TSLA  carlquintanilla 2019-11-22   \n",
       "1336141   993863874406420481          AAPL   philstockworld 2018-05-08   \n",
       "1568450  1087700913752600576          AAPL        jimcramer 2019-01-22   \n",
       "\n",
       "                                                      body  comment_num  \\\n",
       "4002464  tesla ceo elonmusk shanghai mayor ying yong te...          318   \n",
       "4142690  test product car ever crack second mph tesla s...          280   \n",
       "4301361        caption pleasetsla cybertruckvia teflongeek          276   \n",
       "1336141  trillion dollar tuesday appl close histor valu...          213   \n",
       "1568450  hatr aapl reject idea help custom healthcar wa...          204   \n",
       "\n",
       "         retweet_num  like_num  tweet_activity  sentiment  blob_polarity  \\\n",
       "4002464            0         0             318          2              2   \n",
       "4142690            0         0             280          2              2   \n",
       "4301361           27       201             504          2              2   \n",
       "1336141          489       387            1089          2              2   \n",
       "1568450           66       757            1027          2              2   \n",
       "\n",
       "         blob_subjectivity  \n",
       "4002464                  0  \n",
       "4142690                  0  \n",
       "4301361                  0  \n",
       "1336141                  0  \n",
       "1568450                  0  "
      ]
     },
     "execution_count": 257,
     "metadata": {},
     "output_type": "execute_result"
    }
   ],
   "source": [
    "neutralTweetsLemma = filterTweetsLemma.loc[filterTweetsLemma[\"sentiment\"] == 2]\n",
    "neutralTweetsLemma.head()"
   ]
  },
  {
   "attachments": {},
   "cell_type": "markdown",
   "metadata": {},
   "source": [
    "### Splitting up data for Prediction using ensemble machine learning models For Blob Subjectivity and Polarity Analysis"
   ]
  },
  {
   "cell_type": "code",
   "execution_count": 258,
   "metadata": {},
   "outputs": [],
   "source": [
    "X = filterTweets[\"body\"].values #[\"ticker_symbol\",\"writer\" , \"body\"]\n",
    "y = filterTweets[\"blob_polarity\"].values\n",
    "X_train, X_test, y_train, y_test = train_test_split(\n",
    "    X, y, test_size=0.20, random_state=0)"
   ]
  },
  {
   "cell_type": "code",
   "execution_count": 259,
   "metadata": {},
   "outputs": [],
   "source": [
    "X_lemma = filterTweetsLemma[\"body\"].values #[\"ticker_symbol\",\"writer\" , \"body\"]\n",
    "y_lemma = filterTweetsLemma[\"blob_polarity\"].values\n",
    "X_train_lemma, X_test_lemma, y_train_lemma, y_test_lemma = train_test_split(\n",
    "    X_lemma, y_lemma, test_size=0.20, random_state=0)"
   ]
  },
  {
   "cell_type": "code",
   "execution_count": 260,
   "metadata": {},
   "outputs": [],
   "source": [
    "X_subj = filterTweets[\"body\"].values #[\"ticker_symbol\",\"writer\" , \"body\"]\n",
    "y_subj = filterTweets[\"blob_subjectivity\"].values\n",
    "X_train_subj, X_test_subj, y_train_subj, y_test_subj = train_test_split(\n",
    "    X_subj, y_subj, test_size=0.20, random_state=0)"
   ]
  },
  {
   "cell_type": "code",
   "execution_count": 261,
   "metadata": {},
   "outputs": [],
   "source": [
    "X_subj_lemma = filterTweetsLemma[\"body\"].values #[\"ticker_symbol\",\"writer\" , \"body\"]\n",
    "y_subj_lemma = filterTweetsLemma[\"blob_subjectivity\"].values\n",
    "X_train_subj_lemma, X_test_subj_lemma, y_train_subj_lemma, y_test_subj_lemma = train_test_split(\n",
    "    X_subj_lemma, y_subj_lemma, test_size=0.20, random_state=0)"
   ]
  },
  {
   "cell_type": "code",
   "execution_count": 262,
   "metadata": {},
   "outputs": [
    {
     "data": {
      "text/plain": [
       "'instead get annoy press ignor jeff dahn research million mile batteri ive decid enjoy think year think back way help acceler transit clean transportationenergytesla tsla'"
      ]
     },
     "execution_count": 262,
     "metadata": {},
     "output_type": "execute_result"
    }
   ],
   "source": [
    "X_train[0]\n"
   ]
  },
  {
   "cell_type": "code",
   "execution_count": 263,
   "metadata": {},
   "outputs": [
    {
     "data": {
      "text/plain": [
       "'great writeup potenti recoveri bondhold bankruptci best luck think bull think equiti worth cent tslaq'"
      ]
     },
     "execution_count": 263,
     "metadata": {},
     "output_type": "execute_result"
    }
   ],
   "source": [
    "X_test[0]"
   ]
  },
  {
   "cell_type": "code",
   "execution_count": 264,
   "metadata": {},
   "outputs": [
    {
     "data": {
      "text/plain": [
       "1"
      ]
     },
     "execution_count": 264,
     "metadata": {},
     "output_type": "execute_result"
    }
   ],
   "source": [
    "y_train[0]\n"
   ]
  },
  {
   "cell_type": "code",
   "execution_count": 265,
   "metadata": {},
   "outputs": [
    {
     "data": {
      "text/plain": [
       "1"
      ]
     },
     "execution_count": 265,
     "metadata": {},
     "output_type": "execute_result"
    }
   ],
   "source": [
    "y_test[0]\n"
   ]
  },
  {
   "cell_type": "code",
   "execution_count": 266,
   "metadata": {},
   "outputs": [
    {
     "data": {
      "text/plain": [
       "1    16663\n",
       "2    14883\n",
       "0    10079\n",
       "Name: sentiment, dtype: int64"
      ]
     },
     "execution_count": 266,
     "metadata": {},
     "output_type": "execute_result"
    }
   ],
   "source": [
    "filterTweets[\"sentiment\"].value_counts()"
   ]
  },
  {
   "cell_type": "code",
   "execution_count": 273,
   "metadata": {},
   "outputs": [],
   "source": [
    "def metric_report(y_test,y_pred,time):\n",
    "    accuracy = accuracy_score(y_test,y_pred)\n",
    "    fmeasure = f1_score(y_test,y_pred, average = \"weighted\")\n",
    "    recall = recall_score(y_test, y_pred, average = \"weighted\")\n",
    "    precision = precision_score(y_test, y_pred, average = \"weighted\")\n",
    "    print(f\"The accuracy of the Model is {accuracy}\")\n",
    "    print(f\"The F-Score of the Model is {fmeasure}\")\n",
    "    print(f\"The Recall of the Model is {recall}\")\n",
    "    print(f\"The precision of the Model is {precision}\")\n",
    "    print(f\"The time taken for the Model is {time} seconds\")\n",
    "    return {\"accuracy\": accuracy,\n",
    "            \"fmeasure\": fmeasure,\n",
    "            \"recall\": recall,\n",
    "            \"precision\": precision,\n",
    "            \"time\": time}"
   ]
  },
  {
   "attachments": {},
   "cell_type": "markdown",
   "metadata": {},
   "source": [
    "### Vectorise and TFIDF train and test datas"
   ]
  },
  {
   "cell_type": "code",
   "execution_count": 268,
   "metadata": {},
   "outputs": [],
   "source": [
    "from sklearn.feature_extraction.text import CountVectorizer\n",
    "from sklearn.feature_extraction.text import TfidfVectorizer\n",
    "from sklearn.naive_bayes import MultinomialNB\n",
    "from sklearn.metrics import accuracy_score"
   ]
  },
  {
   "cell_type": "code",
   "execution_count": 269,
   "metadata": {},
   "outputs": [],
   "source": [
    "# Create Count Vectorizer (TF)\n",
    "vectoriser = CountVectorizer()\n",
    "\n",
    "# For opinionated Dataset and blob analysis dataset that have been stemmed\n",
    "X_train_opinionated_vec = vectoriser.fit_transform(X_train_opinionated)\n",
    "X_test_opinionated_vec = vectoriser.transform(X_test_opinionated)\n",
    "\n",
    "X_train_vec = vectoriser.fit_transform(X_train)\n",
    "X_test_vec = vectoriser.transform(X_test)\n",
    "\n",
    "# For opinionated Dataset and blob analysis dataset that have been lemmatised\n",
    "X_train_opinionated_lemma_vec = vectoriser.fit_transform(X_train_opinionated_lemma)\n",
    "X_test_opinionated_lemma_vec= vectoriser.transform(X_test_opinionated_lemma)\n",
    "\n",
    "X_train_lemma_vec = vectoriser.fit_transform(X_train_lemma)\n",
    "X_test_lemma_vec = vectoriser.transform(X_test_lemma)\n",
    "\n",
    "# For Subjectivity Blob Analysis \n",
    "X_train_subj_vec = vectoriser.fit_transform(X_train_subj)\n",
    "X_test_subj_vec = vectoriser.transform(X_test_subj)\n",
    "\n",
    "X_train_subj_lemma_vec = vectoriser.fit_transform(X_train_subj_lemma)\n",
    "X_test_subj_lemma_vec = vectoriser.transform(X_test_subj_lemma)\n",
    "\n",
    "\n",
    "# Create TFID Vectorizer \n",
    "vectoriser_tfidf = TfidfVectorizer()\n",
    "# For opinionated Dataset and blob analysis dataset that have been stemmed\n",
    "X_train_opinionated_tfidf = vectoriser_tfidf.fit_transform(X_train_opinionated)\n",
    "X_test_opinionated_tfidf = vectoriser_tfidf.transform(X_test_opinionated)\n",
    "\n",
    "X_train_tfidf = vectoriser_tfidf.fit_transform(X_train)\n",
    "X_test_tfidf = vectoriser_tfidf.transform(X_test)\n",
    "# For opinionated Dataset and blob analysis dataset  that have been lemmatised\n",
    "X_train_opinionated_lemma_tfidf = vectoriser_tfidf.fit_transform(X_train_opinionated_lemma)\n",
    "X_test_opinionated_lemma_tfidf = vectoriser_tfidf.transform(X_test_opinionated_lemma)\n",
    "\n",
    "X_train_lemma_tfidf = vectoriser_tfidf.fit_transform(X_train_lemma)\n",
    "X_test_lemma_tfidf = vectoriser_tfidf.transform(X_test_lemma)\n",
    "\n",
    "# For Subjectivity Blob Analysis \n",
    "X_train_subj_tfidf = vectoriser_tfidf.fit_transform(X_train_subj)\n",
    "X_test_subj_tfidf = vectoriser_tfidf.transform(X_test_subj)\n",
    "\n",
    "\n",
    "X_train_subj_lemma_tfidf = vectoriser_tfidf.fit_transform(X_train_subj_lemma)\n",
    "X_test_subj_lemma_tfidf = vectoriser_tfidf.transform(X_test_subj_lemma)\n",
    "\n",
    "\n"
   ]
  },
  {
   "attachments": {},
   "cell_type": "markdown",
   "metadata": {},
   "source": [
    "## Machine Learnining Model for NLTK Sentimental Analysis"
   ]
  },
  {
   "attachments": {},
   "cell_type": "markdown",
   "metadata": {},
   "source": [
    "## Polarity Detection"
   ]
  },
  {
   "attachments": {},
   "cell_type": "markdown",
   "metadata": {},
   "source": [
    "### Create a Naive_bayes Model"
   ]
  },
  {
   "attachments": {},
   "cell_type": "markdown",
   "metadata": {},
   "source": [
    "#### Vectorised Stemmed and Lemmatised Dataset"
   ]
  },
  {
   "cell_type": "code",
   "execution_count": 270,
   "metadata": {},
   "outputs": [],
   "source": [
    "metric_results = {}"
   ]
  },
  {
   "cell_type": "code",
   "execution_count": 277,
   "metadata": {},
   "outputs": [
    {
     "name": "stdout",
     "output_type": "stream",
     "text": [
      "The accuracy of the Model is 0.7054654654654655\n",
      "The F-Score of the Model is 0.7018643848895197\n",
      "The Recall of the Model is 0.7054654654654655\n",
      "The precision of the Model is 0.7332712171509903\n",
      "The time taken for the Model is 0.008980512619018555 seconds\n"
     ]
    }
   ],
   "source": [
    "\n",
    "# Stemmed Dataset\n",
    "# Train the model using Naive Bayes algorithm\n",
    "clf = MultinomialNB()\n",
    "start_time = time.time()\n",
    "clf.fit(X_train_opinionated_vec, y_train_opinionated)\n",
    "\n",
    "# Make predictions on test data\n",
    "y_pred = clf.predict(X_test_opinionated_vec)\n",
    "end_time = time.time()\n",
    "time_taken = end_time - start_time\n",
    "# Evaluate the model using accuracy score\n",
    "metric_results[\"stemmed_nltk_nb_model_vec\"] = metric_report(y_test_opinionated,y_pred,time_taken)"
   ]
  },
  {
   "cell_type": "code",
   "execution_count": 278,
   "metadata": {},
   "outputs": [
    {
     "name": "stdout",
     "output_type": "stream",
     "text": [
      "The accuracy of the Model is 0.7054654654654655\n",
      "The F-Score of the Model is 0.7018643848895197\n",
      "The Recall of the Model is 0.7054654654654655\n",
      "The precision of the Model is 0.7332712171509903\n",
      "The time taken for the Model is 0.00897669792175293 seconds\n"
     ]
    }
   ],
   "source": [
    "# Lemmatised Dataset\n",
    "# Train the model using Naive Bayes algorithm\n",
    "clf = MultinomialNB()\n",
    "start_time = time.time()\n",
    "clf.fit(X_train_opinionated_lemma_vec, y_train_opinionated_lemma)\n",
    "\n",
    "# Make predictions on test data\n",
    "y_pred = clf.predict(X_test_opinionated_lemma_vec)\n",
    "end_time = time.time()\n",
    "time_taken = end_time - start_time\n",
    "# Evaluate the model using accuracy score\n",
    "\n",
    "metric_results[\"lemmatised_nltk_nb_model_vec\"] = metric_report(y_test_opinionated_lemma,y_pred,time_taken)"
   ]
  },
  {
   "cell_type": "markdown",
   "metadata": {},
   "source": [
    "### TFIDF Stemmed and Lemmatised Dataset"
   ]
  },
  {
   "cell_type": "code",
   "execution_count": 279,
   "metadata": {},
   "outputs": [
    {
     "name": "stdout",
     "output_type": "stream",
     "text": [
      "The accuracy of the Model is 0.6147747747747748\n",
      "The F-Score of the Model is 0.5855929678555499\n",
      "The Recall of the Model is 0.6147747747747748\n",
      "The precision of the Model is 0.734270022612147\n",
      "The time taken for the Model is 0.01496267318725586 seconds\n"
     ]
    }
   ],
   "source": [
    "# Stemmed Dataset\n",
    "# Train the model using Naive Bayes algorithm\n",
    "clf = MultinomialNB()\n",
    "start_time = time.time()\n",
    "clf.fit(X_train_opinionated_tfidf, y_train_opinionated)\n",
    "\n",
    "# Make predictions on test data\n",
    "y_pred = clf.predict(X_test_opinionated_tfidf)\n",
    "end_time = time.time()\n",
    "time_taken = end_time - start_time\n",
    "\n",
    "# Evaluate the model using accuracy score\n",
    "metric_results[\"stemmed_nltk_nb_model_tfidf\"] = metric_report(y_test_opinionated,y_pred,time_taken)"
   ]
  },
  {
   "cell_type": "code",
   "execution_count": 280,
   "metadata": {},
   "outputs": [
    {
     "name": "stdout",
     "output_type": "stream",
     "text": [
      "The accuracy of the Model is 0.6147747747747748\n",
      "The F-Score of the Model is 0.5855929678555499\n",
      "The Recall of the Model is 0.6147747747747748\n",
      "The precision of the Model is 0.734270022612147\n",
      "The time taken for the Model is 0.013478279113769531 seconds\n"
     ]
    }
   ],
   "source": [
    "# Lemmatised Dataset\n",
    "# Train the model using Naive Bayes algorithm\n",
    "clf = MultinomialNB()\n",
    "start_time = time.time()\n",
    "clf.fit(X_train_opinionated_lemma_tfidf, y_train_opinionated_lemma)\n",
    "\n",
    "# Make predictions on test data\n",
    "y_pred = clf.predict(X_test_opinionated_lemma_tfidf)\n",
    "end_time = time.time()\n",
    "time_taken =  end_time - start_time\n",
    "# Evaluate the model using accuracy score\n",
    "metric_results[\"lemmatised_nltk_nb_model_tfidf\"] = metric_report(y_test_opinionated_lemma,y_pred,time_taken)"
   ]
  },
  {
   "attachments": {},
   "cell_type": "markdown",
   "metadata": {},
   "source": [
    "### Decision Tree Classifier Model"
   ]
  },
  {
   "attachments": {},
   "cell_type": "markdown",
   "metadata": {},
   "source": [
    "#### Vectorised Decision Tree"
   ]
  },
  {
   "cell_type": "code",
   "execution_count": 281,
   "metadata": {},
   "outputs": [
    {
     "name": "stdout",
     "output_type": "stream",
     "text": [
      "The accuracy of the Model is 0.885045045045045\n",
      "The F-Score of the Model is 0.8847082066342183\n",
      "The Recall of the Model is 0.885045045045045\n",
      "The precision of the Model is 0.8848423347220836\n",
      "The time taken for the Model is 17.751203298568726 seconds\n"
     ]
    }
   ],
   "source": [
    "# Stemmed Dataset\n",
    "clf = DecisionTreeClassifier()\n",
    "start_time = time.time()\n",
    "clf.fit(X_train_opinionated_vec,y_train_opinionated)\n",
    "\n",
    "y_pred = clf.predict(X_test_opinionated_vec)\n",
    "end_time = time.time()\n",
    "time_taken = end_time - start_time\n",
    "\n",
    "metric_results[\"stemmed_nltk_dt_model_vec\"] = metric_report(y_test_opinionated,y_pred, time_taken)\n"
   ]
  },
  {
   "cell_type": "code",
   "execution_count": 287,
   "metadata": {},
   "outputs": [
    {
     "name": "stdout",
     "output_type": "stream",
     "text": [
      "The accuracy of the Model is 0.8874474474474474\n",
      "The F-Score of the Model is 0.8870953461123666\n",
      "The Recall of the Model is 0.8874474474474474\n",
      "The precision of the Model is 0.8872023695452472\n",
      "The time taken for the Model is 18.54646062850952 seconds\n"
     ]
    }
   ],
   "source": [
    "# Lemmatised Dataset\n",
    "\n",
    "clf = DecisionTreeClassifier()\n",
    "start_time =  time.time()\n",
    "clf.fit(X_train_opinionated_lemma_vec,y_train_opinionated_lemma)\n",
    "\n",
    "y_pred = clf.predict(X_test_opinionated_lemma_vec)\n",
    "end_time = time.time()\n",
    "time_taken =  end_time - start_time\n",
    "\n",
    "metric_results[\"lemmatised_nltk_dt_model_vec\"] = metric_report(y_test_opinionated_lemma,y_pred,time_taken)"
   ]
  },
  {
   "cell_type": "markdown",
   "metadata": {},
   "source": [
    "#### TFIDF Decision Tree"
   ]
  },
  {
   "cell_type": "code",
   "execution_count": 288,
   "metadata": {},
   "outputs": [
    {
     "name": "stdout",
     "output_type": "stream",
     "text": [
      "The accuracy of the Model is 0.8258258258258259\n",
      "The F-Score of the Model is 0.8233959022439482\n",
      "The Recall of the Model is 0.8258258258258259\n",
      "The precision of the Model is 0.8228847425653023\n",
      "The time taken for the Model is 20.49320411682129 seconds\n"
     ]
    }
   ],
   "source": [
    "# Stemmed Dataset\n",
    "clf = DecisionTreeClassifier()\n",
    "start_time = time.time()\n",
    "clf.fit(X_train_opinionated_tfidf,y_train_opinionated)\n",
    "\n",
    "y_pred = clf.predict(X_test_opinionated_tfidf)\n",
    "end_time = time.time()\n",
    "time_taken = end_time - start_time\n",
    "\n",
    "metric_results[\"stemmed_nltk_dt_model_tfidf\"] = metric_report(y_test_opinionated,y_pred,time_taken)"
   ]
  },
  {
   "cell_type": "code",
   "execution_count": 289,
   "metadata": {},
   "outputs": [
    {
     "name": "stdout",
     "output_type": "stream",
     "text": [
      "The accuracy of the Model is 0.8282282282282283\n",
      "The F-Score of the Model is 0.8258536594883132\n",
      "The Recall of the Model is 0.8282282282282283\n",
      "The precision of the Model is 0.8253945321163726\n",
      "The time taken for the Model is 20.424840211868286 seconds\n"
     ]
    }
   ],
   "source": [
    "# Lemmatised Dataset\n",
    "clf = DecisionTreeClassifier()\n",
    "start_time = time.time()\n",
    "clf.fit(X_train_opinionated_lemma_tfidf,y_train_opinionated_lemma)\n",
    "\n",
    "y_pred = clf.predict(X_test_opinionated_lemma_tfidf)\n",
    "end_time = time.time()\n",
    "time_taken = end_time - start_time\n",
    "metric_results[\"lemmatised_nltk_dt_model_vec\"] = metric_report(y_test_opinionated_lemma,y_pred,time_taken)"
   ]
  },
  {
   "attachments": {},
   "cell_type": "markdown",
   "metadata": {},
   "source": [
    "### Create a Ensemble Learning Classifier\n"
   ]
  },
  {
   "cell_type": "code",
   "execution_count": 290,
   "metadata": {},
   "outputs": [],
   "source": [
    "from sklearn.ensemble import VotingClassifier\n",
    "from sklearn.ensemble import RandomForestClassifier\n",
    "from sklearn.svm import SVC"
   ]
  },
  {
   "attachments": {},
   "cell_type": "markdown",
   "metadata": {},
   "source": [
    "#### Vectoriser Stemmed and Lemmatised Ensemble Learning Classifier"
   ]
  },
  {
   "cell_type": "code",
   "execution_count": 291,
   "metadata": {},
   "outputs": [
    {
     "name": "stdout",
     "output_type": "stream",
     "text": [
      "The accuracy of the Model is 0.889009009009009\n",
      "The F-Score of the Model is 0.8866292322005825\n",
      "The Recall of the Model is 0.889009009009009\n",
      "The precision of the Model is 0.8891346451607183\n",
      "The time taken for the Model is 819.756621837616 seconds\n"
     ]
    }
   ],
   "source": [
    "clf1 = DecisionTreeClassifier()\n",
    "clf2 = RandomForestClassifier()\n",
    "clf3 = SVC()\n",
    "\n",
    "# Create the ensemble classifier\n",
    "ensemble = VotingClassifier(estimators=[('dt', clf1), ('rf', clf2), ('svc', clf3)], voting='hard')\n",
    "\n",
    "start_time = time.time()\n",
    "# Train the ensemble classifier\n",
    "ensemble.fit(X_train_opinionated_vec, y_train_opinionated)\n",
    "\n",
    "# Make predictions on the test set\n",
    "y_pred = ensemble.predict(X_test_opinionated_vec)\n",
    "end_time = time.time()\n",
    "time_taken = end_time - start_time\n",
    "\n",
    "# Evaluate the accuracy of the model\n",
    "metric_results[\"stemmed_nltk_ensemble_model_vec\"] = metric_report(y_test_opinionated,y_pred,time_taken)"
   ]
  },
  {
   "cell_type": "code",
   "execution_count": 292,
   "metadata": {},
   "outputs": [],
   "source": [
    "clf1 = DecisionTreeClassifier()\n",
    "clf2 = RandomForestClassifier()\n",
    "clf3 = SVC()\n",
    "\n",
    "# Create the ensemble classifier\n",
    "ensemble = VotingClassifier(estimators=[('dt', clf1), ('rf', clf2), ('svc', clf3)], voting='hard')\n",
    "\n",
    "start_time =  time.time()\n",
    "# Train the ensemble classifier\n",
    "ensemble.fit(X_train_opinionated_lemma_vec, y_train_opinionated_lemma)\n",
    "\n",
    "# Make predictions on the test set\n",
    "y_pred = ensemble.predict(X_test_opinionated_lemma_vec)\n",
    "end_time = time.time()\n",
    "time_taken =  end_time - start_time\n",
    "# Evaluate the accuracy of the model\n",
    "metric_results[\"lemmatised_nltk_ensemble_model_vec\"] = metric_report(y_test_opinionated_lemma,y_pred,time_taken)"
   ]
  },
  {
   "cell_type": "markdown",
   "metadata": {},
   "source": [
    "#### TFIDF Stemmed and Lemmatised Ensemble Learning Classifier"
   ]
  },
  {
   "cell_type": "code",
   "execution_count": null,
   "metadata": {},
   "outputs": [
    {
     "name": "stdout",
     "output_type": "stream",
     "text": [
      "The accuracy of the Model is 0.8791591591591592\n",
      "The F-Score of the Model is 0.8762039783055441\n",
      "The Recall of the Model is 0.8791591591591592\n",
      "The precision of the Model is 0.8798045768571\n"
     ]
    }
   ],
   "source": [
    "clf1 = DecisionTreeClassifier()\n",
    "clf2 = RandomForestClassifier()\n",
    "clf3 = SVC()\n",
    "\n",
    "# Create the ensemble classifier\n",
    "ensemble = VotingClassifier(estimators=[('dt', clf1), ('rf', clf2), ('svc', clf3)], voting='hard')\n",
    "start_time = time.time()\n",
    "\n",
    "# Train the ensemble classifier\n",
    "ensemble.fit(X_train_opinionated_tfidf, y_train_opinionated)\n",
    "\n",
    "# Make predictions on the test set\n",
    "y_pred = ensemble.predict(X_test_opinionated_tfidf)\n",
    "\n",
    "end_time = time.time()\n",
    "time_taken =  end_time - start_time\n",
    "# Evaluate the accuracy of the model\n",
    "metric_results[\"stemmed_nltk_ensemble_model_tfidf\"] = metric_report(y_test_opinionated,y_pred,time_taken)"
   ]
  },
  {
   "cell_type": "code",
   "execution_count": null,
   "metadata": {},
   "outputs": [
    {
     "name": "stdout",
     "output_type": "stream",
     "text": [
      "The accuracy of the Model is 0.877957957957958\n",
      "The F-Score of the Model is 0.8751548347908329\n",
      "The Recall of the Model is 0.877957957957958\n",
      "The precision of the Model is 0.8781368317610833\n"
     ]
    }
   ],
   "source": [
    "clf1 = DecisionTreeClassifier()\n",
    "clf2 = RandomForestClassifier()\n",
    "clf3 = SVC()\n",
    "\n",
    "# Create the ensemble classifier\n",
    "ensemble = VotingClassifier(estimators=[('dt', clf1), ('rf', clf2), ('svc', clf3)], voting='hard')\n",
    "start_time = time.time()\n",
    "\n",
    "# Train the ensemble classifier\n",
    "ensemble.fit(X_train_opinionated_lemma_tfidf, y_train_opinionated_lemma)\n",
    "\n",
    "# Make predictions on the test set\n",
    "y_pred = ensemble.predict(X_test_opinionated_lemma_tfidf)\n",
    "end_time = time.time()\n",
    "time_taken =  end_time - start_time\n",
    "\n",
    "# Evaluate the accuracy of the model\n",
    "metric_results[\"lemmatised_nltk_ensemble_model_tfidf\"] = metric_report(y_test_opinionated,y_pred,time_taken)"
   ]
  },
  {
   "attachments": {},
   "cell_type": "markdown",
   "metadata": {},
   "source": [
    "### Support Vector Machine Models\n"
   ]
  },
  {
   "attachments": {},
   "cell_type": "markdown",
   "metadata": {},
   "source": [
    "#### SVM for Stemmed and Lemmatised Vectorised Dataset"
   ]
  },
  {
   "cell_type": "code",
   "execution_count": null,
   "metadata": {},
   "outputs": [
    {
     "name": "stdout",
     "output_type": "stream",
     "text": [
      "The accuracy of the Model is 0.8646246246246246\n",
      "The F-Score of the Model is 0.8620136771074409\n",
      "The Recall of the Model is 0.8646246246246246\n",
      "The precision of the Model is 0.865907932511726\n"
     ]
    }
   ],
   "source": [
    "# Stemmed Dataset with vectorised\n",
    "from sklearn import svm\n",
    "clf = svm.SVC(kernel = \"rbf\",random_state = 1)\n",
    "start_time = time.time()\n",
    "clf.fit(X_train_opinionated_vec,y_train_opinionated)\n",
    "\n",
    "svm_pred = clf.predict(X_test_opinionated_vec)\n",
    "end_time = time.time()\n",
    "time_taken =  end_time - start_time\n",
    "metric_results[\"stemmed_nltk_svm_model_vec\"] = metric_report(y_test_opinionated,svm_pred,time_taken)"
   ]
  },
  {
   "cell_type": "code",
   "execution_count": null,
   "metadata": {},
   "outputs": [
    {
     "name": "stdout",
     "output_type": "stream",
     "text": [
      "The accuracy of the Model is 0.8646246246246246\n",
      "The F-Score of the Model is 0.8620136771074409\n",
      "The Recall of the Model is 0.8646246246246246\n",
      "The precision of the Model is 0.865907932511726\n"
     ]
    }
   ],
   "source": [
    "# Lemmatised Dataset with vectorised\n",
    "from sklearn import svm\n",
    "clf = svm.SVC(kernel = \"rbf\",random_state = 1)\n",
    "start_time = time.time()\n",
    "clf.fit(X_train_opinionated_lemma_vec,y_train_opinionated_lemma)\n",
    "\n",
    "svm_pred = clf.predict(X_test_opinionated_lemma_vec)\n",
    "end_time = time.time()\n",
    "time_taken = end_time - start_time\n",
    "metric_results[\"lemmatised_nltk_svm_model_vec\"]= metric_report(y_test_opinionated_lemma,svm_pred,time_taken)"
   ]
  },
  {
   "attachments": {},
   "cell_type": "markdown",
   "metadata": {},
   "source": [
    "#### SVM for  Stemmed and Lemmatised TFIDF Dataset"
   ]
  },
  {
   "cell_type": "code",
   "execution_count": null,
   "metadata": {},
   "outputs": [
    {
     "name": "stdout",
     "output_type": "stream",
     "text": [
      "The accuracy of the Model is 0.8820420420420421\n",
      "The F-Score of the Model is 0.8802140136957307\n",
      "The Recall of the Model is 0.8820420420420421\n",
      "The precision of the Model is 0.8827941980829496\n"
     ]
    }
   ],
   "source": [
    "# Stemmed Dataset with TFIDF\n",
    "from sklearn import svm\n",
    "clf = svm.SVC(kernel = \"rbf\",random_state = 1)\n",
    "start_time = time.time()\n",
    "clf.fit(X_train_opinionated_tfidf,y_train_opinionated)\n",
    "\n",
    "svm_pred = clf.predict(X_test_opinionated_tfidf)\n",
    "end_time = time.time()\n",
    "time_taken = end_time - start_time\n",
    "metric_results[\"stemmed_nltk_svm_model_tfidf\"] = metric_report(y_test_opinionated,svm_pred,time_taken)"
   ]
  },
  {
   "cell_type": "code",
   "execution_count": null,
   "metadata": {},
   "outputs": [
    {
     "name": "stdout",
     "output_type": "stream",
     "text": [
      "The accuracy of the Model is 0.8820420420420421\n",
      "The F-Score of the Model is 0.8802140136957307\n",
      "The Recall of the Model is 0.8820420420420421\n",
      "The precision of the Model is 0.8827941980829496\n"
     ]
    }
   ],
   "source": [
    "# Lemmatised Dataset with TFIDF\n",
    "from sklearn import svm\n",
    "clf = svm.SVC(kernel = \"rbf\",random_state = 1)\n",
    "start_time = time.time()\n",
    "clf.fit(X_train_opinionated_lemma_tfidf,y_train_opinionated_lemma)\n",
    "\n",
    "svm_pred = clf.predict(X_test_opinionated_lemma_tfidf)\n",
    "end_time = time.time()\n",
    "time_taken = end_time - start_time\n",
    "metric_results[\"lemmatised_nltk_svm_model_tfidf\"]= metric_report(y_test_opinionated_lemma,svm_pred,time_taken)"
   ]
  },
  {
   "attachments": {},
   "cell_type": "markdown",
   "metadata": {},
   "source": [
    "### Neural Network"
   ]
  },
  {
   "attachments": {},
   "cell_type": "markdown",
   "metadata": {},
   "source": [
    "#### Lemmatised and Stemmed Dataset that uses Vectorise"
   ]
  },
  {
   "cell_type": "code",
   "execution_count": null,
   "metadata": {},
   "outputs": [
    {
     "name": "stdout",
     "output_type": "stream",
     "text": [
      "The accuracy of the Model is 0.8974174174174174\n",
      "The F-Score of the Model is 0.8969378816815435\n",
      "The Recall of the Model is 0.8974174174174174\n",
      "The precision of the Model is 0.8968173134889869\n"
     ]
    }
   ],
   "source": [
    "# Stemmed Dataset with vectorised\n",
    "from sklearn.neural_network import MLPClassifier\n",
    "\n",
    "clf = MLPClassifier(solver = \"lbfgs\", alpha = 1e-5, \n",
    "                    hidden_layer_sizes =(128,), random_state=1, max_iter = 1000)\n",
    "start_time = time.time()\n",
    "\n",
    "clf.fit(X_train_opinionated_vec,y_train_opinionated)\n",
    "nn_pred = clf.predict(X_test_opinionated_vec)\n",
    "\n",
    "end_time = time.time()\n",
    "time_taken =  end_time - start_time\n",
    "metric_results[\"stemmed_nltk_nn_model_vec\"] = metric_report(y_test_opinionated,nn_pred,time_taken)\n"
   ]
  },
  {
   "cell_type": "code",
   "execution_count": null,
   "metadata": {},
   "outputs": [
    {
     "name": "stdout",
     "output_type": "stream",
     "text": [
      "The accuracy of the Model is 0.8974174174174174\n",
      "The F-Score of the Model is 0.8969378816815435\n",
      "The Recall of the Model is 0.8974174174174174\n",
      "The precision of the Model is 0.8968173134889869\n"
     ]
    }
   ],
   "source": [
    "# Lemmatised Dataset with vectorised\n",
    "from sklearn.neural_network import MLPClassifier\n",
    "\n",
    "clf = MLPClassifier(solver = \"lbfgs\", alpha = 1e-5, \n",
    "                    hidden_layer_sizes =(128,), random_state=1, max_iter = 1000)\n",
    "start_time = time.time()\n",
    "\n",
    "clf.fit(X_train_opinionated_lemma_vec,y_train_opinionated_lemma)\n",
    "nn_pred = clf.predict(X_test_opinionated_lemma_vec)\n",
    "\n",
    "end_time = time.time()\n",
    "time_taken = end_time - start_time\n",
    "\n",
    "metric_results[\"lemmatised_nltk_nn_model_vec\"] = metric_report(y_test_opinionated_lemma,nn_pred,time_taken)"
   ]
  },
  {
   "attachments": {},
   "cell_type": "markdown",
   "metadata": {},
   "source": [
    "#### Lemmatised and Stemmed Dataset that uses TFIDF"
   ]
  },
  {
   "cell_type": "code",
   "execution_count": null,
   "metadata": {},
   "outputs": [
    {
     "name": "stdout",
     "output_type": "stream",
     "text": [
      "The accuracy of the Model is 0.8421621621621621\n",
      "The F-Score of the Model is 0.8418575161484353\n",
      "The Recall of the Model is 0.8421621621621621\n",
      "The precision of the Model is 0.8416475578655831\n"
     ]
    }
   ],
   "source": [
    "# Stemmed Dataset with vectorised\n",
    "from sklearn.neural_network import MLPClassifier\n",
    "\n",
    "clf = MLPClassifier(solver = \"lbfgs\", alpha = 1e-5, \n",
    "                    hidden_layer_sizes =(128,), random_state=1, max_iter = 1000)\n",
    "start_time = time.time()\n",
    "\n",
    "clf.fit(X_train_opinionated_tfidf,y_train_opinionated)\n",
    "nn_pred = clf.predict(X_test_opinionated_tfidf)\n",
    "end_time = time.time()\n",
    "time_taken = end_time - start_time\n",
    "\n",
    "metric_results[\"stemmed_nltk_nn_model_tfidf\"] = metric_report(y_test_opinionated,nn_pred,time_taken)"
   ]
  },
  {
   "cell_type": "code",
   "execution_count": null,
   "metadata": {},
   "outputs": [
    {
     "name": "stdout",
     "output_type": "stream",
     "text": [
      "The accuracy of the Model is 0.8421621621621621\n",
      "The F-Score of the Model is 0.8418575161484353\n",
      "The Recall of the Model is 0.8421621621621621\n",
      "The precision of the Model is 0.8416475578655831\n"
     ]
    }
   ],
   "source": [
    "# Lemmatised Dataset with vectorised\n",
    "from sklearn.neural_network import MLPClassifier\n",
    "\n",
    "clf = MLPClassifier(solver = \"lbfgs\", alpha = 1e-5, \n",
    "                    hidden_layer_sizes =(128,), random_state=1, max_iter = 1000)\n",
    "start_time = time.time()\n",
    "clf.fit(X_train_opinionated_lemma_tfidf,y_train_opinionated_lemma)\n",
    "nn_pred = clf.predict(X_test_opinionated_lemma_tfidf)\n",
    "\n",
    "end_time = time.time()\n",
    "time_taken =  end_time - start_time\n",
    "metric_results[\"lemmatised_nltk_nn_model_tfidf\"] = metric_report(y_test_opinionated_lemma,nn_pred,time_taken)"
   ]
  },
  {
   "attachments": {},
   "cell_type": "markdown",
   "metadata": {},
   "source": [
    "## Doing up Machine Learning Models for TextBlob Analysis"
   ]
  },
  {
   "attachments": {},
   "cell_type": "markdown",
   "metadata": {},
   "source": [
    "## Subjectivity Prediction"
   ]
  },
  {
   "attachments": {},
   "cell_type": "markdown",
   "metadata": {},
   "source": [
    "### Naive Bayes ML Model"
   ]
  },
  {
   "attachments": {},
   "cell_type": "markdown",
   "metadata": {},
   "source": [
    "#### Create TFIDF and CountVectorisers Stemmed and Lemmatised dataset"
   ]
  },
  {
   "cell_type": "code",
   "execution_count": null,
   "metadata": {},
   "outputs": [
    {
     "name": "stdout",
     "output_type": "stream",
     "text": [
      "The accuracy of the Model is 0.8518918918918919\n",
      "The F-Score of the Model is 0.8412657012693125\n",
      "The Recall of the Model is 0.8518918918918919\n",
      "The precision of the Model is 0.8455468361536951\n"
     ]
    }
   ],
   "source": [
    "\n",
    "# Train the model using Naive Bayes algorithm\n",
    "clf = MultinomialNB()\n",
    "start_time = time.time()\n",
    "clf.fit(X_train_subj_vec, y_train_subj)\n",
    "\n",
    "# Make predictions on test data\n",
    "y_pred = clf.predict(X_test_subj_vec)\n",
    "end_time = time.time()\n",
    "time_taken =  end_time - start_time\n",
    "\n",
    "# Evaluate the model using accuracy score\n",
    "metric_results[\"stemmed_blob_nb_subj_model_vec\"] = metric_report(y_test_subj,y_pred,time_taken)"
   ]
  },
  {
   "cell_type": "code",
   "execution_count": null,
   "metadata": {},
   "outputs": [
    {
     "name": "stdout",
     "output_type": "stream",
     "text": [
      "The accuracy of the Model is 0.8518918918918919\n",
      "The F-Score of the Model is 0.8412657012693125\n",
      "The Recall of the Model is 0.8518918918918919\n",
      "The precision of the Model is 0.8455468361536951\n"
     ]
    }
   ],
   "source": [
    "\n",
    "# Train the model using Naive Bayes algorithm\n",
    "clf = MultinomialNB()\n",
    "start_time = time.time()\n",
    "clf.fit(X_train_subj_lemma_vec, y_train_subj_lemma)\n",
    "\n",
    "# Make predictions on test data\n",
    "y_pred = clf.predict(X_test_subj_lemma_vec)\n",
    "end_time = time.time()\n",
    "time_taken = end_time - start_time\n",
    "# Evaluate the model using accuracy score\n",
    "metric_results[\"lemmatised_blob_nb_subj_model_vec\"] = metric_report(y_test_subj_lemma,y_pred,time_taken)"
   ]
  },
  {
   "cell_type": "code",
   "execution_count": null,
   "metadata": {},
   "outputs": [
    {
     "name": "stdout",
     "output_type": "stream",
     "text": [
      "The accuracy of the Model is 0.7670870870870871\n",
      "The F-Score of the Model is 0.6736275822619899\n",
      "The Recall of the Model is 0.7670870870870871\n",
      "The precision of the Model is 0.8146682559483895\n"
     ]
    }
   ],
   "source": [
    "\n",
    "# Train the model using Naive Bayes algorithm\n",
    "clf = MultinomialNB()\n",
    "start_time = time.time()\n",
    "clf.fit(X_train_subj_tfidf, y_train_subj)\n",
    "\n",
    "# Make predictions on test data\n",
    "y_pred = clf.predict(X_test_subj_tfidf)\n",
    "end_time = time.time()\n",
    "time_taken = end_time - start_time\n",
    "# Evaluate the model using accuracy score\n",
    "metric_results[\"stemmed_blob_nb_subj_model_tfidf\"] = metric_report(y_test_subj,y_pred,time_taken)"
   ]
  },
  {
   "cell_type": "code",
   "execution_count": null,
   "metadata": {},
   "outputs": [
    {
     "name": "stdout",
     "output_type": "stream",
     "text": [
      "The accuracy of the Model is 0.7670870870870871\n",
      "The F-Score of the Model is 0.6736275822619899\n",
      "The Recall of the Model is 0.7670870870870871\n",
      "The precision of the Model is 0.8146682559483895\n"
     ]
    }
   ],
   "source": [
    "\n",
    "# Train the model using Naive Bayes algorithm\n",
    "clf = MultinomialNB()\n",
    "start_time = time.time()\n",
    "clf.fit(X_train_subj_lemma_tfidf, y_train_subj_lemma)\n",
    "\n",
    "# Make predictions on test data\n",
    "y_pred = clf.predict(X_test_subj_lemma_tfidf)\n",
    "end_time = time.time()\n",
    "time_taken = end_time - start_time\n",
    "# Evaluate the model using accuracy score\n",
    "metric_results[\"lemmatised_blob_nb_subj_model_tfidf\"] = metric_report(y_test_subj_lemma,y_pred,time_taken)"
   ]
  },
  {
   "cell_type": "markdown",
   "metadata": {},
   "source": [
    "### Create Decision Tree ML Model"
   ]
  },
  {
   "cell_type": "markdown",
   "metadata": {},
   "source": [
    "#### Create TFIDF and CountVectorisers Stemmed and Lemmatised dataset"
   ]
  },
  {
   "cell_type": "code",
   "execution_count": null,
   "metadata": {},
   "outputs": [
    {
     "name": "stdout",
     "output_type": "stream",
     "text": [
      "The accuracy of the Model is 0.9293693693693694\n",
      "The F-Score of the Model is 0.9303159879302804\n",
      "The Recall of the Model is 0.9293693693693694\n",
      "The precision of the Model is 0.9321961070108131\n"
     ]
    }
   ],
   "source": [
    "clf = DecisionTreeClassifier()\n",
    "start_time = time.time()\n",
    "clf.fit(X_train_subj_vec,y_train_subj)\n",
    "\n",
    "y_pred = clf.predict(X_test_subj_vec)\n",
    "end_time = time.time()\n",
    "time_taken =  end_time - start_time\n",
    "metric_results[\"stemmed_blob_dt_subj_model_vec\"] = metric_report(y_test_subj,y_pred,time_taken)\n"
   ]
  },
  {
   "cell_type": "code",
   "execution_count": null,
   "metadata": {},
   "outputs": [
    {
     "name": "stdout",
     "output_type": "stream",
     "text": [
      "The accuracy of the Model is 0.9324924924924924\n",
      "The F-Score of the Model is 0.9333468125550451\n",
      "The Recall of the Model is 0.9324924924924924\n",
      "The precision of the Model is 0.9350337977880558\n"
     ]
    }
   ],
   "source": [
    "clf = DecisionTreeClassifier()\n",
    "start_time = time.time()\n",
    "clf.fit(X_train_subj_lemma_vec,y_train_subj_lemma)\n",
    "\n",
    "y_pred = clf.predict(X_test_subj_lemma_vec)\n",
    "end_time = time.time()\n",
    "time_taken =  end_time - start_time\n",
    "\n",
    "metric_results[\"lemmatised_blob_dt_subj_model_vec\"] = metric_report(y_test_subj_lemma,y_pred,time_taken)"
   ]
  },
  {
   "cell_type": "code",
   "execution_count": null,
   "metadata": {},
   "outputs": [
    {
     "name": "stdout",
     "output_type": "stream",
     "text": [
      "The accuracy of the Model is 0.9212012012012012\n",
      "The F-Score of the Model is 0.9222102292624529\n",
      "The Recall of the Model is 0.9212012012012012\n",
      "The precision of the Model is 0.9240547557626217\n"
     ]
    }
   ],
   "source": [
    "clf = DecisionTreeClassifier()\n",
    "start_time = time.time()\n",
    "clf.fit(X_train_subj_tfidf,y_train_subj)\n",
    "\n",
    "y_pred = clf.predict(X_test_subj_tfidf)\n",
    "end_time = time.time()\n",
    "time_taken =  end_time - start_time\n",
    "\n",
    "metric_results[\"stemmed_blob_dt_subj_model_tfidf\"] = metric_report(y_test_subj,y_pred,time_taken)"
   ]
  },
  {
   "cell_type": "code",
   "execution_count": null,
   "metadata": {},
   "outputs": [
    {
     "name": "stdout",
     "output_type": "stream",
     "text": [
      "The accuracy of the Model is 0.9177177177177177\n",
      "The F-Score of the Model is 0.9187032462372534\n",
      "The Recall of the Model is 0.9177177177177177\n",
      "The precision of the Model is 0.9204105545380131\n"
     ]
    }
   ],
   "source": [
    "clf = DecisionTreeClassifier()\n",
    "start_time = time.time()\n",
    "clf.fit(X_train_subj_lemma_tfidf,y_train_subj_lemma)\n",
    "\n",
    "y_pred = clf.predict(X_test_subj_lemma_tfidf)\n",
    "end_time = time.time()\n",
    "time_taken =  end_time - start_time\n",
    "\n",
    "metric_results[\"lemmatised_blob_dt_subj_model_tfidf\"] = metric_report(y_test_subj_lemma,y_pred,time_taken)"
   ]
  },
  {
   "cell_type": "markdown",
   "metadata": {},
   "source": [
    "### Random Forest ML Model"
   ]
  },
  {
   "cell_type": "markdown",
   "metadata": {},
   "source": [
    "#### Create TFIDF and CountVectorisers Stemmed and Lemmatised dataset"
   ]
  },
  {
   "cell_type": "code",
   "execution_count": null,
   "metadata": {},
   "outputs": [
    {
     "name": "stdout",
     "output_type": "stream",
     "text": [
      "The accuracy of the Model is 0.9348948948948949\n",
      "The F-Score of the Model is 0.935449079877865\n",
      "The Recall of the Model is 0.9348948948948949\n",
      "The precision of the Model is 0.9363709660241792\n"
     ]
    }
   ],
   "source": [
    "clf = RandomForestClassifier()\n",
    "start_time = time.time()\n",
    "clf.fit(X_train_subj_vec,y_train_subj)\n",
    "\n",
    "y_pred = clf.predict(X_test_subj_vec)\n",
    "end_time = time.time()\n",
    "time_taken =  end_time - start_time\n",
    "\n",
    "metric_results[\"stemmed_blob_rf_subj_model_vec\"] = metric_report(y_test_subj,y_pred,time_taken)\n"
   ]
  },
  {
   "cell_type": "code",
   "execution_count": null,
   "metadata": {},
   "outputs": [
    {
     "name": "stdout",
     "output_type": "stream",
     "text": [
      "The accuracy of the Model is 0.9321321321321321\n",
      "The F-Score of the Model is 0.9326938447805835\n",
      "The Recall of the Model is 0.9321321321321321\n",
      "The precision of the Model is 0.9336008259086874\n"
     ]
    }
   ],
   "source": [
    "clf = RandomForestClassifier()\n",
    "start_time = time.time()\n",
    "clf.fit(X_train_subj_lemma_vec,y_train_subj_lemma)\n",
    "\n",
    "y_pred = clf.predict(X_test_subj_lemma_vec)\n",
    "end_time = time.time()\n",
    "time_taken =  end_time - start_time\n",
    "\n",
    "metric_results[\"lemmatised_blob_rf_subj_model_vec\"] = metric_report(y_test_subj_lemma,y_pred,time_taken)"
   ]
  },
  {
   "cell_type": "code",
   "execution_count": null,
   "metadata": {},
   "outputs": [
    {
     "name": "stdout",
     "output_type": "stream",
     "text": [
      "The accuracy of the Model is 0.9270870870870871\n",
      "The F-Score of the Model is 0.9264190436213007\n",
      "The Recall of the Model is 0.9270870870870871\n",
      "The precision of the Model is 0.9261287589801048\n"
     ]
    }
   ],
   "source": [
    "clf = RandomForestClassifier()\n",
    "start_time = time.time()\n",
    "clf.fit(X_train_subj_tfidf,y_train_subj)\n",
    "\n",
    "y_pred = clf.predict(X_test_subj_tfidf)\n",
    "end_time = time.time()\n",
    "time_taken =  end_time - start_time\n",
    "\n",
    "metric_results[\"stemmed_blob_rf_subj_model_tfidf\"] = metric_report(y_test_subj,y_pred,time_taken)"
   ]
  },
  {
   "cell_type": "code",
   "execution_count": null,
   "metadata": {},
   "outputs": [
    {
     "name": "stdout",
     "output_type": "stream",
     "text": [
      "The accuracy of the Model is 0.9287687687687688\n",
      "The F-Score of the Model is 0.9284015076977401\n",
      "The Recall of the Model is 0.9287687687687688\n",
      "The precision of the Model is 0.9281569036829755\n"
     ]
    }
   ],
   "source": [
    "clf = RandomForestClassifier()\n",
    "start_time = time.time()\n",
    "clf.fit(X_train_subj_lemma_tfidf,y_train_subj_lemma)\n",
    "\n",
    "y_pred = clf.predict(X_test_subj_lemma_tfidf)\n",
    "end_time = time.time()\n",
    "time_taken =  end_time - start_time\n",
    "\n",
    "\n",
    "metric_results[\"lemmatised_blob_rf_subj_model_tfidf\"] = metric_report(y_test_subj_lemma,y_pred,time_taken)"
   ]
  },
  {
   "cell_type": "markdown",
   "metadata": {},
   "source": [
    "### Ensemble Learning"
   ]
  },
  {
   "cell_type": "markdown",
   "metadata": {},
   "source": [
    "#### Create TFIDF and CountVectorisers Stemmed and Lemmatised dataset"
   ]
  },
  {
   "cell_type": "code",
   "execution_count": null,
   "metadata": {},
   "outputs": [
    {
     "name": "stdout",
     "output_type": "stream",
     "text": [
      "The accuracy of the Model is 0.9404204204204204\n",
      "The F-Score of the Model is 0.940610697552077\n",
      "The Recall of the Model is 0.9404204204204204\n",
      "The precision of the Model is 0.9408515270851364\n"
     ]
    }
   ],
   "source": [
    "clf1 = DecisionTreeClassifier()\n",
    "clf2 = RandomForestClassifier()\n",
    "clf3 = SVC()\n",
    "\n",
    "# Create the ensemble classifier\n",
    "ensemble = VotingClassifier(estimators=[('dt', clf1), ('rf', clf2), ('svc', clf3)], voting='hard')\n",
    "start_time = time.time()\n",
    "# Train the ensemble classifier\n",
    "ensemble.fit(X_train_subj_vec,y_train_subj)\n",
    "\n",
    "# Make predictions on the test set\n",
    "y_pred = ensemble.predict(X_test_subj_vec)\n",
    "end_time = time.time()\n",
    "time_taken =  end_time - start_time\n",
    "\n",
    "# Evaluate the accuracy of the model\n",
    "metric_results[\"stemmed_blob_ensemble_subj_model_vec\"] = metric_report(y_test_subj,y_pred,time_taken)"
   ]
  },
  {
   "cell_type": "code",
   "execution_count": null,
   "metadata": {},
   "outputs": [
    {
     "name": "stdout",
     "output_type": "stream",
     "text": [
      "The accuracy of the Model is 0.9412612612612613\n",
      "The F-Score of the Model is 0.9414147274857969\n",
      "The Recall of the Model is 0.9412612612612613\n",
      "The precision of the Model is 0.9416019611114186\n"
     ]
    }
   ],
   "source": [
    "clf1 = DecisionTreeClassifier()\n",
    "clf2 = RandomForestClassifier()\n",
    "clf3 = SVC()\n",
    "\n",
    "# Create the ensemble classifier\n",
    "ensemble = VotingClassifier(estimators=[('dt', clf1), ('rf', clf2), ('svc', clf3)], voting='hard')\n",
    "\n",
    "start_time = time.time()\n",
    "# Train the ensemble classifier\n",
    "ensemble.fit(X_train_subj_lemma_vec,y_train_subj_lemma)\n",
    "\n",
    "# Make predictions on the test set\n",
    "y_pred = ensemble.predict(X_test_subj_lemma_vec)\n",
    "end_time = time.time()\n",
    "time_taken =  end_time - start_time\n",
    "# Evaluate the accuracy of the model\n",
    "metric_results[\"lemmatised_blob_ensemble_subj_model_vec\"] = metric_report(y_test_subj_lemma,y_pred,time_taken)"
   ]
  },
  {
   "cell_type": "code",
   "execution_count": null,
   "metadata": {},
   "outputs": [
    {
     "name": "stdout",
     "output_type": "stream",
     "text": [
      "The accuracy of the Model is 0.935015015015015\n",
      "The F-Score of the Model is 0.9344556499045942\n",
      "The Recall of the Model is 0.935015015015015\n",
      "The precision of the Model is 0.9342361375283592\n"
     ]
    }
   ],
   "source": [
    "clf1 = DecisionTreeClassifier()\n",
    "clf2 = RandomForestClassifier()\n",
    "clf3 = SVC()\n",
    "\n",
    "# Create the ensemble classifier\n",
    "ensemble = VotingClassifier(estimators=[('dt', clf1), ('rf', clf2), ('svc', clf3)], voting='hard')\n",
    "\n",
    "start_time = time.time()\n",
    "# Train the ensemble classifier\n",
    "ensemble.fit(X_train_subj_tfidf,y_train_subj)\n",
    "\n",
    "# Make predictions on the test set\n",
    "y_pred = ensemble.predict(X_test_subj_tfidf)\n",
    "end_time = time.time()\n",
    "time_taken =  end_time - start_time\n",
    "\n",
    "# Evaluate the accuracy of the model\n",
    "metric_results[\"stemmed_blob_ensemble_subj_model_tfidf\"] = metric_report(y_test_subj,y_pred,time_taken)"
   ]
  },
  {
   "cell_type": "code",
   "execution_count": null,
   "metadata": {},
   "outputs": [
    {
     "name": "stdout",
     "output_type": "stream",
     "text": [
      "The accuracy of the Model is 0.938978978978979\n",
      "The F-Score of the Model is 0.938778050733246\n",
      "The Recall of the Model is 0.938978978978979\n",
      "The precision of the Model is 0.9386287126091644\n"
     ]
    }
   ],
   "source": [
    "clf1 = DecisionTreeClassifier()\n",
    "clf2 = RandomForestClassifier()\n",
    "clf3 = SVC()\n",
    "\n",
    "# Create the ensemble classifier\n",
    "ensemble = VotingClassifier(estimators=[('dt', clf1), ('rf', clf2), ('svc', clf3)], voting='hard')\n",
    "\n",
    "start_time = time.time()\n",
    "# Train the ensemble classifier\n",
    "ensemble.fit(X_train_subj_lemma_tfidf,y_train_subj_lemma)\n",
    "\n",
    "# Make predictions on the test set\n",
    "y_pred = ensemble.predict(X_test_subj_lemma_tfidf)\n",
    "end_time = time.time()\n",
    "time_taken =  end_time - start_time\n",
    "\n",
    "# Evaluate the accuracy of the model\n",
    "metric_results[\"lemmatised_blob_ensemble_subj_model_tfidf\"] = metric_report(y_test_subj_lemma,y_pred,time_taken)"
   ]
  },
  {
   "cell_type": "markdown",
   "metadata": {},
   "source": [
    "### Support Vector Machine Model"
   ]
  },
  {
   "cell_type": "code",
   "execution_count": null,
   "metadata": {},
   "outputs": [
    {
     "name": "stdout",
     "output_type": "stream",
     "text": [
      "The accuracy of the Model is 0.9216816816816816\n",
      "The F-Score of the Model is 0.9192121972799121\n",
      "The Recall of the Model is 0.9216816816816816\n",
      "The precision of the Model is 0.9207352194832221\n"
     ]
    }
   ],
   "source": [
    "clf = svm.SVC(kernel = \"rbf\",random_state = 1)\n",
    "start_time = time.time()\n",
    "clf.fit(X_train_subj_vec,y_train_subj)\n",
    "svm_pred = clf.predict(X_test_subj_vec)\n",
    "end_time = time.time()\n",
    "time_taken =  end_time - start_time\n",
    "metric_results[\"stemmed_blob_svm_subj_model_vec\"] = metric_report(y_test_subj,svm_pred,time_taken)\n"
   ]
  },
  {
   "cell_type": "code",
   "execution_count": null,
   "metadata": {},
   "outputs": [
    {
     "name": "stdout",
     "output_type": "stream",
     "text": [
      "The accuracy of the Model is 0.9216816816816816\n",
      "The F-Score of the Model is 0.9192121972799121\n",
      "The Recall of the Model is 0.9216816816816816\n",
      "The precision of the Model is 0.9207352194832221\n"
     ]
    }
   ],
   "source": [
    "clf = svm.SVC(kernel = \"rbf\",random_state = 1)\n",
    "start_time = time.time()\n",
    "clf.fit(X_train_subj_lemma_vec,y_train_subj_lemma)\n",
    "svm_pred = clf.predict(X_test_subj_lemma_vec)\n",
    "end_time = time.time()\n",
    "time_taken =  end_time - start_time\n",
    "metric_results[\"lemmatised_blob_svm_subj_model_vec\"] = metric_report(y_test_subj_lemma,svm_pred,time_taken)"
   ]
  },
  {
   "cell_type": "code",
   "execution_count": null,
   "metadata": {},
   "outputs": [
    {
     "name": "stdout",
     "output_type": "stream",
     "text": [
      "The accuracy of the Model is 0.9243243243243243\n",
      "The F-Score of the Model is 0.9217699992803162\n",
      "The Recall of the Model is 0.9243243243243243\n",
      "The precision of the Model is 0.9237787942702758\n"
     ]
    }
   ],
   "source": [
    "clf = svm.SVC(kernel = \"rbf\",random_state = 1)\n",
    "start_time = time.time()\n",
    "clf.fit(X_train_subj_tfidf,y_train_subj)\n",
    "svm_pred = clf.predict(X_test_subj_tfidf)\n",
    "end_time = time.time()\n",
    "time_taken =  end_time - start_time\n",
    "metric_results[\"stemmed_blob_svm_subj_model_tfidf\"] = metric_report(y_test_subj,svm_pred,time_taken)"
   ]
  },
  {
   "cell_type": "code",
   "execution_count": null,
   "metadata": {},
   "outputs": [
    {
     "name": "stdout",
     "output_type": "stream",
     "text": [
      "The accuracy of the Model is 0.9243243243243243\n",
      "The F-Score of the Model is 0.9217699992803162\n",
      "The Recall of the Model is 0.9243243243243243\n",
      "The precision of the Model is 0.9237787942702758\n"
     ]
    }
   ],
   "source": [
    "clf = svm.SVC(kernel = \"rbf\",random_state = 1)\n",
    "start_time = time.time()\n",
    "clf.fit(X_train_subj_lemma_tfidf,y_train_subj_lemma)\n",
    "svm_pred = clf.predict(X_test_subj_lemma_tfidf)\n",
    "end_time = time.time()\n",
    "time_taken =  end_time - start_time\n",
    "metric_results[\"lemmatised_blob_svm_subj_model_tfidf\"] = metric_report(y_test_subj_lemma,svm_pred,time_taken)"
   ]
  },
  {
   "cell_type": "markdown",
   "metadata": {},
   "source": [
    "### Neural Network Model\n",
    "\n"
   ]
  },
  {
   "cell_type": "code",
   "execution_count": 140,
   "metadata": {},
   "outputs": [
    {
     "name": "stdout",
     "output_type": "stream",
     "text": [
      "The accuracy of the Model is 0.961081081081081\n",
      "The F-Score of the Model is 0.961047735028928\n",
      "The Recall of the Model is 0.961081081081081\n",
      "The precision of the Model is 0.9610180835410127\n"
     ]
    }
   ],
   "source": [
    "from sklearn.neural_network import MLPClassifier\n",
    "\n",
    "clf = MLPClassifier(solver = \"lbfgs\", alpha = 1e-5, \n",
    "                    hidden_layer_sizes =(128,), random_state=1, max_iter = 1000)\n",
    "start_time = time.time()\n",
    "clf.fit(X_train_subj_vec,y_train_subj)\n",
    "\n",
    "nn_pred = clf.predict(X_test_subj_vec)\n",
    "end_time = time.time()\n",
    "time_taken =  end_time - start_time\n",
    "\n",
    "metric_results[\"stemmed_blob_nn_subj_model_vec\"] = metric_report(y_test_subj,nn_pred,time_taken)"
   ]
  },
  {
   "cell_type": "code",
   "execution_count": 141,
   "metadata": {},
   "outputs": [
    {
     "name": "stdout",
     "output_type": "stream",
     "text": [
      "The accuracy of the Model is 0.961081081081081\n",
      "The F-Score of the Model is 0.961047735028928\n",
      "The Recall of the Model is 0.961081081081081\n",
      "The precision of the Model is 0.9610180835410127\n"
     ]
    }
   ],
   "source": [
    "clf = MLPClassifier(solver = \"lbfgs\", alpha = 1e-5, \n",
    "                    hidden_layer_sizes =(128,), random_state=1, max_iter = 1000)\n",
    "start_time = time.time()\n",
    "clf.fit(X_train_subj_lemma_vec,y_train_subj_lemma)\n",
    "\n",
    "nn_pred = clf.predict(X_test_subj_lemma_vec)\n",
    "end_time = time.time()\n",
    "time_taken =  end_time - start_time\n",
    "metric_results[\"lemmatised_blob_nn_subj_model_vec\"] = metric_report(y_test_subj_lemma,nn_pred,time_taken)"
   ]
  },
  {
   "cell_type": "code",
   "execution_count": 142,
   "metadata": {},
   "outputs": [
    {
     "name": "stdout",
     "output_type": "stream",
     "text": [
      "The accuracy of the Model is 0.956996996996997\n",
      "The F-Score of the Model is 0.9569080686704163\n",
      "The Recall of the Model is 0.956996996996997\n",
      "The precision of the Model is 0.9568403533686813\n"
     ]
    }
   ],
   "source": [
    "clf = MLPClassifier(solver = \"lbfgs\", alpha = 1e-5, \n",
    "                    hidden_layer_sizes =(128,), random_state=1, max_iter = 1000)\n",
    "start_time = time.time()\n",
    "clf.fit(X_train_subj_tfidf,y_train_subj)\n",
    "\n",
    "nn_pred = clf.predict(X_test_subj_tfidf)\n",
    "end_time = time.time()\n",
    "time_taken =  end_time - start_time\n",
    "metric_results[\"stemmed_blob_nn_subj_model_tfidf\"] = metric_report(y_test_subj,nn_pred,time_taken)"
   ]
  },
  {
   "cell_type": "code",
   "execution_count": 143,
   "metadata": {},
   "outputs": [
    {
     "name": "stdout",
     "output_type": "stream",
     "text": [
      "The accuracy of the Model is 0.956996996996997\n",
      "The F-Score of the Model is 0.9569080686704163\n",
      "The Recall of the Model is 0.956996996996997\n",
      "The precision of the Model is 0.9568403533686813\n"
     ]
    }
   ],
   "source": [
    "clf = MLPClassifier(solver = \"lbfgs\", alpha = 1e-5, \n",
    "                    hidden_layer_sizes =(128,), random_state=1, max_iter = 1000)\n",
    "start_time = time.time()\n",
    "clf.fit(X_train_subj_lemma_tfidf,y_train_subj_lemma)\n",
    "\n",
    "nn_pred = clf.predict(X_test_subj_lemma_tfidf)\n",
    "end_time = time.time()\n",
    "time_taken =  end_time - start_time\n",
    "metric_results[\"lemmatised_blob_nn_subj_model_tfidf\"] = metric_report(y_test_subj_lemma,nn_pred,time_taken)"
   ]
  },
  {
   "attachments": {},
   "cell_type": "markdown",
   "metadata": {},
   "source": [
    "### TensorFlow Subjectivity Machine Modeling"
   ]
  },
  {
   "cell_type": "code",
   "execution_count": 207,
   "metadata": {},
   "outputs": [
    {
     "name": "stdout",
     "output_type": "stream",
     "text": [
      "Epoch 1/5\n",
      "1041/1041 [==============================] - 46s 43ms/step - loss: 0.2961 - accuracy: 0.8878 - val_loss: 0.1890 - val_accuracy: 0.9347\n",
      "Epoch 2/5\n",
      "1041/1041 [==============================] - 44s 42ms/step - loss: 0.0721 - accuracy: 0.9768 - val_loss: 0.1675 - val_accuracy: 0.9399\n",
      "Epoch 3/5\n",
      "1041/1041 [==============================] - 42s 41ms/step - loss: 0.0252 - accuracy: 0.9926 - val_loss: 0.1875 - val_accuracy: 0.9469\n",
      "Epoch 4/5\n",
      "1041/1041 [==============================] - 42s 41ms/step - loss: 0.0084 - accuracy: 0.9981 - val_loss: 0.1883 - val_accuracy: 0.9499\n",
      "Epoch 5/5\n",
      "1041/1041 [==============================] - 42s 40ms/step - loss: 0.0041 - accuracy: 0.9993 - val_loss: 0.2223 - val_accuracy: 0.9456\n",
      "261/261 [==============================] - 0s 917us/step - loss: 0.1675 - accuracy: 0.9399\n",
      "Test loss: 0.16752710938453674\n",
      "Test accuracy: 0.9399399161338806\n"
     ]
    }
   ],
   "source": [
    "# Define the model architecture\n",
    "model_vec2_subj = tf.keras.Sequential([\n",
    "    tf.keras.layers.Input(shape = (X_train_subj_vec.shape[1],)),\n",
    "    tf.keras.layers.Dense(128, activation=\"relu\"),\n",
    "    tf.keras.layers.Dense(3, activation=\"sigmoid\")\n",
    "])\n",
    "\n",
    "# Compile the model_tfidf\n",
    "model_vec2_subj.compile(loss=\"sparse_categorical_crossentropy\", optimizer=tf.keras.optimizers.Adam(learning_rate=0.001), metrics=[\"accuracy\"])\n",
    "\n",
    "# Define callbacks\n",
    "early_stopping = tf.keras.callbacks.EarlyStopping(monitor=\"val_loss\", patience=10)\n",
    "model_checkpoint = tf.keras.callbacks.ModelCheckpoint(\"model_polarity_subj_vec2.h5\", save_best_only=True)\n",
    "\n",
    "# Train the model_tfidf\n",
    "history_vec2_subj = model_vec2_subj.fit(X_train_subj_vec, y_train_subj, epochs=5, batch_size=32, validation_data=(X_test_subj_vec, y_test_subj), callbacks=[early_stopping, model_checkpoint])\n",
    "\n",
    "# Evaluate the model_tfidf on the test set\n",
    "model_vec2_subj.load_weights(\"model_polarity_subj_vec2.h5\")\n",
    "test_loss, test_acc = model_vec2_subj.evaluate(X_test_subj_vec, y_test_subj)\n",
    "print(\"Test loss:\", test_loss)\n",
    "print(\"Test accuracy:\", test_acc)"
   ]
  },
  {
   "cell_type": "code",
   "execution_count": 209,
   "metadata": {},
   "outputs": [
    {
     "name": "stdout",
     "output_type": "stream",
     "text": [
      "Epoch 1/5\n",
      "1041/1041 [==============================] - 44s 42ms/step - loss: 0.2946 - accuracy: 0.8885 - val_loss: 0.1821 - val_accuracy: 0.9354\n",
      "Epoch 2/5\n",
      "1041/1041 [==============================] - 44s 43ms/step - loss: 0.0696 - accuracy: 0.9773 - val_loss: 0.1649 - val_accuracy: 0.9414\n",
      "Epoch 3/5\n",
      "1041/1041 [==============================] - 42s 41ms/step - loss: 0.0225 - accuracy: 0.9936 - val_loss: 0.1708 - val_accuracy: 0.9481\n",
      "Epoch 4/5\n",
      "1041/1041 [==============================] - 42s 40ms/step - loss: 0.0110 - accuracy: 0.9974 - val_loss: 0.1807 - val_accuracy: 0.9505\n",
      "Epoch 5/5\n",
      "1041/1041 [==============================] - 42s 40ms/step - loss: 0.0041 - accuracy: 0.9989 - val_loss: 0.2222 - val_accuracy: 0.9485\n",
      "261/261 [==============================] - 0s 861us/step - loss: 0.1649 - accuracy: 0.9414\n",
      "Test loss: 0.16492141783237457\n",
      "Test accuracy: 0.9413813948631287\n"
     ]
    }
   ],
   "source": [
    "# Define the model architecture\n",
    "model_vec2_lemma_subj = tf.keras.Sequential([\n",
    "    tf.keras.layers.Input(shape = (X_train_subj_lemma_vec.shape[1],)),\n",
    "    tf.keras.layers.Dense(128, activation=\"relu\"),\n",
    "    tf.keras.layers.Dense(3, activation=\"sigmoid\")\n",
    "])\n",
    "\n",
    "# Compile the model_tfidf\n",
    "model_vec2_lemma_subj.compile(loss=\"sparse_categorical_crossentropy\", optimizer=tf.keras.optimizers.Adam(learning_rate=0.001), metrics=[\"accuracy\"])\n",
    "\n",
    "# Define callbacks\n",
    "early_stopping = tf.keras.callbacks.EarlyStopping(monitor=\"val_loss\", patience=10)\n",
    "model_checkpoint = tf.keras.callbacks.ModelCheckpoint(\"model_polarity_subj_lemma_vec2.h5\", save_best_only=True)\n",
    "\n",
    "# Train the model_tfidf\n",
    "history_vec2_subj_lemma = model_vec2_lemma_subj.fit(X_train_subj_lemma_vec, y_train_subj_lemma, epochs=5, batch_size=32, validation_data=(X_test_subj_lemma_vec, y_test_subj_lemma), callbacks=[early_stopping, model_checkpoint])\n",
    "\n",
    "# Evaluate the model_tfidf on the test set\n",
    "model_vec2_lemma_subj.load_weights(\"model_polarity_subj_lemma_vec2.h5\")\n",
    "test_loss, test_acc = model_vec2_lemma_subj.evaluate(X_test_subj_lemma_vec, y_test_subj_lemma)\n",
    "print(\"Test loss:\", test_loss)\n",
    "print(\"Test accuracy:\", test_acc)"
   ]
  },
  {
   "cell_type": "code",
   "execution_count": 146,
   "metadata": {},
   "outputs": [
    {
     "name": "stdout",
     "output_type": "stream",
     "text": [
      "Epoch 1/5\n",
      "1041/1041 [==============================] - 44s 42ms/step - loss: 0.3082 - accuracy: 0.8711 - val_loss: 0.1903 - val_accuracy: 0.9279\n",
      "Epoch 2/5\n",
      "1041/1041 [==============================] - 46s 44ms/step - loss: 0.0779 - accuracy: 0.9744 - val_loss: 0.1734 - val_accuracy: 0.9356\n",
      "Epoch 3/5\n",
      "1041/1041 [==============================] - 42s 40ms/step - loss: 0.0301 - accuracy: 0.9916 - val_loss: 0.1961 - val_accuracy: 0.9332\n",
      "Epoch 4/5\n",
      "1041/1041 [==============================] - 42s 40ms/step - loss: 0.0135 - accuracy: 0.9968 - val_loss: 0.2235 - val_accuracy: 0.9327\n",
      "Epoch 5/5\n",
      "1041/1041 [==============================] - 44s 42ms/step - loss: 0.0068 - accuracy: 0.9983 - val_loss: 0.2443 - val_accuracy: 0.9336\n",
      "261/261 [==============================] - 0s 913us/step - loss: 0.1734 - accuracy: 0.9356\n",
      "Test loss: 0.17342208325862885\n",
      "Test accuracy: 0.935615599155426\n"
     ]
    }
   ],
   "source": [
    "# Define the model architecture\n",
    "model_tfidf_subj = tf.keras.Sequential([\n",
    "    tf.keras.layers.Input(shape = (X_train_subj_tfidf.shape[1],)),\n",
    "    tf.keras.layers.Dense(128, activation=\"relu\"),\n",
    "    tf.keras.layers.Dense(2, activation=\"sigmoid\")\n",
    "])\n",
    "\n",
    "# Compile the model_tfidf_subj\n",
    "model_tfidf_subj.compile(loss=\"sparse_categorical_crossentropy\", optimizer=tf.keras.optimizers.Adam(learning_rate=0.001), metrics=[\"accuracy\"])\n",
    "\n",
    "# Define callbacks\n",
    "early_stopping = tf.keras.callbacks.EarlyStopping(monitor=\"val_loss\", patience=10)\n",
    "model_checkpoint = tf.keras.callbacks.ModelCheckpoint(\"model_subj_tfidf.h5\", save_best_only=True)\n",
    "\n",
    "# Train the model_tfidf_subj\n",
    "history_subj_tfidf = model_tfidf_subj.fit(X_train_subj_tfidf, y_train_subj, epochs=5, batch_size=32, validation_data=(X_test_subj_tfidf, y_test_subj), callbacks=[early_stopping, model_checkpoint])\n",
    "\n",
    "# Evaluate the model_tfidf_subj on the test set\n",
    "model_tfidf_subj.load_weights(\"model_subj_tfidf.h5\")\n",
    "test_loss, test_acc = model_tfidf_subj.evaluate(X_test_subj_tfidf, y_test_subj)\n",
    "print(\"Test loss:\", test_loss)\n",
    "print(\"Test accuracy:\", test_acc)"
   ]
  },
  {
   "cell_type": "code",
   "execution_count": 149,
   "metadata": {},
   "outputs": [
    {
     "name": "stdout",
     "output_type": "stream",
     "text": [
      "Epoch 1/5\n",
      "1041/1041 [==============================] - 45s 43ms/step - loss: 0.3087 - accuracy: 0.8702 - val_loss: 0.1917 - val_accuracy: 0.9246\n",
      "Epoch 2/5\n",
      "1041/1041 [==============================] - 44s 42ms/step - loss: 0.0778 - accuracy: 0.9727 - val_loss: 0.1769 - val_accuracy: 0.9347\n",
      "Epoch 3/5\n",
      "1041/1041 [==============================] - 42s 41ms/step - loss: 0.0303 - accuracy: 0.9910 - val_loss: 0.1909 - val_accuracy: 0.9355\n",
      "Epoch 4/5\n",
      "1041/1041 [==============================] - 47s 45ms/step - loss: 0.0138 - accuracy: 0.9962 - val_loss: 0.2137 - val_accuracy: 0.9344\n",
      "Epoch 5/5\n",
      "1041/1041 [==============================] - 46s 44ms/step - loss: 0.0071 - accuracy: 0.9981 - val_loss: 0.2483 - val_accuracy: 0.9337\n",
      "261/261 [==============================] - 0s 1ms/step - loss: 0.1769 - accuracy: 0.9347\n",
      "Test loss: 0.176912322640419\n",
      "Test accuracy: 0.9346546530723572\n"
     ]
    }
   ],
   "source": [
    "# Define the model architecture\n",
    "model_lemma_tfidf = tf.keras.Sequential([\n",
    "    tf.keras.layers.Input(shape = (X_train_subj_lemma_tfidf.shape[1],)),\n",
    "    tf.keras.layers.Dense(128, activation=\"relu\"),\n",
    "    tf.keras.layers.Dense(2, activation=\"sigmoid\")\n",
    "])\n",
    "\n",
    "# Compile the model_lemma_tfidf\n",
    "model_lemma_tfidf.compile(loss=\"sparse_categorical_crossentropy\", optimizer=tf.keras.optimizers.Adam(learning_rate=0.001), metrics=[\"accuracy\"])\n",
    "\n",
    "# Define callbacks\n",
    "early_stopping = tf.keras.callbacks.EarlyStopping(monitor=\"val_loss\", patience=10)\n",
    "model_checkpoint = tf.keras.callbacks.ModelCheckpoint(\"model_subj_lemma_tfidf.h5\", save_best_only=True)\n",
    "\n",
    "# Train the model_lemma_tfidf\n",
    "history_subj_lemma_tfidf = model_lemma_tfidf.fit(X_train_subj_lemma_tfidf, y_train_subj_lemma, epochs=5, batch_size=32, validation_data=(X_test_subj_lemma_tfidf, y_test_subj_lemma), callbacks=[early_stopping, model_checkpoint])\n",
    "\n",
    "# Evaluate the model_lemma_tfidf on the test set\n",
    "model_lemma_tfidf.load_weights(\"model_subj_lemma_tfidf.h5\")\n",
    "test_loss, test_acc = model_lemma_tfidf.evaluate(X_test_subj_lemma_tfidf, y_test_subj_lemma)\n",
    "print(\"Test loss:\", test_loss)\n",
    "print(\"Test accuracy:\", test_acc)"
   ]
  },
  {
   "cell_type": "code",
   "execution_count": 150,
   "metadata": {},
   "outputs": [
    {
     "name": "stdout",
     "output_type": "stream",
     "text": [
      "Epoch 1/5\n",
      "1041/1041 [==============================] - 63s 57ms/step - loss: 0.1949 - accuracy: 0.9203 - val_loss: 0.0912 - val_accuracy: 0.9656\n",
      "Epoch 2/5\n",
      "1041/1041 [==============================] - 53s 51ms/step - loss: 0.0494 - accuracy: 0.9823 - val_loss: 0.0879 - val_accuracy: 0.9643\n",
      "Epoch 3/5\n",
      "1041/1041 [==============================] - 52s 50ms/step - loss: 0.0179 - accuracy: 0.9940 - val_loss: 0.1202 - val_accuracy: 0.9618\n",
      "Epoch 4/5\n",
      "1041/1041 [==============================] - 49s 47ms/step - loss: 0.0074 - accuracy: 0.9974 - val_loss: 0.1455 - val_accuracy: 0.9589\n",
      "Epoch 5/5\n",
      "1041/1041 [==============================] - 52s 50ms/step - loss: 0.0072 - accuracy: 0.9977 - val_loss: 0.1755 - val_accuracy: 0.9554\n",
      "261/261 [==============================] - 2s 6ms/step - loss: 0.0879 - accuracy: 0.9643\n",
      "Test loss: 0.0879446342587471\n",
      "Test accuracy: 0.9643242955207825\n"
     ]
    }
   ],
   "source": [
    "tokenizer = Tokenizer(num_words=2000000, oov_token=\"<OOV>\")\n",
    "tokenizer.fit_on_texts(X_train_subj)\n",
    "word_index = tokenizer.word_index\n",
    "\n",
    "train_sequences = tokenizer.texts_to_sequences(X_train_subj)\n",
    "test_sequence = tokenizer.texts_to_sequences(X_test_subj)\n",
    "\n",
    "pad_train = pad_sequences(train_sequences)\n",
    "T = pad_train.shape[1]\n",
    "pad_test = pad_sequences(test_sequence,T)\n",
    "\n",
    "# Define the model architecture\n",
    "model_subj_vec = tf.keras.Sequential([\n",
    "    tf.keras.layers.Input(shape = (T,)),\n",
    "    tf.keras.layers.Embedding(input_dim=len(word_index) + 1, output_dim=100, input_length=10, trainable=True),\n",
    "    tf.keras.layers.Bidirectional(tf.keras.layers.LSTM(64, return_sequences=True)),\n",
    "    tf.keras.layers.GlobalMaxPooling1D(),\n",
    "    tf.keras.layers.Dense(64, activation=\"relu\"),\n",
    "    # tf.keras.layers.Dropout(0.5),\n",
    "    tf.keras.layers.Dense(2, activation=\"sigmoid\")\n",
    "])\n",
    "\n",
    "# Compile the model_subj_vec\n",
    "model_subj_vec.compile(loss=\"sparse_categorical_crossentropy\", optimizer=tf.keras.optimizers.Adam(learning_rate=0.001), metrics=[\"accuracy\"])\n",
    "\n",
    "# Define callbacks\n",
    "early_stopping = tf.keras.callbacks.EarlyStopping(monitor=\"val_loss\", patience=10)\n",
    "model_checkpoint = tf.keras.callbacks.ModelCheckpoint(\"model_subj_vec.h5\", save_best_only=True)\n",
    "\n",
    "# Train the model_subj_vec\n",
    "history_subj_vec = model_subj_vec.fit(pad_train, y_train_subj, epochs=5, batch_size=32, validation_data=(pad_test, y_test_subj), callbacks=[early_stopping, model_checkpoint])\n",
    "\n",
    "# Evaluate the model_subj_vec on the test set\n",
    "model_subj_vec.load_weights(\"model_subj_vec.h5\")\n",
    "test_loss, test_acc = model_subj_vec.evaluate(pad_test, y_test_subj)\n",
    "print(\"Test loss:\", test_loss)\n",
    "print(\"Test accuracy:\", test_acc)"
   ]
  },
  {
   "cell_type": "code",
   "execution_count": 153,
   "metadata": {},
   "outputs": [
    {
     "name": "stdout",
     "output_type": "stream",
     "text": [
      "Epoch 1/5\n",
      "1041/1041 [==============================] - 50s 45ms/step - loss: 0.1947 - accuracy: 0.9214 - val_loss: 0.0833 - val_accuracy: 0.9677\n",
      "Epoch 2/5\n",
      "1041/1041 [==============================] - 50s 48ms/step - loss: 0.0478 - accuracy: 0.9833 - val_loss: 0.0882 - val_accuracy: 0.9655\n",
      "Epoch 3/5\n",
      "1041/1041 [==============================] - 49s 47ms/step - loss: 0.0169 - accuracy: 0.9944 - val_loss: 0.0947 - val_accuracy: 0.9686\n",
      "Epoch 4/5\n",
      "1041/1041 [==============================] - 48s 46ms/step - loss: 0.0095 - accuracy: 0.9968 - val_loss: 0.1250 - val_accuracy: 0.9630\n",
      "Epoch 5/5\n",
      "1041/1041 [==============================] - 48s 46ms/step - loss: 0.0049 - accuracy: 0.9981 - val_loss: 0.1738 - val_accuracy: 0.9623\n",
      "261/261 [==============================] - 2s 6ms/step - loss: 0.0833 - accuracy: 0.9677\n",
      "Test loss: 0.08332546800374985\n",
      "Test accuracy: 0.9676876664161682\n"
     ]
    }
   ],
   "source": [
    "tokenizer = Tokenizer(num_words=2000000, oov_token=\"<OOV>\")\n",
    "tokenizer.fit_on_texts(X_train_subj_lemma)\n",
    "word_index = tokenizer.word_index\n",
    "\n",
    "train_sequences = tokenizer.texts_to_sequences(X_train_subj_lemma)\n",
    "test_sequence = tokenizer.texts_to_sequences(X_test_subj_lemma)\n",
    "\n",
    "pad_train = pad_sequences(train_sequences)\n",
    "T = pad_train.shape[1]\n",
    "pad_test = pad_sequences(test_sequence,T)\n",
    "\n",
    "# Define the model architecture\n",
    "model_subj_lemma_vec = tf.keras.Sequential([\n",
    "    tf.keras.layers.Input(shape = (T,)),\n",
    "    tf.keras.layers.Embedding(input_dim=len(word_index) + 1, output_dim=100, input_length=10, trainable=True),\n",
    "    tf.keras.layers.Bidirectional(tf.keras.layers.LSTM(64, return_sequences=True)),\n",
    "    tf.keras.layers.GlobalMaxPooling1D(),\n",
    "    tf.keras.layers.Dense(64, activation=\"relu\"),\n",
    "    # tf.keras.layers.Dropout(0.5),\n",
    "    tf.keras.layers.Dense(2, activation=\"sigmoid\")\n",
    "])\n",
    "\n",
    "# Compile the model_subj_lemma_vec\n",
    "model_subj_lemma_vec.compile(loss=\"sparse_categorical_crossentropy\", optimizer=tf.keras.optimizers.Adam(learning_rate=0.001), metrics=[\"accuracy\"])\n",
    "\n",
    "# Define callbacks\n",
    "early_stopping = tf.keras.callbacks.EarlyStopping(monitor=\"val_loss\", patience=10)\n",
    "model_checkpoint = tf.keras.callbacks.ModelCheckpoint(\"model_subj_lemma_vec.h5\", save_best_only=True)\n",
    "\n",
    "# Train the model_subj_lemma_vec\n",
    "history_subj_lemma_vec = model_subj_lemma_vec.fit(pad_train, y_train_subj, epochs=5, batch_size=32, validation_data=(pad_test, y_test_subj), callbacks=[early_stopping, model_checkpoint])\n",
    "\n",
    "# Evaluate the model_subj_lemma_vec on the test set\n",
    "model_subj_lemma_vec.load_weights(\"model_subj_lemma_vec.h5\")\n",
    "test_loss, test_acc = model_subj_lemma_vec.evaluate(pad_test, y_test_subj)\n",
    "print(\"Test loss:\", test_loss)\n",
    "print(\"Test accuracy:\", test_acc)"
   ]
  },
  {
   "attachments": {},
   "cell_type": "markdown",
   "metadata": {},
   "source": [
    "### Polarity Machine Learning Model"
   ]
  },
  {
   "attachments": {},
   "cell_type": "markdown",
   "metadata": {},
   "source": [
    "### Naive Bayes ML Model"
   ]
  },
  {
   "cell_type": "code",
   "execution_count": 154,
   "metadata": {},
   "outputs": [
    {
     "name": "stdout",
     "output_type": "stream",
     "text": [
      "The accuracy of the Model is 0.7733333333333333\n",
      "The F-Score of the Model is 0.773217053356841\n",
      "The Recall of the Model is 0.7733333333333333\n",
      "The precision of the Model is 0.8016379954346353\n"
     ]
    },
    {
     "data": {
      "text/plain": [
       "{'accuracy': 0.7733333333333333,\n",
       " 'fmeasure': 0.773217053356841,\n",
       " 'recall': 0.7733333333333333,\n",
       " 'precision': 0.8016379954346353}"
      ]
     },
     "execution_count": 154,
     "metadata": {},
     "output_type": "execute_result"
    }
   ],
   "source": [
    "\n",
    "\n",
    "# Train the model using Naive Bayes algorithm\n",
    "clf = MultinomialNB()\n",
    "start_time = time.time()\n",
    "clf.fit(X_train_vec, y_train)\n",
    "\n",
    "# Make predictions on test data\n",
    "y_pred = clf.predict(X_test_vec)\n",
    "end_time = time.time()\n",
    "time_taken =  end_time - start_time\n",
    "\n",
    "# Evaluate the model using accuracy score\n",
    "metric_report(y_test,y_pred,time_taken)"
   ]
  },
  {
   "cell_type": "markdown",
   "metadata": {},
   "source": [
    "#### Create TFIDF and CountVectorisers Stemmed and Lemmatised dataset"
   ]
  },
  {
   "cell_type": "code",
   "execution_count": 155,
   "metadata": {},
   "outputs": [
    {
     "name": "stdout",
     "output_type": "stream",
     "text": [
      "The accuracy of the Model is 0.7733333333333333\n",
      "The F-Score of the Model is 0.773217053356841\n",
      "The Recall of the Model is 0.7733333333333333\n",
      "The precision of the Model is 0.8016379954346353\n"
     ]
    }
   ],
   "source": [
    "\n",
    "# Train the model using Naive Bayes algorithm\n",
    "clf = MultinomialNB()\n",
    "start_time = time.time()\n",
    "clf.fit(X_train_lemma_vec, y_train_lemma)\n",
    "\n",
    "# Make predictions on test data\n",
    "y_pred = clf.predict(X_test_lemma_vec)\n",
    "end_time = time.time()\n",
    "time_taken =  end_time - start_time\n",
    "# Evaluate the model using accuracy score\n",
    "metric_results[\"lemmatised_blob_nb_polariy_model_vec\"] = metric_report(y_test_lemma,y_pred,time_taken)"
   ]
  },
  {
   "cell_type": "code",
   "execution_count": 156,
   "metadata": {},
   "outputs": [
    {
     "name": "stdout",
     "output_type": "stream",
     "text": [
      "The accuracy of the Model is 0.7541141141141141\n",
      "The F-Score of the Model is 0.6991418931650587\n",
      "The Recall of the Model is 0.7541141141141141\n",
      "The precision of the Model is 0.8099015145935934\n"
     ]
    }
   ],
   "source": [
    "\n",
    "# Train the model using Naive Bayes algorithm\n",
    "clf = MultinomialNB()\n",
    "start_time = time.time()\n",
    "clf.fit(X_train_tfidf, y_train)\n",
    "\n",
    "# Make predictions on test data\n",
    "y_pred = clf.predict(X_test_tfidf)\n",
    "end_time = time.time()\n",
    "time_taken =  end_time - start_time\n",
    "# Evaluate the model using accuracy score\n",
    "metric_results[\"stemmed_blob_nb_polarity_model_tfidf\"] = metric_report(y_test,y_pred,time_taken)"
   ]
  },
  {
   "cell_type": "code",
   "execution_count": 157,
   "metadata": {},
   "outputs": [
    {
     "name": "stdout",
     "output_type": "stream",
     "text": [
      "The accuracy of the Model is 0.7541141141141141\n",
      "The F-Score of the Model is 0.6991418931650587\n",
      "The Recall of the Model is 0.7541141141141141\n",
      "The precision of the Model is 0.8099015145935934\n"
     ]
    }
   ],
   "source": [
    "\n",
    "# Train the model using Naive Bayes algorithm\n",
    "clf = MultinomialNB()\n",
    "start_time = time.time()\n",
    "clf.fit(X_train_lemma_tfidf, y_train_lemma)\n",
    "\n",
    "# Make predictions on test data\n",
    "y_pred = clf.predict(X_test_lemma_tfidf)\n",
    "end_time = time.time()\n",
    "time_taken =  end_time - start_time\n",
    "\n",
    "# Evaluate the model using accuracy score\n",
    "metric_results[\"lemmatised_blob_nb_polarity_model_tfidf\"] = metric_report(y_test_lemma,y_pred,time_taken)"
   ]
  },
  {
   "attachments": {},
   "cell_type": "markdown",
   "metadata": {},
   "source": [
    "### Create Decision Tree ML Model"
   ]
  },
  {
   "cell_type": "markdown",
   "metadata": {},
   "source": [
    "#### Create TFIDF and CountVectorisers Stemmed and Lemmatised dataset"
   ]
  },
  {
   "cell_type": "code",
   "execution_count": 159,
   "metadata": {},
   "outputs": [
    {
     "name": "stdout",
     "output_type": "stream",
     "text": [
      "The accuracy of the Model is 0.9512312312312312\n",
      "The F-Score of the Model is 0.9508977495404318\n",
      "The Recall of the Model is 0.9512312312312312\n",
      "The precision of the Model is 0.9509132858746073\n"
     ]
    }
   ],
   "source": [
    "clf = DecisionTreeClassifier()\n",
    "start_time =  time.time()\n",
    "clf.fit(X_train_vec,y_train)\n",
    "\n",
    "y_pred = clf.predict(X_test_vec)\n",
    "end_time = time.time()\n",
    "time_taken =  end_time - start_time\n",
    "\n",
    "metric_results[\"stemmed_blob_dt_polarity_model_vec\"] = metric_report(y_test,y_pred,time_taken)\n"
   ]
  },
  {
   "cell_type": "code",
   "execution_count": 160,
   "metadata": {},
   "outputs": [
    {
     "name": "stdout",
     "output_type": "stream",
     "text": [
      "The accuracy of the Model is 0.9509909909909909\n",
      "The F-Score of the Model is 0.9506770640037381\n",
      "The Recall of the Model is 0.9509909909909909\n",
      "The precision of the Model is 0.9507031911094214\n"
     ]
    }
   ],
   "source": [
    "clf = DecisionTreeClassifier()\n",
    "start_time =  time.time()\n",
    "clf.fit(X_train_lemma_vec,y_train_lemma)\n",
    "\n",
    "y_pred = clf.predict(X_test_lemma_vec)\n",
    "end_time = time.time()\n",
    "time_taken =  end_time - start_time\n",
    "metric_results[\"lemmatised_blob_dt_polarity_model_vec\"] = metric_report(y_test_lemma,y_pred,time_taken)"
   ]
  },
  {
   "cell_type": "code",
   "execution_count": 203,
   "metadata": {},
   "outputs": [
    {
     "name": "stdout",
     "output_type": "stream",
     "text": [
      "The accuracy of the Model is 0.9457057057057057\n",
      "The F-Score of the Model is 0.9452730503513662\n",
      "The Recall of the Model is 0.9457057057057057\n",
      "The precision of the Model is 0.9452456444610302\n"
     ]
    }
   ],
   "source": [
    "clf = DecisionTreeClassifier()\n",
    "start_time =  time.time()\n",
    "clf.fit(X_train_tfidf,y_train)\n",
    "\n",
    "y_pred = clf.predict(X_test_tfidf)\n",
    "end_time = time.time()\n",
    "time_taken =  end_time - start_time\n",
    "metric_results[\"stemmed_blob_dt_polarity_model_tfidf\"] = metric_report(y_test,y_pred,time_taken)"
   ]
  },
  {
   "cell_type": "code",
   "execution_count": 162,
   "metadata": {},
   "outputs": [
    {
     "name": "stdout",
     "output_type": "stream",
     "text": [
      "The accuracy of the Model is 0.9494294294294294\n",
      "The F-Score of the Model is 0.948909317792033\n",
      "The Recall of the Model is 0.9494294294294294\n",
      "The precision of the Model is 0.9491039474824545\n"
     ]
    }
   ],
   "source": [
    "clf = DecisionTreeClassifier()\n",
    "start_time = time.time()\n",
    "clf.fit(X_train_lemma_tfidf,y_train_lemma)\n",
    "\n",
    "y_pred = clf.predict(X_test_lemma_tfidf)\n",
    "end_time = time.time()\n",
    "time_taken =  end_time - start_time\n",
    "metric_results[\"lemmatised_blob_dt_polarity_model_tfidf\"] = metric_report(y_test_lemma,y_pred,time_taken)"
   ]
  },
  {
   "attachments": {},
   "cell_type": "markdown",
   "metadata": {},
   "source": [
    "### Random Forest ML Model"
   ]
  },
  {
   "cell_type": "code",
   "execution_count": 163,
   "metadata": {},
   "outputs": [
    {
     "name": "stdout",
     "output_type": "stream",
     "text": [
      "The accuracy of the Model is 0.9360960960960961\n",
      "The F-Score of the Model is 0.9336037006476259\n",
      "The Recall of the Model is 0.9360960960960961\n",
      "The precision of the Model is 0.936837232400787\n"
     ]
    },
    {
     "data": {
      "text/plain": [
       "{'accuracy': 0.9360960960960961,\n",
       " 'fmeasure': 0.9336037006476259,\n",
       " 'recall': 0.9360960960960961,\n",
       " 'precision': 0.936837232400787}"
      ]
     },
     "execution_count": 163,
     "metadata": {},
     "output_type": "execute_result"
    }
   ],
   "source": [
    "clf = RandomForestClassifier()\n",
    "start_time =  time.time()\n",
    "clf.fit(X_train_vec,y_train)\n",
    "\n",
    "y_pred = clf.predict(X_test_vec)\n",
    "end_time = time.time()\n",
    "time_taken =  end_time - start_time\n",
    "metric_report(y_test,y_pred,time_taken)\n"
   ]
  },
  {
   "cell_type": "markdown",
   "metadata": {},
   "source": [
    "#### Create TFIDF and CountVectorisers Stemmed and Lemmatised dataset"
   ]
  },
  {
   "cell_type": "code",
   "execution_count": 164,
   "metadata": {},
   "outputs": [
    {
     "name": "stdout",
     "output_type": "stream",
     "text": [
      "The accuracy of the Model is 0.935015015015015\n",
      "The F-Score of the Model is 0.9322547979120942\n",
      "The Recall of the Model is 0.935015015015015\n",
      "The precision of the Model is 0.93583279689924\n"
     ]
    }
   ],
   "source": [
    "clf = RandomForestClassifier()\n",
    "start_time =  time.time()\n",
    "clf.fit(X_train_vec,y_train)\n",
    "\n",
    "y_pred = clf.predict(X_test_vec)\n",
    "end_time = time.time()\n",
    "time_taken =  end_time - start_time\n",
    "\n",
    "metric_results[\"stemmed_blob_rf_polarity_model_vec\"] = metric_report(y_test,y_pred,time_taken)\n"
   ]
  },
  {
   "cell_type": "code",
   "execution_count": 165,
   "metadata": {},
   "outputs": [
    {
     "name": "stdout",
     "output_type": "stream",
     "text": [
      "The accuracy of the Model is 0.9353753753753754\n",
      "The F-Score of the Model is 0.9325606623795754\n",
      "The Recall of the Model is 0.9353753753753754\n",
      "The precision of the Model is 0.9364362043599733\n"
     ]
    }
   ],
   "source": [
    "clf = RandomForestClassifier()\n",
    "start_time = time.time()\n",
    "clf.fit(X_train_lemma_vec,y_train_lemma)\n",
    "\n",
    "y_pred = clf.predict(X_test_lemma_vec)\n",
    "end_time = time.time()\n",
    "time_taken =  end_time - start_time\n",
    "\n",
    "metric_results[\"lemmatised_blob_rf_polarity_model_vec\"] = metric_report(y_test_lemma,y_pred,time_taken)"
   ]
  },
  {
   "cell_type": "code",
   "execution_count": 166,
   "metadata": {},
   "outputs": [
    {
     "name": "stdout",
     "output_type": "stream",
     "text": [
      "The accuracy of the Model is 0.9296096096096096\n",
      "The F-Score of the Model is 0.9261793563186366\n",
      "The Recall of the Model is 0.9296096096096096\n",
      "The precision of the Model is 0.9311925579148833\n"
     ]
    }
   ],
   "source": [
    "clf = RandomForestClassifier()\n",
    "start_time = time.time()\n",
    "clf.fit(X_train_tfidf,y_train)\n",
    "\n",
    "y_pred = clf.predict(X_test_tfidf)\n",
    "end_time = time.time()\n",
    "time_taken =  end_time - start_time\n",
    "\n",
    "metric_results[\"stemmed_blob_rf_polarity_model_tfidf\"] = metric_report(y_test,y_pred,time_taken)"
   ]
  },
  {
   "cell_type": "code",
   "execution_count": 167,
   "metadata": {},
   "outputs": [
    {
     "name": "stdout",
     "output_type": "stream",
     "text": [
      "The accuracy of the Model is 0.9328528528528528\n",
      "The F-Score of the Model is 0.9298460686522566\n",
      "The Recall of the Model is 0.9328528528528528\n",
      "The precision of the Model is 0.9347692157609784\n"
     ]
    }
   ],
   "source": [
    "clf = RandomForestClassifier()\n",
    "start_time = time.time()\n",
    "clf.fit(X_train_lemma_tfidf,y_train_lemma)\n",
    "\n",
    "y_pred = clf.predict(X_test_lemma_tfidf)\n",
    "end_time = time.time()\n",
    "time_taken =  end_time - start_time\n",
    "\n",
    "metric_results[\"lemmatised_blob_rf_polarity_model_tfidf\"] = metric_report(y_test_lemma,y_pred,time_taken)"
   ]
  },
  {
   "attachments": {},
   "cell_type": "markdown",
   "metadata": {},
   "source": [
    "### Ensemble Learning"
   ]
  },
  {
   "cell_type": "markdown",
   "metadata": {},
   "source": [
    "#### Create TFIDF and CountVectorisers Stemmed and Lemmatised dataset"
   ]
  },
  {
   "cell_type": "code",
   "execution_count": 168,
   "metadata": {},
   "outputs": [
    {
     "name": "stdout",
     "output_type": "stream",
     "text": [
      "The accuracy of the Model is 0.9433033033033033\n",
      "The F-Score of the Model is 0.9415607384302315\n",
      "The Recall of the Model is 0.9433033033033033\n",
      "The precision of the Model is 0.9434388640934737\n"
     ]
    }
   ],
   "source": [
    "clf1 = DecisionTreeClassifier()\n",
    "clf2 = RandomForestClassifier()\n",
    "clf3 = SVC()\n",
    "\n",
    "# Create the ensemble classifier\n",
    "ensemble = VotingClassifier(estimators=[('dt', clf1), ('rf', clf2), ('svc', clf3)], voting='hard')\n",
    "\n",
    "# Train the ensemble classifier\n",
    "ensemble.fit(X_train_vec,y_train)\n",
    "\n",
    "# Make predictions on the test set\n",
    "y_pred = ensemble.predict(X_test_vec)\n",
    "\n",
    "# Evaluate the accuracy of the model\n",
    "metric_results[\"stemmed_blob_ensemble_polarity_model_vec\"] = metric_report(y_test,y_pred)"
   ]
  },
  {
   "cell_type": "code",
   "execution_count": 169,
   "metadata": {},
   "outputs": [
    {
     "name": "stdout",
     "output_type": "stream",
     "text": [
      "The accuracy of the Model is 0.9436636636636636\n",
      "The F-Score of the Model is 0.9419470031160481\n",
      "The Recall of the Model is 0.9436636636636636\n",
      "The precision of the Model is 0.9438231557827593\n"
     ]
    }
   ],
   "source": [
    "clf1 = DecisionTreeClassifier()\n",
    "clf2 = RandomForestClassifier()\n",
    "clf3 = SVC()\n",
    "\n",
    "# Create the ensemble classifier\n",
    "ensemble = VotingClassifier(estimators=[('dt', clf1), ('rf', clf2), ('svc', clf3)], voting='hard')\n",
    "\n",
    "# Train the ensemble classifier\n",
    "ensemble.fit(X_train_lemma_vec,y_train_lemma)\n",
    "\n",
    "# Make predictions on the test set\n",
    "y_pred = ensemble.predict(X_test_lemma_vec)\n",
    "\n",
    "# Evaluate the accuracy of the model\n",
    "metric_results[\"lemmatised_blob_ensemble_polarity_model_vec\"] = metric_report(y_test_lemma,y_pred)"
   ]
  },
  {
   "cell_type": "code",
   "execution_count": 185,
   "metadata": {},
   "outputs": [
    {
     "name": "stdout",
     "output_type": "stream",
     "text": [
      "The accuracy of the Model is 0.9463063063063063\n",
      "The F-Score of the Model is 0.9447688792838417\n",
      "The Recall of the Model is 0.9463063063063063\n",
      "The precision of the Model is 0.9462644285708736\n"
     ]
    }
   ],
   "source": [
    "clf1 = DecisionTreeClassifier()\n",
    "clf2 = RandomForestClassifier()\n",
    "clf3 = SVC()\n",
    "\n",
    "# Create the ensemble classifier\n",
    "ensemble = VotingClassifier(estimators=[('dt', clf1), ('rf', clf2), ('svc', clf3)], voting='hard')\n",
    "\n",
    "# Train the ensemble classifier\n",
    "ensemble.fit(X_train_tfidf,y_train)\n",
    "\n",
    "# Make predictions on the test set\n",
    "y_pred = ensemble.predict(X_test_tfidf)\n",
    "\n",
    "# Evaluate the accuracy of the model\n",
    "metric_results[\"stemmed_blob_ensemble_polarity_model_tfidf\"] = metric_report(y_test,y_pred)"
   ]
  },
  {
   "cell_type": "code",
   "execution_count": 171,
   "metadata": {},
   "outputs": [
    {
     "name": "stdout",
     "output_type": "stream",
     "text": [
      "The accuracy of the Model is 0.9464264264264264\n",
      "The F-Score of the Model is 0.9449215462581793\n",
      "The Recall of the Model is 0.9464264264264264\n",
      "The precision of the Model is 0.9464566693650014\n"
     ]
    }
   ],
   "source": [
    "clf1 = DecisionTreeClassifier()\n",
    "clf2 = RandomForestClassifier()\n",
    "clf3 = SVC()\n",
    "\n",
    "# Create the ensemble classifier\n",
    "ensemble = VotingClassifier(estimators=[('dt', clf1), ('rf', clf2), ('svc', clf3)], voting='hard')\n",
    "\n",
    "# Train the ensemble classifier\n",
    "ensemble.fit(X_train_lemma_tfidf,y_train_lemma)\n",
    "\n",
    "# Make predictions on the test set\n",
    "y_pred = ensemble.predict(X_test_lemma_tfidf)\n",
    "\n",
    "# Evaluate the accuracy of the model\n",
    "metric_results[\"lemmatised_blob_ensemble_polarity_model_tfidf\"] = metric_report(y_test_lemma,y_pred)"
   ]
  },
  {
   "attachments": {},
   "cell_type": "markdown",
   "metadata": {},
   "source": [
    "### Support Vector Machine Model"
   ]
  },
  {
   "cell_type": "code",
   "execution_count": 172,
   "metadata": {},
   "outputs": [
    {
     "name": "stdout",
     "output_type": "stream",
     "text": [
      "The accuracy of the Model is 0.9195195195195195\n",
      "The F-Score of the Model is 0.9166467210094491\n",
      "The Recall of the Model is 0.9195195195195195\n",
      "The precision of the Model is 0.9200134235461435\n"
     ]
    }
   ],
   "source": [
    "clf = svm.SVC(kernel = \"rbf\",random_state = 1)\n",
    "clf.fit(X_train_vec,y_train)\n",
    "svm_pred = clf.predict(X_test_vec)\n",
    "metric_results[\"stemmed_blob_svm_polarity_model_vec\"] = metric_report(y_test,svm_pred)\n"
   ]
  },
  {
   "cell_type": "code",
   "execution_count": 173,
   "metadata": {},
   "outputs": [
    {
     "name": "stdout",
     "output_type": "stream",
     "text": [
      "The accuracy of the Model is 0.9195195195195195\n",
      "The F-Score of the Model is 0.9166467210094491\n",
      "The Recall of the Model is 0.9195195195195195\n",
      "The precision of the Model is 0.9200134235461435\n"
     ]
    }
   ],
   "source": [
    "clf = svm.SVC(kernel = \"rbf\",random_state = 1)\n",
    "clf.fit(X_train_lemma_vec,y_train_lemma)\n",
    "svm_pred = clf.predict(X_test_lemma_vec)\n",
    "metric_results[\"lemmatised_blob_svm_polarity_model_vec\"] = metric_report(y_test_lemma,svm_pred)"
   ]
  },
  {
   "cell_type": "code",
   "execution_count": 174,
   "metadata": {},
   "outputs": [
    {
     "name": "stdout",
     "output_type": "stream",
     "text": [
      "The accuracy of the Model is 0.9314114114114114\n",
      "The F-Score of the Model is 0.929749243081742\n",
      "The Recall of the Model is 0.9314114114114114\n",
      "The precision of the Model is 0.9316896198518955\n"
     ]
    }
   ],
   "source": [
    "clf = svm.SVC(kernel = \"rbf\",random_state = 1)\n",
    "clf.fit(X_train_tfidf,y_train)\n",
    "svm_pred = clf.predict(X_test_tfidf)\n",
    "metric_results[\"stemmed_blob_svm_polarity_model_tfidf\"] = metric_report(y_test,svm_pred)"
   ]
  },
  {
   "cell_type": "code",
   "execution_count": 175,
   "metadata": {},
   "outputs": [
    {
     "name": "stdout",
     "output_type": "stream",
     "text": [
      "The accuracy of the Model is 0.9314114114114114\n",
      "The F-Score of the Model is 0.929749243081742\n",
      "The Recall of the Model is 0.9314114114114114\n",
      "The precision of the Model is 0.9316896198518955\n"
     ]
    }
   ],
   "source": [
    "clf = svm.SVC(kernel = \"rbf\",random_state = 1)\n",
    "clf.fit(X_train_lemma_tfidf,y_train_lemma)\n",
    "svm_pred = clf.predict(X_test_lemma_tfidf)\n",
    "metric_results[\"lemmatised_blob_svm_polarity_model_tfidf\"] = metric_report(y_test_lemma,svm_pred)"
   ]
  },
  {
   "cell_type": "markdown",
   "metadata": {},
   "source": [
    "### Neural Network Model\n",
    "\n"
   ]
  },
  {
   "cell_type": "code",
   "execution_count": 176,
   "metadata": {},
   "outputs": [
    {
     "name": "stdout",
     "output_type": "stream",
     "text": [
      "The accuracy of the Model is 0.9580780780780781\n",
      "The F-Score of the Model is 0.9577992765242112\n",
      "The Recall of the Model is 0.9580780780780781\n",
      "The precision of the Model is 0.9577460050803656\n"
     ]
    }
   ],
   "source": [
    "from sklearn.neural_network import MLPClassifier\n",
    "\n",
    "clf = MLPClassifier(solver = \"lbfgs\", alpha = 1e-5, \n",
    "                    hidden_layer_sizes =(128,), random_state=1, max_iter = 1000)\n",
    "clf.fit(X_train_vec,y_train)\n",
    "\n",
    "nn_pred = clf.predict(X_test_vec)\n",
    "metric_results[\"stemmed_blob_nn_polarity_model_vec\"] = metric_report(y_test,nn_pred)"
   ]
  },
  {
   "cell_type": "code",
   "execution_count": 177,
   "metadata": {},
   "outputs": [
    {
     "name": "stdout",
     "output_type": "stream",
     "text": [
      "The accuracy of the Model is 0.9580780780780781\n",
      "The F-Score of the Model is 0.9577992765242112\n",
      "The Recall of the Model is 0.9580780780780781\n",
      "The precision of the Model is 0.9577460050803656\n"
     ]
    }
   ],
   "source": [
    "clf = MLPClassifier(solver = \"lbfgs\", alpha = 1e-5, \n",
    "                    hidden_layer_sizes =(128,), random_state=1, max_iter = 1000)\n",
    "clf.fit(X_train_lemma_vec,y_train_lemma)\n",
    "\n",
    "nn_pred = clf.predict(X_test_lemma_vec)\n",
    "metric_results[\"lemmatised_blob_nn_polarity_model_vec\"] = metric_report(y_test_lemma,nn_pred)"
   ]
  },
  {
   "cell_type": "code",
   "execution_count": 178,
   "metadata": {},
   "outputs": [
    {
     "name": "stdout",
     "output_type": "stream",
     "text": [
      "The accuracy of the Model is 0.9547147147147147\n",
      "The F-Score of the Model is 0.9544213735661535\n",
      "The Recall of the Model is 0.9547147147147147\n",
      "The precision of the Model is 0.9544346951766454\n"
     ]
    }
   ],
   "source": [
    "clf = MLPClassifier(solver = \"lbfgs\", alpha = 1e-5, \n",
    "                    hidden_layer_sizes =(128,), random_state=1, max_iter = 1000)\n",
    "clf.fit(X_train_tfidf,y_train)\n",
    "\n",
    "nn_pred = clf.predict(X_test_tfidf)\n",
    "metric_results[\"stemmed_blob_nn_polarity_model_tfidf\"] = metric_report(y_test,nn_pred)"
   ]
  },
  {
   "cell_type": "code",
   "execution_count": 179,
   "metadata": {},
   "outputs": [
    {
     "name": "stdout",
     "output_type": "stream",
     "text": [
      "The accuracy of the Model is 0.9547147147147147\n",
      "The F-Score of the Model is 0.9544213735661535\n",
      "The Recall of the Model is 0.9547147147147147\n",
      "The precision of the Model is 0.9544346951766454\n"
     ]
    }
   ],
   "source": [
    "clf = MLPClassifier(solver = \"lbfgs\", alpha = 1e-5, \n",
    "                    hidden_layer_sizes =(128,), random_state=1, max_iter = 1000)\n",
    "clf.fit(X_train_lemma_tfidf,y_train_lemma)\n",
    "\n",
    "nn_pred = clf.predict(X_test_lemma_tfidf)\n",
    "metric_results[\"lemmatised_blob_nn_polarity_model_tfidf\"] = metric_report(y_test_lemma,nn_pred)"
   ]
  },
  {
   "attachments": {},
   "cell_type": "markdown",
   "metadata": {},
   "source": [
    "#### TensorFlow "
   ]
  },
  {
   "cell_type": "code",
   "execution_count": 204,
   "metadata": {},
   "outputs": [
    {
     "name": "stdout",
     "output_type": "stream",
     "text": [
      "Epoch 1/5\n",
      "1041/1041 [==============================] - 44s 41ms/step - loss: 0.3712 - accuracy: 0.8727 - val_loss: 0.1856 - val_accuracy: 0.9429\n",
      "Epoch 2/5\n",
      "1041/1041 [==============================] - 43s 41ms/step - loss: 0.0633 - accuracy: 0.9825 - val_loss: 0.1714 - val_accuracy: 0.9473\n",
      "Epoch 3/5\n",
      "1041/1041 [==============================] - 44s 43ms/step - loss: 0.0222 - accuracy: 0.9943 - val_loss: 0.1774 - val_accuracy: 0.9499\n",
      "Epoch 4/5\n",
      "1041/1041 [==============================] - 42s 41ms/step - loss: 0.0096 - accuracy: 0.9977 - val_loss: 0.1741 - val_accuracy: 0.9509\n",
      "Epoch 5/5\n",
      "1041/1041 [==============================] - 42s 40ms/step - loss: 0.0043 - accuracy: 0.9992 - val_loss: 0.2142 - val_accuracy: 0.9464\n",
      "261/261 [==============================] - 0s 866us/step - loss: 0.1714 - accuracy: 0.9473\n",
      "Test loss: 0.1714007556438446\n",
      "Test accuracy: 0.9472672939300537\n"
     ]
    }
   ],
   "source": [
    "# Define the model architecture\n",
    "model_vec2 = tf.keras.Sequential([\n",
    "    tf.keras.layers.Input(shape = (X_train_vec.shape[1],)),\n",
    "    tf.keras.layers.Dense(128, activation=\"relu\"),\n",
    "    tf.keras.layers.Dense(3, activation=\"sigmoid\")\n",
    "])\n",
    "\n",
    "# Compile the model_tfidf\n",
    "model_vec2.compile(loss=\"sparse_categorical_crossentropy\", optimizer=tf.keras.optimizers.Adam(learning_rate=0.001), metrics=[\"accuracy\"])\n",
    "\n",
    "# Define callbacks\n",
    "early_stopping = tf.keras.callbacks.EarlyStopping(monitor=\"val_loss\", patience=10)\n",
    "model_checkpoint = tf.keras.callbacks.ModelCheckpoint(\"model_polarity_vec2.h5\", save_best_only=True)\n",
    "\n",
    "# Train the model_tfidf\n",
    "history_vec2 = model_vec2.fit(X_train_vec, y_train, epochs=5, batch_size=32, validation_data=(X_test_vec, y_test), callbacks=[early_stopping, model_checkpoint])\n",
    "\n",
    "# Evaluate the model_tfidf on the test set\n",
    "model_vec2.load_weights(\"model_polarity_vec2.h5\")\n",
    "test_loss, test_acc = model_vec2.evaluate(X_test_vec, y_test)\n",
    "print(\"Test loss:\", test_loss)\n",
    "print(\"Test accuracy:\", test_acc)"
   ]
  },
  {
   "cell_type": "code",
   "execution_count": 205,
   "metadata": {},
   "outputs": [
    {
     "name": "stdout",
     "output_type": "stream",
     "text": [
      "Epoch 1/5\n",
      "1041/1041 [==============================] - 43s 40ms/step - loss: 0.3765 - accuracy: 0.8688 - val_loss: 0.1892 - val_accuracy: 0.9426\n",
      "Epoch 2/5\n",
      "1041/1041 [==============================] - 42s 40ms/step - loss: 0.0640 - accuracy: 0.9835 - val_loss: 0.1683 - val_accuracy: 0.9491\n",
      "Epoch 3/5\n",
      "1041/1041 [==============================] - 43s 41ms/step - loss: 0.0207 - accuracy: 0.9948 - val_loss: 0.1737 - val_accuracy: 0.9505\n",
      "Epoch 4/5\n",
      "1041/1041 [==============================] - 42s 40ms/step - loss: 0.0090 - accuracy: 0.9979 - val_loss: 0.1938 - val_accuracy: 0.9502\n",
      "Epoch 5/5\n",
      "1041/1041 [==============================] - 42s 40ms/step - loss: 0.0094 - accuracy: 0.9974 - val_loss: 0.2339 - val_accuracy: 0.9452\n",
      "261/261 [==============================] - 0s 877us/step - loss: 0.1683 - accuracy: 0.9491\n",
      "Test loss: 0.16829249262809753\n",
      "Test accuracy: 0.949069082736969\n"
     ]
    }
   ],
   "source": [
    "# Define the model architecture\n",
    "model_lemma_vec2 = tf.keras.Sequential([\n",
    "    tf.keras.layers.Input(shape = (X_train_lemma_vec.shape[1],)),\n",
    "    tf.keras.layers.Dense(128, activation=\"relu\"),\n",
    "    tf.keras.layers.Dense(3, activation=\"sigmoid\")\n",
    "])\n",
    "\n",
    "# Compile the model_tfidf\n",
    "model_lemma_vec2.compile(loss=\"sparse_categorical_crossentropy\", optimizer=tf.keras.optimizers.Adam(learning_rate=0.001), metrics=[\"accuracy\"])\n",
    "\n",
    "# Define callbacks\n",
    "early_stopping = tf.keras.callbacks.EarlyStopping(monitor=\"val_loss\", patience=10)\n",
    "model_checkpoint = tf.keras.callbacks.ModelCheckpoint(\"model_polarity_lemma_vec2.h5\", save_best_only=True)\n",
    "\n",
    "# Train the model_tfidf\n",
    "history_lemma_vec2 = model_lemma_vec2.fit(X_train_lemma_vec, y_train, epochs=5, batch_size=32, validation_data=(X_test_lemma_vec, y_test), callbacks=[early_stopping, model_checkpoint])\n",
    "\n",
    "# Evaluate the model_tfidf on the test set\n",
    "model_lemma_vec2.load_weights(\"model_polarity_lemma_vec2.h5\")\n",
    "test_loss, test_acc = model_lemma_vec2.evaluate(X_test_vec, y_test)\n",
    "print(\"Test loss:\", test_loss)\n",
    "print(\"Test accuracy:\", test_acc)"
   ]
  },
  {
   "cell_type": "code",
   "execution_count": 187,
   "metadata": {},
   "outputs": [
    {
     "name": "stdout",
     "output_type": "stream",
     "text": [
      "Epoch 1/5\n",
      "1041/1041 [==============================] - 43s 41ms/step - loss: 0.4685 - accuracy: 0.8305 - val_loss: 0.2109 - val_accuracy: 0.9390\n",
      "Epoch 2/5\n",
      "1041/1041 [==============================] - 42s 40ms/step - loss: 0.0768 - accuracy: 0.9827 - val_loss: 0.1580 - val_accuracy: 0.9508\n",
      "Epoch 3/5\n",
      "1041/1041 [==============================] - 42s 40ms/step - loss: 0.0258 - accuracy: 0.9953 - val_loss: 0.1556 - val_accuracy: 0.9483\n",
      "Epoch 4/5\n",
      "1041/1041 [==============================] - 42s 40ms/step - loss: 0.0104 - accuracy: 0.9986 - val_loss: 0.1729 - val_accuracy: 0.9446\n",
      "Epoch 5/5\n",
      "1041/1041 [==============================] - 40s 38ms/step - loss: 0.0043 - accuracy: 0.9997 - val_loss: 0.1704 - val_accuracy: 0.9467\n",
      "261/261 [==============================] - 0s 912us/step - loss: 0.1556 - accuracy: 0.9483\n",
      "Test loss: 0.15555912256240845\n",
      "Test accuracy: 0.948348343372345\n"
     ]
    }
   ],
   "source": [
    "# Define the model architecture\n",
    "model_tfidf = tf.keras.Sequential([\n",
    "    tf.keras.layers.Input(shape = (X_train_tfidf.shape[1],)),\n",
    "    tf.keras.layers.Dense(128, activation=\"relu\"),\n",
    "    tf.keras.layers.Dense(3, activation=\"sigmoid\")\n",
    "])\n",
    "\n",
    "# Compile the model_tfidf\n",
    "model_tfidf.compile(loss=\"sparse_categorical_crossentropy\", optimizer=tf.keras.optimizers.Adam(learning_rate=0.001), metrics=[\"accuracy\"])\n",
    "\n",
    "# Define callbacks\n",
    "early_stopping = tf.keras.callbacks.EarlyStopping(monitor=\"val_loss\", patience=10)\n",
    "model_checkpoint = tf.keras.callbacks.ModelCheckpoint(\"model_polarity_tfidf.h5\", save_best_only=True)\n",
    "\n",
    "# Train the model_tfidf\n",
    "history_tfidf = model_tfidf.fit(X_train_tfidf, y_train, epochs=5, batch_size=32, validation_data=(X_test_tfidf, y_test), callbacks=[early_stopping, model_checkpoint])\n",
    "\n",
    "# Evaluate the model_tfidf on the test set\n",
    "model_tfidf.load_weights(\"model_polarity_tfidf.h5\")\n",
    "test_loss, test_acc = model_tfidf.evaluate(X_test_tfidf, y_test)\n",
    "print(\"Test loss:\", test_loss)\n",
    "print(\"Test accuracy:\", test_acc)"
   ]
  },
  {
   "cell_type": "code",
   "execution_count": 188,
   "metadata": {},
   "outputs": [
    {
     "name": "stdout",
     "output_type": "stream",
     "text": [
      "Epoch 1/5\n",
      "1041/1041 [==============================] - 40s 38ms/step - loss: 0.4750 - accuracy: 0.8319 - val_loss: 0.2032 - val_accuracy: 0.9407\n",
      "Epoch 2/5\n",
      "1041/1041 [==============================] - 42s 40ms/step - loss: 0.0766 - accuracy: 0.9824 - val_loss: 0.1580 - val_accuracy: 0.9506\n",
      "Epoch 3/5\n",
      "1041/1041 [==============================] - 44s 42ms/step - loss: 0.0254 - accuracy: 0.9950 - val_loss: 0.1601 - val_accuracy: 0.9450\n",
      "Epoch 4/5\n",
      "1041/1041 [==============================] - 43s 42ms/step - loss: 0.0105 - accuracy: 0.9984 - val_loss: 0.1600 - val_accuracy: 0.9481\n",
      "Epoch 5/5\n",
      "1041/1041 [==============================] - 44s 42ms/step - loss: 0.0045 - accuracy: 0.9996 - val_loss: 0.1741 - val_accuracy: 0.9462\n",
      "261/261 [==============================] - 0s 877us/step - loss: 0.1580 - accuracy: 0.9506\n",
      "Test loss: 0.15801456570625305\n",
      "Test accuracy: 0.9506306052207947\n"
     ]
    }
   ],
   "source": [
    "# Define the model architecture\n",
    "model_lemma_tfidf = tf.keras.Sequential([\n",
    "    tf.keras.layers.Input(shape = (X_train_lemma_tfidf.shape[1],)),\n",
    "    tf.keras.layers.Dense(128, activation=\"relu\"),\n",
    "    tf.keras.layers.Dense(3, activation=\"sigmoid\")\n",
    "])\n",
    "\n",
    "# Compile the model_lemma_tfidf\n",
    "model_lemma_tfidf.compile(loss=\"sparse_categorical_crossentropy\", optimizer=tf.keras.optimizers.Adam(learning_rate=0.001), metrics=[\"accuracy\"])\n",
    "\n",
    "# Define callbacks\n",
    "early_stopping = tf.keras.callbacks.EarlyStopping(monitor=\"val_loss\", patience=10)\n",
    "model_checkpoint = tf.keras.callbacks.ModelCheckpoint(\"model_polarity_lemma_tfidf.h5\", save_best_only=True)\n",
    "\n",
    "# Train the model_lemma_tfidf\n",
    "history_lemma_tfidf = model_lemma_tfidf.fit(X_train_lemma_tfidf, y_train_lemma, epochs=5, batch_size=32, validation_data=(X_test_lemma_tfidf, y_test_lemma), callbacks=[early_stopping, model_checkpoint])\n",
    "\n",
    "# Evaluate the model_lemma_tfidf on the test set\n",
    "model_lemma_tfidf.load_weights(\"model_polarity_lemma_tfidf.h5\")\n",
    "test_loss, test_acc = model_lemma_tfidf.evaluate(X_test_lemma_tfidf, y_test_lemma)\n",
    "print(\"Test loss:\", test_loss)\n",
    "print(\"Test accuracy:\", test_acc)"
   ]
  },
  {
   "cell_type": "code",
   "execution_count": 189,
   "metadata": {},
   "outputs": [
    {
     "name": "stdout",
     "output_type": "stream",
     "text": [
      "Epoch 1/5\n",
      "1041/1041 [==============================] - 65s 60ms/step - loss: 0.2264 - accuracy: 0.9072 - val_loss: 0.0882 - val_accuracy: 0.9696\n",
      "Epoch 2/5\n",
      "1041/1041 [==============================] - 57s 55ms/step - loss: 0.0473 - accuracy: 0.9836 - val_loss: 0.0908 - val_accuracy: 0.9658\n",
      "Epoch 3/5\n",
      "1041/1041 [==============================] - 59s 56ms/step - loss: 0.0195 - accuracy: 0.9928 - val_loss: 0.1169 - val_accuracy: 0.9635\n",
      "Epoch 4/5\n",
      "1041/1041 [==============================] - 59s 56ms/step - loss: 0.0088 - accuracy: 0.9971 - val_loss: 0.1405 - val_accuracy: 0.9606\n",
      "Epoch 5/5\n",
      "1041/1041 [==============================] - 59s 57ms/step - loss: 0.0061 - accuracy: 0.9979 - val_loss: 0.1585 - val_accuracy: 0.9604\n",
      "261/261 [==============================] - 3s 11ms/step - loss: 0.0882 - accuracy: 0.9696\n",
      "Test loss: 0.08819479495286942\n",
      "Test accuracy: 0.9696096181869507\n"
     ]
    }
   ],
   "source": [
    "tokenizer = Tokenizer(num_words=2000000, oov_token=\"<OOV>\")\n",
    "tokenizer.fit_on_texts(X_train_subj)\n",
    "word_index = tokenizer.word_index\n",
    "\n",
    "train_sequences = tokenizer.texts_to_sequences(X_train_subj)\n",
    "test_sequence = tokenizer.texts_to_sequences(X_test_subj)\n",
    "\n",
    "pad_train = pad_sequences(train_sequences)\n",
    "T = pad_train.shape[1]\n",
    "pad_test = pad_sequences(test_sequence,T)\n",
    "\n",
    "# Define the model architecture\n",
    "model_vec = tf.keras.Sequential([\n",
    "    tf.keras.layers.Input(shape = (T,)),\n",
    "    tf.keras.layers.Embedding(input_dim=len(word_index) + 1, output_dim=100, input_length=10, trainable=True),\n",
    "    tf.keras.layers.Bidirectional(tf.keras.layers.LSTM(64, return_sequences=True)),\n",
    "    tf.keras.layers.GlobalMaxPooling1D(),\n",
    "    tf.keras.layers.Dense(64, activation=\"relu\"),\n",
    "    # tf.keras.layers.Dropout(0.5),\n",
    "    tf.keras.layers.Dense(3, activation=\"sigmoid\")\n",
    "])\n",
    "\n",
    "# Compile the model_vec\n",
    "model_vec.compile(loss=\"sparse_categorical_crossentropy\", optimizer=tf.keras.optimizers.Adam(learning_rate=0.001), metrics=[\"accuracy\"])\n",
    "\n",
    "# Define callbacks\n",
    "early_stopping = tf.keras.callbacks.EarlyStopping(monitor=\"val_loss\", patience=10)\n",
    "model_checkpoint = tf.keras.callbacks.ModelCheckpoint(\"model_polarity_vec.h5\", save_best_only=True)\n",
    "\n",
    "# Train the model_vec\n",
    "history_subjectivity_tokenizer = model_vec.fit(pad_train, y_train_subj, epochs=5, batch_size=32, validation_data=(pad_test, y_test_subj), callbacks=[early_stopping, model_checkpoint])\n",
    "\n",
    "# Evaluate the model_vec on the test set\n",
    "model_vec.load_weights(\"model_polarity_vec.h5\")\n",
    "test_loss, test_acc = model_vec.evaluate(pad_test, y_test_subj)\n",
    "print(\"Test loss:\", test_loss)\n",
    "print(\"Test accuracy:\", test_acc)"
   ]
  },
  {
   "cell_type": "code",
   "execution_count": 190,
   "metadata": {},
   "outputs": [
    {
     "name": "stdout",
     "output_type": "stream",
     "text": [
      "Epoch 1/5\n",
      "1041/1041 [==============================] - 54s 49ms/step - loss: 0.2821 - accuracy: 0.8937 - val_loss: 0.0976 - val_accuracy: 0.9714\n",
      "Epoch 2/5\n",
      "1041/1041 [==============================] - 51s 49ms/step - loss: 0.0514 - accuracy: 0.9854 - val_loss: 0.0693 - val_accuracy: 0.9805\n",
      "Epoch 3/5\n",
      "1041/1041 [==============================] - 51s 49ms/step - loss: 0.0252 - accuracy: 0.9922 - val_loss: 0.0818 - val_accuracy: 0.9784\n",
      "Epoch 4/5\n",
      "1041/1041 [==============================] - 52s 50ms/step - loss: 0.0138 - accuracy: 0.9957 - val_loss: 0.1033 - val_accuracy: 0.9723\n",
      "Epoch 5/5\n",
      "1041/1041 [==============================] - 51s 49ms/step - loss: 0.0078 - accuracy: 0.9975 - val_loss: 0.1095 - val_accuracy: 0.9715\n",
      "261/261 [==============================] - 2s 8ms/step - loss: 0.0693 - accuracy: 0.9805\n",
      "Test loss: 0.06930582970380783\n",
      "Test accuracy: 0.9805405139923096\n"
     ]
    }
   ],
   "source": [
    "# Tokenise words by splittign them up.\n",
    "tokenizer = Tokenizer(num_words=2000000, oov_token=\"<OOV>\")\n",
    "tokenizer.fit_on_texts(X_train)\n",
    "# Creates a dictionary of each word.\n",
    "word_index = tokenizer.word_index\n",
    "#Transforms each text into a sequence of interger from the word_index dictionary\n",
    "train_sequences = tokenizer.texts_to_sequences(X_train)\n",
    "test_sequence = tokenizer.texts_to_sequences(X_test)\n",
    "\n",
    "# Pad the train sequence and make sure that the test sequence are of same length\n",
    "pad_train = pad_sequences(train_sequences)\n",
    "T = pad_train.shape[1]\n",
    "pad_test = pad_sequences(test_sequence,T)\n",
    "\n",
    "# Define the model_lemma_vec architecture\n",
    "model_lemma_vec = tf.keras.Sequential([\n",
    "    tf.keras.layers.Input(shape = (T,)),\n",
    "    tf.keras.layers.Embedding(input_dim=len(word_index) + 1, output_dim=100, input_length=10, trainable=True),\n",
    "    tf.keras.layers.Bidirectional(tf.keras.layers.LSTM(64, return_sequences=True)),\n",
    "    tf.keras.layers.GlobalMaxPooling1D(),\n",
    "    tf.keras.layers.Dense(64, activation=\"relu\"),\n",
    "    # tf.keras.layers.Dropout(0.5),\n",
    "    tf.keras.layers.Dense(3, activation=\"softmax\") #Inclusive of Positive/Negative/Neutral -> May need to remove neutral from dataset.\n",
    "])\n",
    "\n",
    "# Compile the model_lemma_vec\n",
    "model_lemma_vec.compile(loss=\"sparse_categorical_crossentropy\", optimizer=tf.keras.optimizers.Adam(learning_rate=0.001), metrics=[\"accuracy\"])\n",
    "\n",
    "# Define callbacks\n",
    "early_stopping = tf.keras.callbacks.EarlyStopping(monitor=\"val_loss\", patience=10)\n",
    "model_checkpoint = tf.keras.callbacks.ModelCheckpoint(\"model_polarity_lemma_vec.h5\", save_best_only=True)\n",
    "\n",
    "# Train the model_lemma_vec\n",
    "history = model_lemma_vec.fit(pad_train, y_train, epochs=5, batch_size=32, validation_data=(pad_test, y_test), callbacks=[early_stopping, model_checkpoint])\n",
    "\n",
    "# Evaluate the model_lemma_vec on the test set\n",
    "model_lemma_vec.load_weights(\"model_polarity_lemma_vec.h5\")\n",
    "test_loss, test_acc = model_lemma_vec.evaluate(pad_test, y_test)\n",
    "print(\"Test loss:\", test_loss)\n",
    "print(\"Test accuracy:\", test_acc)"
   ]
  },
  {
   "cell_type": "code",
   "execution_count": 200,
   "metadata": {},
   "outputs": [
    {
     "name": "stdout",
     "output_type": "stream",
     "text": [
      "stemmed_nltk_nb_model_vec\n",
      "accuracy: 0.7054654654654655\n",
      "fmeasure: 0.7018643848895197\n",
      "recall: 0.7054654654654655\n",
      "precision: 0.7332712171509903\n",
      "lemmatised_nltk_nb_model_vec\n",
      "accuracy: 0.7054654654654655\n",
      "fmeasure: 0.7018643848895197\n",
      "recall: 0.7054654654654655\n",
      "precision: 0.7332712171509903\n",
      "stemmed_nltk_nb_model_tfidf\n",
      "accuracy: 0.6147747747747748\n",
      "fmeasure: 0.5855929678555499\n",
      "recall: 0.6147747747747748\n",
      "precision: 0.734270022612147\n",
      "lemmatised_nltk_nb_model_tfidf\n",
      "accuracy: 0.6147747747747748\n",
      "fmeasure: 0.5855929678555499\n",
      "recall: 0.6147747747747748\n",
      "precision: 0.734270022612147\n",
      "stemmed_nltk_dt_model_vec\n",
      "accuracy: 0.8864864864864865\n",
      "fmeasure: 0.8862739029363627\n",
      "recall: 0.8864864864864865\n",
      "precision: 0.8863094846094337\n",
      "lemmatised_nltk_dt_model_vec\n",
      "accuracy: 0.8236636636636636\n",
      "fmeasure: 0.8213140005332854\n",
      "recall: 0.8236636636636636\n",
      "precision: 0.820813759528621\n",
      "stemmed_nltk_dt_model_tfidf\n",
      "accuracy: 0.8251051051051052\n",
      "fmeasure: 0.8231061091560683\n",
      "recall: 0.8251051051051052\n",
      "precision: 0.8224315038432354\n",
      "stemmed_nltk_ensemble_model_vec\n",
      "accuracy: 0.8900900900900901\n",
      "fmeasure: 0.8878484805150082\n",
      "recall: 0.8900900900900901\n",
      "precision: 0.8901941318511759\n",
      "lemmatised_nltk_ensemble_model_vec\n",
      "accuracy: 0.8906906906906907\n",
      "fmeasure: 0.8885155720656386\n",
      "recall: 0.8906906906906907\n",
      "precision: 0.8909688534185558\n",
      "stemmed_nltk_ensemble_model_tfidf\n",
      "accuracy: 0.8791591591591592\n",
      "fmeasure: 0.8762039783055441\n",
      "recall: 0.8791591591591592\n",
      "precision: 0.8798045768571\n",
      "lemmatised_nltk_ensemble_model_tfidf\n",
      "accuracy: 0.877957957957958\n",
      "fmeasure: 0.8751548347908329\n",
      "recall: 0.877957957957958\n",
      "precision: 0.8781368317610833\n",
      "stemmed_nltk_svm_model_vec\n",
      "accuracy: 0.8646246246246246\n",
      "fmeasure: 0.8620136771074409\n",
      "recall: 0.8646246246246246\n",
      "precision: 0.865907932511726\n",
      "lemmatised_nltk_svm_model_vec\n",
      "accuracy: 0.8646246246246246\n",
      "fmeasure: 0.8620136771074409\n",
      "recall: 0.8646246246246246\n",
      "precision: 0.865907932511726\n",
      "stemmed_nltk_svm_model_tfidf\n",
      "accuracy: 0.8820420420420421\n",
      "fmeasure: 0.8802140136957307\n",
      "recall: 0.8820420420420421\n",
      "precision: 0.8827941980829496\n",
      "lemmatised_nltk_svm_model_tfidf\n",
      "accuracy: 0.8820420420420421\n",
      "fmeasure: 0.8802140136957307\n",
      "recall: 0.8820420420420421\n",
      "precision: 0.8827941980829496\n",
      "stemmed_nltk_nn_model_vec\n",
      "accuracy: 0.8974174174174174\n",
      "fmeasure: 0.8969378816815435\n",
      "recall: 0.8974174174174174\n",
      "precision: 0.8968173134889869\n",
      "lemmatised_nltk_nn_model_vec\n",
      "accuracy: 0.8974174174174174\n",
      "fmeasure: 0.8969378816815435\n",
      "recall: 0.8974174174174174\n",
      "precision: 0.8968173134889869\n",
      "stemmed_nltk_nn_model_tfidf\n",
      "accuracy: 0.8421621621621621\n",
      "fmeasure: 0.8418575161484353\n",
      "recall: 0.8421621621621621\n",
      "precision: 0.8416475578655831\n",
      "lemmatised_nltk_nn_model_tfidf\n",
      "accuracy: 0.8421621621621621\n",
      "fmeasure: 0.8418575161484353\n",
      "recall: 0.8421621621621621\n",
      "precision: 0.8416475578655831\n",
      "stemmed_blob_nb_subj_model_vec\n",
      "accuracy: 0.8518918918918919\n",
      "fmeasure: 0.8412657012693125\n",
      "recall: 0.8518918918918919\n",
      "precision: 0.8455468361536951\n",
      "lemmatised_blob_nb_subj_model_vec\n",
      "accuracy: 0.8518918918918919\n",
      "fmeasure: 0.8412657012693125\n",
      "recall: 0.8518918918918919\n",
      "precision: 0.8455468361536951\n",
      "stemmed_blob_nb_subj_model_tfidf\n",
      "accuracy: 0.7670870870870871\n",
      "fmeasure: 0.6736275822619899\n",
      "recall: 0.7670870870870871\n",
      "precision: 0.8146682559483895\n",
      "lemmatised_blob_nb_subj_model_tfidf\n",
      "accuracy: 0.7670870870870871\n",
      "fmeasure: 0.6736275822619899\n",
      "recall: 0.7670870870870871\n",
      "precision: 0.8146682559483895\n",
      "stemmed_blob_dt_subj_model_vec\n",
      "accuracy: 0.9293693693693694\n",
      "fmeasure: 0.9303159879302804\n",
      "recall: 0.9293693693693694\n",
      "precision: 0.9321961070108131\n",
      "lemmatised_blob_dt_subj_model_vec\n",
      "accuracy: 0.9324924924924924\n",
      "fmeasure: 0.9333468125550451\n",
      "recall: 0.9324924924924924\n",
      "precision: 0.9350337977880558\n",
      "stemmed_blob_dt_subj_model_tfidf\n",
      "accuracy: 0.9212012012012012\n",
      "fmeasure: 0.9222102292624529\n",
      "recall: 0.9212012012012012\n",
      "precision: 0.9240547557626217\n",
      "lemmatised_blob_dt_subj_model_tfidf\n",
      "accuracy: 0.9177177177177177\n",
      "fmeasure: 0.9187032462372534\n",
      "recall: 0.9177177177177177\n",
      "precision: 0.9204105545380131\n",
      "stemmed_blob_rf_subj_model_vec\n",
      "accuracy: 0.9348948948948949\n",
      "fmeasure: 0.935449079877865\n",
      "recall: 0.9348948948948949\n",
      "precision: 0.9363709660241792\n",
      "lemmatised_blob_rf_subj_model_vec\n",
      "accuracy: 0.9321321321321321\n",
      "fmeasure: 0.9326938447805835\n",
      "recall: 0.9321321321321321\n",
      "precision: 0.9336008259086874\n",
      "stemmed_blob_rf_subj_model_tfidf\n",
      "accuracy: 0.9270870870870871\n",
      "fmeasure: 0.9264190436213007\n",
      "recall: 0.9270870870870871\n",
      "precision: 0.9261287589801048\n",
      "lemmatised_blob_rf_subj_model_tfidf\n",
      "accuracy: 0.9287687687687688\n",
      "fmeasure: 0.9284015076977401\n",
      "recall: 0.9287687687687688\n",
      "precision: 0.9281569036829755\n",
      "stemmed_blob_ensemble_subj_model_vec\n",
      "accuracy: 0.9404204204204204\n",
      "fmeasure: 0.940610697552077\n",
      "recall: 0.9404204204204204\n",
      "precision: 0.9408515270851364\n",
      "lemmatised_blob_ensemble_subj_model_vec\n",
      "accuracy: 0.9412612612612613\n",
      "fmeasure: 0.9414147274857969\n",
      "recall: 0.9412612612612613\n",
      "precision: 0.9416019611114186\n",
      "stemmed_blob_ensemble_subj_model_tfidf\n",
      "accuracy: 0.935015015015015\n",
      "fmeasure: 0.9344556499045942\n",
      "recall: 0.935015015015015\n",
      "precision: 0.9342361375283592\n",
      "lemmatised_blob_ensemble_subj_model_tfidf\n",
      "accuracy: 0.938978978978979\n",
      "fmeasure: 0.938778050733246\n",
      "recall: 0.938978978978979\n",
      "precision: 0.9386287126091644\n",
      "stemmed_blob_svm_subj_model_vec\n",
      "accuracy: 0.9216816816816816\n",
      "fmeasure: 0.9192121972799121\n",
      "recall: 0.9216816816816816\n",
      "precision: 0.9207352194832221\n",
      "lemmatised_blob_svm_subj_model_vec\n",
      "accuracy: 0.9216816816816816\n",
      "fmeasure: 0.9192121972799121\n",
      "recall: 0.9216816816816816\n",
      "precision: 0.9207352194832221\n",
      "stemmed_blob_svm_subj_model_tfidf\n",
      "accuracy: 0.9243243243243243\n",
      "fmeasure: 0.9217699992803162\n",
      "recall: 0.9243243243243243\n",
      "precision: 0.9237787942702758\n",
      "lemmatised_blob_svm_subj_model_tfidf\n",
      "accuracy: 0.9243243243243243\n",
      "fmeasure: 0.9217699992803162\n",
      "recall: 0.9243243243243243\n",
      "precision: 0.9237787942702758\n",
      "stemmed_blob_nn_subj_model_vec\n",
      "accuracy: 0.961081081081081\n",
      "fmeasure: 0.961047735028928\n",
      "recall: 0.961081081081081\n",
      "precision: 0.9610180835410127\n",
      "lemmatised_blob_nn_subj_model_vec\n",
      "accuracy: 0.961081081081081\n",
      "fmeasure: 0.961047735028928\n",
      "recall: 0.961081081081081\n",
      "precision: 0.9610180835410127\n",
      "stemmed_blob_nn_subj_model_tfidf\n",
      "accuracy: 0.956996996996997\n",
      "fmeasure: 0.9569080686704163\n",
      "recall: 0.956996996996997\n",
      "precision: 0.9568403533686813\n",
      "lemmatised_blob_nn_subj_model_tfidf\n",
      "accuracy: 0.956996996996997\n",
      "fmeasure: 0.9569080686704163\n",
      "recall: 0.956996996996997\n",
      "precision: 0.9568403533686813\n",
      "lemmatised_blob_nb_polariy_model_vec\n",
      "accuracy: 0.7733333333333333\n",
      "fmeasure: 0.773217053356841\n",
      "recall: 0.7733333333333333\n",
      "precision: 0.8016379954346353\n",
      "stemmed_blob_nb_polarity_model_tfidf\n",
      "accuracy: 0.7541141141141141\n",
      "fmeasure: 0.6991418931650587\n",
      "recall: 0.7541141141141141\n",
      "precision: 0.8099015145935934\n",
      "lemmatised_blob_nb_polarity_model_tfidf\n",
      "accuracy: 0.7541141141141141\n",
      "fmeasure: 0.6991418931650587\n",
      "recall: 0.7541141141141141\n",
      "precision: 0.8099015145935934\n",
      "stemmed_blob_dt_polarity_model_vec\n",
      "accuracy: 0.9512312312312312\n",
      "fmeasure: 0.9508977495404318\n",
      "recall: 0.9512312312312312\n",
      "precision: 0.9509132858746073\n",
      "lemmatised_blob_dt_polarity_model_vec\n",
      "accuracy: 0.9509909909909909\n",
      "fmeasure: 0.9506770640037381\n",
      "recall: 0.9509909909909909\n",
      "precision: 0.9507031911094214\n",
      "stemmed_blob_dt_polarity_model_tfidf\n",
      "accuracy: 0.2466066066066066\n",
      "fmeasure: 0.22322524175743974\n",
      "recall: 0.2466066066066066\n",
      "precision: 0.253512992716984\n",
      "lemmatised_blob_dt_polarity_model_tfidf\n",
      "accuracy: 0.9494294294294294\n",
      "fmeasure: 0.948909317792033\n",
      "recall: 0.9494294294294294\n",
      "precision: 0.9491039474824545\n",
      "stemmed_blob_rf_polarity_model_vec\n",
      "accuracy: 0.935015015015015\n",
      "fmeasure: 0.9322547979120942\n",
      "recall: 0.935015015015015\n",
      "precision: 0.93583279689924\n",
      "lemmatised_blob_rf_polarity_model_vec\n",
      "accuracy: 0.9353753753753754\n",
      "fmeasure: 0.9325606623795754\n",
      "recall: 0.9353753753753754\n",
      "precision: 0.9364362043599733\n",
      "stemmed_blob_rf_polarity_model_tfidf\n",
      "accuracy: 0.9296096096096096\n",
      "fmeasure: 0.9261793563186366\n",
      "recall: 0.9296096096096096\n",
      "precision: 0.9311925579148833\n",
      "lemmatised_blob_rf_polarity_model_tfidf\n",
      "accuracy: 0.9328528528528528\n",
      "fmeasure: 0.9298460686522566\n",
      "recall: 0.9328528528528528\n",
      "precision: 0.9347692157609784\n",
      "stemmed_blob_ensemble_polarity_model_vec\n",
      "accuracy: 0.9433033033033033\n",
      "fmeasure: 0.9415607384302315\n",
      "recall: 0.9433033033033033\n",
      "precision: 0.9434388640934737\n",
      "lemmatised_blob_ensemble_polarity_model_vec\n",
      "accuracy: 0.9436636636636636\n",
      "fmeasure: 0.9419470031160481\n",
      "recall: 0.9436636636636636\n",
      "precision: 0.9438231557827593\n",
      "stemmed_blob_ensemble_polarity_model_tfidf\n",
      "accuracy: 0.9463063063063063\n",
      "fmeasure: 0.9447688792838417\n",
      "recall: 0.9463063063063063\n",
      "precision: 0.9462644285708736\n",
      "lemmatised_blob_ensemble_polarity_model_tfidf\n",
      "accuracy: 0.9464264264264264\n",
      "fmeasure: 0.9449215462581793\n",
      "recall: 0.9464264264264264\n",
      "precision: 0.9464566693650014\n",
      "stemmed_blob_svm_polarity_model_vec\n",
      "accuracy: 0.9195195195195195\n",
      "fmeasure: 0.9166467210094491\n",
      "recall: 0.9195195195195195\n",
      "precision: 0.9200134235461435\n",
      "lemmatised_blob_svm_polarity_model_vec\n",
      "accuracy: 0.9195195195195195\n",
      "fmeasure: 0.9166467210094491\n",
      "recall: 0.9195195195195195\n",
      "precision: 0.9200134235461435\n",
      "stemmed_blob_svm_polarity_model_tfidf\n",
      "accuracy: 0.9314114114114114\n",
      "fmeasure: 0.929749243081742\n",
      "recall: 0.9314114114114114\n",
      "precision: 0.9316896198518955\n",
      "lemmatised_blob_svm_polarity_model_tfidf\n",
      "accuracy: 0.9314114114114114\n",
      "fmeasure: 0.929749243081742\n",
      "recall: 0.9314114114114114\n",
      "precision: 0.9316896198518955\n",
      "stemmed_blob_nn_polarity_model_vec\n",
      "accuracy: 0.9580780780780781\n",
      "fmeasure: 0.9577992765242112\n",
      "recall: 0.9580780780780781\n",
      "precision: 0.9577460050803656\n",
      "lemmatised_blob_nn_polarity_model_vec\n",
      "accuracy: 0.9580780780780781\n",
      "fmeasure: 0.9577992765242112\n",
      "recall: 0.9580780780780781\n",
      "precision: 0.9577460050803656\n",
      "stemmed_blob_nn_polarity_model_tfidf\n",
      "accuracy: 0.9547147147147147\n",
      "fmeasure: 0.9544213735661535\n",
      "recall: 0.9547147147147147\n",
      "precision: 0.9544346951766454\n",
      "lemmatised_blob_nn_polarity_model_tfidf\n",
      "accuracy: 0.9547147147147147\n",
      "fmeasure: 0.9544213735661535\n",
      "recall: 0.9547147147147147\n",
      "precision: 0.9544346951766454\n"
     ]
    }
   ],
   "source": [
    "for x,y in metric_results.items():\n",
    "    print(x)\n",
    "    for key,value in y.items():\n",
    "        print(f'{key}: {value}')"
   ]
  }
 ],
 "metadata": {
  "kernelspec": {
   "display_name": "Python 3",
   "language": "python",
   "name": "python3"
  },
  "language_info": {
   "codemirror_mode": {
    "name": "ipython",
    "version": 3
   },
   "file_extension": ".py",
   "mimetype": "text/x-python",
   "name": "python",
   "nbconvert_exporter": "python",
   "pygments_lexer": "ipython3",
   "version": "3.10.2"
  },
  "orig_nbformat": 4,
  "vscode": {
   "interpreter": {
    "hash": "5e4bda67f9838be16d189b50da62d733f7c09545de52b735a31e173c43804dd6"
   }
  }
 },
 "nbformat": 4,
 "nbformat_minor": 2
}
